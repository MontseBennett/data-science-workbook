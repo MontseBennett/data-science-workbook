{
  "nbformat": 4,
  "nbformat_minor": 0,
  "metadata": {
    "colab": {
      "name": "case_study.ipynb",
      "provenance": []
    },
    "kernelspec": {
      "name": "python3",
      "display_name": "Python 3"
    }
  },
  "cells": [
    {
      "cell_type": "markdown",
      "metadata": {
        "id": "-W4KvoPhRDsW",
        "colab_type": "text"
      },
      "source": [
        "# Case Study - Sunlight in Austin\n"
      ]
    },
    {
      "cell_type": "markdown",
      "metadata": {
        "id": "W65ZhUMURF8w",
        "colab_type": "text"
      },
      "source": [
        "## Reading in a data file"
      ]
    },
    {
      "cell_type": "code",
      "metadata": {
        "id": "W2IITjGfRiWy",
        "colab_type": "code",
        "colab": {}
      },
      "source": [
        "# Import pandas\n",
        "import pandas as pd\n",
        "\n",
        "# Read in the data file: df\n",
        "df = pd.read_csv(data_file)\n",
        "\n",
        "# Print the output of df.head()\n",
        "print(df.head())\n",
        "\n",
        "# Read in the data file with header=None: df_headers\n",
        "df_headers = pd.read_csv(data_file, header=None)\n",
        "\n",
        "# Print the output of df_headers.head()\n",
        "print(df_headers.head())"
      ],
      "execution_count": 0,
      "outputs": []
    },
    {
      "cell_type": "markdown",
      "metadata": {
        "id": "6ijTqdeWR5Ac",
        "colab_type": "text"
      },
      "source": [
        "## Re-assigning column names"
      ]
    },
    {
      "cell_type": "code",
      "metadata": {
        "id": "TS6-mnK_R5Xi",
        "colab_type": "code",
        "colab": {}
      },
      "source": [
        "# Split on the comma to create a list: column_labels_list\n",
        "column_labels_list = column_labels.split(',')\n",
        "\n",
        "# Assign the new column labels to the DataFrame: df.columns\n",
        "df.columns = column_labels_list\n",
        "\n",
        "# Remove the appropriate columns: df_dropped\n",
        "df_dropped = df.drop(list_to_drop, axis='columns')\n",
        "\n",
        "# Print the output of df_dropped.head()\n",
        "print(df_dropped.head())"
      ],
      "execution_count": 0,
      "outputs": []
    },
    {
      "cell_type": "markdown",
      "metadata": {
        "id": "_hMADPQpSk-S",
        "colab_type": "text"
      },
      "source": [
        "## Cleaning and tidying datetime data"
      ]
    },
    {
      "cell_type": "code",
      "metadata": {
        "id": "bSks1rjkSlbK",
        "colab_type": "code",
        "colab": {}
      },
      "source": [
        "# Convert the date column to string: df_dropped['date']\n",
        "df_dropped['date'] = df_dropped['date'].astype(str)\n",
        "\n",
        "# Pad leading zeros to the Time column: df_dropped['Time']\n",
        "df_dropped['Time'] = df_dropped['Time'].apply(lambda x:'{:0>4}'.format(x))\n",
        "\n",
        "# Concatenate the new date and Time columns: date_string\n",
        "date_string = df_dropped['date'] + df_dropped['Time']\n",
        "\n",
        "# Convert the date_string Series to datetime: date_times\n",
        "date_times = pd.to_datetime(date_string, format='%Y%m%d%H%M')\n",
        "\n",
        "# Set the index to be the new date_times container: df_clean\n",
        "df_clean = df_dropped.set_index(date_times)\n",
        "\n",
        "# Print the output of df_clean.head()\n",
        "print(df_clean.head())"
      ],
      "execution_count": 0,
      "outputs": []
    },
    {
      "cell_type": "markdown",
      "metadata": {
        "id": "HmvDidB4TyYy",
        "colab_type": "text"
      },
      "source": [
        "## Cleaning the numeric columns"
      ]
    },
    {
      "cell_type": "code",
      "metadata": {
        "id": "2WHybipxTyzj",
        "colab_type": "code",
        "colab": {}
      },
      "source": [
        "# Print the dry_bulb_faren temperature between 8 AM and 9 AM on June 20, 2011\n",
        "print(df_clean.loc['2011-Jun-20 08:00:00':'2011-Jun-20 09:00:00', 'dry_bulb_faren'])\n",
        "\n",
        "# Convert the dry_bulb_faren column to numeric values: df_clean['dry_bulb_faren']\n",
        "df_clean['dry_bulb_faren'] = pd.to_numeric(df_clean['dry_bulb_faren'], errors='coerce')\n",
        "\n",
        "# Print the transformed dry_bulb_faren temperature between 8 AM and 9 AM on June 20, 2011\n",
        "print(df_clean.loc['2011-Jun-20 08:00:00':'2011-Jun-20 09:00:00', 'dry_bulb_faren'])\n",
        "\n",
        "# Convert the wind_speed and dew_point_faren columns to numeric values\n",
        "df_clean['wind_speed'] = pd.to_numeric(df_clean['wind_speed'], errors='coerce')\n",
        "df_clean['dew_point_faren'] = pd.to_numeric(df_clean['dew_point_faren'], errors='coerce')"
      ],
      "execution_count": 0,
      "outputs": []
    },
    {
      "cell_type": "markdown",
      "metadata": {
        "id": "Mr0JJ75UVJux",
        "colab_type": "text"
      },
      "source": [
        "## Signal min, max, median"
      ]
    },
    {
      "cell_type": "code",
      "metadata": {
        "id": "4_HJMZHaVKQZ",
        "colab_type": "code",
        "colab": {}
      },
      "source": [
        "# Print the median of the dry_bulb_faren column\n",
        "print(df_clean['dry_bulb_faren'].median())\n",
        "\n",
        "# Print the median of the dry_bulb_faren column for the time range '2011-Apr':'2011-Jun'\n",
        "print(df_clean.loc['2011-Apr':'2011-Jun', 'dry_bulb_faren'].median())\n",
        "\n",
        "# Print the median of the dry_bulb_faren column for the month of January\n",
        "print(df_clean.loc['2011-Jan', 'dry_bulb_faren'].median())"
      ],
      "execution_count": 0,
      "outputs": []
    },
    {
      "cell_type": "markdown",
      "metadata": {
        "id": "_0IlMV4dVovE",
        "colab_type": "text"
      },
      "source": [
        "## Signal variance"
      ]
    },
    {
      "cell_type": "code",
      "metadata": {
        "id": "Dd8yDGOHVpPG",
        "colab_type": "code",
        "colab": {}
      },
      "source": [
        "# Downsample df_clean by day and aggregate by mean: daily_mean_2011\n",
        "daily_mean_2011 = df_clean.resample('D').mean()\n",
        "\n",
        "# Extract the dry_bulb_faren column from daily_mean_2011 using .values: daily_temp_2011\n",
        "daily_temp_2011 = daily_mean_2011['dry_bulb_faren'].values\n",
        "\n",
        "# Downsample df_climate by day and aggregate by mean: daily_climate\n",
        "daily_climate = df_climate.resample('D').mean()\n",
        "\n",
        "# Extract the Temperature column from daily_climate using .reset_index(): daily_temp_climate\n",
        "daily_temp_climate = daily_climate.reset_index()['Temperature']\n",
        "\n",
        "# Compute the difference between the two arrays and print the mean difference\n",
        "difference = daily_temp_2011 - daily_temp_climate\n",
        "print(difference.mean())"
      ],
      "execution_count": 0,
      "outputs": []
    },
    {
      "cell_type": "markdown",
      "metadata": {
        "id": "RvU-dTs4XVgm",
        "colab_type": "text"
      },
      "source": [
        "## Sunny or cloudy"
      ]
    },
    {
      "cell_type": "code",
      "metadata": {
        "id": "H2cMSkqeXV9M",
        "colab_type": "code",
        "colab": {}
      },
      "source": [
        "# Using df_clean, when is sky_condition 'CLR'?\n",
        "is_sky_clear = df_clean['sky_condition']=='CLR'\n",
        "\n",
        "# Filter df_clean using is_sky_clear\n",
        "sunny = df_clean[is_sky_clear]\n",
        "\n",
        "# Resample sunny by day then calculate the max\n",
        "sunny_daily_max = sunny.resample('D').max()\n",
        "\n",
        "# See the result\n",
        "sunny_daily_max.head()"
      ],
      "execution_count": 0,
      "outputs": []
    },
    {
      "cell_type": "code",
      "metadata": {
        "id": "ZUaIwof7X9v9",
        "colab_type": "code",
        "colab": {}
      },
      "source": [
        "# Using df_clean, when does sky_condition contain 'OVC'?\n",
        "is_sky_overcast = df_clean['sky_condition'].str.contains('OVC')\n",
        "\n",
        "# Filter df_clean using is_sky_overcast\n",
        "overcast = df_clean[is_sky_overcast]\n",
        "\n",
        "# Resample overcast by day then calculate the max\n",
        "overcast_daily_max = overcast.resample('D').max()\n",
        "\n",
        "# See the result\n",
        "overcast_daily_max.head()"
      ],
      "execution_count": 0,
      "outputs": []
    },
    {
      "cell_type": "code",
      "metadata": {
        "id": "n3otzYCpX-GI",
        "colab_type": "code",
        "colab": {}
      },
      "source": [
        "# From previous steps\n",
        "is_sky_clear = df_clean['sky_condition']=='CLR'\n",
        "sunny = df_clean.loc[is_sky_clear]\n",
        "sunny_daily_max = sunny.resample('D').max()\n",
        "is_sky_overcast = df_clean['sky_condition'].str.contains('OVC')\n",
        "overcast = df_clean.loc[is_sky_overcast]\n",
        "overcast_daily_max = overcast.resample('D').max()\n",
        "\n",
        "# Calculate the mean of sunny_daily_max\n",
        "sunny_daily_max_mean = sunny_daily_max.mean()\n",
        "\n",
        "# Calculate the mean of overcast_daily_max\n",
        "overcast_daily_max_mean = overcast_daily_max.mean()\n",
        "\n",
        "# Print the difference (sunny minus overcast)\n",
        "print(sunny_daily_max_mean - overcast_daily_max_mean)"
      ],
      "execution_count": 0,
      "outputs": []
    },
    {
      "cell_type": "markdown",
      "metadata": {
        "id": "lQDVEt9rYz2K",
        "colab_type": "text"
      },
      "source": [
        "## Weekly average temperature and visibility"
      ]
    },
    {
      "cell_type": "code",
      "metadata": {
        "id": "adYCAy35Y0QU",
        "colab_type": "code",
        "colab": {}
      },
      "source": [
        "# Import matplotlib.pyplot as plt\n",
        "import matplotlib.pyplot as plt\n",
        "\n",
        "# Select the visibility and dry_bulb_faren columns and resample them: weekly_mean\n",
        "weekly_mean = df_clean[['visibility', 'dry_bulb_faren']].resample('W').mean()\n",
        "\n",
        "# Print the output of weekly_mean.corr()\n",
        "print(weekly_mean.corr())\n",
        "\n",
        "# Plot weekly_mean with subplots=True\n",
        "weekly_mean.plot(subplots=True)\n",
        "plt.show()"
      ],
      "execution_count": 0,
      "outputs": []
    },
    {
      "cell_type": "markdown",
      "metadata": {
        "id": "b6CUvo4FZZSH",
        "colab_type": "text"
      },
      "source": [
        "## Daily hours of clear sky"
      ]
    },
    {
      "cell_type": "code",
      "metadata": {
        "id": "pPrLKfF_ZZrt",
        "colab_type": "code",
        "colab": {}
      },
      "source": [
        "# Using df_clean, when is sky_condition 'CLR'?\n",
        "is_sky_clear = df_clean['sky_condition'] == 'CLR'\n",
        "\n",
        "# Resample is_sky_clear by day\n",
        "resampled = is_sky_clear.resample('D')\n",
        "\n",
        "# See the result\n",
        "resampled"
      ],
      "execution_count": 0,
      "outputs": []
    },
    {
      "cell_type": "code",
      "metadata": {
        "id": "18_AvFiJbGQM",
        "colab_type": "code",
        "colab": {}
      },
      "source": [
        "# From previous step\n",
        "is_sky_clear = df_clean['sky_condition'] == 'CLR'\n",
        "resampled = is_sky_clear.resample('D')\n",
        "\n",
        "# Calculate the number of sunny hours per day\n",
        "sunny_hours = resampled.sum()\n",
        "\n",
        "# Calculate the number of measured hours per day\n",
        "total_hours = resampled.count()\n",
        "\n",
        "# Calculate the fraction of hours per day that were sunny\n",
        "sunny_fraction = sunny_hours.divide(total_hours)"
      ],
      "execution_count": 0,
      "outputs": []
    },
    {
      "cell_type": "code",
      "metadata": {
        "id": "AP8zO-yxbHhc",
        "colab_type": "code",
        "colab": {}
      },
      "source": [
        "# From previous steps\n",
        "is_sky_clear = df_clean['sky_condition'] == 'CLR'\n",
        "resampled = is_sky_clear.resample('D')\n",
        "sunny_hours = resampled.sum()\n",
        "total_hours = resampled.count()\n",
        "sunny_fraction = sunny_hours / total_hours\n",
        "\n",
        "# Make a box plot of sunny_fraction\n",
        "sunny_fraction.plot(kind='box')\n",
        "plt.show()"
      ],
      "execution_count": 0,
      "outputs": []
    },
    {
      "cell_type": "markdown",
      "metadata": {
        "id": "sGfGSKiEbR19",
        "colab_type": "text"
      },
      "source": [
        "## Heat or humidity"
      ]
    },
    {
      "cell_type": "code",
      "metadata": {
        "id": "qmklQYpSbSXh",
        "colab_type": "code",
        "colab": {}
      },
      "source": [
        "# Resample dew_point_faren and dry_bulb_faren by Month, aggregating the maximum values: monthly_max\n",
        "monthly_max = df_clean[['dew_point_faren', 'dry_bulb_faren']].resample('M').max()\n",
        "\n",
        "# Generate a histogram with bins=8, alpha=0.5, subplots=True\n",
        "monthly_max.plot(kind='hist', bins=8, alpha=0.5, subplots=True)\n",
        "\n",
        "# Show the plot\n",
        "plt.show()"
      ],
      "execution_count": 0,
      "outputs": []
    },
    {
      "cell_type": "markdown",
      "metadata": {
        "id": "AQ1oUMmJb6pa",
        "colab_type": "text"
      },
      "source": [
        "## Probability of high temperatures"
      ]
    },
    {
      "cell_type": "code",
      "metadata": {
        "id": "TSqaWZZgb7O_",
        "colab_type": "code",
        "colab": {}
      },
      "source": [
        "# Extract the maximum temperature in August 2010 from df_climate: august_max\n",
        "august_max = df_climate['Temperature']['2010-Aug'].max()\n",
        "print(august_max)\n",
        "\n",
        "# Resample August 2011 temps in df_clean by day & aggregate the max value: august_2011\n",
        "august_2011 = df_clean['dry_bulb_faren']['2011-Aug'].resample('D').max()\n",
        "\n",
        "# Filter for days in august_2011 where the value exceeds august_max: august_2011_high\n",
        "august_2011_high = august_2011.loc[august_2011 > august_max]\n",
        "\n",
        "# Construct a CDF of august_2011_high\n",
        "august_2011_high.plot(kind='hist', cumulative=True, normed=True, bins=25)\n",
        "\n",
        "# Display the plot\n",
        "plt.show()"
      ],
      "execution_count": 0,
      "outputs": []
    }
  ]
}