{
  "nbformat": 4,
  "nbformat_minor": 0,
  "metadata": {
    "colab": {
      "name": "eda.ipynb",
      "provenance": [],
      "collapsed_sections": []
    },
    "kernelspec": {
      "name": "python3",
      "display_name": "Python 3"
    }
  },
  "cells": [
    {
      "cell_type": "markdown",
      "metadata": {
        "id": "L8O0izHr5PpM",
        "colab_type": "text"
      },
      "source": [
        "# Exploratory data analysis"
      ]
    },
    {
      "cell_type": "markdown",
      "metadata": {
        "id": "ox6mG6wI5UEy",
        "colab_type": "text"
      },
      "source": [
        "## pandas line plots"
      ]
    },
    {
      "cell_type": "code",
      "metadata": {
        "id": "ammyH6bE5ZJw",
        "colab_type": "code",
        "colab": {}
      },
      "source": [
        "# Create a list of y-axis column names: y_columns\n",
        "y_columns = ['AAPL', 'IBM']\n",
        "\n",
        "# Generate a line plot\n",
        "df.plot(x='Month', y=y_columns)\n",
        "\n",
        "# Add the title\n",
        "plt.title('Monthly stock prices')\n",
        "\n",
        "# Add the y-axis label\n",
        "plt.ylabel('Price ($US)')\n",
        "\n",
        "# Display the plot\n",
        "plt.show()"
      ],
      "execution_count": 0,
      "outputs": []
    },
    {
      "cell_type": "markdown",
      "metadata": {
        "id": "IhfcCl-t56uL",
        "colab_type": "text"
      },
      "source": [
        "## pandas scatter plots"
      ]
    },
    {
      "cell_type": "code",
      "metadata": {
        "id": "t9RnNEaH58WN",
        "colab_type": "code",
        "colab": {}
      },
      "source": [
        "# Generate a scatter plot\n",
        "df.plot(kind='scatter', x='hp', y='mpg', s=sizes)\n",
        "\n",
        "# Add the title\n",
        "plt.title('Fuel efficiency vs Horse-power')\n",
        "\n",
        "# Add the x-axis label\n",
        "plt.xlabel('Horse-power')\n",
        "\n",
        "# Add the y-axis label\n",
        "plt.ylabel('Fuel efficiency (mpg)')\n",
        "\n",
        "# Display the plot\n",
        "plt.show()"
      ],
      "execution_count": 0,
      "outputs": []
    },
    {
      "cell_type": "markdown",
      "metadata": {
        "id": "BjCIb9DK6gcB",
        "colab_type": "text"
      },
      "source": [
        "## pandas box plots"
      ]
    },
    {
      "cell_type": "code",
      "metadata": {
        "id": "184559a86mcT",
        "colab_type": "code",
        "colab": {}
      },
      "source": [
        "# Make a list of the column names to be plotted: cols\n",
        "cols = ['weight', 'mpg']\n",
        "\n",
        "# Generate the box plots\n",
        "df[cols].plot(kind='box', subplots=True)\n",
        "\n",
        "# Display the plot\n",
        "plt.show()"
      ],
      "execution_count": 0,
      "outputs": []
    },
    {
      "cell_type": "markdown",
      "metadata": {
        "id": "pODH6VDv7MfH",
        "colab_type": "text"
      },
      "source": [
        "## pandas hist, pdf and cdf"
      ]
    },
    {
      "cell_type": "code",
      "metadata": {
        "id": "dV3kY19V7M66",
        "colab_type": "code",
        "colab": {}
      },
      "source": [
        "# This formats the plots such that they appear on separate rows\n",
        "fig, axes = plt.subplots(nrows=2, ncols=1)\n",
        "\n",
        "# Plot the PDF\n",
        "df.fraction.plot(ax=axes[0], kind='hist', normed=True, bins=30, range=(0,.3))\n",
        "plt.show()\n",
        "\n",
        "# Plot the CDF\n",
        "df.fraction.plot(ax=axes[1], kind='hist', normed=True, bins=30, cumulative=True, range=(0,.3))\n",
        "plt.show()"
      ],
      "execution_count": 0,
      "outputs": []
    },
    {
      "cell_type": "markdown",
      "metadata": {
        "id": "AUuews2z8D8S",
        "colab_type": "text"
      },
      "source": [
        "## Bachelor's degrees awarded to women"
      ]
    },
    {
      "cell_type": "code",
      "metadata": {
        "id": "UVd1qGC09C7u",
        "colab_type": "code",
        "colab": {}
      },
      "source": [
        "# Print the minimum value of the Engineering column\n",
        "print(df['Engineering'].min())\n",
        "\n",
        "# Print the maximum value of the Engineering column\n",
        "print(df['Engineering'].max())\n",
        "\n",
        "# Construct the mean percentage per year: mean\n",
        "mean = df.mean(axis=1)\n",
        "\n",
        "# Plot the average percentage per year\n",
        "mean.plot()\n",
        "\n",
        "# Display the plot\n",
        "plt.show()"
      ],
      "execution_count": 0,
      "outputs": []
    },
    {
      "cell_type": "markdown",
      "metadata": {
        "id": "0Lq9ya3k9qG1",
        "colab_type": "text"
      },
      "source": [
        "## Median vs mean"
      ]
    },
    {
      "cell_type": "code",
      "metadata": {
        "id": "Yhy54woL9rgk",
        "colab_type": "code",
        "colab": {}
      },
      "source": [
        "# Print summary statistics of the fare column with .describe()\n",
        "print(df['fare'].describe())\n",
        "\n",
        "# Generate a box plot of the fare column\n",
        "df['fare'].plot(kind='box')\n",
        "\n",
        "# Show the plot\n",
        "plt.show()"
      ],
      "execution_count": 0,
      "outputs": []
    },
    {
      "cell_type": "markdown",
      "metadata": {
        "id": "F6JpF_Zk9-8K",
        "colab_type": "text"
      },
      "source": [
        "## Quantiles"
      ]
    },
    {
      "cell_type": "code",
      "metadata": {
        "id": "OaiGP99i-FAy",
        "colab_type": "code",
        "colab": {}
      },
      "source": [
        "# Print the number of countries reported in 2015\n",
        "print(df['2015'].count())\n",
        "\n",
        "# Print the 5th and 95th percentiles\n",
        "print(df.quantile([0.05, 0.95]))\n",
        "\n",
        "# Generate a box plot\n",
        "years = ['1800','1850','1900','1950','2000']\n",
        "df[years].plot(kind='box')\n",
        "plt.show()"
      ],
      "execution_count": 0,
      "outputs": []
    },
    {
      "cell_type": "markdown",
      "metadata": {
        "id": "AAiQpiD3-7Cy",
        "colab_type": "text"
      },
      "source": [
        "## Standard deviation of temperature"
      ]
    },
    {
      "cell_type": "code",
      "metadata": {
        "id": "XFfbo884-7jK",
        "colab_type": "code",
        "colab": {}
      },
      "source": [
        "# Print the mean of the January and March data\n",
        "print(january['Temperature'].mean(), march['Temperature'].mean())\n",
        "\n",
        "# Print the standard deviation of the January and March data\n",
        "print(january['Temperature'].std(), march['Temperature'].std())"
      ],
      "execution_count": 0,
      "outputs": []
    },
    {
      "cell_type": "markdown",
      "metadata": {
        "id": "2KBvJ4-3Angc",
        "colab_type": "text"
      },
      "source": [
        "## Separate and summarize"
      ]
    },
    {
      "cell_type": "code",
      "metadata": {
        "id": "XjQkeiKaAn43",
        "colab_type": "code",
        "colab": {}
      },
      "source": [
        "# Compute the global mean and global standard deviation: global_mean, global_std\n",
        "global_mean = df.mean()\n",
        "global_std = df.std()\n",
        "\n",
        "# Filter the US population from the origin column: us\n",
        "us = df[df['origin'] == 'US']\n",
        "\n",
        "# Compute the US mean and US standard deviation: us_mean, us_std\n",
        "us_mean = us.mean()\n",
        "us_std = us.std()\n",
        "\n",
        "# Print the differences\n",
        "print(us_mean - global_mean)\n",
        "print(us_std - global_std)"
      ],
      "execution_count": 0,
      "outputs": []
    },
    {
      "cell_type": "markdown",
      "metadata": {
        "id": "BZiWCsTYBVK0",
        "colab_type": "text"
      },
      "source": [
        "## Separate and plot"
      ]
    },
    {
      "cell_type": "code",
      "metadata": {
        "id": "2NHZ-oGjBVje",
        "colab_type": "code",
        "colab": {}
      },
      "source": [
        "# Display the box plots on 3 separate rows and 1 column\n",
        "fig, axes = plt.subplots(nrows=3, ncols=1)\n",
        "\n",
        "# Generate a box plot of the fare prices for the First passenger class\n",
        "titanic.loc[titanic['pclass'] == 1].plot(ax=axes[0], y='fare',kind='box')\n",
        "\n",
        "# Generate a box plot of the fare prices for the Second passenger class\n",
        "titanic.loc[titanic['pclass'] == 2].plot(ax=axes[1], y='fare', kind='box')\n",
        "\n",
        "# Generate a box plot of the fare prices for the Third passenger class\n",
        "titanic.loc[titanic['pclass'] == 3].plot(ax=axes[2], y='fare', kind='box')\n",
        "\n",
        "# Display the plot\n",
        "plt.show()"
      ],
      "execution_count": 0,
      "outputs": []
    }
  ]
}