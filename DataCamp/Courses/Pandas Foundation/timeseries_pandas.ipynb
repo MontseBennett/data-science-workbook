{
  "nbformat": 4,
  "nbformat_minor": 0,
  "metadata": {
    "colab": {
      "name": "timeseries-pandas.ipynb",
      "provenance": [],
      "collapsed_sections": []
    },
    "kernelspec": {
      "name": "python3",
      "display_name": "Python 3"
    }
  },
  "cells": [
    {
      "cell_type": "markdown",
      "metadata": {
        "id": "zA_slYkAoC6Z",
        "colab_type": "text"
      },
      "source": [
        "# Time series in pandas"
      ]
    },
    {
      "cell_type": "markdown",
      "metadata": {
        "id": "F_nbixQXoSI5",
        "colab_type": "text"
      },
      "source": [
        "## Creating and using a DatetimeIndex"
      ]
    },
    {
      "cell_type": "code",
      "metadata": {
        "id": "WjdE0G41xYG2",
        "colab_type": "code",
        "colab": {}
      },
      "source": [
        "# Prepare a format string: time_format\n",
        "time_format = '%Y-%m-%d %H:%M'\n",
        "\n",
        "# Convert date_list into a datetime object: my_datetimes\n",
        "my_datetimes = pd.to_datetime(date_list, format=time_format)  \n",
        "\n",
        "# Construct a pandas Series using temperature_list and my_datetimes: time_series\n",
        "time_series = pd.Series(temperature_list, index=my_datetimes)"
      ],
      "execution_count": 0,
      "outputs": []
    },
    {
      "cell_type": "markdown",
      "metadata": {
        "id": "0ms-BUHPyMUE",
        "colab_type": "text"
      },
      "source": [
        "## Partial string indexing and slicing"
      ]
    },
    {
      "cell_type": "code",
      "metadata": {
        "id": "pLWMaoxhyMqR",
        "colab_type": "code",
        "colab": {}
      },
      "source": [
        "# Extract the hour from 9pm to 10pm on '2010-10-11': ts1\n",
        "ts1 = ts0.loc['2010-10-11 21:00:00':'2010-10-11 22:00:00']\n",
        "\n",
        "# Extract '2010-07-04' from ts0: ts2\n",
        "ts2 = ts0.loc['2010-07-04']\n",
        "\n",
        "# Extract data from '2010-12-15' to '2010-12-31': ts3\n",
        "ts3 = ts0.loc['2010-12-15':'2010-12-31']"
      ],
      "execution_count": 0,
      "outputs": []
    },
    {
      "cell_type": "markdown",
      "metadata": {
        "id": "oeCMuta-zawn",
        "colab_type": "text"
      },
      "source": [
        "## Reindexing the Index"
      ]
    },
    {
      "cell_type": "code",
      "metadata": {
        "id": "4AMXbK9_A0Lp",
        "colab_type": "code",
        "colab": {}
      },
      "source": [
        "# Reindex without fill method: ts3\n",
        "ts3 = ts2.reindex(ts1.index)\n",
        "\n",
        "# Reindex with fill method, using forward fill: ts4\n",
        "ts4 = ts2.reindex(ts1.index, method='ffill')\n",
        "\n",
        "# Combine ts1 + ts2: sum12\n",
        "sum12 = ts1 + ts2\n",
        "\n",
        "# Combine ts1 + ts3: sum13\n",
        "sum13 = ts1 + ts3\n",
        "\n",
        "# Combine ts1 + ts4: sum14\n",
        "sum14 = ts1 + ts4"
      ],
      "execution_count": 0,
      "outputs": []
    },
    {
      "cell_type": "markdown",
      "metadata": {
        "id": "2cwXJxDhCwX-",
        "colab_type": "text"
      },
      "source": [
        "## Resampling and frequency"
      ]
    },
    {
      "cell_type": "code",
      "metadata": {
        "id": "bXVtNVnHCw2F",
        "colab_type": "code",
        "colab": {}
      },
      "source": [
        "# Downsample to 6 hour data and aggregate by mean: df1\n",
        "df1 = df['Temperature'].resample('6H').mean()\n",
        "\n",
        "# Downsample to daily data and count the number of data points: df2\n",
        "df2 = df['Temperature'].resample('D').count()"
      ],
      "execution_count": 0,
      "outputs": []
    },
    {
      "cell_type": "markdown",
      "metadata": {
        "id": "fLtJwMmGDgUk",
        "colab_type": "text"
      },
      "source": [
        "## Separating and resampling"
      ]
    },
    {
      "cell_type": "code",
      "metadata": {
        "id": "KBuWb3NrDhJC",
        "colab_type": "code",
        "colab": {}
      },
      "source": [
        "# Extract temperature data for August: august\n",
        "august = df.loc['2010-08', 'Temperature']\n",
        "\n",
        "# Downsample to obtain only the daily highest temperatures in August: august_highs\n",
        "august_highs = august.resample('D').max()\n",
        "\n",
        "# Extract temperature data for February: february\n",
        "february = df.loc['2010-02', 'Temperature']\n",
        "\n",
        "# Downsample to obtain the daily lowest temperatures in February: february_lows\n",
        "february_lows = february.resample('D').min()"
      ],
      "execution_count": 0,
      "outputs": []
    },
    {
      "cell_type": "markdown",
      "metadata": {
        "id": "OszmupMjEMcj",
        "colab_type": "text"
      },
      "source": [
        "## Rolling mean and frequency"
      ]
    },
    {
      "cell_type": "code",
      "metadata": {
        "id": "JZ1bLshQEN-C",
        "colab_type": "code",
        "colab": {}
      },
      "source": [
        "# Extract data from 2010-Aug-01 to 2010-Aug-15: unsmoothed\n",
        "unsmoothed = df['Temperature']['2010-Aug-01':'2010-Aug-15']\n",
        "\n",
        "# Apply a rolling mean with a 24 hour window: smoothed\n",
        "smoothed = unsmoothed.rolling(window=24).mean()\n",
        "\n",
        "# Create a new DataFrame with columns smoothed and unsmoothed: august\n",
        "august = pd.DataFrame({'smoothed':smoothed, 'unsmoothed':unsmoothed})\n",
        "\n",
        "# Plot both smoothed and unsmoothed data using august.plot().\n",
        "august.plot()\n",
        "plt.show()"
      ],
      "execution_count": 0,
      "outputs": []
    },
    {
      "cell_type": "markdown",
      "metadata": {
        "id": "RVT-5LoAGWp_",
        "colab_type": "text"
      },
      "source": [
        "## Resample and roll with it"
      ]
    },
    {
      "cell_type": "code",
      "metadata": {
        "id": "JUBhsl5xGYrv",
        "colab_type": "code",
        "colab": {}
      },
      "source": [
        "# Extract the August 2010 data: august\n",
        "august = df['Temperature']['2010-Aug']\n",
        "\n",
        "# Resample to daily data, aggregating by max: daily_highs\n",
        "daily_highs = august.resample('D').max()\n",
        "\n",
        "# Use a rolling 7-day window with method chaining to smooth the daily high temperatures in August\n",
        "daily_highs_smoothed = daily_highs.rolling(window=7).mean()\n",
        "print(daily_highs_smoothed)"
      ],
      "execution_count": 0,
      "outputs": []
    },
    {
      "cell_type": "markdown",
      "metadata": {
        "id": "oybRfvj4KuuG",
        "colab_type": "text"
      },
      "source": [
        "## Method chaining and filtering"
      ]
    },
    {
      "cell_type": "code",
      "metadata": {
        "id": "kvfBxZ_8KvOb",
        "colab_type": "code",
        "colab": {}
      },
      "source": [
        "# Strip extra whitespace from the column names: df.columns\n",
        "df.columns = df.columns.str.strip()\n",
        "\n",
        "# Extract data for which the destination airport is Dallas: dallas\n",
        "dallas = df['Destination Airport'].str.contains('DAL')\n",
        "\n",
        "# Compute the total number of Dallas departures each day: daily_departures\n",
        "daily_departures = dallas.resample('D').sum()\n",
        "\n",
        "# Generate the summary statistics for daily Dallas departures: stats\n",
        "stats = daily_departures.describe()"
      ],
      "execution_count": 0,
      "outputs": []
    },
    {
      "cell_type": "markdown",
      "metadata": {
        "id": "fSKhBTZWLsXD",
        "colab_type": "text"
      },
      "source": [
        "## Missing values and interpolation"
      ]
    },
    {
      "cell_type": "code",
      "metadata": {
        "id": "1-9kMDnhLsx1",
        "colab_type": "code",
        "colab": {}
      },
      "source": [
        "# Reset the index of ts2 to ts1, and then use linear interpolation to fill in the NaNs: ts2_interp\n",
        "ts2_interp = ts2.reindex(ts1.index).interpolate(how='linear')\n",
        "\n",
        "# Compute the absolute difference of ts1 and ts2_interp: differences \n",
        "differences = np.abs(ts1 - ts2_interp)\n",
        "\n",
        "# Generate and print summary statistics of the differences\n",
        "print(differences.describe())"
      ],
      "execution_count": 0,
      "outputs": []
    },
    {
      "cell_type": "markdown",
      "metadata": {
        "id": "-PnpsYhKMdgT",
        "colab_type": "text"
      },
      "source": [
        "## Time zones and conversion"
      ]
    },
    {
      "cell_type": "code",
      "metadata": {
        "id": "C3CNh2QWMd9s",
        "colab_type": "code",
        "colab": {}
      },
      "source": [
        "# Build a Boolean mask to filter for the 'LAX' departure flights: mask\n",
        "mask = df['Destination Airport'] == 'LAX'\n",
        "\n",
        "# Use the mask to subset the data: la\n",
        "la = df[mask]\n",
        "\n",
        "# Combine two columns of data to create a datetime series: times_tz_none \n",
        "times_tz_none = pd.to_datetime( la['Date (MM/DD/YYYY)'] + ' ' + la['Wheels-off Time'] )\n",
        "\n",
        "# Localize the time to US/Central: times_tz_central\n",
        "times_tz_central = times_tz_none.dt.tz_localize('US/Central')\n",
        "\n",
        "# Convert the datetimes from US/Central to US/Pacific\n",
        "times_tz_pacific = times_tz_central.dt.tz_convert('US/Pacific')"
      ],
      "execution_count": 0,
      "outputs": []
    },
    {
      "cell_type": "markdown",
      "metadata": {
        "id": "n9V58JzYPolc",
        "colab_type": "text"
      },
      "source": [
        "## Plotting time series, datetime indexing"
      ]
    },
    {
      "cell_type": "code",
      "metadata": {
        "id": "0kIDyH6OPo9m",
        "colab_type": "code",
        "colab": {}
      },
      "source": [
        "# Plot the raw data before setting the datetime index\n",
        "df.plot()\n",
        "plt.show()\n",
        "\n",
        "# Convert the 'Date' column into a collection of datetime objects: df.Date\n",
        "df.Date = pd.to_datetime(df['Date'])\n",
        "\n",
        "# Set the index to be the converted 'Date' column\n",
        "df.set_index('Date', inplace=True)\n",
        "\n",
        "# Re-plot the DataFrame to see that the axis is now datetime aware!\n",
        "df.plot()\n",
        "plt.show()"
      ],
      "execution_count": 0,
      "outputs": []
    },
    {
      "cell_type": "markdown",
      "metadata": {
        "id": "SWpFdDkVQZfW",
        "colab_type": "text"
      },
      "source": [
        "## Plotting date ranges, partial indexing"
      ]
    },
    {
      "cell_type": "code",
      "metadata": {
        "id": "lP207R36QZ_h",
        "colab_type": "code",
        "colab": {}
      },
      "source": [
        "# Plot the summer data\n",
        "df.Temperature['2010-Jun':'2010-Aug'].plot()\n",
        "plt.show()\n",
        "plt.clf()\n",
        "\n",
        "# Plot the one week data\n",
        "df.Temperature['2010-06-10':'2010-06-17'].plot()\n",
        "plt.show()\n",
        "plt.clf()\n"
      ],
      "execution_count": 0,
      "outputs": []
    }
  ]
}