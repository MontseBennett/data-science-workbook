{
  "nbformat": 4,
  "nbformat_minor": 0,
  "metadata": {
    "colab": {
      "name": "pandas_foundations.ipynb",
      "provenance": []
    },
    "kernelspec": {
      "name": "python3",
      "display_name": "Python 3"
    }
  },
  "cells": [
    {
      "cell_type": "markdown",
      "metadata": {
        "id": "DqCHXtWTnO8h",
        "colab_type": "text"
      },
      "source": [
        "# Pandas Foundation"
      ]
    },
    {
      "cell_type": "markdown",
      "metadata": {
        "id": "4wOjbexzp_SH",
        "colab_type": "text"
      },
      "source": [
        "## NumPy and pandas working together"
      ]
    },
    {
      "cell_type": "code",
      "metadata": {
        "id": "fuxBVRcLqRvn",
        "colab_type": "code",
        "colab": {}
      },
      "source": [
        "# Import numpy\n",
        "import numpy as np\n",
        "\n",
        "# Create array of DataFrame values: np_vals\n",
        "np_vals = df.values\n",
        "\n",
        "# Create new array of base 10 logarithm values: np_vals_log10\n",
        "np_vals_log10 = np.log10(np_vals)\n",
        "\n",
        "# Create array of new DataFrame by passing df to np.log10(): df_log10\n",
        "df_log10 = np.log10(df)\n",
        "\n",
        "# Print original and new data containers\n",
        "[print(x, 'has type', type(eval(x))) for x in ['np_vals', 'np_vals_log10', 'df', 'df_log10']]"
      ],
      "execution_count": 0,
      "outputs": []
    },
    {
      "cell_type": "markdown",
      "metadata": {
        "id": "qC4EwxCFselE",
        "colab_type": "text"
      },
      "source": [
        "## Zip lists to build a DataFrame"
      ]
    },
    {
      "cell_type": "code",
      "metadata": {
        "id": "30GnrXkosfLc",
        "colab_type": "code",
        "colab": {}
      },
      "source": [
        "# Zip the 2 lists together into one list of (key,value) tuples: zipped\n",
        "zipped = list(zip(list_keys, list_values))\n",
        "\n",
        "# Inspect the list using print()\n",
        "print(zipped)\n",
        "\n",
        "# Build a dictionary with the zipped list: data\n",
        "data = dict(zipped)\n",
        "\n",
        "# Build and inspect a DataFrame from the dictionary: df\n",
        "df = pd.DataFrame(data)\n",
        "print(df)"
      ],
      "execution_count": 0,
      "outputs": []
    },
    {
      "cell_type": "markdown",
      "metadata": {
        "id": "C61MEp7Ask-N",
        "colab_type": "text"
      },
      "source": [
        "## Labeling your data"
      ]
    },
    {
      "cell_type": "code",
      "metadata": {
        "id": "FqnzwKFnsoX2",
        "colab_type": "code",
        "colab": {}
      },
      "source": [
        "# Build a list of labels: list_labels\n",
        "list_labels = ['year', 'artist', 'song', 'chart weeks']\n",
        "\n",
        "# Assign the list of labels to the columns attribute: df.columns\n",
        "df.columns = list_labels"
      ],
      "execution_count": 0,
      "outputs": []
    },
    {
      "cell_type": "markdown",
      "metadata": {
        "id": "Ia7ou7hhtB3C",
        "colab_type": "text"
      },
      "source": [
        "## Building DataFrames with broadcasting"
      ]
    },
    {
      "cell_type": "code",
      "metadata": {
        "id": "GfiR6Te2tGCS",
        "colab_type": "code",
        "colab": {}
      },
      "source": [
        "# Make a string with the value 'PA': state\n",
        "state = 'PA'\n",
        "\n",
        "# Construct a dictionary: data\n",
        "data = {'state':state, 'city':cities}\n",
        "\n",
        "# Construct a DataFrame from dictionary data: df\n",
        "df = pd.DataFrame(data)\n",
        "\n",
        "# Print the DataFrame\n",
        "print(df)"
      ],
      "execution_count": 0,
      "outputs": []
    },
    {
      "cell_type": "markdown",
      "metadata": {
        "id": "Kb_o42oBtYlS",
        "colab_type": "text"
      },
      "source": [
        "## Reading a flat file"
      ]
    },
    {
      "cell_type": "code",
      "metadata": {
        "id": "wmW3eNRDuzCG",
        "colab_type": "code",
        "colab": {}
      },
      "source": [
        "# Read in the file: df1\n",
        "df1 = pd.read_csv(data_file)\n",
        "\n",
        "# Create a list of the new column labels: new_labels\n",
        "new_labels = ['year', 'population']\n",
        "\n",
        "# Read in the file, specifying the header and names parameters: df2\n",
        "df2 = pd.read_csv(data_file, header=0, names=new_labels)\n",
        "\n",
        "# Print both the DataFrames\n",
        "print(df1)\n",
        "print(df2)"
      ],
      "execution_count": 0,
      "outputs": []
    },
    {
      "cell_type": "markdown",
      "metadata": {
        "id": "mbPeSxHgvfGQ",
        "colab_type": "text"
      },
      "source": [
        "## Delimiters, headers, and extensions"
      ]
    },
    {
      "cell_type": "code",
      "metadata": {
        "id": "4422KuBuvfc3",
        "colab_type": "code",
        "colab": {}
      },
      "source": [
        "# Read the raw file as-is: df1\n",
        "df1 = pd.read_csv(file_messy)\n",
        "\n",
        "# Print the output of df1.head()\n",
        "print(df1.head())\n",
        "\n",
        "# Read in the file with the correct parameters: df2\n",
        "df2 = pd.read_csv(file_messy, delimiter=' ', header=3, comment='#')\n",
        "\n",
        "# Print the output of df2.head()\n",
        "print(df2.head())\n",
        "\n",
        "# Save the cleaned up DataFrame to a CSV file without the index\n",
        "df2.to_csv(file_clean, index=False)\n",
        "\n",
        "# Save the cleaned up DataFrame to an excel file without the index\n",
        "df2.to_excel('file_clean.xlsx', index=False)"
      ],
      "execution_count": 0,
      "outputs": []
    },
    {
      "cell_type": "markdown",
      "metadata": {
        "id": "h_1PbnXswRKx",
        "colab_type": "text"
      },
      "source": [
        "## Plotting series using pandas"
      ]
    },
    {
      "cell_type": "code",
      "metadata": {
        "id": "glJNrfR3xWtm",
        "colab_type": "code",
        "colab": {}
      },
      "source": [
        "# Create a plot with color='red'\n",
        "df.plot(color='r')\n",
        "\n",
        "# Add a title\n",
        "plt.title('Temperature in Austin')\n",
        "\n",
        "# Specify the x-axis label\n",
        "plt.xlabel('Hours since midnight August 1, 2010')\n",
        "\n",
        "# Specify the y-axis label\n",
        "plt.ylabel('Temperature (degrees F)')\n",
        "\n",
        "# Display the plot\n",
        "plt.show()"
      ],
      "execution_count": 0,
      "outputs": []
    },
    {
      "cell_type": "markdown",
      "metadata": {
        "id": "4Ju2Yyzgxwza",
        "colab_type": "text"
      },
      "source": [
        "## Plotting DataFrames"
      ]
    },
    {
      "cell_type": "code",
      "metadata": {
        "id": "hMtTuS82xxN_",
        "colab_type": "code",
        "colab": {}
      },
      "source": [
        "# Plot all columns (default)\n",
        "df.plot()\n",
        "plt.show()\n",
        "\n",
        "# Plot all columns as subplots\n",
        "df.plot(subplots=True)\n",
        "plt.show()\n",
        "\n",
        "# Plot just the Dew Point data\n",
        "column_list1 = ['Dew Point (deg F)']\n",
        "df[column_list1].plot()\n",
        "plt.show()\n",
        "\n",
        "# Plot the Dew Point and Temperature data, but not the Pressure data\n",
        "column_list2 = ['Temperature (deg F)','Dew Point (deg F)']\n",
        "df[column_list2].plot()\n",
        "plt.show()"
      ],
      "execution_count": 0,
      "outputs": []
    }
  ]
}