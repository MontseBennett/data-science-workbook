{
  "nbformat": 4,
  "nbformat_minor": 0,
  "metadata": {
    "colab": {
      "name": "create_visualize_dataframe.ipynb",
      "provenance": []
    },
    "kernelspec": {
      "name": "python3",
      "display_name": "Python 3"
    }
  },
  "cells": [
    {
      "cell_type": "markdown",
      "metadata": {
        "id": "xHEjGdLQOMeN",
        "colab_type": "text"
      },
      "source": [
        "# Data Manipulation: Creating and Visualizing DataFrame"
      ]
    },
    {
      "cell_type": "code",
      "metadata": {
        "id": "oly_t86de3Dt",
        "colab_type": "code",
        "colab": {}
      },
      "source": [
        "import numpy as np\n",
        "import pandas as pd\n",
        "import matplotlib.pyplot as plt"
      ],
      "execution_count": 0,
      "outputs": []
    },
    {
      "cell_type": "markdown",
      "metadata": {
        "id": "eT4i6wJlfASJ",
        "colab_type": "text"
      },
      "source": [
        "## Which avocado size is most popular?"
      ]
    },
    {
      "cell_type": "code",
      "metadata": {
        "id": "lxW110aBjy67",
        "colab_type": "code",
        "colab": {}
      },
      "source": [
        "# Import matplotlib.pyplot with alias plt\n",
        "import matplotlib.pyplot as plt\n",
        "\n",
        "# Look at the first few rows of data\n",
        "print(avocados.head())\n",
        "\n",
        "# Get the total number of avocados sold of each size\n",
        "nb_sold_by_size = avocados.groupby('size')['nb_sold'].sum()\n",
        "\n",
        "# Create a bar plot of the number of avocados sold by size\n",
        "nb_sold_by_size.plot(kind='bar')\n",
        "\n",
        "# Show the plot\n",
        "plt.show()"
      ],
      "execution_count": 0,
      "outputs": []
    },
    {
      "cell_type": "markdown",
      "metadata": {
        "id": "JvP-73hskFjS",
        "colab_type": "text"
      },
      "source": [
        "## Changes in sales over time"
      ]
    },
    {
      "cell_type": "code",
      "metadata": {
        "id": "7nVcCjCGkHek",
        "colab_type": "code",
        "colab": {}
      },
      "source": [
        "# Import matplotlib.pyplot with alias plt\n",
        "import matplotlib.pyplot as plt\n",
        "\n",
        "# Get the total number of avocados sold on each date\n",
        "nb_sold_by_date = avocados.groupby('date')['nb_sold'].sum()\n",
        "\n",
        "# Create a line plot of the number of avocados sold by date\n",
        "nb_sold_by_date.plot(kind='line')\n",
        "\n",
        "# Show the plot\n",
        "plt.show()"
      ],
      "execution_count": 0,
      "outputs": []
    },
    {
      "cell_type": "markdown",
      "metadata": {
        "id": "IbWK-vG_kpH2",
        "colab_type": "text"
      },
      "source": [
        "## Avocado supply and demand"
      ]
    },
    {
      "cell_type": "code",
      "metadata": {
        "id": "L1AI81RYkrP_",
        "colab_type": "code",
        "colab": {}
      },
      "source": [
        "# Scatter plot of nb_sold vs avg_price with title\n",
        "avocados.plot(x='nb_sold', y='avg_price', title='Number of avocados sold vs. average price', kind='scatter')\n",
        "\n",
        "# Show the plot\n",
        "plt.show()"
      ],
      "execution_count": 0,
      "outputs": []
    },
    {
      "cell_type": "markdown",
      "metadata": {
        "id": "mI0wURU9lRUt",
        "colab_type": "text"
      },
      "source": [
        "## Price of conventional vs. organic avocados"
      ]
    },
    {
      "cell_type": "code",
      "metadata": {
        "id": "7C0_82wrlTKl",
        "colab_type": "code",
        "colab": {}
      },
      "source": [
        "# Histogram of conventional avg_price \n",
        "avocados[avocados['type'] == 'conventional']['avg_price'].hist()\n",
        "\n",
        "# Histogram of organic avg_price\n",
        "avocados[avocados['type'] == 'organic']['avg_price'].hist()\n",
        "\n",
        "# Add a legend\n",
        "plt.legend(['conventional', 'organic'])\n",
        "\n",
        "# Show the plot\n",
        "plt.show()"
      ],
      "execution_count": 0,
      "outputs": []
    },
    {
      "cell_type": "code",
      "metadata": {
        "id": "oeaLqUH5lzP2",
        "colab_type": "code",
        "colab": {}
      },
      "source": [
        "# Modify histogram transparency to 0.5 \n",
        "avocados[avocados[\"type\"] == \"conventional\"][\"avg_price\"].hist(alpha=0.5)\n",
        "\n",
        "# Modify histogram transparency to 0.5\n",
        "avocados[avocados[\"type\"] == \"organic\"][\"avg_price\"].hist(alpha=0.5)\n",
        "\n",
        "# Add a legend\n",
        "plt.legend([\"conventional\", \"organic\"])\n",
        "\n",
        "# Show the plot\n",
        "plt.show()"
      ],
      "execution_count": 0,
      "outputs": []
    },
    {
      "cell_type": "markdown",
      "metadata": {
        "id": "hXBEysENmL1s",
        "colab_type": "text"
      },
      "source": [
        "## Finding missing values"
      ]
    },
    {
      "cell_type": "code",
      "metadata": {
        "id": "lkKgXmjioDHh",
        "colab_type": "code",
        "colab": {}
      },
      "source": [
        "# Import matplotlib.pyplot with alias plt\n",
        "import matplotlib.pyplot as plt\n",
        "\n",
        "# Check individual values for missing values\n",
        "print(avocados_2016.isna())\n",
        "\n",
        "# Check each column for missing values\n",
        "print(avocados_2016.isna().any())\n",
        "\n",
        "# Bar plot of missing values by variable\n",
        "avocados_2016.isna().sum().plot(kind='bar')\n",
        "\n",
        "# Show plot\n",
        "plt.show()"
      ],
      "execution_count": 0,
      "outputs": []
    },
    {
      "cell_type": "markdown",
      "metadata": {
        "id": "ixF5Qe6koEay",
        "colab_type": "text"
      },
      "source": [
        "## Removing missing values"
      ]
    },
    {
      "cell_type": "code",
      "metadata": {
        "id": "Dwl-L2D2oSPu",
        "colab_type": "code",
        "colab": {}
      },
      "source": [
        "# Remove rows with missing values\n",
        "avocados_complete = avocados_2016.dropna()\n",
        "\n",
        "# Check if any columns contain missing values\n",
        "print(avocados_complete.isna().any())"
      ],
      "execution_count": 0,
      "outputs": []
    },
    {
      "cell_type": "markdown",
      "metadata": {
        "id": "YyyeOgcIohvo",
        "colab_type": "text"
      },
      "source": [
        "## Replacing missing values"
      ]
    },
    {
      "cell_type": "code",
      "metadata": {
        "id": "aj_CEP8LomZv",
        "colab_type": "code",
        "colab": {}
      },
      "source": [
        "# List the columns with missing values\n",
        "cols_with_missing = ['small_sold', 'large_sold', 'xl_sold']\n",
        "\n",
        "# Create histograms showing the distributions cols_with_missing\n",
        "avocados_2016[cols_with_missing].hist()\n",
        "\n",
        "# Show the plot\n",
        "plt.show()"
      ],
      "execution_count": 0,
      "outputs": []
    },
    {
      "cell_type": "code",
      "metadata": {
        "id": "SHHOTB7vpzNa",
        "colab_type": "code",
        "colab": {}
      },
      "source": [
        "# From previous step\n",
        "cols_with_missing = [\"small_sold\", \"large_sold\", \"xl_sold\"]\n",
        "avocados_2016[cols_with_missing].hist()\n",
        "plt.show()\n",
        "\n",
        "# Fill in missing values with 0\n",
        "avocados_filled = avocados_2016.fillna(0)\n",
        "\n",
        "# Create histograms of the filled columns\n",
        "avocados_filled[cols_with_missing].hist()\n",
        "\n",
        "# Show the plot\n",
        "plt.show()"
      ],
      "execution_count": 0,
      "outputs": []
    },
    {
      "cell_type": "markdown",
      "metadata": {
        "id": "NvdTHstvpzsn",
        "colab_type": "text"
      },
      "source": [
        "## List of dictionaries"
      ]
    },
    {
      "cell_type": "code",
      "metadata": {
        "id": "POICElvAq5sV",
        "colab_type": "code",
        "colab": {}
      },
      "source": [
        "# Create a list of dictionaries with new data\n",
        "avocados_list = [\n",
        "    {'date': \"2019-11-03\", 'small_sold': 10376832, 'large_sold': 7835071},\n",
        "    {'date': \"2019-11-10\", 'small_sold': 10717154, 'large_sold': \t8561348},\n",
        "]\n",
        "\n",
        "# Convert list into DataFrame\n",
        "avocados_2019 = pd.DataFrame(avocados_list)\n",
        "\n",
        "# Print the new DataFrame\n",
        "print(avocados_2019)"
      ],
      "execution_count": 0,
      "outputs": []
    },
    {
      "cell_type": "markdown",
      "metadata": {
        "id": "HdZs5zivq6_3",
        "colab_type": "text"
      },
      "source": [
        "## Dictionary of lists"
      ]
    },
    {
      "cell_type": "code",
      "metadata": {
        "id": "4k8Oq_9tq-Yo",
        "colab_type": "code",
        "colab": {}
      },
      "source": [
        "# Create a dictionary of lists with new data\n",
        "avocados_dict = {\n",
        "  \"date\": [\"2019-11-17\", \"2019-12-01\"],\n",
        "  \"small_sold\": [10859987, 9291631],\n",
        "  \"large_sold\": [7674135, \t6238096]\n",
        "}\n",
        "\n",
        "# Convert dictionary into DataFrame\n",
        "avocados_2019 = pd.DataFrame(avocados_dict)\n",
        "\n",
        "# Print the new DataFrame\n",
        "print(avocados_2019)"
      ],
      "execution_count": 0,
      "outputs": []
    },
    {
      "cell_type": "markdown",
      "metadata": {
        "id": "vZbkvA4QrxCw",
        "colab_type": "text"
      },
      "source": [
        "## CSV to DataFrame"
      ]
    },
    {
      "cell_type": "code",
      "metadata": {
        "id": "MJe1avU8rxbS",
        "colab_type": "code",
        "colab": {}
      },
      "source": [
        "# Read CSV as DataFrame called airline_bumping\n",
        "airline_bumping = pd.read_csv('airline_bumping.csv')\n",
        "\n",
        "# Take a look at the DataFrame\n",
        "print(airline_bumping.head())"
      ],
      "execution_count": 0,
      "outputs": []
    },
    {
      "cell_type": "code",
      "metadata": {
        "id": "yuH9qJyqr3eR",
        "colab_type": "code",
        "colab": {}
      },
      "source": [
        "# From previous step\n",
        "airline_bumping = pd.read_csv(\"airline_bumping.csv\")\n",
        "print(airline_bumping.head())\n",
        "\n",
        "# For each airline, select nb_bumped and total_passengers and sum\n",
        "airline_totals = airline_bumping.groupby('airline')[['nb_bumped', 'total_passengers']].sum()"
      ],
      "execution_count": 0,
      "outputs": []
    },
    {
      "cell_type": "code",
      "metadata": {
        "id": "EFHa-iLxr3Nh",
        "colab_type": "code",
        "colab": {}
      },
      "source": [
        "# From previous steps\n",
        "airline_bumping = pd.read_csv(\"airline_bumping.csv\")\n",
        "print(airline_bumping.head())\n",
        "airline_totals = airline_bumping.groupby(\"airline\")[[\"nb_bumped\", \"total_passengers\"]].sum()\n",
        "\n",
        "# Create new col, bumps_per_10k: no. of bumps per 10k passengers for each airline\n",
        "airline_totals[\"bumps_per_10k\"] = airline_totals['nb_bumped'] / airline_totals['total_passengers'] * 10000"
      ],
      "execution_count": 0,
      "outputs": []
    },
    {
      "cell_type": "code",
      "metadata": {
        "id": "l1mAbw7Jr2sw",
        "colab_type": "code",
        "colab": {}
      },
      "source": [
        "# From previous steps\n",
        "airline_bumping = pd.read_csv(\"airline_bumping.csv\")\n",
        "print(airline_bumping.head())\n",
        "airline_totals = airline_bumping.groupby(\"airline\")[[\"nb_bumped\", \"total_passengers\"]].sum()\n",
        "airline_totals[\"bumps_per_10k\"] = airline_totals[\"nb_bumped\"] / airline_totals[\"total_passengers\"] * 10000\n",
        "\n",
        "# Print airline_totals\n",
        "print(airline_totals)"
      ],
      "execution_count": 0,
      "outputs": []
    },
    {
      "cell_type": "markdown",
      "metadata": {
        "id": "lz5uE5_lstKM",
        "colab_type": "text"
      },
      "source": [
        "## DataFrame to CSV"
      ]
    },
    {
      "cell_type": "code",
      "metadata": {
        "id": "wzV4PaTNsvPO",
        "colab_type": "code",
        "colab": {}
      },
      "source": [
        "# Create airline_totals_sorted\n",
        "airline_totals_sorted = airline_totals.sort_values('bumps_per_10k', ascending=False)\n",
        "\n",
        "# Print airline_totals_sorted\n",
        "print(airline_totals_sorted)\n",
        "\n",
        "# Save as airline_totals_sorted.csv\n",
        "airline_totals_sorted.to_csv('airline_totals_sorted.csv')"
      ],
      "execution_count": 0,
      "outputs": []
    }
  ]
}