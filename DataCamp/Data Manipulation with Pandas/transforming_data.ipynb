{
  "nbformat": 4,
  "nbformat_minor": 0,
  "metadata": {
    "colab": {
      "name": "transforming_data.ipynb",
      "provenance": []
    },
    "kernelspec": {
      "name": "python3",
      "display_name": "Python 3"
    }
  },
  "cells": [
    {
      "cell_type": "markdown",
      "metadata": {
        "id": "dE2q-Q0OHpTS",
        "colab_type": "text"
      },
      "source": [
        "# Data Manipulation with Pandas: Transforming Data"
      ]
    },
    {
      "cell_type": "code",
      "metadata": {
        "id": "TQcucnixIGUy",
        "colab_type": "code",
        "colab": {}
      },
      "source": [
        "import numpy as np\n",
        "import pandas as pd\n",
        "import matplotlib.pyplot as plt"
      ],
      "execution_count": 0,
      "outputs": []
    },
    {
      "cell_type": "markdown",
      "metadata": {
        "id": "A9lr5Xr0IM-b",
        "colab_type": "text"
      },
      "source": [
        "## Inspecting a DataFrame"
      ]
    },
    {
      "cell_type": "code",
      "metadata": {
        "id": "cfZUh6-jI0Bq",
        "colab_type": "code",
        "colab": {}
      },
      "source": [
        "# Print the head of the homelessness data\n",
        "print(homelessness.head())\n",
        "\n",
        "# Print information about homelessness\n",
        "print(homelessness.info())\n",
        "\n",
        "# Print the shape of homelessness\n",
        "print(homelessness.shape)\n",
        "\n",
        "# Print a description of homelessness\n",
        "print(homelessness.describe())"
      ],
      "execution_count": 0,
      "outputs": []
    },
    {
      "cell_type": "markdown",
      "metadata": {
        "id": "fLZTAcGlI2Op",
        "colab_type": "text"
      },
      "source": [
        "## Parts of a DataFrame"
      ]
    },
    {
      "cell_type": "markdown",
      "metadata": {
        "id": "W3Cg10tuI_ET",
        "colab_type": "text"
      },
      "source": [
        "To better understand DataFrame objects, it's useful to know that they consist of three components, stored as attributes:\n",
        "\n",
        "- .values: A two-dimensional NumPy array of values.\n",
        "- .columns: An index of columns: the column names.\n",
        "- .index: An index for the rows: either row numbers or row names.\n",
        "\n",
        "You can usually think of indexes as being like a list of strings or numbers, though the pandas Index data type allows for more sophisticated options. (These will be covered later in the course.)\n",
        "\n",
        "homelessness is available."
      ]
    },
    {
      "cell_type": "code",
      "metadata": {
        "id": "57nhAip7JA60",
        "colab_type": "code",
        "colab": {}
      },
      "source": [
        "# Import pandas using the alias pd\n",
        "import pandas as pd\n",
        "\n",
        "# Print the values of homelessness\n",
        "print(homelessness.values)\n",
        "\n",
        "# Print the column index of homelessness\n",
        "print(homelessness.columns)\n",
        "\n",
        "# Print the row index of homelessness\n",
        "print(homelessness.index)"
      ],
      "execution_count": 0,
      "outputs": []
    },
    {
      "cell_type": "markdown",
      "metadata": {
        "id": "ioeEIUd3JUA1",
        "colab_type": "text"
      },
      "source": [
        "## Sorting Rows"
      ]
    },
    {
      "cell_type": "code",
      "metadata": {
        "id": "miQRBuRwLVBL",
        "colab_type": "code",
        "colab": {}
      },
      "source": [
        "# Sort homelessness by region, then descending family members\n",
        "homelessness_reg_fam = homelessness.sort_values(['region', 'family_members'], ascending=[True, False])\n",
        "\n",
        "# Print the top few rows\n",
        "print(homelessness_reg_fam.head())"
      ],
      "execution_count": 0,
      "outputs": []
    },
    {
      "cell_type": "markdown",
      "metadata": {
        "id": "cRkre4wNLV3l",
        "colab_type": "text"
      },
      "source": [
        "## Subsetting columns"
      ]
    },
    {
      "cell_type": "code",
      "metadata": {
        "id": "75929LqRLeMR",
        "colab_type": "code",
        "colab": {}
      },
      "source": [
        "# Select the individuals column\n",
        "individuals = homelessness['individuals']\n",
        "\n",
        "# Print the head of the result\n",
        "print(individuals.head())"
      ],
      "execution_count": 0,
      "outputs": []
    },
    {
      "cell_type": "code",
      "metadata": {
        "id": "il_aBh2fLmTi",
        "colab_type": "code",
        "colab": {}
      },
      "source": [
        "# Select the individuals column\n",
        "individuals = homelessness['individuals']\n",
        "\n",
        "# Print the head of the result\n",
        "print(individuals.head())"
      ],
      "execution_count": 0,
      "outputs": []
    },
    {
      "cell_type": "code",
      "metadata": {
        "id": "vFba9nifLxM3",
        "colab_type": "code",
        "colab": {}
      },
      "source": [
        "# Select only the individuals and state columns, in that order\n",
        "ind_state = homelessness[['individuals', 'state']]\n",
        "\n",
        "# Print the head of the result\n",
        "print(ind_state.head())"
      ],
      "execution_count": 0,
      "outputs": []
    },
    {
      "cell_type": "markdown",
      "metadata": {
        "id": "POHgCGFpL8zf",
        "colab_type": "text"
      },
      "source": [
        "## Subsetting rows"
      ]
    },
    {
      "cell_type": "markdown",
      "metadata": {
        "id": "heEnCxyfL-l3",
        "colab_type": "text"
      },
      "source": [
        "A large part of data science is about finding which bits of your dataset are interesting. One of the simplest techniques for this is to find a subset of rows that match some criteria. This is sometimes known as filtering rows or selecting rows.\n",
        "\n",
        "There are many ways to subset a DataFrame, perhaps the most common is to use relational operators to return True or False for each row, then pass that inside square brackets.\n",
        "\n",
        "dogs[dogs[\"height_cm\"] > 60]\n",
        "dogs[dogs[\"color\"] == \"tan\"]\n",
        "You can filter for multiple conditions at once by using the \"logical and\" operator, &.\n",
        "\n",
        "dogs[(dogs[\"height_cm\"] > 60) & (dogs[\"col_b\"] == \"tan\")]\n",
        "homelessness is available and pandas is loaded as pd."
      ]
    },
    {
      "cell_type": "code",
      "metadata": {
        "id": "p0RfpklaMRzC",
        "colab_type": "code",
        "colab": {}
      },
      "source": [
        "# Filter for rows where individuals is greater than 10000\n",
        "ind_gt_10k = homelessness[homelessness['individuals'] > 10000]\n",
        "\n",
        "# See the result\n",
        "print(ind_gt_10k)"
      ],
      "execution_count": 0,
      "outputs": []
    },
    {
      "cell_type": "code",
      "metadata": {
        "id": "vl7NBrI3MSWY",
        "colab_type": "code",
        "colab": {}
      },
      "source": [
        "# Filter for rows where individuals is greater than 10000\n",
        "ind_gt_10k = homelessness[homelessness['individuals'] > 10000]\n",
        "\n",
        "# See the result\n",
        "print(ind_gt_10k)"
      ],
      "execution_count": 0,
      "outputs": []
    },
    {
      "cell_type": "code",
      "metadata": {
        "id": "Mi6GsTOBMcXw",
        "colab_type": "code",
        "colab": {}
      },
      "source": [
        "# Filter for rows where family_members is less than 1000 \n",
        "# and region is Pacific\n",
        "fam_lt_1k_pac = homelessness[(homelessness['family_members'] < 1000) & (homelessness['region'] == 'Pacific')]\n",
        "\n",
        "# See the result\n",
        "print(fam_lt_1k_pac)"
      ],
      "execution_count": 0,
      "outputs": []
    },
    {
      "cell_type": "markdown",
      "metadata": {
        "id": "KKBRbm6gMrKe",
        "colab_type": "text"
      },
      "source": [
        "## Subsetting rows by categorical variables"
      ]
    },
    {
      "cell_type": "code",
      "metadata": {
        "id": "FErcsYadMruZ",
        "colab_type": "code",
        "colab": {}
      },
      "source": [
        "# Subset for rows in South Atlantic or Mid-Atlantic regions\n",
        "south_mid_atlantic = homelessness[homelessness['region'].isin(['South Atlantic', 'Mid-Atlantic'])]\n",
        "\n",
        "# See the result\n",
        "print(south_mid_atlantic)"
      ],
      "execution_count": 0,
      "outputs": []
    },
    {
      "cell_type": "code",
      "metadata": {
        "id": "9L5xc65JNFKI",
        "colab_type": "code",
        "colab": {}
      },
      "source": [
        "# The Mojave Desert states\n",
        "canu = [\"California\", \"Arizona\", \"Nevada\", \"Utah\"]\n",
        "\n",
        "# Filter for rows in the Mojave Desert states\n",
        "mojave_homelessness = homelessness[homelessness['state'].isin(canu)]\n",
        "\n",
        "# See the result\n",
        "print(mojave_homelessness)"
      ],
      "execution_count": 0,
      "outputs": []
    },
    {
      "cell_type": "markdown",
      "metadata": {
        "id": "T3hfs6WBNi_m",
        "colab_type": "text"
      },
      "source": [
        "## Adding new columns"
      ]
    },
    {
      "cell_type": "code",
      "metadata": {
        "id": "dl1r6AFiN-Le",
        "colab_type": "code",
        "colab": {}
      },
      "source": [
        "# Add total col as sum of individuals and family_members\n",
        "homelessness['total'] = homelessness['individuals'] + homelessness['family_members']\n",
        "\n",
        "# Add p_individuals col as proportion of individuals\n",
        "homelessness['p_individuals'] = homelessness['individuals'] / homelessness['total']\n",
        "\n",
        "# See the result\n",
        "print(homelessness)"
      ],
      "execution_count": 0,
      "outputs": []
    },
    {
      "cell_type": "markdown",
      "metadata": {
        "id": "eFIkcFH5OpF9",
        "colab_type": "text"
      },
      "source": [
        "## Combo-attack!"
      ]
    },
    {
      "cell_type": "code",
      "metadata": {
        "id": "L99u8xejOqSN",
        "colab_type": "code",
        "colab": {}
      },
      "source": [
        "# Create indiv_per_10k col as homeless individuals per 10k state pop\n",
        "homelessness[\"indiv_per_10k\"] = 10000 * homelessness['individuals'] / homelessness['state_pop']\n",
        "\n",
        "# Subset rows for indiv_per_10k greater than 20\n",
        "high_homelessness = homelessness[homelessness['indiv_per_10k'] > 20]\n",
        "\n",
        "# Sort high_homelessness by descending indiv_per_10k\n",
        "high_homelessness_srt = high_homelessness.sort_values('indiv_per_10k', ascending=False)\n",
        "\n",
        "# From high_homelessness_srt, select the state and indiv_per_10k cols\n",
        "result = high_homelessness_srt[['state', 'indiv_per_10k']]\n",
        "\n",
        "# See the result\n",
        "print(result)"
      ],
      "execution_count": 0,
      "outputs": []
    }
  ]
}