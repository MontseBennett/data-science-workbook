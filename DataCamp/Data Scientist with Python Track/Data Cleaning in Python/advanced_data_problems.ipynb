{
  "nbformat": 4,
  "nbformat_minor": 0,
  "metadata": {
    "colab": {
      "name": "advanced_data_problems.ipynb",
      "provenance": [],
      "collapsed_sections": []
    },
    "kernelspec": {
      "name": "python3",
      "display_name": "Python 3"
    }
  },
  "cells": [
    {
      "cell_type": "markdown",
      "metadata": {
        "id": "pNnRzrAXHwCN",
        "colab_type": "text"
      },
      "source": [
        "# Advanced data problems"
      ]
    },
    {
      "cell_type": "markdown",
      "metadata": {
        "id": "Y9X3XBWgHxaa",
        "colab_type": "text"
      },
      "source": [
        "D. All of the above are possible, as long as we investigate where our data comes from, and understand the dynamics affecting it before cleaning it."
      ]
    },
    {
      "cell_type": "markdown",
      "metadata": {
        "id": "xL_xNwY4H6_p",
        "colab_type": "text"
      },
      "source": [
        "## Uniform currencies"
      ]
    },
    {
      "cell_type": "code",
      "metadata": {
        "id": "ELrJ_AlfH9m7",
        "colab_type": "code",
        "colab": {}
      },
      "source": [
        "# Find values of acct_cur that are equal to 'euro'\n",
        "acct_eu = banking['acct_cur'] == 'euro'\n",
        "\n",
        "# Convert acct_amount where it is in euro to dollars\n",
        "banking.loc[acct_eu, 'acct_amount'] = banking.loc[acct_eu, 'acct_amount'] * 1.1\n",
        "\n",
        "# Unify acct_cur column by changing 'euro' values to 'dollar'\n",
        "banking.loc[acct_eu, 'acct_cur'] = 'dollar'\n",
        "\n",
        "# Print unique values of acct_cur\n",
        "assert banking['acct_cur'].unique() == 'dollar'"
      ],
      "execution_count": 0,
      "outputs": []
    },
    {
      "cell_type": "markdown",
      "metadata": {
        "id": "b4ggPD8oIrCh",
        "colab_type": "text"
      },
      "source": [
        "## Uniform dates"
      ]
    },
    {
      "cell_type": "code",
      "metadata": {
        "id": "wf367xqOIrZ7",
        "colab_type": "code",
        "colab": {}
      },
      "source": [
        "# Print the header of account_opened\n",
        "print(banking['account_opened'].head())"
      ],
      "execution_count": 0,
      "outputs": []
    },
    {
      "cell_type": "markdown",
      "metadata": {
        "id": "v79xFBDkI7sD",
        "colab_type": "text"
      },
      "source": [
        "C. The 21-14-17 entry is erroneous and leads to an error."
      ]
    },
    {
      "cell_type": "code",
      "metadata": {
        "id": "aroezWAEJRB_",
        "colab_type": "code",
        "colab": {}
      },
      "source": [
        "# Print the header of account_opened\n",
        "print(banking['account_opened'].head())\n",
        "\n",
        "# Convert account_opened to datetime\n",
        "banking['account_opened'] = pd.to_datetime(banking['account_opened'],\n",
        "                                           # Infer datetime format\n",
        "                                           infer_datetime_format = True,\n",
        "                                           # Return missing value for error\n",
        "                                           errors = 'coerce') "
      ],
      "execution_count": 0,
      "outputs": []
    },
    {
      "cell_type": "code",
      "metadata": {
        "id": "e4XI46FcKCgJ",
        "colab_type": "code",
        "colab": {}
      },
      "source": [
        "# Print the header of account_opend\n",
        "print(banking['account_opened'].head())\n",
        "\n",
        "# Convert account_opened to datetime\n",
        "banking['account_opened'] = pd.to_datetime(banking['account_opened'],\n",
        "                                           # Infer datetime format\n",
        "                                           infer_datetime_format = True,\n",
        "                                           # Return missing value for error\n",
        "                                           errors = 'coerce') \n",
        "\n",
        "# Get year of account opened\n",
        "banking['acct_year'] = banking['account_opened'].dt.strftime('%Y')\n",
        "\n",
        "# Print acct_year\n",
        "print(banking['acct_year'])"
      ],
      "execution_count": 0,
      "outputs": []
    },
    {
      "cell_type": "markdown",
      "metadata": {
        "id": "tCj30HTRdc87",
        "colab_type": "text"
      },
      "source": [
        "## How's our data integrity?"
      ]
    },
    {
      "cell_type": "code",
      "metadata": {
        "id": "6AMq31WOddVl",
        "colab_type": "code",
        "colab": {}
      },
      "source": [
        "# Store fund columns to sum against\n",
        "fund_columns = ['fund_A', 'fund_B', 'fund_C', 'fund_D']\n",
        "\n",
        "# Find rows where fund_columns row sum == inv_amount\n",
        "inv_equ = banking[fund_columns].sum(axis=1) == banking['inv_amount']\n",
        "\n",
        "# Store consistent and inconsistent data\n",
        "consistent_inv = banking[inv_equ]\n",
        "inconsistent_inv = banking[~inv_equ]\n",
        "\n",
        "# Store consistent and inconsistent data\n",
        "print(\"Number of inconsistent investments: \", inconsistent_inv.shape[0])"
      ],
      "execution_count": 0,
      "outputs": []
    },
    {
      "cell_type": "code",
      "metadata": {
        "id": "pfQQRYvKdd4Y",
        "colab_type": "code",
        "colab": {}
      },
      "source": [
        "# Store today's date and find ages\n",
        "today = dt.date.today()\n",
        "ages_manual = today.year - banking.birth_date.dt.year\n",
        "\n",
        "# Find rows where age column == ages_manual\n",
        "age_equ = banking['age'] == ages_manual\n",
        "\n",
        "# Store consistent and inconsistent data\n",
        "consistent_ages = banking[age_equ]\n",
        "inconsistent_ages = banking[~age_equ]\n",
        "\n",
        "# Store consistent and inconsistent data\n",
        "print(\"Number of inconsistent ages: \", inconsistent_ages.shape[0])"
      ],
      "execution_count": 0,
      "outputs": []
    },
    {
      "cell_type": "markdown",
      "metadata": {
        "id": "kQ1hS8G9fYRY",
        "colab_type": "text"
      },
      "source": [
        "## Is this missing at random?"
      ]
    },
    {
      "cell_type": "markdown",
      "metadata": {
        "id": "_Dd7rDbHfZln",
        "colab_type": "text"
      },
      "source": [
        "C. Missing not at random."
      ]
    },
    {
      "cell_type": "markdown",
      "metadata": {
        "id": "sI6U-R8nfrU2",
        "colab_type": "text"
      },
      "source": [
        "## Missing investors"
      ]
    },
    {
      "cell_type": "code",
      "metadata": {
        "id": "AraszSQJfttZ",
        "colab_type": "code",
        "colab": {}
      },
      "source": [
        "# Print number of missing values in banking\n",
        "print(banking.isna().sum())\n",
        "\n",
        "# Visualize missingness matrix\n",
        "msno.matrix(banking)\n",
        "plt.show()"
      ],
      "execution_count": 0,
      "outputs": []
    },
    {
      "cell_type": "code",
      "metadata": {
        "id": "BKGyXjdkgKJB",
        "colab_type": "code",
        "colab": {}
      },
      "source": [
        "# Print number of missing values in banking\n",
        "print(banking.isna().sum())\n",
        "\n",
        "# Visualize missingness matrix\n",
        "msno.matrix(banking)\n",
        "plt.show()\n",
        "\n",
        "# Isolate missing and non missing values of inv_amount\n",
        "missing_investors = banking[banking['inv_amount'].isna()]\n",
        "investors = banking[~banking['inv_amount'].isna()]"
      ],
      "execution_count": 0,
      "outputs": []
    },
    {
      "cell_type": "markdown",
      "metadata": {
        "id": "JqO_apNag3Wg",
        "colab_type": "text"
      },
      "source": [
        "B. The inv_amount is missing only for young customers, since the average age in missing_investors is 22 and the maximum age is 25."
      ]
    },
    {
      "cell_type": "code",
      "metadata": {
        "id": "P-uthKLOg4ZO",
        "colab_type": "code",
        "colab": {}
      },
      "source": [
        "# Print number of missing values in banking\n",
        "print(banking.isna().sum())\n",
        "\n",
        "# Visualize missingness matrix\n",
        "msno.matrix(banking)\n",
        "plt.show()\n",
        "\n",
        "# Isolate missing and non missing values of inv_amount\n",
        "missing_investors = banking[banking['inv_amount'].isna()]\n",
        "investors = banking[~banking['inv_amount'].isna()]\n",
        "\n",
        "# Sort banking by age and visualize\n",
        "banking_sorted = banking.sort_values('age')\n",
        "msno.matrix(banking_sorted)\n",
        "plt.show()"
      ],
      "execution_count": 0,
      "outputs": []
    },
    {
      "cell_type": "markdown",
      "metadata": {
        "id": "z7MSDDBNhGnu",
        "colab_type": "text"
      },
      "source": [
        "## Follow the money"
      ]
    },
    {
      "cell_type": "code",
      "metadata": {
        "id": "gLo5Y644hHAj",
        "colab_type": "code",
        "colab": {}
      },
      "source": [
        "# Drop missing values of cust_id\n",
        "banking_fullid = banking.dropna(subset = ['cust_id'])\n",
        "\n",
        "# Compute estimated acct_amount\n",
        "acct_imp = banking_fullid['inv_amount'] * 5\n",
        "\n",
        "# Impute missing acct_amount with corresponding acct_imp\n",
        "banking_imputed = banking_fullid.fillna({'acct_amount':acct_imp})\n",
        "\n",
        "# Print number of missing values\n",
        "print(banking_imputed.isna().sum())"
      ],
      "execution_count": 0,
      "outputs": []
    }
  ]
}