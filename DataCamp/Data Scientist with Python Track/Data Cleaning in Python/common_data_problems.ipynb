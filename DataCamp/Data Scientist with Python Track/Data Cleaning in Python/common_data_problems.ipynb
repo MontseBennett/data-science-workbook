{
  "nbformat": 4,
  "nbformat_minor": 0,
  "metadata": {
    "colab": {
      "name": "common_data_problems",
      "provenance": [],
      "collapsed_sections": []
    },
    "kernelspec": {
      "name": "python3",
      "display_name": "Python 3"
    }
  },
  "cells": [
    {
      "cell_type": "markdown",
      "metadata": {
        "id": "tEeQc3jnLAhx",
        "colab_type": "text"
      },
      "source": [
        "# Common data problems\n"
      ]
    },
    {
      "cell_type": "markdown",
      "metadata": {
        "id": "swPZDo1EXsF5",
        "colab_type": "text"
      },
      "source": [
        "## Numeric data or ... ?"
      ]
    },
    {
      "cell_type": "code",
      "metadata": {
        "id": "0dyxZogRZK02",
        "colab_type": "code",
        "colab": {}
      },
      "source": [
        "# Print the information of ride_sharing\n",
        "print(ride_sharing.info())\n",
        "\n",
        "# Print summary statistics of user_type column\n",
        "print(ride_sharing['user_type'].describe())"
      ],
      "execution_count": 0,
      "outputs": []
    },
    {
      "cell_type": "markdown",
      "metadata": {
        "id": "EPXg7N9rZz27",
        "colab_type": "text"
      },
      "source": [
        "C. The user_type column has an finite set of possible values that represent groupings of data, it should be converted to category."
      ]
    },
    {
      "cell_type": "code",
      "metadata": {
        "id": "-zBiP0zfZ0BC",
        "colab_type": "code",
        "colab": {}
      },
      "source": [
        "# Print the information of ride_sharing\n",
        "print(ride_sharing.info())\n",
        "\n",
        "# Print summary statistics of user_type column\n",
        "print(ride_sharing['user_type'].describe())\n",
        "\n",
        "# Convert user_type from integer to category\n",
        "ride_sharing['user_type_cat'] = ride_sharing['user_type'].astype('category')\n",
        "\n",
        "# Write an assert statement confirming the change\n",
        "assert ride_sharing['user_type_cat'].dtype == 'category'\n",
        "\n",
        "# Print new summary statistics \n",
        "print(ride_sharing['user_type_cat'].describe())"
      ],
      "execution_count": 0,
      "outputs": []
    },
    {
      "cell_type": "markdown",
      "metadata": {
        "id": "VXUa76AdaM3a",
        "colab_type": "text"
      },
      "source": [
        "## Summing strings and concatenating numbers"
      ]
    },
    {
      "cell_type": "code",
      "metadata": {
        "id": "zUGSpXpKaNMR",
        "colab_type": "code",
        "colab": {}
      },
      "source": [
        "# Strip duration of minutes\n",
        "ride_sharing['duration_trim'] = ride_sharing['duration'].str.strip('minutes')\n",
        "\n",
        "# Convert duration to integer\n",
        "ride_sharing['duration_time'] = ride_sharing['duration_trim'].astype('int')\n",
        "\n",
        "# Write an assert statement making sure of conversion\n",
        "assert ride_sharing['duration_time'].dtype == 'int'\n",
        "\n",
        "# Print formed columns and calculate average ride duration \n",
        "print(ride_sharing[['duration','duration_trim','duration_time']])\n",
        "print(ride_sharing['duration_time'].mean())"
      ],
      "execution_count": 0,
      "outputs": []
    },
    {
      "cell_type": "markdown",
      "metadata": {
        "id": "9EgQqktycXFj",
        "colab_type": "text"
      },
      "source": [
        "## Tire size constraints"
      ]
    },
    {
      "cell_type": "code",
      "metadata": {
        "id": "rcIDGCrNcXZX",
        "colab_type": "code",
        "colab": {}
      },
      "source": [
        "# Convert tire_sizes to integer\n",
        "ride_sharing['tire_sizes'] = ride_sharing['tire_sizes'].astype('int')\n",
        "\n",
        "# Set all values above 27 to 27\n",
        "ride_sharing.loc[ride_sharing['tire_sizes'] > 27, 'tire_sizes'] = 27\n",
        "\n",
        "# Reconvert tire_sizes back to categorical\n",
        "ride_sharing['tire_sizes'] = ride_sharing['tire_sizes'].astype('category')\n",
        "\n",
        "# Print tire size description\n",
        "print(ride_sharing['tire_sizes'].describe())"
      ],
      "execution_count": 0,
      "outputs": []
    },
    {
      "cell_type": "markdown",
      "metadata": {
        "id": "uAOYX0_IdEGn",
        "colab_type": "text"
      },
      "source": [
        "## Back to the future"
      ]
    },
    {
      "cell_type": "code",
      "metadata": {
        "id": "8Zvw_cdedGQG",
        "colab_type": "code",
        "colab": {}
      },
      "source": [
        "# Convert ride_date to datetime\n",
        "ride_sharing['ride_dt'] = pd.to_datetime(ride_sharing['ride_date'])\n",
        "\n",
        "# Save today's date\n",
        "today = dt.date.today()\n",
        "\n",
        "# Set all in the future to today's date\n",
        "ride_sharing.loc[ride_sharing['ride_dt'] > today, 'ride_dt'] = today\n",
        "\n",
        "# Print maximum of ride_dt column\n",
        "print(ride_sharing['ride_dt'].max())"
      ],
      "execution_count": 0,
      "outputs": []
    },
    {
      "cell_type": "markdown",
      "metadata": {
        "id": "qv0QsMNIfRoF",
        "colab_type": "text"
      },
      "source": [
        "## How big is your subset?"
      ]
    },
    {
      "cell_type": "markdown",
      "metadata": {
        "id": "39tY6NcTfR9v",
        "colab_type": "text"
      },
      "source": [
        "C. loans.duplicated(subset = ['first_name', 'last_name'], keep = False)"
      ]
    },
    {
      "cell_type": "markdown",
      "metadata": {
        "id": "dyr2YOTCfmVT",
        "colab_type": "text"
      },
      "source": [
        "## Finding duplicates"
      ]
    },
    {
      "cell_type": "code",
      "metadata": {
        "id": "Xb-rOE_0fsCz",
        "colab_type": "code",
        "colab": {}
      },
      "source": [
        "# Find duplicates\n",
        "duplicates = ride_sharing.duplicated(subset='ride_id', keep=False)\n",
        "\n",
        "# Sort your duplicated rides\n",
        "duplicated_rides = ride_sharing[duplicates].sort_values('ride_id')\n",
        "\n",
        "# Print relevant columns of duplicated_rides\n",
        "print(duplicated_rides[['ride_id','duration','user_birth_year']])"
      ],
      "execution_count": 0,
      "outputs": []
    },
    {
      "cell_type": "markdown",
      "metadata": {
        "id": "MoJVm3ZNgPYD",
        "colab_type": "text"
      },
      "source": [
        "## Treating duplicates"
      ]
    },
    {
      "cell_type": "code",
      "metadata": {
        "id": "n6dc-pCOgPuZ",
        "colab_type": "code",
        "colab": {}
      },
      "source": [
        "# Drop complete duplicates from ride_sharing\n",
        "ride_dup = ride_sharing.drop_duplicates()\n",
        "\n",
        "# Create statistics dictionary for aggregation function\n",
        "statistics = {'user_birth_year': 'min', 'duration': 'mean'}\n",
        "\n",
        "# Group by ride_id and compute new statistics\n",
        "ride_unique = ride_dup.groupby('ride_id').agg(statistics).reset_index()\n",
        "\n",
        "# Find duplicated values again\n",
        "duplicates = ride_unique.duplicated(subset = 'ride_id', keep = False)\n",
        "duplicated_rides = ride_unique[duplicates == True]\n",
        "\n",
        "# Assert duplicates are processed\n",
        "assert duplicated_rides.shape[0] == 0"
      ],
      "execution_count": 0,
      "outputs": []
    }
  ]
}