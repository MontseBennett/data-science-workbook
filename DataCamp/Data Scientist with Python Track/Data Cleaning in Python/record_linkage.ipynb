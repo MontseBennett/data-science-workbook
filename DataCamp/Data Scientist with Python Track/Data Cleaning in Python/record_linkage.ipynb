{
  "nbformat": 4,
  "nbformat_minor": 0,
  "metadata": {
    "colab": {
      "name": "record_linkage.ipynb",
      "provenance": []
    },
    "kernelspec": {
      "name": "python3",
      "display_name": "Python 3"
    }
  },
  "cells": [
    {
      "cell_type": "markdown",
      "metadata": {
        "id": "mvf0db5DkqNO",
        "colab_type": "text"
      },
      "source": [
        "# Record linkage\n"
      ]
    },
    {
      "cell_type": "markdown",
      "metadata": {
        "id": "74PdUHB9kr72",
        "colab_type": "text"
      },
      "source": [
        "## Minimum edit distance"
      ]
    },
    {
      "cell_type": "markdown",
      "metadata": {
        "id": "yneN-YzglDKL",
        "colab_type": "text"
      },
      "source": [
        "B. 1 by transposing 'g' with 'n'."
      ]
    },
    {
      "cell_type": "markdown",
      "metadata": {
        "id": "vq3HuZJNlHUz",
        "colab_type": "text"
      },
      "source": [
        "## The cutoff point"
      ]
    },
    {
      "cell_type": "code",
      "metadata": {
        "id": "F0YQ4DZ2lJvJ",
        "colab_type": "code",
        "colab": {}
      },
      "source": [
        "# Import process from fuzzywuzzy\n",
        "from fuzzywuzzy import process\n",
        "\n",
        "# Store the unique values of cuisine_type in unique_types\n",
        "unique_types = restaurants.cuisine_type.unique()\n",
        "\n",
        "# Calculate similarity of 'asian' to all values of unique_types\n",
        "print(process.extract('asian', unique_types, limit = len(unique_types)))\n",
        "\n",
        "# Calculate similarity of 'american' to all values of unique_types\n",
        "print(process.extract('american', unique_types, limit = len(unique_types)))\n",
        "\n",
        "# Calculate similarity of 'italian' to all values of unique_types\n",
        "print(process.extract('italian', unique_types, limit = len(unique_types)))"
      ],
      "execution_count": 0,
      "outputs": []
    },
    {
      "cell_type": "markdown",
      "metadata": {
        "id": "ulfy25ObmDO2",
        "colab_type": "text"
      },
      "source": [
        "## Remapping categories II"
      ]
    },
    {
      "cell_type": "code",
      "metadata": {
        "id": "bPpiDN3wmDlD",
        "colab_type": "code",
        "colab": {}
      },
      "source": [
        "# For each correct cuisine_type in categories\n",
        "for cuisine in categories['cuisine_type']:\n",
        "  # Find matches in cuisine_type of restaurants\n",
        "  matches = process.extract(cuisine, restaurants['cuisine_type'], \n",
        "                 limit = restaurants.shape[0])\n",
        "  \n",
        "  # For each possible_match with similarity score >= 80\n",
        "  for possible_match in matches:\n",
        "    if possible_match[1] >= 80:\n",
        "      # Find matching cuisine type\n",
        "      matching_cuisine = restaurants['cuisine_type'] == possible_match[0]\n",
        "      restaurants.loc[matching_cuisine, 'cuisine_type'] = cuisine\n",
        "\n",
        "# Print unique values to confirm mapping\n",
        "print(restaurants['cuisine_type'].unique())"
      ],
      "execution_count": 0,
      "outputs": []
    },
    {
      "cell_type": "markdown",
      "metadata": {
        "id": "lXJ9E5mDpCrH",
        "colab_type": "text"
      },
      "source": [
        "## Pairs of restaurants"
      ]
    },
    {
      "cell_type": "code",
      "metadata": {
        "id": "jE_drS1KpDCR",
        "colab_type": "code",
        "colab": {}
      },
      "source": [
        "# Create an indexer and object and find possible pairs\n",
        "indexer = recordlinkage.Index()\n",
        "\n",
        "# Block pairing on cuisine_type\n",
        "indexer.block('cuisine_type')\n",
        "\n",
        "# Generate pairs\n",
        "pairs = indexer.index(restaurants, restaurants_new)"
      ],
      "execution_count": 0,
      "outputs": []
    },
    {
      "cell_type": "markdown",
      "metadata": {
        "id": "u38jqKkypt-N",
        "colab_type": "text"
      },
      "source": [
        "A. Compare between columns, score the comparison, then link the DataFrames."
      ]
    },
    {
      "cell_type": "markdown",
      "metadata": {
        "id": "VXrT0SWLpubj",
        "colab_type": "text"
      },
      "source": [
        "## Similar restaurants"
      ]
    },
    {
      "cell_type": "code",
      "metadata": {
        "id": "QptBrUxhpwnE",
        "colab_type": "code",
        "colab": {}
      },
      "source": [
        "# Create a comparison object\n",
        "comp_cl = recordlinkage.Compare()"
      ],
      "execution_count": 0,
      "outputs": []
    },
    {
      "cell_type": "code",
      "metadata": {
        "id": "NpQhmrF3qowT",
        "colab_type": "code",
        "colab": {}
      },
      "source": [
        "# Create a comparison object\n",
        "comp_cl = recordlinkage.Compare()\n",
        "\n",
        "# Find exact matches on city, cuisine_types \n",
        "comp_cl.exact('city', 'city', label='city')\n",
        "comp_cl.exact('cuisine_type', 'cuisine_type', label = 'cuisine_type')\n",
        "\n",
        "# Find similar matches of rest_name\n",
        "comp_cl.string('rest_name', 'rest_name', label='name', threshold = 0.8) "
      ],
      "execution_count": 0,
      "outputs": []
    },
    {
      "cell_type": "code",
      "metadata": {
        "id": "Galwxrdmqzu8",
        "colab_type": "code",
        "colab": {}
      },
      "source": [
        "# Create a comparison object\n",
        "comp_cl = recordlinkage.Compare()\n",
        "\n",
        "# Find exact matches on city, cuisine_types - \n",
        "comp_cl.exact('city', 'city', label='city')\n",
        "comp_cl.exact('cuisine_type', 'cuisine_type', label='cuisine_type')\n",
        "\n",
        "# Find similar matches of rest_name\n",
        "comp_cl.string('rest_name', 'rest_name', label='name', threshold = 0.8) \n",
        "\n",
        "# Get potential matches and print\n",
        "potential_matches = comp_cl.compute(pairs, restaurants, restaurants_new)\n",
        "print(potential_matches)"
      ],
      "execution_count": 0,
      "outputs": []
    },
    {
      "cell_type": "markdown",
      "metadata": {
        "id": "j0eDAw4ErwPh",
        "colab_type": "text"
      },
      "source": [
        "A. 3 because I need to have matches in all my columns."
      ]
    },
    {
      "cell_type": "markdown",
      "metadata": {
        "id": "5DjcNtrgrwxK",
        "colab_type": "text"
      },
      "source": [
        "## Getting the right index"
      ]
    },
    {
      "cell_type": "markdown",
      "metadata": {
        "id": "9QFscGUHstQ0",
        "colab_type": "text"
      },
      "source": [
        "D. Both 1 and 3 are correct."
      ]
    },
    {
      "cell_type": "markdown",
      "metadata": {
        "id": "rrrAi1jWs1UQ",
        "colab_type": "text"
      },
      "source": [
        "## Linking them together!"
      ]
    },
    {
      "cell_type": "code",
      "metadata": {
        "id": "th6m73pss4b-",
        "colab_type": "code",
        "colab": {}
      },
      "source": [
        "# Isolate potential matches with row sum >=3\n",
        "matches = potential_matches[potential_matches.sum(axis=1) >= 3]\n",
        "\n",
        "# Get values of second column index of matches\n",
        "matching_indices = matches.index.get_level_values(1)\n",
        "\n",
        "# Subset restaurants_new based on non-duplicate values\n",
        "non_dup = restaurants_new[~restaurants_new.index.isin(matching_indices)]\n",
        "\n",
        "# Append non_dup to restaurants\n",
        "full_restaurants = restaurants.append(non_dup)\n",
        "print(full_restaurants)"
      ],
      "execution_count": 0,
      "outputs": []
    }
  ]
}