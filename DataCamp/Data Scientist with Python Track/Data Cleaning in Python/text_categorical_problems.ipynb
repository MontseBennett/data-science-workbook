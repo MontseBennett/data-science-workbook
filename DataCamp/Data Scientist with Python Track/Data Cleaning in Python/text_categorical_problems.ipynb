{
  "nbformat": 4,
  "nbformat_minor": 0,
  "metadata": {
    "colab": {
      "name": "text_categorical_problems.ipynb",
      "provenance": [],
      "collapsed_sections": []
    },
    "kernelspec": {
      "name": "python3",
      "display_name": "Python 3"
    }
  },
  "cells": [
    {
      "cell_type": "markdown",
      "metadata": {
        "id": "Piifgo-X9oGK",
        "colab_type": "text"
      },
      "source": [
        "## Text and categorical data problems"
      ]
    },
    {
      "cell_type": "markdown",
      "metadata": {
        "id": "d_BpEr-Y9rMu",
        "colab_type": "text"
      },
      "source": [
        "## Finding consistency"
      ]
    },
    {
      "cell_type": "code",
      "metadata": {
        "id": "lGY9LDXt_bGw",
        "colab_type": "code",
        "colab": {}
      },
      "source": [
        "# Print categories DataFrame\n",
        "print(categories)\n",
        "\n",
        "# Print unique values of survey columns in airlines\n",
        "print('Cleanliness: ', airlines['cleanliness'].unique(), \"\\n\")\n",
        "print('Safety: ', airlines['safety'].unique(), \"\\n\")\n",
        "print('Satisfaction: ', airlines['satisfaction'].unique(), \"\\n\")"
      ],
      "execution_count": 0,
      "outputs": []
    },
    {
      "cell_type": "markdown",
      "metadata": {
        "id": "S6MGGXlS_27d",
        "colab_type": "text"
      },
      "source": [
        "A. cleanliness because it has an Unacceptable category."
      ]
    },
    {
      "cell_type": "code",
      "metadata": {
        "id": "319bfwd8BJgy",
        "colab_type": "code",
        "colab": {}
      },
      "source": [
        "# Find the cleanliness category in airlines not in categories\n",
        "cat_clean = set(airlines['cleanliness']).difference(categories['cleanliness'])\n",
        "\n",
        "# Find rows with that category\n",
        "cat_clean_rows = airlines['cleanliness'].isin(cat_clean)\n",
        "\n",
        "# Print rows with inconsistent category\n",
        "print(airlines[cat_clean_rows])"
      ],
      "execution_count": 0,
      "outputs": []
    },
    {
      "cell_type": "code",
      "metadata": {
        "id": "weGS2xRiBU4x",
        "colab_type": "code",
        "colab": {}
      },
      "source": [
        "# Find the cleanliness category in airlines not in categories\n",
        "cat_clean = set(airlines['cleanliness']).difference(categories['cleanliness'])\n",
        "\n",
        "# Find rows with that category\n",
        "cat_clean_rows = airlines['cleanliness'].isin(cat_clean)\n",
        "\n",
        "# Print rows with inconsistent category\n",
        "print(airlines[cat_clean_rows])\n",
        "\n",
        "# Print rows with consistent categories only\n",
        "print(airlines[~cat_clean_rows])"
      ],
      "execution_count": 0,
      "outputs": []
    },
    {
      "cell_type": "markdown",
      "metadata": {
        "id": "0k9IIlOSCjoL",
        "colab_type": "text"
      },
      "source": [
        "## Inconsistent categories"
      ]
    },
    {
      "cell_type": "code",
      "metadata": {
        "id": "YIEYfHt3Cj-d",
        "colab_type": "code",
        "colab": {}
      },
      "source": [
        "# Print unique values of both columns\n",
        "print(airlines['dest_region'].unique())\n",
        "print(airlines['dest_size'].unique())"
      ],
      "execution_count": 0,
      "outputs": []
    },
    {
      "cell_type": "markdown",
      "metadata": {
        "id": "NSRV2Bg2CxUX",
        "colab_type": "text"
      },
      "source": [
        "D. Both 2 and 3 are correct."
      ]
    },
    {
      "cell_type": "code",
      "metadata": {
        "id": "xExmxi9YC-oP",
        "colab_type": "code",
        "colab": {}
      },
      "source": [
        "# Print unique values of both columns\n",
        "print(airlines['dest_region'].unique())\n",
        "print(airlines['dest_size'].unique())\n",
        "\n",
        "# Lower dest_region column and then replace \"eur\" with \"europe\"\n",
        "airlines['dest_region'] = airlines['dest_region'].str.lower()\n",
        "airlines['dest_region'] = airlines['dest_region'].replace({'eur':'europe'})"
      ],
      "execution_count": 0,
      "outputs": []
    },
    {
      "cell_type": "code",
      "metadata": {
        "id": "Cm20soYkDWdV",
        "colab_type": "code",
        "colab": {}
      },
      "source": [
        "# Print unique values of both columns\n",
        "print(airlines['dest_region'].unique())\n",
        "print(airlines['dest_size'].unique())\n",
        "\n",
        "# Lower dest_region column and then replace \"eur\" with \"europe\"\n",
        "airlines['dest_region'] = airlines['dest_region'].str.lower() \n",
        "airlines['dest_region'] = airlines['dest_region'].replace({'eur':'europe'})\n",
        "\n",
        "# Remove white spaces from `dest_size`\n",
        "airlines['dest_size'] = airlines['dest_size'].str.strip()\n",
        "\n",
        "# Verify changes have been effected\n",
        "print(airlines['dest_region'].unique())\n",
        "print(airlines['dest_size'].unique())"
      ],
      "execution_count": 0,
      "outputs": []
    },
    {
      "cell_type": "markdown",
      "metadata": {
        "id": "m30E39QoDXLH",
        "colab_type": "text"
      },
      "source": [
        "## Remapping categories"
      ]
    },
    {
      "cell_type": "code",
      "metadata": {
        "id": "C5WUc6_TDY95",
        "colab_type": "code",
        "colab": {}
      },
      "source": [
        "# Create ranges for categories\n",
        "label_ranges = [0, 60, 180, np.inf]\n",
        "label_names = ['short', 'medium', 'long']\n",
        "\n",
        "# Create wait_type column\n",
        "airlines['wait_type'] = pd.cut(airlines['wait_min'], bins = label_ranges, \n",
        "                                labels = label_names)\n",
        "\n",
        "# Create mappings and replace\n",
        "mappings = {'Monday':'weekday', 'Tuesday':'weekday', 'Wednesday': 'weekday', \n",
        "            'Thursday': 'weekday', 'Friday': 'weekday', \n",
        "            'Saturday': 'weekend', 'Sunday': 'weekend'}\n",
        "\n",
        "airlines['day_week'] = airlines['day'].replace(mappings)"
      ],
      "execution_count": 0,
      "outputs": []
    },
    {
      "cell_type": "markdown",
      "metadata": {
        "id": "Zi6EoUvvE8ZC",
        "colab_type": "text"
      },
      "source": [
        "## Removing titles and taking names"
      ]
    },
    {
      "cell_type": "code",
      "metadata": {
        "id": "k36qN3o2E8va",
        "colab_type": "code",
        "colab": {}
      },
      "source": [
        "# Replace \"Dr.\" with empty string \"\"\n",
        "airlines['full_name'] = airlines['full_name'].str.replace(\"Dr.\",\"\")\n",
        "\n",
        "# Replace \"Mr.\" with empty string \"\"\n",
        "airlines['full_name'] = airlines['full_name'].str.replace('Mr.', '')\n",
        "\n",
        "# Replace \"Miss\" with empty string \"\"\n",
        "airlines['full_name'] = airlines['full_name'].str.replace('Miss', '')\n",
        "\n",
        "# Replace \"Ms.\" with empty string \"\"\n",
        "airlines['full_name'] = airlines['full_name'].str.replace('Ms.', '')\n",
        "\n",
        "# Assert that full_name has no honorifics\n",
        "assert airlines['full_name'].str.contains('Ms.|Mr.|Miss|Dr.').any() == False"
      ],
      "execution_count": 0,
      "outputs": []
    },
    {
      "cell_type": "markdown",
      "metadata": {
        "id": "eYdlMg44FiQy",
        "colab_type": "text"
      },
      "source": [
        "## Keeping it descriptive"
      ]
    },
    {
      "cell_type": "code",
      "metadata": {
        "id": "CXN-xy5wFime",
        "colab_type": "code",
        "colab": {}
      },
      "source": [
        "# Store length of each row in survey_response column\n",
        "resp_length = airlines['survey_response'].str.len()\n",
        "\n",
        "# Find rows in airlines where resp_length > 40\n",
        "airlines_survey = airlines[resp_length > 40]\n",
        "\n",
        "# Assert minimum survey_response length is > 40\n",
        "assert airlines_survey['survey_response'].str.len().min() > 40\n",
        "\n",
        "# Print new survey_response column\n",
        "print(airlines_survey['survey_response'])"
      ],
      "execution_count": 0,
      "outputs": []
    }
  ]
}