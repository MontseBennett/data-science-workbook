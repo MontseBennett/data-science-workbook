{
  "nbformat": 4,
  "nbformat_minor": 0,
  "metadata": {
    "colab": {
      "name": "aggregating_data.ipynb",
      "provenance": [],
      "collapsed_sections": []
    },
    "kernelspec": {
      "name": "python3",
      "display_name": "Python 3"
    }
  },
  "cells": [
    {
      "cell_type": "markdown",
      "metadata": {
        "id": "DFElDMVcQwAG",
        "colab_type": "text"
      },
      "source": [
        "# Data Manipulation with Pandas: Aggregating Data"
      ]
    },
    {
      "cell_type": "code",
      "metadata": {
        "id": "8ymd3OEVQ6A8",
        "colab_type": "code",
        "colab": {}
      },
      "source": [
        "import numpy as np\n",
        "import pandas as pd\n",
        "import matplotlib.pyplot as plt"
      ],
      "execution_count": 0,
      "outputs": []
    },
    {
      "cell_type": "markdown",
      "metadata": {
        "id": "4pl2jReHQ9yQ",
        "colab_type": "text"
      },
      "source": [
        "## Mean and median"
      ]
    },
    {
      "cell_type": "code",
      "metadata": {
        "id": "_YOzoIBwRAX_",
        "colab_type": "code",
        "colab": {}
      },
      "source": [
        "# Print the head of the sales DataFrame\n",
        "print(sales.head())\n",
        "\n",
        "# Print the info about the sales DataFrame\n",
        "print(sales.info())\n",
        "\n",
        "# Print the mean of weekly_sales\n",
        "print(sales['weekly_sales'].mean())\n",
        "\n",
        "# Print the median of weekly_sales\n",
        "print(sales['weekly_sales'].median())"
      ],
      "execution_count": 0,
      "outputs": []
    },
    {
      "cell_type": "markdown",
      "metadata": {
        "id": "TbD0bu8NRj0i",
        "colab_type": "text"
      },
      "source": [
        "## Summarizing dates"
      ]
    },
    {
      "cell_type": "code",
      "metadata": {
        "id": "aL-lKYCKRlXL",
        "colab_type": "code",
        "colab": {}
      },
      "source": [
        "# Print the maximum of the date column\n",
        "print(sales['date'].max())\n",
        "\n",
        "# Print the minimum of the date column\n",
        "print(sales['date'].min())"
      ],
      "execution_count": 0,
      "outputs": []
    },
    {
      "cell_type": "markdown",
      "metadata": {
        "id": "RyXKtqBpRzeG",
        "colab_type": "text"
      },
      "source": [
        "## Efficient summaries"
      ]
    },
    {
      "cell_type": "code",
      "metadata": {
        "id": "_K3Nw_zPR1NM",
        "colab_type": "code",
        "colab": {}
      },
      "source": [
        "# A custom IQR function\n",
        "def iqr(column):\n",
        "    return column.quantile(0.75) - column.quantile(0.25)\n",
        "\n",
        "# Update to print IQR of temperature_c, fuel_price_usd_per_l, & unemployment\n",
        "print(sales[\"temperature_c\"].agg(iqr))"
      ],
      "execution_count": 0,
      "outputs": []
    },
    {
      "cell_type": "code",
      "metadata": {
        "id": "erV6j2ZpSE3P",
        "colab_type": "code",
        "colab": {}
      },
      "source": [
        "# A custom IQR function\n",
        "def iqr(column):\n",
        "    return column.quantile(0.75) - column.quantile(0.25)\n",
        "\n",
        "# Update to print IQR of temperature_c, fuel_price_usd_per_l, & unemployment\n",
        "print(sales[[\"temperature_c\", 'fuel_price_usd_per_l', 'unemployment']].agg(iqr))"
      ],
      "execution_count": 0,
      "outputs": []
    },
    {
      "cell_type": "code",
      "metadata": {
        "id": "MzY8X-tnSQTl",
        "colab_type": "code",
        "colab": {}
      },
      "source": [
        "# Import NumPy and create custom IQR function\n",
        "import numpy as np\n",
        "def iqr(column):\n",
        "    return column.quantile(0.75) - column.quantile(0.25)\n",
        "\n",
        "# Update to print IQR and median of temperature_c, fuel_price_usd_per_l, & unemployment\n",
        "print(sales[[\"temperature_c\", \"fuel_price_usd_per_l\", \"unemployment\"]].agg([iqr, np.median]))"
      ],
      "execution_count": 0,
      "outputs": []
    },
    {
      "cell_type": "markdown",
      "metadata": {
        "id": "A4Uj3KgzSWBn",
        "colab_type": "text"
      },
      "source": [
        "## Cumulative statistics"
      ]
    },
    {
      "cell_type": "code",
      "metadata": {
        "id": "OQdWoG6DSXmQ",
        "colab_type": "code",
        "colab": {}
      },
      "source": [
        "# Sort sales_1_1 by date\n",
        "sales_1_1 = sales_1_1.sort_values('date')\n",
        "\n",
        "# Get the cumulative sum of weekly_sales, add as cum_weekly_sales col\n",
        "sales_1_1['cum_weekly_sales'] = sales_1_1['weekly_sales'].cumsum()\n",
        "\n",
        "# Get the cumulative max of weekly_sales, add as cum_max_sales col\n",
        "sales_1_1['cum_max_sales'] = sales_1_1['weekly_sales'].cummax()\n",
        "\n",
        "# See the columns you calculated\n",
        "print(sales_1_1[[\"date\", \"weekly_sales\", \"cum_weekly_sales\", \"cum_max_sales\"]])"
      ],
      "execution_count": 0,
      "outputs": []
    },
    {
      "cell_type": "markdown",
      "metadata": {
        "id": "n4x31EmrTC0H",
        "colab_type": "text"
      },
      "source": [
        "## Dropping duplicates"
      ]
    },
    {
      "cell_type": "code",
      "metadata": {
        "id": "GDT8SHvkUP4u",
        "colab_type": "code",
        "colab": {}
      },
      "source": [
        "# Drop duplicate store/type combinations\n",
        "store_types = sales.drop_duplicates(subset=['store', 'type'])\n",
        "print(store_types.head())\n",
        "\n",
        "# Drop duplicate store/department combinations\n",
        "store_depts = sales.drop_duplicates(subset=['store', 'department'])\n",
        "print(store_depts.head())\n",
        "\n",
        "# Subset the rows that are holiday weeks and drop duplicate dates\n",
        "holiday_dates = sales[sales['is_holiday']].drop_duplicates('date')\n",
        "\n",
        "# Print date col of holiday_dates\n",
        "print(holiday_dates['date'])"
      ],
      "execution_count": 0,
      "outputs": []
    },
    {
      "cell_type": "markdown",
      "metadata": {
        "id": "T28anwPwUReB",
        "colab_type": "text"
      },
      "source": [
        "## Counting categorical variables"
      ]
    },
    {
      "cell_type": "code",
      "metadata": {
        "id": "REkGk9A4WMlx",
        "colab_type": "code",
        "colab": {}
      },
      "source": [
        "# Count the number of stores of each type\n",
        "store_counts = stores[\"store_type\"].value_counts()\n",
        "print(store_counts)\n",
        "\n",
        "# Get the proportion of stores of each type\n",
        "store_props = stores[\"store_type\"].value_counts(normalize=True)\n",
        "print(store_props)\n",
        "\n",
        "# Count the number of each department number and sort\n",
        "dept_counts_sorted = departments[\"department_num\"].value_counts(sort=True)\n",
        "print(dept_counts_sorted)\n",
        "\n",
        "# Get the proportion of departments of each number and sort\n",
        "dept_props_sorted = departments[\"department_num\"].value_counts(sort=True, normalize=True)\n",
        "print(dept_props_sorted)"
      ],
      "execution_count": 0,
      "outputs": []
    },
    {
      "cell_type": "markdown",
      "metadata": {
        "id": "8xv6XFHaWODF",
        "colab_type": "text"
      },
      "source": [
        "## What percent of sales occurred at each store type?"
      ]
    },
    {
      "cell_type": "code",
      "metadata": {
        "id": "kXNdHmdpZ6f-",
        "colab_type": "code",
        "colab": {}
      },
      "source": [
        "# Calc total weekly sales\n",
        "sales_all = sales[\"weekly_sales\"].sum()\n",
        "\n",
        "# Subset for type A stores, calc total weekly sales\n",
        "sales_A = sales[sales[\"type\"] == \"A\"][\"weekly_sales\"].sum()\n",
        "\n",
        "# Subset for type B stores, calc total weekly sales\n",
        "sales_B = sales[sales['type'] == 'B']['weekly_sales'].sum()\n",
        "\n",
        "# Subset for type C stores, calc total weekly sales\n",
        "sales_C = sales[sales['type'] == 'C']['weekly_sales'].sum()\n",
        "\n",
        "# Get proportion for each type\n",
        "sales_propn_by_type = [sales_A, sales_B, sales_C] / sales_all\n",
        "print(sales_propn_by_type)"
      ],
      "execution_count": 0,
      "outputs": []
    },
    {
      "cell_type": "markdown",
      "metadata": {
        "id": "6L881IhYaRqm",
        "colab_type": "text"
      },
      "source": [
        "## Calculations with .groupby()"
      ]
    },
    {
      "cell_type": "code",
      "metadata": {
        "id": "O2-6LNMsaSJe",
        "colab_type": "code",
        "colab": {}
      },
      "source": [
        "# Group by type; calc total weekly sales\n",
        "sales_by_type = sales.groupby(\"type\")[\"weekly_sales\"].sum()\n",
        "\n",
        "# Get proportion for each type\n",
        "sales_propn_by_type = sales_by_type / sales['weekly_sales'].sum()\n",
        "print(sales_propn_by_type)"
      ],
      "execution_count": 0,
      "outputs": []
    },
    {
      "cell_type": "code",
      "metadata": {
        "id": "RzqMyzz6bOmy",
        "colab_type": "code",
        "colab": {}
      },
      "source": [
        "# From previous step\n",
        "sales_by_type = sales.groupby(\"type\")[\"weekly_sales\"]\n",
        "\n",
        "# Group by type and is_holiday; calc total weekly sales\n",
        "sales_by_type_is_holiday = sales.groupby(['type', 'is_holiday'])['weekly_sales'].sum()\n",
        "print(sales_by_type_is_holiday)"
      ],
      "execution_count": 0,
      "outputs": []
    },
    {
      "cell_type": "markdown",
      "metadata": {
        "id": "NtIs35Z2bPUT",
        "colab_type": "text"
      },
      "source": [
        "## Multiple grouped summaries"
      ]
    },
    {
      "cell_type": "code",
      "metadata": {
        "id": "eEFKTFU-b56d",
        "colab_type": "code",
        "colab": {}
      },
      "source": [
        "# Import NumPy with the alias np\n",
        "import numpy as np\n",
        "\n",
        "# For each store type, aggregate weekly_sales: get min, max, mean, and median\n",
        "sales_stats = sales.groupby(\"type\")[\"weekly_sales\"].agg([np.min, np.max, np.mean, np.median])\n",
        "\n",
        "# Print sales_stats\n",
        "print(sales_stats)\n",
        "\n",
        "# For each store type, aggregate unemployment and fuel_price_usd_per_l: get min, max, mean, and median\n",
        "unemp_fuel_stats = sales.groupby(\"type\")[[\"unemployment\", \"fuel_price_usd_per_l\"]].agg([np.min, np.max, np.mean, np.median])\n",
        "\n",
        "# Print unemp_fuel_stats\n",
        "print(unemp_fuel_stats)"
      ],
      "execution_count": 0,
      "outputs": []
    },
    {
      "cell_type": "markdown",
      "metadata": {
        "id": "0xd9UPVxc5UV",
        "colab_type": "text"
      },
      "source": [
        "## Pivoting on one variable"
      ]
    },
    {
      "cell_type": "code",
      "metadata": {
        "id": "5YayfLkvc56J",
        "colab_type": "code",
        "colab": {}
      },
      "source": [
        "# Pivot for mean weekly_sales for each store type\n",
        "mean_sales_by_type = sales.pivot_table(index='type', values='weekly_sales')\n",
        "\n",
        "# Print mean_sales_by_type\n",
        "print(mean_sales_by_type)"
      ],
      "execution_count": 0,
      "outputs": []
    },
    {
      "cell_type": "code",
      "metadata": {
        "id": "uNUU87-rdHAS",
        "colab_type": "code",
        "colab": {}
      },
      "source": [
        "# Import NumPy as np\n",
        "import numpy as np\n",
        "\n",
        "# Pivot for mean and median weekly_sales for each store type\n",
        "mean_med_sales_by_type = sales.pivot_table(index='type', values='weekly_sales', aggfunc=[np.mean, np.median])\n",
        "\n",
        "# Print mean_med_sales_by_type\n",
        "print(mean_med_sales_by_type)"
      ],
      "execution_count": 0,
      "outputs": []
    },
    {
      "cell_type": "code",
      "metadata": {
        "id": "iErh_UzrdRAb",
        "colab_type": "code",
        "colab": {}
      },
      "source": [
        "# Pivot for mean weekly_sales by store type and holiday \n",
        "mean_sales_by_type_holiday = sales.pivot_table(index='type', columns='is_holiday', values='weekly_sales')\n",
        "\n",
        "# Print mean_sales_by_type_holiday\n",
        "print(mean_sales_by_type_holiday)"
      ],
      "execution_count": 0,
      "outputs": []
    },
    {
      "cell_type": "markdown",
      "metadata": {
        "id": "8wOh8oJVdS6A",
        "colab_type": "text"
      },
      "source": [
        "## Fill in missing values and sum values with pivot tables"
      ]
    },
    {
      "cell_type": "code",
      "metadata": {
        "id": "TuHXg9cKdTZk",
        "colab_type": "code",
        "colab": {}
      },
      "source": [
        "# Print mean weekly_sales by department and type; fill missing values with 0\n",
        "print(sales.pivot_table(index='type', columns='department', values='weekly_sales', fill_value=0))"
      ],
      "execution_count": 0,
      "outputs": []
    },
    {
      "cell_type": "code",
      "metadata": {
        "id": "LTo_qfdoduY3",
        "colab_type": "code",
        "colab": {}
      },
      "source": [
        "# Print the mean weekly_sales by department and type; fill missing values with 0s; sum all rows and cols\n",
        "print(sales.pivot_table(values=\"weekly_sales\", index=\"department\", columns=\"type\", fill_value=0, margins=True))"
      ],
      "execution_count": 0,
      "outputs": []
    }
  ]
}