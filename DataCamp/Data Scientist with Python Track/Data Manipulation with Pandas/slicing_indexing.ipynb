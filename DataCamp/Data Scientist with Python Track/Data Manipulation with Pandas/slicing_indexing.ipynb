{
  "nbformat": 4,
  "nbformat_minor": 0,
  "metadata": {
    "colab": {
      "name": "slicing-indexing.ipynb",
      "provenance": []
    },
    "kernelspec": {
      "name": "python3",
      "display_name": "Python 3"
    }
  },
  "cells": [
    {
      "cell_type": "markdown",
      "metadata": {
        "id": "mTkhbq2sA2ei",
        "colab_type": "text"
      },
      "source": [
        "# Data Manipulation: Slicing and Indexing"
      ]
    },
    {
      "cell_type": "code",
      "metadata": {
        "id": "D4kCr1fqCVp2",
        "colab_type": "code",
        "colab": {}
      },
      "source": [
        "import numpy as np\n",
        "import pandas as pd\n",
        "import matplotlib.pyplot as plt"
      ],
      "execution_count": 0,
      "outputs": []
    },
    {
      "cell_type": "markdown",
      "metadata": {
        "id": "acX4VIURCZWB",
        "colab_type": "text"
      },
      "source": [
        "## Setting & removing indexes"
      ]
    },
    {
      "cell_type": "code",
      "metadata": {
        "id": "WkoDnZygEEhm",
        "colab_type": "code",
        "colab": {}
      },
      "source": [
        "# Look at temperatures\n",
        "print(temperatures)\n",
        "\n",
        "# Index temperatures by city\n",
        "temperatures_ind = temperatures.set_index('city')\n",
        "\n",
        "# Look at temperatures_ind\n",
        "print(temperatures_ind)\n",
        "\n",
        "# Reset the index, keeping its contents\n",
        "print(temperatures_ind.reset_index())\n",
        "\n",
        "# Reset the index, dropping its contents\n",
        "print(temperatures_ind.reset_index(drop=True))"
      ],
      "execution_count": 0,
      "outputs": []
    },
    {
      "cell_type": "markdown",
      "metadata": {
        "id": "8UaXktBnEGNm",
        "colab_type": "text"
      },
      "source": [
        "## Subsetting with .loc[]"
      ]
    },
    {
      "cell_type": "code",
      "metadata": {
        "id": "Oy8jrc2_EJin",
        "colab_type": "code",
        "colab": {}
      },
      "source": [
        "# Make a list of cities to subset on\n",
        "cities = ['Moscow', 'Saint Petersburg']\n",
        "\n",
        "# Subset temperatures using square brackets\n",
        "print(temperatures[temperatures['city'].isin(cities)])\n",
        "\n",
        "# Subset temperatures_ind using .loc[]\n",
        "print(temperatures_ind.loc[cities])"
      ],
      "execution_count": 0,
      "outputs": []
    },
    {
      "cell_type": "markdown",
      "metadata": {
        "id": "p-9yuQ5nEno7",
        "colab_type": "text"
      },
      "source": [
        "## Setting multi-level indexes"
      ]
    },
    {
      "cell_type": "code",
      "metadata": {
        "id": "3_gq8LuTEpLk",
        "colab_type": "code",
        "colab": {}
      },
      "source": [
        "# Index temperatures by country & city\n",
        "temperatures_ind = temperatures.set_index(['country', 'city'])\n",
        "\n",
        "# List of tuples: Brazil, Rio De Janeiro & Pakistan, Lahore\n",
        "rows_to_keep = [('Brazil', 'Rio De Janeiro'), ('Pakistan', 'Lahore')]\n",
        "\n",
        "# Subset for rows to keep\n",
        "print(temperatures_ind.loc[rows_to_keep])"
      ],
      "execution_count": 0,
      "outputs": []
    },
    {
      "cell_type": "markdown",
      "metadata": {
        "id": "pQgM9GgMFKLi",
        "colab_type": "text"
      },
      "source": [
        "## Sorting by index values"
      ]
    },
    {
      "cell_type": "code",
      "metadata": {
        "id": "5v9aDBm7FKp5",
        "colab_type": "code",
        "colab": {}
      },
      "source": [
        "# Sort temperatures_ind by index values\n",
        "print(temperatures_ind.sort_index())\n",
        "\n",
        "# Sort temperatures_ind by index values at the city level\n",
        "print(temperatures_ind.sort_index(level='city'))\n",
        "\n",
        "# Sort temperatures_ind by country then descending city\n",
        "print(temperatures_ind.sort_index(level=['country', 'city'], ascending=[True, False]))"
      ],
      "execution_count": 0,
      "outputs": []
    },
    {
      "cell_type": "markdown",
      "metadata": {
        "id": "oKZv7UWTFtg-",
        "colab_type": "text"
      },
      "source": [
        "## Slicing index values"
      ]
    },
    {
      "cell_type": "code",
      "metadata": {
        "id": "9vg5DlLCGrE4",
        "colab_type": "code",
        "colab": {}
      },
      "source": [
        "# Sort the index of temperatures_ind\n",
        "temperatures_srt = temperatures_ind.sort_index()\n",
        "\n",
        "# Subset rows from Pakistan to Russia\n",
        "print(temperatures_srt.loc['Pakistan':'Russia'])\n",
        "\n",
        "# Try to subset rows from Lahore to Moscow\n",
        "print(temperatures_srt.loc['Lahore':'Moscow'])\n",
        "\n",
        "# Subset rows from Pakistan, Lahore to Russia, Moscow\n",
        "print(temperatures_srt.loc[('Pakistan', 'Lahore'): ('Russia', 'Moscow')])"
      ],
      "execution_count": 0,
      "outputs": []
    },
    {
      "cell_type": "markdown",
      "metadata": {
        "id": "orcM7_fFHenI",
        "colab_type": "text"
      },
      "source": [
        "## Slicing in both directions"
      ]
    },
    {
      "cell_type": "code",
      "metadata": {
        "id": "2iiIRg3SHgbE",
        "colab_type": "code",
        "colab": {}
      },
      "source": [
        "# Subset rows from India, Hyderabad to Iraq, Baghdad\n",
        "print(temperatures_srt.loc[('India', 'Hyderabad'):('Iraq', 'Baghdad')])\n",
        "\n",
        "# Subset columns from date to avg_temp_c\n",
        "print(temperatures_srt.loc[:, 'date': 'avg_temp_c'])\n",
        "\n",
        "# Subset in both directions at once\n",
        "print(temperatures_srt.loc[('India', 'Hyderabad'):('Iraq', 'Baghdad'), 'date': 'avg_temp_c' ])"
      ],
      "execution_count": 0,
      "outputs": []
    },
    {
      "cell_type": "markdown",
      "metadata": {
        "id": "K1zcs0AXIQrG",
        "colab_type": "text"
      },
      "source": [
        "## Slicing time series"
      ]
    },
    {
      "cell_type": "code",
      "metadata": {
        "id": "H_-ZAAkWIREP",
        "colab_type": "code",
        "colab": {}
      },
      "source": [
        "# Use Boolean conditions to subset temperatures for rows in 2010 and 2011\n",
        "print(temperatures[(temperatures[\"date\"] >= \"2010\") & (temperatures[\"date\"] < \"2012\")])\n",
        "\n",
        "# Set date as an index\n",
        "temperatures_ind = temperatures.set_index(\"date\")\n",
        "\n",
        "# Use .loc[] to subset temperatures_ind for rows in 2010 and 2011\n",
        "print(temperatures_ind.loc[\"2010\":\"2011\"])\n",
        "\n",
        "# Use .loc[] to subset temperatures_ind for rows from Aug 2010 to Feb 2011\n",
        "print(temperatures_ind.loc[\"2010-08\":\"2011-02\"])"
      ],
      "execution_count": 0,
      "outputs": []
    },
    {
      "cell_type": "markdown",
      "metadata": {
        "id": "EogbzcqKJo9s",
        "colab_type": "text"
      },
      "source": [
        "## Subsetting by row/column number"
      ]
    },
    {
      "cell_type": "code",
      "metadata": {
        "id": "-HQ-XmlSJsCI",
        "colab_type": "code",
        "colab": {}
      },
      "source": [
        "# Get 23rd row, 2nd column (index 22, 1)\n",
        "print(temperatures.iloc[22, 1])\n",
        "\n",
        "# Use slicing to get the first 5 rows\n",
        "print(temperatures.iloc[:5])\n",
        "\n",
        "# Use slicing to get columns 3 to 4\n",
        "print(temperatures.iloc[:, 2:4])\n",
        "\n",
        "# Use slicing in both directions at once\n",
        "print(temperatures.iloc[:5, 2:4])"
      ],
      "execution_count": 0,
      "outputs": []
    },
    {
      "cell_type": "markdown",
      "metadata": {
        "id": "c3Sl-dXsKVeB",
        "colab_type": "text"
      },
      "source": [
        "## Pivot temperature by city and year"
      ]
    },
    {
      "cell_type": "code",
      "metadata": {
        "id": "GW7TNLdyLo__",
        "colab_type": "code",
        "colab": {}
      },
      "source": [
        "# Add a year column to temperatures\n",
        "temperatures['year'] = temperatures['date'].dt.year\n",
        "\n",
        "# Pivot avg_temp_c by country and city vs year\n",
        "temp_by_country_city_vs_year = temperatures.pivot_table(index=['country', 'city'], columns='year', values='avg_temp_c')\n",
        "\n",
        "# See the result\n",
        "print(temp_by_country_city_vs_year)"
      ],
      "execution_count": 0,
      "outputs": []
    },
    {
      "cell_type": "markdown",
      "metadata": {
        "id": "hvToK_A1LqsI",
        "colab_type": "text"
      },
      "source": [
        "## Subsetting pivot tables"
      ]
    },
    {
      "cell_type": "code",
      "metadata": {
        "id": "XNEl82O9MWWH",
        "colab_type": "code",
        "colab": {}
      },
      "source": [
        "# Subset for Egypt to India\n",
        "print(temp_by_country_city_vs_year.loc['Egypt': 'India'])\n",
        "\n",
        "# Subset for Egypt, Cairo to India, Delhi\n",
        "print(temp_by_country_city_vs_year.loc[('Egypt', 'Cairo'): ('India', 'Delhi')])\n",
        "\n",
        "# Subset in both directions at once\n",
        "print(temp_by_country_city_vs_year.loc[('Egypt', 'Cairo'): ('India', 'Delhi'), 2005: 2010])"
      ],
      "execution_count": 0,
      "outputs": []
    },
    {
      "cell_type": "markdown",
      "metadata": {
        "id": "z672o_F_MaHL",
        "colab_type": "text"
      },
      "source": [
        "## Calculating on a pivot table\n"
      ]
    },
    {
      "cell_type": "code",
      "metadata": {
        "id": "E3EvB9d0MasB",
        "colab_type": "code",
        "colab": {}
      },
      "source": [
        "# Get the worldwide mean temp by year\n",
        "mean_temp_by_year = temp_by_country_city_vs_year.mean()\n",
        "\n",
        "# Find the year that had the highest mean temp\n",
        "print(mean_temp_by_year[mean_temp_by_year == mean_temp_by_year.max()])\n",
        "\n",
        "# Get the mean temp by city\n",
        "mean_temp_by_city = temp_by_country_city_vs_year.mean(axis=\"columns\")\n",
        "\n",
        "# Find the city that had the lowest mean temp\n",
        "print(mean_temp_by_city[mean_temp_by_city == mean_temp_by_city.min()])"
      ],
      "execution_count": 0,
      "outputs": []
    }
  ]
}