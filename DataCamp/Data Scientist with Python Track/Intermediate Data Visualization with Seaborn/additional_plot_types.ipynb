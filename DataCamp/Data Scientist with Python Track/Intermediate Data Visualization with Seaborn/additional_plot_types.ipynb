{
  "nbformat": 4,
  "nbformat_minor": 0,
  "metadata": {
    "colab": {
      "name": "additional_plot_types.ipynb",
      "provenance": []
    },
    "kernelspec": {
      "name": "python3",
      "display_name": "Python 3"
    }
  },
  "cells": [
    {
      "cell_type": "markdown",
      "metadata": {
        "id": "lDE0XfCsJXA3",
        "colab_type": "text"
      },
      "source": [
        "# Additional Plot Types"
      ]
    },
    {
      "cell_type": "markdown",
      "metadata": {
        "id": "NcTnwGJ3aytX",
        "colab_type": "text"
      },
      "source": [
        "## stripplot() and swarmplot()"
      ]
    },
    {
      "cell_type": "code",
      "metadata": {
        "id": "LkrowHeOa2_7",
        "colab_type": "code",
        "colab": {}
      },
      "source": [
        "# Create the stripplot\n",
        "sns.stripplot(data=df,\n",
        "         x='Award_Amount',\n",
        "         y='Model Selected',\n",
        "         jitter=True)\n",
        "\n",
        "plt.show()"
      ],
      "execution_count": 0,
      "outputs": []
    },
    {
      "cell_type": "code",
      "metadata": {
        "id": "_ZgnVv9jbh8M",
        "colab_type": "code",
        "colab": {}
      },
      "source": [
        "# Create and display a swarmplot with hue set to the Region\n",
        "sns.swarmplot(data=df,\n",
        "         x='Award_Amount',\n",
        "         y='Model Selected',\n",
        "         hue='Region')\n",
        "\n",
        "plt.show()"
      ],
      "execution_count": 0,
      "outputs": []
    },
    {
      "cell_type": "markdown",
      "metadata": {
        "id": "ssGnKkNhbml0",
        "colab_type": "text"
      },
      "source": [
        "## boxplots, violinplots and lvplots"
      ]
    },
    {
      "cell_type": "code",
      "metadata": {
        "id": "dG-26W2Tbm7o",
        "colab_type": "code",
        "colab": {}
      },
      "source": [
        "# Create a boxplot\n",
        "sns.boxplot(data=df,\n",
        "         x='Award_Amount',\n",
        "         y='Model Selected')\n",
        "\n",
        "plt.show()\n",
        "plt.clf()"
      ],
      "execution_count": 0,
      "outputs": []
    },
    {
      "cell_type": "code",
      "metadata": {
        "id": "8nTUJ4TYbyd7",
        "colab_type": "code",
        "colab": {}
      },
      "source": [
        "# Create a violinplot with the husl palette\n",
        "sns.violinplot(data=df,\n",
        "         x='Award_Amount',\n",
        "         y='Model Selected',\n",
        "         palette='husl')\n",
        "\n",
        "plt.show()\n",
        "plt.clf()"
      ],
      "execution_count": 0,
      "outputs": []
    },
    {
      "cell_type": "code",
      "metadata": {
        "id": "ennkczyobyw7",
        "colab_type": "code",
        "colab": {}
      },
      "source": [
        "# Create a lvplot with the Paired palette and the Region column as the hue\n",
        "sns.lvplot(data=df,\n",
        "         x='Award_Amount',\n",
        "         y='Model Selected',\n",
        "         palette='Paired',\n",
        "         hue='Region')\n",
        "\n",
        "plt.show()\n",
        "plt.clf()"
      ],
      "execution_count": 0,
      "outputs": []
    },
    {
      "cell_type": "markdown",
      "metadata": {
        "id": "hmtdZ328cYpM",
        "colab_type": "text"
      },
      "source": [
        "## barplots, pointplots and countplots"
      ]
    },
    {
      "cell_type": "code",
      "metadata": {
        "id": "3SHXVwFmcaMd",
        "colab_type": "code",
        "colab": {}
      },
      "source": [
        "# Show a countplot with the number of models used with each region a different color\n",
        "sns.countplot(data=df,\n",
        "         y=\"Model Selected\",\n",
        "         hue=\"Region\")\n",
        "\n",
        "plt.show()\n",
        "plt.clf()"
      ],
      "execution_count": 0,
      "outputs": []
    },
    {
      "cell_type": "code",
      "metadata": {
        "id": "0KPhLZCjcjr0",
        "colab_type": "code",
        "colab": {}
      },
      "source": [
        "# Create a pointplot and include the capsize in order to show bars on the confidence interval\n",
        "sns.pointplot(data=df,\n",
        "         y='Award_Amount',\n",
        "         x='Model Selected',\n",
        "         capsize=.1)\n",
        "\n",
        "plt.show()\n",
        "plt.clf()"
      ],
      "execution_count": 0,
      "outputs": []
    },
    {
      "cell_type": "code",
      "metadata": {
        "id": "DAoCzlFIckCS",
        "colab_type": "code",
        "colab": {}
      },
      "source": [
        "# Create a barplot with each Region shown as a different color\n",
        "sns.barplot(data=df,\n",
        "         y='Award_Amount',\n",
        "         x='Model Selected',\n",
        "         hue='Region')\n",
        "\n",
        "plt.show()\n",
        "plt.clf()"
      ],
      "execution_count": 0,
      "outputs": []
    },
    {
      "cell_type": "markdown",
      "metadata": {
        "id": "lGoldzBFeN32",
        "colab_type": "text"
      },
      "source": [
        "## Regression and residual plots"
      ]
    },
    {
      "cell_type": "code",
      "metadata": {
        "id": "wsLsIPzBeOOz",
        "colab_type": "code",
        "colab": {}
      },
      "source": [
        "# Display a regression plot for Tuition\n",
        "sns.regplot(data=df,\n",
        "         y='Tuition',\n",
        "         x=\"SAT_AVG_ALL\",\n",
        "         marker='^',\n",
        "         color='g')\n",
        "\n",
        "plt.show()\n",
        "plt.clf()"
      ],
      "execution_count": 0,
      "outputs": []
    },
    {
      "cell_type": "code",
      "metadata": {
        "id": "X-puiT35eiEM",
        "colab_type": "code",
        "colab": {}
      },
      "source": [
        "# Display the residual plot\n",
        "sns.residplot(data=df,\n",
        "          y='Tuition',\n",
        "          x=\"SAT_AVG_ALL\",\n",
        "          color='g')\n",
        "\n",
        "plt.show()\n",
        "plt.clf()"
      ],
      "execution_count": 0,
      "outputs": []
    },
    {
      "cell_type": "markdown",
      "metadata": {
        "id": "8EJ7OF_jerRY",
        "colab_type": "text"
      },
      "source": [
        "## Regression plot parameters"
      ]
    },
    {
      "cell_type": "code",
      "metadata": {
        "id": "57sYVdeYernG",
        "colab_type": "code",
        "colab": {}
      },
      "source": [
        "# Plot a regression plot of Tuition and the Percentage of Pell Grants\n",
        "sns.regplot(data=df,\n",
        "            y='Tuition',\n",
        "            x=\"PCTPELL\")\n",
        "\n",
        "plt.show()\n",
        "plt.clf()"
      ],
      "execution_count": 0,
      "outputs": []
    },
    {
      "cell_type": "code",
      "metadata": {
        "id": "87HDC7ffe7Qg",
        "colab_type": "code",
        "colab": {}
      },
      "source": [
        "# Create another plot that estimates the tuition by PCTPELL\n",
        "sns.regplot(data=df,\n",
        "            y='Tuition',\n",
        "            x=\"PCTPELL\",\n",
        "            x_bins=5)\n",
        "\n",
        "plt.show()\n",
        "plt.clf()"
      ],
      "execution_count": 0,
      "outputs": []
    },
    {
      "cell_type": "code",
      "metadata": {
        "id": "b9e-KNAJe7f9",
        "colab_type": "code",
        "colab": {}
      },
      "source": [
        "# The final plot should include a line using a 2nd order polynomial\n",
        "sns.regplot(data=df,\n",
        "            y='Tuition',\n",
        "            x=\"PCTPELL\",\n",
        "            x_bins=5,\n",
        "            order=2)\n",
        "\n",
        "plt.show()\n",
        "plt.clf()"
      ],
      "execution_count": 0,
      "outputs": []
    },
    {
      "cell_type": "markdown",
      "metadata": {
        "id": "pj7N3R-ofHs5",
        "colab_type": "text"
      },
      "source": [
        "## Binning data"
      ]
    },
    {
      "cell_type": "code",
      "metadata": {
        "id": "SyhTji8WfICo",
        "colab_type": "code",
        "colab": {}
      },
      "source": [
        "# Create a scatter plot by disabling the regression line\n",
        "sns.regplot(data=df,\n",
        "            y='Tuition',\n",
        "            x=\"UG\",\n",
        "            fit_reg=False)\n",
        "\n",
        "plt.show()\n",
        "plt.clf()"
      ],
      "execution_count": 0,
      "outputs": []
    },
    {
      "cell_type": "code",
      "metadata": {
        "id": "UpRwUrtsfba8",
        "colab_type": "code",
        "colab": {}
      },
      "source": [
        "# Create a scatter plot and bin the data into 5 bins\n",
        "sns.regplot(data=df,\n",
        "            y='Tuition',\n",
        "            x=\"UG\",\n",
        "            x_bins=5)\n",
        "\n",
        "plt.show()\n",
        "plt.clf()"
      ],
      "execution_count": 0,
      "outputs": []
    },
    {
      "cell_type": "code",
      "metadata": {
        "id": "uNaW0An3fmJc",
        "colab_type": "code",
        "colab": {}
      },
      "source": [
        "# Create a regplot and bin the data into 8 bins\n",
        "sns.regplot(data=df,\n",
        "         y='Tuition',\n",
        "         x=\"UG\",\n",
        "         x_bins=8)\n",
        "\n",
        "plt.show()\n",
        "plt.clf()"
      ],
      "execution_count": 0,
      "outputs": []
    },
    {
      "cell_type": "markdown",
      "metadata": {
        "id": "UR2ktMFVfmqt",
        "colab_type": "text"
      },
      "source": [
        "## Creating heatmaps"
      ]
    },
    {
      "cell_type": "code",
      "metadata": {
        "id": "xKPDzM7Wfmze",
        "colab_type": "code",
        "colab": {}
      },
      "source": [
        "# Create a crosstab table of the data\n",
        "pd_crosstab = pd.crosstab(df[\"Group\"], df[\"YEAR\"])\n",
        "print(pd_crosstab)\n",
        "\n",
        "# Plot a heatmap of the table\n",
        "sns.heatmap(pd_crosstab)\n",
        "\n",
        "# Rotate tick marks for visibility\n",
        "plt.yticks(rotation=0)\n",
        "plt.xticks(rotation=90)\n",
        "\n",
        "plt.show()"
      ],
      "execution_count": 0,
      "outputs": []
    },
    {
      "cell_type": "markdown",
      "metadata": {
        "id": "eMCQY5lxhLo2",
        "colab_type": "text"
      },
      "source": [
        "## Customizing heatmaps"
      ]
    },
    {
      "cell_type": "code",
      "metadata": {
        "id": "heC1-Q3AhL-W",
        "colab_type": "code",
        "colab": {}
      },
      "source": [
        "# Create the crosstab DataFrame\n",
        "pd_crosstab = pd.crosstab(df[\"Group\"], df[\"YEAR\"])\n",
        "\n",
        "# Plot a heatmap of the table with no color bar and using the BuGn palette\n",
        "sns.heatmap(pd_crosstab, cbar=False, cmap=\"BuGn\", linewidths=0.3)\n",
        "\n",
        "# Rotate tick marks for visibility\n",
        "plt.yticks(rotation=0)\n",
        "plt.xticks(rotation=90)\n",
        "\n",
        "#Show the plot\n",
        "plt.show()\n",
        "plt.clf()"
      ],
      "execution_count": 0,
      "outputs": []
    },
    {
      "cell_type": "markdown",
      "metadata": {
        "id": "Ztu1AVb2jXtj",
        "colab_type": "text"
      },
      "source": [
        "## Building a FacetGrid"
      ]
    },
    {
      "cell_type": "code",
      "metadata": {
        "id": "3w4MTxuRjYHR",
        "colab_type": "code",
        "colab": {}
      },
      "source": [
        "# Create FacetGrid with Degree_Type and specify the order of the rows using row_order\n",
        "g2 = sns.FacetGrid(df, \n",
        "             row=\"Degree_Type\",\n",
        "             row_order=['Graduate', 'Bachelors', 'Associates', 'Certificate'])\n",
        "\n",
        "# Map a pointplot of SAT_AVG_ALL onto the grid\n",
        "g2.map(sns.pointplot, 'SAT_AVG_ALL')\n",
        "\n",
        "# Show the plot\n",
        "plt.show()\n",
        "plt.clf()"
      ],
      "execution_count": 0,
      "outputs": []
    },
    {
      "cell_type": "markdown",
      "metadata": {
        "id": "UshbECryj5Yw",
        "colab_type": "text"
      },
      "source": [
        "## Using a factorplot"
      ]
    },
    {
      "cell_type": "code",
      "metadata": {
        "id": "7W99Im8Sj5zh",
        "colab_type": "code",
        "colab": {}
      },
      "source": [
        "# Create a factor plot that contains boxplots of Tuition values\n",
        "sns.factorplot(data=df,\n",
        "         x='Tuition',\n",
        "         kind='box',\n",
        "         row='Degree_Type')\n",
        "\n",
        "plt.show()\n",
        "plt.clf()"
      ],
      "execution_count": 0,
      "outputs": []
    },
    {
      "cell_type": "code",
      "metadata": {
        "id": "KgO3fOe-kNHQ",
        "colab_type": "code",
        "colab": {}
      },
      "source": [
        "# Create a facetted pointplot of Average SAT_AVG_ALL scores facetted by Degree Type \n",
        "sns.factorplot(data=df,\n",
        "        x='SAT_AVG_ALL',\n",
        "        kind='point',\n",
        "        row='Degree_Type',\n",
        "        row_order=['Graduate', 'Bachelors', 'Associates', 'Certificate'])\n",
        "\n",
        "plt.show()\n",
        "plt.clf()"
      ],
      "execution_count": 0,
      "outputs": []
    },
    {
      "cell_type": "markdown",
      "metadata": {
        "id": "-VOUIu8-liYu",
        "colab_type": "text"
      },
      "source": [
        "## Using a lmplot"
      ]
    },
    {
      "cell_type": "code",
      "metadata": {
        "id": "mHhn05p3liur",
        "colab_type": "code",
        "colab": {}
      },
      "source": [
        "# Create a FacetGrid varying by column and columns ordered with the degree_order variable\n",
        "g = sns.FacetGrid(df, col=\"Degree_Type\", col_order=degree_ord)\n",
        "\n",
        "# Map a scatter plot of Undergrad Population compared to PCTPELL\n",
        "g.map(plt.scatter, 'UG', 'PCTPELL')\n",
        "\n",
        "plt.show()\n",
        "plt.clf()"
      ],
      "execution_count": 0,
      "outputs": []
    },
    {
      "cell_type": "code",
      "metadata": {
        "id": "FL_ZI1bmmczT",
        "colab_type": "code",
        "colab": {}
      },
      "source": [
        "# Re-create the plot above as an lmplot\n",
        "sns.lmplot(data=df,\n",
        "        x='UG',\n",
        "        y='PCTPELL',\n",
        "        col=\"Degree_Type\",\n",
        "        col_order=degree_ord)\n",
        "\n",
        "plt.show()\n",
        "plt.clf()"
      ],
      "execution_count": 0,
      "outputs": []
    },
    {
      "cell_type": "code",
      "metadata": {
        "id": "XDN8NxZXmn8n",
        "colab_type": "code",
        "colab": {}
      },
      "source": [
        "# Create an lmplot that has a column for Ownership, a row for Degree_Type and hue based on the WOMENONLY column\n",
        "sns.lmplot(data=df,\n",
        "        x='SAT_AVG_ALL',\n",
        "        y='Tuition',\n",
        "        col=\"Ownership\",\n",
        "        row='Degree_Type',\n",
        "        row_order=['Graduate', 'Bachelors'],\n",
        "        hue='WOMENONLY',\n",
        "        col_order=inst_ord)\n",
        "\n",
        "plt.show()\n",
        "plt.clf()"
      ],
      "execution_count": 0,
      "outputs": []
    },
    {
      "cell_type": "markdown",
      "metadata": {
        "id": "pgHj-7FRn_R7",
        "colab_type": "text"
      },
      "source": [
        "## Building a PairGrid"
      ]
    },
    {
      "cell_type": "code",
      "metadata": {
        "id": "Ceh1xumrn_nO",
        "colab_type": "code",
        "colab": {}
      },
      "source": [
        "# Create a PairGrid with a scatter plot for fatal_collisions and premiums\n",
        "g = sns.PairGrid(df, vars=[\"fatal_collisions\", \"premiums\"])\n",
        "g2 = g.map(plt.scatter)\n",
        "\n",
        "plt.show()\n",
        "plt.clf()"
      ],
      "execution_count": 0,
      "outputs": []
    },
    {
      "cell_type": "code",
      "metadata": {
        "id": "-FnICuTsodJ8",
        "colab_type": "code",
        "colab": {}
      },
      "source": [
        "# Create the same PairGrid but map a histogram on the diag\n",
        "g = sns.PairGrid(df, vars=[\"fatal_collisions\", \"premiums\"])\n",
        "g2 = g.map_diag(plt.hist)\n",
        "g3 = g2.map_offdiag(plt.scatter)\n",
        "\n",
        "plt.show()\n",
        "plt.clf()"
      ],
      "execution_count": 0,
      "outputs": []
    },
    {
      "cell_type": "markdown",
      "metadata": {
        "id": "KYEeFBpzodgF",
        "colab_type": "text"
      },
      "source": [
        "## Using a pairplot"
      ]
    },
    {
      "cell_type": "code",
      "metadata": {
        "id": "6L_b-pPpofAO",
        "colab_type": "code",
        "colab": {}
      },
      "source": [
        "# Create a pairwise plot of the variables using a scatter plot\n",
        "sns.pairplot(data=df,\n",
        "        vars=[\"fatal_collisions\", \"premiums\"],\n",
        "        kind='scatter')\n",
        "\n",
        "plt.show()\n",
        "plt.clf()"
      ],
      "execution_count": 0,
      "outputs": []
    },
    {
      "cell_type": "code",
      "metadata": {
        "id": "adpT-rHLo7OS",
        "colab_type": "code",
        "colab": {}
      },
      "source": [
        "# Plot the same data but use a different color palette and color code by Region\n",
        "sns.pairplot(data=df,\n",
        "        vars=[\"fatal_collisions\", \"premiums\"],\n",
        "        kind='scatter',\n",
        "        hue='Region',\n",
        "        palette='RdBu',\n",
        "        diag_kws={'alpha':.5})\n",
        "\n",
        "plt.show()\n",
        "plt.clf()"
      ],
      "execution_count": 0,
      "outputs": []
    },
    {
      "cell_type": "markdown",
      "metadata": {
        "id": "UKFmuaX6o70L",
        "colab_type": "text"
      },
      "source": [
        "## Additional pairplots"
      ]
    },
    {
      "cell_type": "code",
      "metadata": {
        "id": "cew6ZEqzo9ei",
        "colab_type": "code",
        "colab": {}
      },
      "source": [
        "# Build a pairplot with different x and y variables\n",
        "sns.pairplot(data=df,\n",
        "        x_vars=[\"fatal_collisions_speeding\", \"fatal_collisions_alc\"],\n",
        "        y_vars=['premiums', 'insurance_losses'],\n",
        "        kind='scatter',\n",
        "        hue='Region',\n",
        "        palette='husl')\n",
        "\n",
        "plt.show()\n",
        "plt.clf()"
      ],
      "execution_count": 0,
      "outputs": []
    },
    {
      "cell_type": "code",
      "metadata": {
        "id": "T06RYSlBpic0",
        "colab_type": "code",
        "colab": {}
      },
      "source": [
        "# plot relationships between insurance_losses and premiums\n",
        "sns.pairplot(data=df,\n",
        "             vars=[\"insurance_losses\", \"premiums\"],\n",
        "             kind='reg',\n",
        "             palette='BrBG',\n",
        "             diag_kind = 'kde',\n",
        "             hue='Region')\n",
        "\n",
        "plt.show()\n",
        "plt.clf()"
      ],
      "execution_count": 0,
      "outputs": []
    },
    {
      "cell_type": "markdown",
      "metadata": {
        "id": "RhXwyAx9rIS1",
        "colab_type": "text"
      },
      "source": [
        "## Building a JointGrid and jointplot"
      ]
    },
    {
      "cell_type": "code",
      "metadata": {
        "id": "rmjlpSb7rJ3q",
        "colab_type": "code",
        "colab": {}
      },
      "source": [
        "# Build a JointGrid comparing humidity and total_rentals\n",
        "sns.set_style(\"whitegrid\")\n",
        "g = sns.JointGrid(x=\"hum\",\n",
        "            y=\"total_rentals\",\n",
        "            data=df,\n",
        "            xlim=(0.1, 1.0)) \n",
        "\n",
        "g.plot(sns.regplot, sns.distplot)\n",
        "\n",
        "plt.show()\n",
        "plt.clf()"
      ],
      "execution_count": 0,
      "outputs": []
    },
    {
      "cell_type": "code",
      "metadata": {
        "id": "200_8rBdrnoH",
        "colab_type": "code",
        "colab": {}
      },
      "source": [
        "# Create a jointplot similar to the JointGrid \n",
        "sns.jointplot(x=\"hum\",\n",
        "        y=\"total_rentals\",\n",
        "        kind='reg',\n",
        "        data=df)\n",
        "\n",
        "plt.show()\n",
        "plt.clf()"
      ],
      "execution_count": 0,
      "outputs": []
    },
    {
      "cell_type": "markdown",
      "metadata": {
        "id": "HOXVal6pro7W",
        "colab_type": "text"
      },
      "source": [
        "## Jointplots and regression"
      ]
    },
    {
      "cell_type": "code",
      "metadata": {
        "id": "bohYpgJvrpQ4",
        "colab_type": "code",
        "colab": {}
      },
      "source": [
        "# Plot temp vs. total_rentals as a regression plot\n",
        "sns.jointplot(x=\"temp\",\n",
        "         y=\"total_rentals\",\n",
        "         kind='reg',\n",
        "         data=df,\n",
        "         order=2,\n",
        "         xlim=(0, 1))\n",
        "\n",
        "plt.show()\n",
        "plt.clf()"
      ],
      "execution_count": 0,
      "outputs": []
    },
    {
      "cell_type": "code",
      "metadata": {
        "id": "0_fLHbussBDD",
        "colab_type": "code",
        "colab": {}
      },
      "source": [
        "# Plot a jointplot showing the residuals\n",
        "sns.jointplot(x=\"temp\",\n",
        "        y=\"total_rentals\",\n",
        "        kind='resid',\n",
        "        data=df,\n",
        "        order=2)\n",
        "\n",
        "plt.show()\n",
        "plt.clf()"
      ],
      "execution_count": 0,
      "outputs": []
    },
    {
      "cell_type": "markdown",
      "metadata": {
        "id": "M19lhbE4sIod",
        "colab_type": "text"
      },
      "source": [
        "## Complex jointplots"
      ]
    },
    {
      "cell_type": "code",
      "metadata": {
        "id": "3teXIRBMsJB8",
        "colab_type": "code",
        "colab": {}
      },
      "source": [
        "# Create a jointplot of temp vs. casual riders\n",
        "# Include a kdeplot over the scatter plot\n",
        "g = (sns.jointplot(x=\"temp\",\n",
        "             y=\"casual\",\n",
        "             kind='scatter',\n",
        "             data=df,\n",
        "             marginal_kws=dict(bins=10, rug=True))\n",
        "    .plot_joint(sns.kdeplot))\n",
        "    \n",
        "plt.show()\n",
        "plt.clf()"
      ],
      "execution_count": 0,
      "outputs": []
    },
    {
      "cell_type": "code",
      "metadata": {
        "id": "X9vSWNY6sv0z",
        "colab_type": "code",
        "colab": {}
      },
      "source": [
        "# Replicate the above plot but only for registered riders\n",
        "g = (sns.jointplot(x=\"temp\",\n",
        "             y=\"registered\",\n",
        "             kind='scatter',\n",
        "             data=df,\n",
        "             marginal_kws=dict(bins=10, rug=True))\n",
        "    .plot_joint(sns.kdeplot))\n",
        "\n",
        "plt.show()\n",
        "plt.clf()"
      ],
      "execution_count": 0,
      "outputs": []
    }
  ]
}