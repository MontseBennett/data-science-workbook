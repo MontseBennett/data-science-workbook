{
  "nbformat": 4,
  "nbformat_minor": 0,
  "metadata": {
    "colab": {
      "name": "customizing_seaborn_plots.ipynb",
      "provenance": [],
      "collapsed_sections": []
    },
    "kernelspec": {
      "name": "python3",
      "display_name": "Python 3"
    }
  },
  "cells": [
    {
      "cell_type": "markdown",
      "metadata": {
        "id": "93mUxS6pB-CL",
        "colab_type": "text"
      },
      "source": [
        "# Customizing Seaborn Plots"
      ]
    },
    {
      "cell_type": "markdown",
      "metadata": {
        "id": "EdohHk3QC4JA",
        "colab_type": "text"
      },
      "source": [
        "## Setting the default style"
      ]
    },
    {
      "cell_type": "code",
      "metadata": {
        "id": "qu-ho6ILC9YW",
        "colab_type": "code",
        "colab": {}
      },
      "source": [
        "# Plot the pandas histogram\n",
        "df['fmr_2'].plot.hist()\n",
        "plt.show()\n",
        "plt.clf()\n",
        "\n",
        "# Set the default seaborn style\n",
        "sns.set()\n",
        "\n",
        "# Plot the pandas histogram again\n",
        "df['fmr_2'].plot.hist()\n",
        "plt.show()\n",
        "plt.clf()"
      ],
      "execution_count": 0,
      "outputs": []
    },
    {
      "cell_type": "markdown",
      "metadata": {
        "id": "MjHAQoMLDqI3",
        "colab_type": "text"
      },
      "source": [
        "## Comparing styles"
      ]
    },
    {
      "cell_type": "code",
      "metadata": {
        "id": "UFZthbUgDr6e",
        "colab_type": "code",
        "colab": {}
      },
      "source": [
        "sns.set_style('dark')\n",
        "sns.distplot(df['fmr_2'])\n",
        "plt.show()\n",
        "plt.clf()"
      ],
      "execution_count": 0,
      "outputs": []
    },
    {
      "cell_type": "code",
      "metadata": {
        "id": "N4mdtV0VEbTm",
        "colab_type": "code",
        "colab": {}
      },
      "source": [
        "sns.set_style('whitegrid')\n",
        "sns.distplot(df['fmr_2'])\n",
        "plt.show()\n",
        "plt.clf()"
      ],
      "execution_count": 0,
      "outputs": []
    },
    {
      "cell_type": "markdown",
      "metadata": {
        "id": "uEF0HCNIEbty",
        "colab_type": "text"
      },
      "source": [
        "## Removing spines"
      ]
    },
    {
      "cell_type": "code",
      "metadata": {
        "id": "TlcHNopiEd1Z",
        "colab_type": "code",
        "colab": {}
      },
      "source": [
        "# Set the style to white\n",
        "sns.set_style('white')\n",
        "\n",
        "# Create a regression plot\n",
        "sns.lmplot(data=df,\n",
        "           x='pop2010',\n",
        "           y='fmr_2')\n",
        "\n",
        "# Remove the spines\n",
        "sns.despine(top=True, right=True)\n",
        "\n",
        "# Show the plot and clear the figure\n",
        "plt.show()\n",
        "plt.clf()"
      ],
      "execution_count": 0,
      "outputs": []
    },
    {
      "cell_type": "markdown",
      "metadata": {
        "id": "ov4lK60IEsms",
        "colab_type": "text"
      },
      "source": [
        "## Matplotlib color codes"
      ]
    },
    {
      "cell_type": "code",
      "metadata": {
        "id": "9EMKkLyeFoyU",
        "colab_type": "code",
        "colab": {}
      },
      "source": [
        "# Set style, enable color code, and create a magenta distplot\n",
        "sns.set(color_codes=True)\n",
        "sns.distplot(df['fmr_3'], color='m')\n",
        "\n",
        "# Show the plot\n",
        "plt.show()"
      ],
      "execution_count": 0,
      "outputs": []
    },
    {
      "cell_type": "markdown",
      "metadata": {
        "id": "V3npADENFyxL",
        "colab_type": "text"
      },
      "source": [
        "## Using default palettes"
      ]
    },
    {
      "cell_type": "code",
      "metadata": {
        "id": "cicpdnDUFzpp",
        "colab_type": "code",
        "colab": {}
      },
      "source": [
        "# Loop through differences between bright and colorblind palettes\n",
        "for p in ['bright', 'colorblind']:\n",
        "    sns.set_palette(p)\n",
        "    sns.distplot(df['fmr_3'])\n",
        "    plt.show()\n",
        "    \n",
        "    # Clear the plots    \n",
        "    plt.clf()"
      ],
      "execution_count": 0,
      "outputs": []
    },
    {
      "cell_type": "markdown",
      "metadata": {
        "id": "N2UZfkzJGBYa",
        "colab_type": "text"
      },
      "source": [
        "## Color Palettes"
      ]
    },
    {
      "cell_type": "markdown",
      "metadata": {
        "id": "mgTnA689GBu9",
        "colab_type": "text"
      },
      "source": [
        "B. circular"
      ]
    },
    {
      "cell_type": "markdown",
      "metadata": {
        "id": "ULF0a7uAGH-o",
        "colab_type": "text"
      },
      "source": [
        "## Creating Custom Palettes"
      ]
    },
    {
      "cell_type": "code",
      "metadata": {
        "id": "HDr4uNCWGJ5C",
        "colab_type": "code",
        "colab": {}
      },
      "source": [
        "sns.palplot(sns.color_palette('Purples', 8))\n",
        "plt.show()"
      ],
      "execution_count": 0,
      "outputs": []
    },
    {
      "cell_type": "code",
      "metadata": {
        "id": "W_KaMcJKGxvC",
        "colab_type": "code",
        "colab": {}
      },
      "source": [
        "sns.palplot(sns.color_palette('husl', 10))\n",
        "plt.show()"
      ],
      "execution_count": 0,
      "outputs": []
    },
    {
      "cell_type": "code",
      "metadata": {
        "id": "l6f8nL5LGyJK",
        "colab_type": "code",
        "colab": {}
      },
      "source": [
        "sns.palplot(sns.color_palette('coolwarm', 6))\n",
        "plt.show()"
      ],
      "execution_count": 0,
      "outputs": []
    },
    {
      "cell_type": "markdown",
      "metadata": {
        "id": "9szHioN_Hri0",
        "colab_type": "text"
      },
      "source": [
        "## Using matplotlib axes"
      ]
    },
    {
      "cell_type": "code",
      "metadata": {
        "id": "BRBgyYxTHr4_",
        "colab_type": "code",
        "colab": {}
      },
      "source": [
        "# Create a figure and axes\n",
        "fig, ax = plt.subplots()\n",
        "\n",
        "# Plot the distribution of data\n",
        "sns.distplot(df['fmr_3'], ax=ax)\n",
        "\n",
        "# Create a more descriptive x axis label\n",
        "ax.set(xlabel=\"3 Bedroom Fair Market Rent\")\n",
        "\n",
        "# Show the plot\n",
        "plt.show()"
      ],
      "execution_count": 0,
      "outputs": []
    },
    {
      "cell_type": "markdown",
      "metadata": {
        "id": "T0A7WvIqH4t0",
        "colab_type": "text"
      },
      "source": [
        "## Additional plot customizations"
      ]
    },
    {
      "cell_type": "code",
      "metadata": {
        "id": "qDKKdjXMH5D_",
        "colab_type": "code",
        "colab": {}
      },
      "source": [
        "# Create a figure and axes\n",
        "fig, ax = plt.subplots()\n",
        "\n",
        "# Plot the distribution of 1 bedroom rents\n",
        "sns.distplot(df['fmr_1'], ax=ax)\n",
        "\n",
        "# Modify the properties of the plot\n",
        "ax.set(xlabel=\"1 Bedroom Fair Market Rent\",\n",
        "       xlim=(100,1500),\n",
        "       title=\"US Rent\")\n",
        "\n",
        "# Display the plot\n",
        "plt.show()"
      ],
      "execution_count": 0,
      "outputs": []
    },
    {
      "cell_type": "markdown",
      "metadata": {
        "id": "EMdk7OMkIEJW",
        "colab_type": "text"
      },
      "source": [
        "## Adding annotations"
      ]
    },
    {
      "cell_type": "code",
      "metadata": {
        "id": "gGVJQzSEIm5k",
        "colab_type": "code",
        "colab": {}
      },
      "source": [
        "# Create a figure and axes. Then plot the data\n",
        "fig, ax = plt.subplots()\n",
        "sns.distplot(df['fmr_1'], ax=ax)\n",
        "\n",
        "# Customize the labels and limits\n",
        "ax.set(xlabel=\"1 Bedroom Fair Market Rent\", xlim=(100,1500), title=\"US Rent\")\n",
        "\n",
        "# Add vertical lines for the median and mean\n",
        "ax.axvline(x=median, color='m', label='Median', linestyle='--', linewidth=2)\n",
        "ax.axvline(x=mean, color='b', label='Mean', linestyle='-', linewidth=2)\n",
        "\n",
        "# Show the legend and plot the data\n",
        "ax.legend()\n",
        "plt.show()"
      ],
      "execution_count": 0,
      "outputs": []
    },
    {
      "cell_type": "markdown",
      "metadata": {
        "id": "NwHaj-qJIy9L",
        "colab_type": "text"
      },
      "source": [
        "## Multiple plots"
      ]
    },
    {
      "cell_type": "code",
      "metadata": {
        "id": "_L62EbbvIzUY",
        "colab_type": "code",
        "colab": {}
      },
      "source": [
        "# Create a plot with 1 row and 2 columns that share the y axis label\n",
        "fig, (ax0, ax1) = plt.subplots(nrows=1, ncols=2, sharey=True)\n",
        "\n",
        "# Plot the distribution of 1 bedroom apartments on ax0\n",
        "sns.distplot(df['fmr_1'], ax=ax0)\n",
        "ax0.set(xlabel=\"1 Bedroom Fair Market Rent\", xlim=(100,1500))\n",
        "\n",
        "# Plot the distribution of 2 bedroom apartments on ax1\n",
        "sns.distplot(df['fmr_2'], ax=ax1)\n",
        "ax1.set(xlabel=\"2 Bedroom Fair Market Rent\", xlim=(100,1500))\n",
        "\n",
        "# Display the plot\n",
        "plt.show()"
      ],
      "execution_count": 0,
      "outputs": []
    }
  ]
}