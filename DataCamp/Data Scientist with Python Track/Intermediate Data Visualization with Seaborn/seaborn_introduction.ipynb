{
  "nbformat": 4,
  "nbformat_minor": 0,
  "metadata": {
    "colab": {
      "name": "seaborn-introduction.ipynb",
      "provenance": [],
      "collapsed_sections": []
    },
    "kernelspec": {
      "name": "python3",
      "display_name": "Python 3"
    }
  },
  "cells": [
    {
      "cell_type": "markdown",
      "metadata": {
        "id": "XdtlteUz44yU",
        "colab_type": "text"
      },
      "source": [
        "# Seaborn Introduction"
      ]
    },
    {
      "cell_type": "markdown",
      "metadata": {
        "id": "Amvp5flr8_z7",
        "colab_type": "text"
      },
      "source": [
        "## Seaborn foundation"
      ]
    },
    {
      "cell_type": "markdown",
      "metadata": {
        "id": "N1lZen2r9F2c",
        "colab_type": "text"
      },
      "source": [
        "B. matplotlib"
      ]
    },
    {
      "cell_type": "markdown",
      "metadata": {
        "id": "8kQGNQvc9Lwt",
        "colab_type": "text"
      },
      "source": [
        "## Reading a csv file"
      ]
    },
    {
      "cell_type": "code",
      "metadata": {
        "id": "NAZ1vuay9PPl",
        "colab_type": "code",
        "colab": {}
      },
      "source": [
        "# import all modules\n",
        "import pandas as pd\n",
        "import seaborn as sns\n",
        "import matplotlib.pyplot as plt\n",
        "\n",
        "# Read in the DataFrame\n",
        "df = pd.read_csv(grant_file)"
      ],
      "execution_count": 0,
      "outputs": []
    },
    {
      "cell_type": "markdown",
      "metadata": {
        "id": "SS8HYRZP9gNQ",
        "colab_type": "text"
      },
      "source": [
        "## Comparing a histogram and distplot"
      ]
    },
    {
      "cell_type": "code",
      "metadata": {
        "id": "ree9afdX9gin",
        "colab_type": "code",
        "colab": {}
      },
      "source": [
        "# Display pandas histogram\n",
        "df['Award_Amount'].plot.hist()\n",
        "plt.show()\n",
        "\n",
        "# Clear out the pandas histogram\n",
        "plt.clf()"
      ],
      "execution_count": 0,
      "outputs": []
    },
    {
      "cell_type": "code",
      "metadata": {
        "id": "FHKkc9rS-KA7",
        "colab_type": "code",
        "colab": {}
      },
      "source": [
        "# Display a Seaborn distplot\n",
        "sns.distplot(df['Award_Amount'])\n",
        "plt.show()\n",
        "\n",
        "# Clear the distplot\n",
        "plt.clf()"
      ],
      "execution_count": 0,
      "outputs": []
    },
    {
      "cell_type": "markdown",
      "metadata": {
        "id": "dMexgIUX-PwG",
        "colab_type": "text"
      },
      "source": [
        "## Plot a histogram"
      ]
    },
    {
      "cell_type": "code",
      "metadata": {
        "id": "pJpjDJnT-9yO",
        "colab_type": "code",
        "colab": {}
      },
      "source": [
        "# Create a distplot\n",
        "sns.distplot(df['Award_Amount'],\n",
        "             kde=False,\n",
        "             bins=20)\n",
        "\n",
        "# Display the plot\n",
        "plt.show()"
      ],
      "execution_count": 0,
      "outputs": []
    },
    {
      "cell_type": "markdown",
      "metadata": {
        "id": "0RAubJZd_Fz-",
        "colab_type": "text"
      },
      "source": [
        "## Rug plot and kde shading"
      ]
    },
    {
      "cell_type": "code",
      "metadata": {
        "id": "FY7E58co_GIc",
        "colab_type": "code",
        "colab": {}
      },
      "source": [
        "# Create a distplot of the Award Amount\n",
        "sns.distplot(df['Award_Amount'],\n",
        "             hist=False,\n",
        "             rug=True,\n",
        "             kde_kws={'shade':True})\n",
        "\n",
        "# Plot the results\n",
        "plt.show()"
      ],
      "execution_count": 0,
      "outputs": []
    },
    {
      "cell_type": "markdown",
      "metadata": {
        "id": "hJYnXeN4_dtM",
        "colab_type": "text"
      },
      "source": [
        "## Interpreting the results"
      ]
    },
    {
      "cell_type": "markdown",
      "metadata": {
        "id": "dKrd6Wu-_frt",
        "colab_type": "text"
      },
      "source": [
        "C. There are a large group of award amounts < $400K."
      ]
    },
    {
      "cell_type": "markdown",
      "metadata": {
        "id": "ii9_-dTk_w2P",
        "colab_type": "text"
      },
      "source": [
        "## Create a regression plot"
      ]
    },
    {
      "cell_type": "code",
      "metadata": {
        "id": "uh4h0-fyAsFe",
        "colab_type": "code",
        "colab": {}
      },
      "source": [
        "# Create a regression plot of premiums vs. insurance_losses\n",
        "sns.regplot(data=df, x='insurance_losses', y='premiums')\n",
        "\n",
        "\n",
        "\n",
        "# Display the plot\n",
        "plt.show()"
      ],
      "execution_count": 0,
      "outputs": []
    },
    {
      "cell_type": "code",
      "metadata": {
        "id": "HxBvQH3rBGj6",
        "colab_type": "code",
        "colab": {}
      },
      "source": [
        "# Create an lmplot of premiums vs. insurance_losses\n",
        "sns.lmplot(data=df, x='insurance_losses', y='premiums')\n",
        "\n",
        "\n",
        "\n",
        "# Display the second plot\n",
        "plt.show()"
      ],
      "execution_count": 0,
      "outputs": []
    },
    {
      "cell_type": "markdown",
      "metadata": {
        "id": "D7eFUp5ABILj",
        "colab_type": "text"
      },
      "source": [
        "## Plotting multiple variables"
      ]
    },
    {
      "cell_type": "code",
      "metadata": {
        "id": "Ph2FLjkgBIiq",
        "colab_type": "code",
        "colab": {}
      },
      "source": [
        "# Create a regression plot using hue\n",
        "sns.lmplot(data=df,\n",
        "           x=\"insurance_losses\",\n",
        "           y=\"premiums\",\n",
        "           hue=\"Region\")\n",
        "\n",
        "# Show the results\n",
        "plt.show()"
      ],
      "execution_count": 0,
      "outputs": []
    },
    {
      "cell_type": "markdown",
      "metadata": {
        "id": "W8-8gM2nBg2Z",
        "colab_type": "text"
      },
      "source": [
        "## Facetting multiple regressions"
      ]
    },
    {
      "cell_type": "code",
      "metadata": {
        "id": "vplD2HgjBhbq",
        "colab_type": "code",
        "colab": {}
      },
      "source": [
        "# Create a regression plot with multiple rows\n",
        "sns.lmplot(data=df,\n",
        "           x=\"insurance_losses\",\n",
        "           y=\"premiums\",\n",
        "           row=\"Region\")\n",
        "\n",
        "# Show the plot\n",
        "plt.show()"
      ],
      "execution_count": 0,
      "outputs": []
    }
  ]
}