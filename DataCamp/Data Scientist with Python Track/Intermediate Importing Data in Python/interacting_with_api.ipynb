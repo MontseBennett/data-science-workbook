{
  "nbformat": 4,
  "nbformat_minor": 0,
  "metadata": {
    "colab": {
      "name": "interacting_with_api.ipynb",
      "provenance": [],
      "collapsed_sections": []
    },
    "kernelspec": {
      "name": "python3",
      "display_name": "Python 3"
    }
  },
  "cells": [
    {
      "cell_type": "markdown",
      "metadata": {
        "id": "c7kNQnbhrKix",
        "colab_type": "text"
      },
      "source": [
        "# Interacting with APIs to import data from the web"
      ]
    },
    {
      "cell_type": "markdown",
      "metadata": {
        "id": "8cF7JMl9L24i",
        "colab_type": "text"
      },
      "source": [
        "## Pop quiz: What exactly is a JSON?"
      ]
    },
    {
      "cell_type": "markdown",
      "metadata": {
        "id": "2TiiGgnML6cC",
        "colab_type": "text"
      },
      "source": [
        "D. The function json.load() will load the JSON into Python as a list."
      ]
    },
    {
      "cell_type": "markdown",
      "metadata": {
        "id": "NxZzeLQ_MC8J",
        "colab_type": "text"
      },
      "source": [
        "## Loading and exploring a JSON"
      ]
    },
    {
      "cell_type": "code",
      "metadata": {
        "id": "WW-ANglkMFWY",
        "colab_type": "code",
        "colab": {}
      },
      "source": [
        "# Load JSON: json_data\n",
        "with open(\"a_movie.json\") as json_file:\n",
        "    json_data = json.load(json_file)\n",
        "\n",
        "# Print each key-value pair in json_data\n",
        "for k in json_data.keys():\n",
        "    print(k + ': ', json_data[k])"
      ],
      "execution_count": 0,
      "outputs": []
    },
    {
      "cell_type": "markdown",
      "metadata": {
        "id": "yazad8ziMU62",
        "colab_type": "text"
      },
      "source": [
        "## Pop quiz: Exploring your JSON"
      ]
    },
    {
      "cell_type": "markdown",
      "metadata": {
        "id": "QFHjNsr3MVRD",
        "colab_type": "text"
      },
      "source": [
        "D. The title is 'The Social Network' and the year is 2010."
      ]
    },
    {
      "cell_type": "markdown",
      "metadata": {
        "id": "xZsLUu_EMwNk",
        "colab_type": "text"
      },
      "source": [
        "## Pop quiz: What's an API?"
      ]
    },
    {
      "cell_type": "markdown",
      "metadata": {
        "id": "BBLsLzXDNswX",
        "colab_type": "text"
      },
      "source": [
        "D. All APIs transmit data only in the JSON file format."
      ]
    },
    {
      "cell_type": "markdown",
      "metadata": {
        "id": "vKg5gcUnN2OX",
        "colab_type": "text"
      },
      "source": [
        "## API requests"
      ]
    },
    {
      "cell_type": "code",
      "metadata": {
        "id": "FlQdFQZwN4Uu",
        "colab_type": "code",
        "colab": {}
      },
      "source": [
        "# Import requests package\n",
        "import requests\n",
        "\n",
        "# Assign URL to variable: url\n",
        "url = 'http://www.omdbapi.com?apikey=72bc447a&t=the+social+network'\n",
        "\n",
        "# Package the request, send the request and catch the response: r\n",
        "r = requests.get(url)\n",
        "\n",
        "# Print the text of the response\n",
        "print(r.text)\n"
      ],
      "execution_count": 0,
      "outputs": []
    },
    {
      "cell_type": "markdown",
      "metadata": {
        "id": "PrG5CGyiOZlY",
        "colab_type": "text"
      },
      "source": [
        "## JSON–from the web to Python"
      ]
    },
    {
      "cell_type": "code",
      "metadata": {
        "id": "t95Dg_u5OZ8O",
        "colab_type": "code",
        "colab": {}
      },
      "source": [
        "# Import package\n",
        "import requests\n",
        "\n",
        "# Assign URL to variable: url\n",
        "url = 'http://www.omdbapi.com/?apikey=72bc447a&t=social+network'\n",
        "\n",
        "# Package the request, send the request and catch the response: r\n",
        "r = requests.get(url)\n",
        "\n",
        "# Decode the JSON data into a dictionary: json_data\n",
        "json_data = r.json()\n",
        "\n",
        "# Print each key-value pair in json_data\n",
        "for k in json_data.keys():\n",
        "    print(k + ': ', json_data[k])\n"
      ],
      "execution_count": 0,
      "outputs": []
    },
    {
      "cell_type": "markdown",
      "metadata": {
        "id": "dUuuCZJwOlqP",
        "colab_type": "text"
      },
      "source": [
        "## Checking out the Wikipedia API"
      ]
    },
    {
      "cell_type": "code",
      "metadata": {
        "id": "JmeafzDYOl_E",
        "colab_type": "code",
        "colab": {}
      },
      "source": [
        "# Import package\n",
        "import requests\n",
        "\n",
        "# Assign URL to variable: url\n",
        "url = 'https://en.wikipedia.org/w/api.php?action=query&prop=extracts&format=json&exintro=&titles=pizza'\n",
        "\n",
        "# Package the request, send the request and catch the response: r\n",
        "r = requests.get(url)\n",
        "\n",
        "# Decode the JSON data into a dictionary: json_data\n",
        "json_data = r.json()\n",
        "\n",
        "# Print the Wikipedia page extract\n",
        "pizza_extract = json_data['query']['pages']['24768']['extract']\n",
        "print(pizza_extract)\n"
      ],
      "execution_count": 0,
      "outputs": []
    }
  ]
}