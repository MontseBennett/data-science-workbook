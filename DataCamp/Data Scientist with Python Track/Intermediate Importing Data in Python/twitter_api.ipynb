{
  "nbformat": 4,
  "nbformat_minor": 0,
  "metadata": {
    "colab": {
      "name": "twitter_api.ipynb",
      "provenance": [],
      "collapsed_sections": []
    },
    "kernelspec": {
      "name": "python3",
      "display_name": "Python 3"
    }
  },
  "cells": [
    {
      "cell_type": "markdown",
      "metadata": {
        "id": "TFM4SPnSLlKA",
        "colab_type": "text"
      },
      "source": [
        "# Diving deep into the Twitter API\n"
      ]
    },
    {
      "cell_type": "markdown",
      "metadata": {
        "id": "Qv-lvhxARFru",
        "colab_type": "text"
      },
      "source": [
        "## API Authentication"
      ]
    },
    {
      "cell_type": "code",
      "metadata": {
        "id": "83IemoD7RO4e",
        "colab_type": "code",
        "colab": {}
      },
      "source": [
        "# Import package\n",
        "import tweepy\n",
        "\n",
        "# Store OAuth authentication credentials in relevant variables\n",
        "access_token = \"1092294848-aHN7DcRP9B4VMTQIhwqOYiB14YkW92fFO8k8EPy\"\n",
        "access_token_secret = \"X4dHmhPfaksHcQ7SCbmZa2oYBBVSD2g8uIHXsp5CTaksx\"\n",
        "consumer_key = \"nZ6EA0FxZ293SxGNg8g8aP0HM\"\n",
        "consumer_secret = \"fJGEodwe3KiKUnsYJC3VRndj7jevVvXbK2D5EiJ2nehafRgA6i\"\n",
        "\n",
        "# Pass OAuth details to tweepy's OAuth handler\n",
        "auth = tweepy.OAuthHandler(consumer_key, consumer_secret)\n",
        "auth.set_access_token(access_token, access_token_secret)\n"
      ],
      "execution_count": 0,
      "outputs": []
    },
    {
      "cell_type": "markdown",
      "metadata": {
        "id": "Xfhmd35TRoni",
        "colab_type": "text"
      },
      "source": [
        "## Streaming tweets"
      ]
    },
    {
      "cell_type": "code",
      "metadata": {
        "id": "n32B6PL6Ro_V",
        "colab_type": "code",
        "colab": {}
      },
      "source": [
        "# Initialize Stream listener\n",
        "l = MyStreamListener()\n",
        "\n",
        "# Create your Stream object with authentication\n",
        "stream = tweepy.Stream(auth, l)\n",
        "\n",
        "# Filter Twitter Streams to capture data by the keywords:\n",
        "stream.filter(track=['clinton', 'trump', 'sanders', 'cruz'])"
      ],
      "execution_count": 0,
      "outputs": []
    },
    {
      "cell_type": "markdown",
      "metadata": {
        "id": "iRq8LlDjSFro",
        "colab_type": "text"
      },
      "source": [
        "## Load and explore your Twitter data"
      ]
    },
    {
      "cell_type": "code",
      "metadata": {
        "id": "zO52d6MxSGEo",
        "colab_type": "code",
        "colab": {}
      },
      "source": [
        "# Import package\n",
        "import json\n",
        "\n",
        "# String of path to file: tweets_data_path\n",
        "tweets_data_path = 'tweets.txt'\n",
        "\n",
        "# Initialize empty list to store tweets: tweets_data\n",
        "tweets_data = []\n",
        "\n",
        "# Open connection to file\n",
        "tweets_file = open(tweets_data_path, \"r\")\n",
        "\n",
        "# Read in tweets and store in list: tweets_data\n",
        "for line in tweets_file:\n",
        "    tweet = json.loads(line)\n",
        "    tweets_data.append(tweet)\n",
        "\n",
        "# Close connection to file\n",
        "tweets_file.close()\n",
        "\n",
        "# Print the keys of the first tweet dict\n",
        "print(tweets_data[0].keys())\n"
      ],
      "execution_count": 0,
      "outputs": []
    },
    {
      "cell_type": "markdown",
      "metadata": {
        "id": "4V3U_pWFSoLn",
        "colab_type": "text"
      },
      "source": [
        "## Twitter data to DataFrame"
      ]
    },
    {
      "cell_type": "code",
      "metadata": {
        "id": "7Ht4TsRaSoha",
        "colab_type": "code",
        "colab": {}
      },
      "source": [
        "# Import package\n",
        "import pandas as pd\n",
        "\n",
        "# Build DataFrame of tweet texts and languages\n",
        "df = pd.DataFrame(tweets_data, columns=['text', 'lang'])\n",
        "\n",
        "# Print head of DataFrame\n",
        "print(df.head())\n"
      ],
      "execution_count": 0,
      "outputs": []
    },
    {
      "cell_type": "markdown",
      "metadata": {
        "id": "D8HRoqykTBKb",
        "colab_type": "text"
      },
      "source": [
        "## A little bit of Twitter text analysis"
      ]
    },
    {
      "cell_type": "code",
      "metadata": {
        "id": "q9XINOKZTD1N",
        "colab_type": "code",
        "colab": {}
      },
      "source": [
        "# Initialize list to store tweet counts\n",
        "[clinton, trump, sanders, cruz] = [0, 0, 0, 0]\n",
        "\n",
        "# Iterate through df, counting the number of tweets in which\n",
        "# each candidate is mentioned\n",
        "for index, row in df.iterrows():\n",
        "    clinton += word_in_text('clinton', row['text'])\n",
        "    trump += word_in_text('trump', row['text'])\n",
        "    sanders += word_in_text('sanders', row['text'])\n",
        "    cruz += word_in_text('cruz', row['text'])\n"
      ],
      "execution_count": 0,
      "outputs": []
    },
    {
      "cell_type": "markdown",
      "metadata": {
        "id": "fMkatfsRTh72",
        "colab_type": "text"
      },
      "source": [
        "## Plotting your Twitter data"
      ]
    },
    {
      "cell_type": "code",
      "metadata": {
        "id": "876ne4ARTiTA",
        "colab_type": "code",
        "colab": {}
      },
      "source": [
        "# Import packages\n",
        "import seaborn as sns\n",
        "import matplotlib.pyplot as plt\n",
        "\n",
        "# Set seaborn style\n",
        "sns.set(color_codes=True)\n",
        "\n",
        "# Create a list of labels:cd\n",
        "cd = ['clinton', 'trump', 'sanders', 'cruz']\n",
        "\n",
        "# Plot the bar chart\n",
        "ax = sns.barplot(cd, [clinton, trump, sanders, cruz])\n",
        "ax.set(ylabel=\"count\")\n",
        "plt.show()\n"
      ],
      "execution_count": 0,
      "outputs": []
    }
  ]
}