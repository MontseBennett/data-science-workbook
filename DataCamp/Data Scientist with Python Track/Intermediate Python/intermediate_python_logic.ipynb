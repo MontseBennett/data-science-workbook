{
  "nbformat": 4,
  "nbformat_minor": 0,
  "metadata": {
    "colab": {
      "name": "intermediate-python-logic.ipynb",
      "provenance": []
    },
    "kernelspec": {
      "name": "python3",
      "display_name": "Python 3"
    }
  },
  "cells": [
    {
      "cell_type": "markdown",
      "metadata": {
        "id": "l1e6_wPAqb_4",
        "colab_type": "text"
      },
      "source": [
        "# Logic, Control Flow and Filtering"
      ]
    },
    {
      "cell_type": "code",
      "metadata": {
        "id": "rant-6bvqi-g",
        "colab_type": "code",
        "colab": {}
      },
      "source": [
        "import numpy as np\n",
        "import pandas as pd\n",
        "import matplotlib.pyplot as plt"
      ],
      "execution_count": 0,
      "outputs": []
    },
    {
      "cell_type": "markdown",
      "metadata": {
        "id": "eurU0jpZqnb_",
        "colab_type": "text"
      },
      "source": [
        "## Equality"
      ]
    },
    {
      "cell_type": "code",
      "metadata": {
        "id": "xGmJN3TArRzT",
        "colab_type": "code",
        "colab": {}
      },
      "source": [
        "# Comparison of booleans\n",
        "print(True == False)\n",
        "\n",
        "# Comparison of integers\n",
        "print((-5 * 15) != 75)\n",
        "\n",
        "# Comparison of strings\n",
        "print('pyscript' == 'PyScript')\n",
        "\n",
        "# Compare a boolean with an integer\n",
        "print(True == 1)"
      ],
      "execution_count": 0,
      "outputs": []
    },
    {
      "cell_type": "markdown",
      "metadata": {
        "id": "Pw6H1sp8rj6Y",
        "colab_type": "text"
      },
      "source": [
        "## Greater and less than"
      ]
    },
    {
      "cell_type": "code",
      "metadata": {
        "id": "gtppBJcbrmfH",
        "colab_type": "code",
        "colab": {}
      },
      "source": [
        "# Comparison of integers\n",
        "x = -3 * 6\n",
        "print(x >= -10)\n",
        "\n",
        "# Comparison of strings\n",
        "y = \"test\"\n",
        "print(\"test\" <= y)\n",
        "\n",
        "# Comparison of booleans\n",
        "print(True > False)"
      ],
      "execution_count": 0,
      "outputs": []
    },
    {
      "cell_type": "markdown",
      "metadata": {
        "id": "d5p5GlWcr6f_",
        "colab_type": "text"
      },
      "source": [
        "## Compare arrays"
      ]
    },
    {
      "cell_type": "code",
      "metadata": {
        "id": "ElHL7xiYr896",
        "colab_type": "code",
        "colab": {
          "base_uri": "https://localhost:8080/",
          "height": 52
        },
        "outputId": "d83e8dd0-5696-4337-8f28-e871ece4ae81"
      },
      "source": [
        "# Create arrays\n",
        "import numpy as np\n",
        "my_house = np.array([18.0, 20.0, 10.75, 9.50])\n",
        "your_house = np.array([14.0, 24.0, 14.25, 9.0])\n",
        "\n",
        "# my_house greater than or equal to 18\n",
        "print(my_house >= 18)\n",
        "\n",
        "# my_house less than your_house\n",
        "print(my_house < your_house)"
      ],
      "execution_count": 2,
      "outputs": [
        {
          "output_type": "stream",
          "text": [
            "[ True  True False False]\n",
            "[False  True  True False]\n"
          ],
          "name": "stdout"
        }
      ]
    },
    {
      "cell_type": "markdown",
      "metadata": {
        "id": "UyvIDvUbsPWr",
        "colab_type": "text"
      },
      "source": [
        "## and, or, not (1)\n"
      ]
    },
    {
      "cell_type": "code",
      "metadata": {
        "id": "vconAZ5KtfN7",
        "colab_type": "code",
        "colab": {
          "base_uri": "https://localhost:8080/",
          "height": 70
        },
        "outputId": "9d2c96fb-8da3-44a7-a67e-bd13eddcbb1a"
      },
      "source": [
        "# Define variables\n",
        "my_kitchen = 18.0\n",
        "your_kitchen = 14.0\n",
        "\n",
        "# my_kitchen bigger than 10 and smaller than 18?\n",
        "print(my_kitchen > 10 and my_kitchen < 18)\n",
        "\n",
        "# my_kitchen smaller than 14 or bigger than 17?\n",
        "print(my_kitchen < 14 or my_kitchen > 17)\n",
        "\n",
        "# Double my_kitchen smaller than triple your_kitchen?\n",
        "print(my_kitchen * 2 < your_kitchen * 3)"
      ],
      "execution_count": 3,
      "outputs": [
        {
          "output_type": "stream",
          "text": [
            "False\n",
            "True\n",
            "True\n"
          ],
          "name": "stdout"
        }
      ]
    },
    {
      "cell_type": "markdown",
      "metadata": {
        "id": "irPQ1Jc9tjao",
        "colab_type": "text"
      },
      "source": [
        "## Boolean operators with Numpy"
      ]
    },
    {
      "cell_type": "code",
      "metadata": {
        "id": "jq2lN92StwlO",
        "colab_type": "code",
        "colab": {}
      },
      "source": [
        "# Create arrays\n",
        "import numpy as np\n",
        "my_house = np.array([18.0, 20.0, 10.75, 9.50])\n",
        "your_house = np.array([14.0, 24.0, 14.25, 9.0])\n",
        "\n",
        "# my_house greater than 18.5 or smaller than 10\n",
        "print(np.logical_or(my_house > 18.5, my_house < 10))\n",
        "\n",
        "# Both my_house and your_house smaller than 11\n",
        "print(np.logical_and(my_house < 11, your_house < 11))"
      ],
      "execution_count": 0,
      "outputs": []
    },
    {
      "cell_type": "markdown",
      "metadata": {
        "id": "63l4SECduOMe",
        "colab_type": "text"
      },
      "source": [
        "## if"
      ]
    },
    {
      "cell_type": "code",
      "metadata": {
        "id": "tOJBdTczunI0",
        "colab_type": "code",
        "colab": {
          "base_uri": "https://localhost:8080/",
          "height": 34
        },
        "outputId": "564acd2d-acce-4a70-f86f-cf07bb7b3aff"
      },
      "source": [
        "# Define variables\n",
        "room = \"kit\"\n",
        "area = 14.0\n",
        "\n",
        "# if statement for room\n",
        "if room == \"kit\" :\n",
        "    print(\"looking around in the kitchen.\")\n",
        "\n",
        "# if statement for area\n",
        "if area > 15:\n",
        "    print('big place!')"
      ],
      "execution_count": 4,
      "outputs": [
        {
          "output_type": "stream",
          "text": [
            "looking around in the kitchen.\n"
          ],
          "name": "stdout"
        }
      ]
    },
    {
      "cell_type": "markdown",
      "metadata": {
        "id": "ix3LXz-_uoUP",
        "colab_type": "text"
      },
      "source": [
        "## Add else"
      ]
    },
    {
      "cell_type": "code",
      "metadata": {
        "id": "rsDYR0ltuwIo",
        "colab_type": "code",
        "colab": {
          "base_uri": "https://localhost:8080/",
          "height": 52
        },
        "outputId": "01749052-051c-4992-8dec-53e9035b8a83"
      },
      "source": [
        "# Define variables\n",
        "room = \"kit\"\n",
        "area = 14.0\n",
        "\n",
        "# if-else construct for room\n",
        "if room == \"kit\" :\n",
        "    print(\"looking around in the kitchen.\")\n",
        "else :\n",
        "    print(\"looking around elsewhere.\")\n",
        "\n",
        "# if-else construct for area\n",
        "if area > 15 :\n",
        "    print(\"big place!\")\n",
        "else:\n",
        "    print('pretty small.')"
      ],
      "execution_count": 5,
      "outputs": [
        {
          "output_type": "stream",
          "text": [
            "looking around in the kitchen.\n",
            "pretty small.\n"
          ],
          "name": "stdout"
        }
      ]
    },
    {
      "cell_type": "markdown",
      "metadata": {
        "id": "lHi3sA6suz9q",
        "colab_type": "text"
      },
      "source": [
        "## Customize further: elif"
      ]
    },
    {
      "cell_type": "code",
      "metadata": {
        "id": "O0rXMQlHu2Dk",
        "colab_type": "code",
        "colab": {
          "base_uri": "https://localhost:8080/",
          "height": 52
        },
        "outputId": "d66b2493-174f-4617-bb86-dd9725c675b0"
      },
      "source": [
        "# Define variables\n",
        "room = \"bed\"\n",
        "area = 14.0\n",
        "\n",
        "# if-elif-else construct for room\n",
        "if room == \"kit\" :\n",
        "    print(\"looking around in the kitchen.\")\n",
        "elif room == \"bed\":\n",
        "    print(\"looking around in the bedroom.\")\n",
        "else :\n",
        "    print(\"looking around elsewhere.\")\n",
        "\n",
        "# if-elif-else construct for area\n",
        "if area > 15 :\n",
        "    print(\"big place!\")\n",
        "elif area > 10:\n",
        "    print(\"medium size, nice!\")\n",
        "else :\n",
        "    print(\"pretty small.\")"
      ],
      "execution_count": 6,
      "outputs": [
        {
          "output_type": "stream",
          "text": [
            "looking around in the bedroom.\n",
            "medium size, nice!\n"
          ],
          "name": "stdout"
        }
      ]
    },
    {
      "cell_type": "markdown",
      "metadata": {
        "id": "WLypPZqEu-0q",
        "colab_type": "text"
      },
      "source": [
        "## Driving right (1)"
      ]
    },
    {
      "cell_type": "code",
      "metadata": {
        "id": "XO_yJhwDvzTK",
        "colab_type": "code",
        "colab": {}
      },
      "source": [
        ""
      ],
      "execution_count": 0,
      "outputs": []
    }
  ]
}