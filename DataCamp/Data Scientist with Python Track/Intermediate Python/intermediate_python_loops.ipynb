{
  "nbformat": 4,
  "nbformat_minor": 0,
  "metadata": {
    "colab": {
      "name": "intermediate-python-loops.ipynb",
      "provenance": []
    },
    "kernelspec": {
      "name": "python3",
      "display_name": "Python 3"
    }
  },
  "cells": [
    {
      "cell_type": "markdown",
      "metadata": {
        "id": "n6_rMZ8nC8v5",
        "colab_type": "text"
      },
      "source": [
        "# Loops"
      ]
    },
    {
      "cell_type": "code",
      "metadata": {
        "id": "n0WA5KUYDDQ8",
        "colab_type": "code",
        "colab": {}
      },
      "source": [
        "import numpy as np\n",
        "import pandas as pd\n",
        "import matplotlib.pyplot as plt"
      ],
      "execution_count": 0,
      "outputs": []
    },
    {
      "cell_type": "markdown",
      "metadata": {
        "id": "pImtlyH8DGkR",
        "colab_type": "text"
      },
      "source": [
        "## Loop Over Dictionary"
      ]
    },
    {
      "cell_type": "code",
      "metadata": {
        "id": "KsUK-XhQDJDY",
        "colab_type": "code",
        "colab": {
          "base_uri": "https://localhost:8080/",
          "height": 141
        },
        "outputId": "53f7063e-c16f-47cf-9cab-bf9a65f6d8f7"
      },
      "source": [
        "# Definition of dictionary\n",
        "europe = {'spain':'madrid', 'france':'paris', 'germany':'berlin',\n",
        "          'norway':'oslo', 'italy':'rome', 'poland':'warsaw', 'austria':'vienna' }\n",
        "          \n",
        "# Iterate over europe\n",
        "for key, value in europe.items():\n",
        "    print(\"the capital of %s is %s\" % (key, value))"
      ],
      "execution_count": 2,
      "outputs": [
        {
          "output_type": "stream",
          "text": [
            "the capital of spain is madrid\n",
            "the capital of france is paris\n",
            "the capital of germany is berlin\n",
            "the capital of norway is oslo\n",
            "the capital of italy is rome\n",
            "the capital of poland is warsaw\n",
            "the capital of austria is vienna\n"
          ],
          "name": "stdout"
        }
      ]
    },
    {
      "cell_type": "markdown",
      "metadata": {
        "id": "JYczBabeDgCu",
        "colab_type": "text"
      },
      "source": [
        "## Loop over DataFrame (1)"
      ]
    },
    {
      "cell_type": "markdown",
      "metadata": {
        "id": "-vppt2dTFFor",
        "colab_type": "text"
      },
      "source": [
        "Iterating over a Pandas DataFrame is typically done with the iterrows() method. Used in a for loop, every observation is iterated over and on every iteration the row label and actual row contents are available:\n",
        "\n",
        "for lab, row in brics.iterrows() :\n",
        "    ...\n",
        "In this and the following exercises you will be working on the cars DataFrame. It contains information on the cars per capita and whether people drive right or left for seven countries in the world."
      ]
    },
    {
      "cell_type": "code",
      "metadata": {
        "id": "M_GncYMAFHat",
        "colab_type": "code",
        "colab": {}
      },
      "source": [
        "# # Import cars data\n",
        "# import pandas as pd\n",
        "# cars = pd.read_csv('cars.csv', index_col = 0)\n",
        "\n",
        "# # Iterate over rows of cars\n",
        "# for index, value in cars.iterrows():\n",
        "#     print(index)\n",
        "#     print(value)"
      ],
      "execution_count": 0,
      "outputs": []
    },
    {
      "cell_type": "markdown",
      "metadata": {
        "id": "4xa6Q0PTFZ_V",
        "colab_type": "text"
      },
      "source": [
        "## Loop over DataFrame (2)"
      ]
    },
    {
      "cell_type": "code",
      "metadata": {
        "id": "tpPqqZhlFb6w",
        "colab_type": "code",
        "colab": {}
      },
      "source": [
        "# # Import cars data\n",
        "# import pandas as pd\n",
        "# cars = pd.read_csv('cars.csv', index_col = 0)\n",
        "\n",
        "# # Adapt for loop\n",
        "# for lab, row in cars.iterrows() :\n",
        "#     print(\"%s: %s\" % (lab, row['cars_per_cap']))"
      ],
      "execution_count": 0,
      "outputs": []
    },
    {
      "cell_type": "markdown",
      "metadata": {
        "id": "SlrvSV1rF_8y",
        "colab_type": "text"
      },
      "source": [
        "## Add column (1)"
      ]
    },
    {
      "cell_type": "code",
      "metadata": {
        "id": "-IAKcmyRGCOv",
        "colab_type": "code",
        "colab": {}
      },
      "source": [
        "# # Import cars data\n",
        "# import pandas as pd\n",
        "# cars = pd.read_csv('cars.csv', index_col = 0)\n",
        "\n",
        "# # Code for loop that adds COUNTRY column\n",
        "# for lab, row in cars.iterrows():\n",
        "#     cars.loc[lab, 'COUNTRY'] = row['country'].upper()\n",
        "\n",
        "\n",
        "# # Print cars\n",
        "# print(cars)\n",
        "# print(cars)"
      ],
      "execution_count": 0,
      "outputs": []
    },
    {
      "cell_type": "markdown",
      "metadata": {
        "id": "z3XMcMsKGdPq",
        "colab_type": "text"
      },
      "source": [
        "## Add column (2)"
      ]
    },
    {
      "cell_type": "code",
      "metadata": {
        "id": "okziI_w7GfBd",
        "colab_type": "code",
        "colab": {}
      },
      "source": [
        "# # Import cars data\n",
        "# import pandas as pd\n",
        "# cars = pd.read_csv('cars.csv', index_col = 0)\n",
        "\n",
        "# # Use .apply(str.upper)\n",
        "# cars['COUNTRY'] = cars['country'].apply(str.upper)"
      ],
      "execution_count": 0,
      "outputs": []
    }
  ]
}