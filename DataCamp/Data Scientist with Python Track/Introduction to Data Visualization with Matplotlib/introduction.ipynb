{
  "nbformat": 4,
  "nbformat_minor": 0,
  "metadata": {
    "colab": {
      "name": "introduction.ipynb",
      "provenance": [],
      "collapsed_sections": []
    },
    "kernelspec": {
      "name": "python3",
      "display_name": "Python 3"
    }
  },
  "cells": [
    {
      "cell_type": "markdown",
      "metadata": {
        "id": "OjpP5eYTOQy1",
        "colab_type": "text"
      },
      "source": [
        "# Introduction to Data Visualization with Matplotlib: Introduction to Matplotlib"
      ]
    },
    {
      "cell_type": "markdown",
      "metadata": {
        "id": "UE32ZIDOAcyw",
        "colab_type": "text"
      },
      "source": [
        "## Using the matplotlib.pyplot interface"
      ]
    },
    {
      "cell_type": "code",
      "metadata": {
        "id": "kAbUmaGJBkwX",
        "colab_type": "code",
        "colab": {}
      },
      "source": [
        "# Import the matplotlib.pyplot submodule and name it plt\n",
        "import matplotlib.pyplot as plt\n",
        "\n",
        "# Create a Figure and an Axes with plt.subplots\n",
        "fig, ax = plt.subplots()\n",
        "# Call the show function to show the result\n",
        "plt.show()"
      ],
      "execution_count": 0,
      "outputs": []
    },
    {
      "cell_type": "markdown",
      "metadata": {
        "id": "jl3euGK4CELS",
        "colab_type": "text"
      },
      "source": [
        "## Adding data to an Axes object"
      ]
    },
    {
      "cell_type": "code",
      "metadata": {
        "id": "qoFh4TthCGDm",
        "colab_type": "code",
        "colab": {}
      },
      "source": [
        "# Import the matplotlib.pyplot submodule and name it plt\n",
        "import matplotlib.pyplot as plt\n",
        "\n",
        "# Create a Figure and an Axes with plt.subplots\n",
        "fig, ax = plt.subplots()\n",
        "\n",
        "# Plot MLY-PRCP-NORMAL from seattle_weather against the MONTH\n",
        "ax.plot(seattle_weather[\"MONTH\"], seattle_weather['MLY-PRCP-NORMAL'])\n",
        "\n",
        "# Plot MLY-PRCP-NORMAL from austin_weather against MONTH\n",
        "ax.plot(austin_weather['MONTH'], austin_weather['MLY-PRCP-NORMAL'])\n",
        "\n",
        "# Call the show function\n",
        "plt.show()"
      ],
      "execution_count": 0,
      "outputs": []
    },
    {
      "cell_type": "markdown",
      "metadata": {
        "id": "4I8XoVIeC2XU",
        "colab_type": "text"
      },
      "source": [
        "## Customizing data appearance"
      ]
    },
    {
      "cell_type": "code",
      "metadata": {
        "id": "3Nu3g9YyEAdv",
        "colab_type": "code",
        "colab": {}
      },
      "source": [
        "# Plot Seattle data, setting data appearance\n",
        "ax.plot(seattle_weather[\"MONTH\"], seattle_weather[\"MLY-PRCP-NORMAL\"], color='b', marker='o', linestyle='--')\n",
        "\n",
        "# Plot Austin data, setting data appearance\n",
        "ax.plot(austin_weather[\"MONTH\"], austin_weather[\"MLY-PRCP-NORMAL\"], color='r', marker='v', linestyle='--')\n",
        "\n",
        "# Call show to display the resulting plot\n",
        "plt.show()"
      ],
      "execution_count": 0,
      "outputs": []
    },
    {
      "cell_type": "markdown",
      "metadata": {
        "id": "7jxGnL-wEPye",
        "colab_type": "text"
      },
      "source": [
        "## Customizing axis labels and adding titles"
      ]
    },
    {
      "cell_type": "code",
      "metadata": {
        "id": "MBEl1sm9EehG",
        "colab_type": "code",
        "colab": {}
      },
      "source": [
        "ax.plot(seattle_weather[\"MONTH\"], seattle_weather[\"MLY-PRCP-NORMAL\"])\n",
        "ax.plot(austin_weather[\"MONTH\"], austin_weather[\"MLY-PRCP-NORMAL\"])\n",
        "\n",
        "# Customize the x-axis label\n",
        "ax.set_xlabel('Time (months)')\n",
        "\n",
        "# Customize the y-axis label\n",
        "ax.set_ylabel('Precipitation (inches)')\n",
        "\n",
        "# Add the title\n",
        "ax.set_title('Weather patterns in Austin and Seattle')\n",
        "\n",
        "# Display the figure\n",
        "plt.show()"
      ],
      "execution_count": 0,
      "outputs": []
    },
    {
      "cell_type": "markdown",
      "metadata": {
        "id": "gqU9iSctEyGT",
        "colab_type": "text"
      },
      "source": [
        "## Creating small multiples with plt.subplots"
      ]
    },
    {
      "cell_type": "code",
      "metadata": {
        "id": "cQ063tPKFtAH",
        "colab_type": "code",
        "colab": {}
      },
      "source": [
        "# Create a Figure and an array of subplots with 2 rows and 2 columns\n",
        "fig, ax = plt.subplots(2, 2)\n",
        "\n",
        "# Addressing the top left Axes as index 0, 0, plot month and Seattle precipitation\n",
        "ax[0, 0].plot(seattle_weather['MONTH'], seattle_weather['MLY-PRCP-NORMAL'])\n",
        "\n",
        "# In the top right (index 0,1), plot month and Seattle temperatures\n",
        "ax[0, 1].plot(seattle_weather['MONTH'], seattle_weather['MLY-TAVG-NORMAL'])\n",
        "\n",
        "# In the bottom left (1, 0) plot month and Austin precipitations\n",
        "ax[1, 0].plot(austin_weather['MONTH'], austin_weather['MLY-PRCP-NORMAL'])\n",
        "\n",
        "# In the bottom right (1, 1) plot month and Austin temperatures\n",
        "ax[1, 1].plot(austin_weather['MONTH'], austin_weather['MLY-TAVG-NORMAL'])\n",
        "plt.show()"
      ],
      "execution_count": 0,
      "outputs": []
    },
    {
      "cell_type": "markdown",
      "metadata": {
        "id": "tKwGWUUmGo17",
        "colab_type": "text"
      },
      "source": [
        "## Small multiples with shared y axis"
      ]
    },
    {
      "cell_type": "code",
      "metadata": {
        "id": "4-yj7GVdGqeX",
        "colab_type": "code",
        "colab": {}
      },
      "source": [
        "# Create a figure and an array of axes: 2 rows, 1 column with shared y axis\n",
        "fig, ax = plt.subplots(2, 1, sharey=True)\n",
        "\n",
        "# Plot Seattle precipitation data in the top axes\n",
        "ax[0].plot(seattle_weather['MONTH'], seattle_weather['MLY-PRCP-NORMAL'], color = 'b')\n",
        "ax[0].plot(seattle_weather['MONTH'], seattle_weather['MLY-PRCP-25PCTL'], color = 'b', linestyle = '--')\n",
        "ax[0].plot(seattle_weather['MONTH'], seattle_weather['MLY-PRCP-75PCTL'], color = 'b', linestyle = '--')\n",
        "\n",
        "# Plot Austin precipitation data in the bottom axes\n",
        "ax[1].plot(austin_weather['MONTH'], austin_weather['MLY-PRCP-NORMAL'], color = 'r')\n",
        "ax[1].plot(austin_weather['MONTH'], austin_weather['MLY-PRCP-25PCTL'], color = 'r', linestyle = '--')\n",
        "ax[1].plot(austin_weather['MONTH'], austin_weather['MLY-PRCP-75PCTL'], color = 'r', linestyle = '--')\n",
        "\n",
        "plt.show()"
      ],
      "execution_count": 0,
      "outputs": []
    }
  ]
}