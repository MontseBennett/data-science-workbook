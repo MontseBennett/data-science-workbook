{
  "nbformat": 4,
  "nbformat_minor": 0,
  "metadata": {
    "colab": {
      "name": "plotting-timeseries.ipynb",
      "provenance": [],
      "collapsed_sections": []
    },
    "kernelspec": {
      "name": "python3",
      "display_name": "Python 3"
    }
  },
  "cells": [
    {
      "cell_type": "markdown",
      "metadata": {
        "id": "rrlkyiSkHqqM",
        "colab_type": "text"
      },
      "source": [
        "## Plotting time-series\n"
      ]
    },
    {
      "cell_type": "markdown",
      "metadata": {
        "id": "wO6MTo6aH6hG",
        "colab_type": "text"
      },
      "source": [
        "## Read data with a time index"
      ]
    },
    {
      "cell_type": "code",
      "metadata": {
        "id": "D8VnM1v1pZEO",
        "colab_type": "code",
        "colab": {}
      },
      "source": [
        "# Import pandas as pd\n",
        "import pandas as pd\n",
        "\n",
        "# Read the data from file using read_csv\n",
        "climate_change = pd.read_csv('climate_change.csv', parse_dates=True, index_col='date')"
      ],
      "execution_count": 0,
      "outputs": []
    },
    {
      "cell_type": "markdown",
      "metadata": {
        "id": "P6N8f0_rpaeI",
        "colab_type": "text"
      },
      "source": [
        "## Plot time-series data"
      ]
    },
    {
      "cell_type": "code",
      "metadata": {
        "id": "yzQd15g9pcrO",
        "colab_type": "code",
        "colab": {}
      },
      "source": [
        "import matplotlib.pyplot as plt\n",
        "fig, ax = plt.subplots()\n",
        "\n",
        "# Add the time-series for \"relative_temp\" to the plot\n",
        "ax.plot(climate_change.index, climate_change['relative_temp'])\n",
        "\n",
        "# Set the x-axis label\n",
        "ax.set_xlabel('Time')\n",
        "\n",
        "# Set the y-axis label\n",
        "ax.set_ylabel('Relative temperature (Celsius)')\n",
        "\n",
        "\n",
        "# Show the figure\n",
        "plt.show()"
      ],
      "execution_count": 0,
      "outputs": []
    },
    {
      "cell_type": "markdown",
      "metadata": {
        "id": "iu_H6mtJp_Gt",
        "colab_type": "text"
      },
      "source": [
        "## Using a time index to zoom in"
      ]
    },
    {
      "cell_type": "code",
      "metadata": {
        "id": "O6Nsn15FqEwN",
        "colab_type": "code",
        "colab": {}
      },
      "source": [
        "import matplotlib.pyplot as plt\n",
        "\n",
        "# Use plt.subplots to create fig and ax\n",
        "fig, ax = plt.subplots()\n",
        "\n",
        "# Create variable seventies with data from \"1970-01-01\" to \"1979-12-31\"\n",
        "seventies = climate_change.loc['1970-01-01':'1979-12-31']\n",
        "\n",
        "# Add the time-series for \"co2\" data from seventies to the plot\n",
        "ax.plot(seventies.index, seventies[\"co2\"])\n",
        "\n",
        "# Show the figure\n",
        "plt.show()"
      ],
      "execution_count": 0,
      "outputs": []
    },
    {
      "cell_type": "markdown",
      "metadata": {
        "id": "hBHk6BUgsO7d",
        "colab_type": "text"
      },
      "source": [
        "## Plotting two variables"
      ]
    },
    {
      "cell_type": "code",
      "metadata": {
        "id": "ssBvDLbdsPTz",
        "colab_type": "code",
        "colab": {}
      },
      "source": [
        "import matplotlib.pyplot as plt\n",
        "\n",
        "# Initalize a Figure and Axes\n",
        "fig, ax = plt.subplots()\n",
        "\n",
        "# Plot the CO2 variable in blue\n",
        "ax.plot(climate_change.index, climate_change['co2'], color='b')\n",
        "\n",
        "# Create a twin Axes that shares the x-axis\n",
        "ax2 = ax.twinx()\n",
        "\n",
        "# Plot the relative temperature in red\n",
        "ax2.plot(climate_change.index, climate_change['relative_temp'], color='r')\n",
        "\n",
        "plt.show()"
      ],
      "execution_count": 0,
      "outputs": []
    },
    {
      "cell_type": "markdown",
      "metadata": {
        "id": "j-QhpvG4sRJb",
        "colab_type": "text"
      },
      "source": [
        "## Defining a function that plots time-series data"
      ]
    },
    {
      "cell_type": "code",
      "metadata": {
        "id": "syx0dR3qsUkD",
        "colab_type": "code",
        "colab": {}
      },
      "source": [
        "# Define a function called plot_timeseries\n",
        "def plot_timeseries(axes, x, y, color, xlabel, ylabel):\n",
        "\n",
        "  # Plot the inputs x,y in the provided color\n",
        "  axes.plot(x, y, color=color)\n",
        "\n",
        "  # Set the x-axis label\n",
        "  axes.set_xlabel(xlabel)\n",
        "\n",
        "  # Set the y-axis label\n",
        "  axes.set_ylabel(ylabel, color=color)\n",
        "\n",
        "  # Set the colors tick params for y-axis\n",
        "  axes.tick_params('y', colors=color)"
      ],
      "execution_count": 0,
      "outputs": []
    },
    {
      "cell_type": "markdown",
      "metadata": {
        "id": "TmMHWVE5tM01",
        "colab_type": "text"
      },
      "source": [
        "## Using a plotting function"
      ]
    },
    {
      "cell_type": "code",
      "metadata": {
        "id": "khZFDVcmtNZQ",
        "colab_type": "code",
        "colab": {}
      },
      "source": [
        "fig, ax = plt.subplots()\n",
        "\n",
        "# Plot the CO2 levels time-series in blue\n",
        "plot_timeseries(ax, climate_change.index, climate_change['co2'], \"blue\", 'Time (years)', 'CO2 levels')\n",
        "\n",
        "# Create a twin Axes object that shares the x-axis\n",
        "ax2 = ax.twinx()\n",
        "\n",
        "# Plot the relative temperature data in red\n",
        "plot_timeseries(ax2, climate_change.index, climate_change['relative_temp'], \"red\", 'Time (years)', 'Relative temperature (Celsius)')\n",
        "\n",
        "plt.show()"
      ],
      "execution_count": 0,
      "outputs": []
    },
    {
      "cell_type": "markdown",
      "metadata": {
        "id": "DZqk1XPoviVp",
        "colab_type": "text"
      },
      "source": [
        "## Annotating a plot of time-series data"
      ]
    },
    {
      "cell_type": "code",
      "metadata": {
        "id": "0Qa5oItYviuj",
        "colab_type": "code",
        "colab": {}
      },
      "source": [
        "fig, ax = plt.subplots()\n",
        "\n",
        "# Plot the relative temperature data\n",
        "ax.plot(climate_change.index, climate_change['relative_temp'])\n",
        "\n",
        "# Annotate the date at which temperatures exceeded 1 degree\n",
        "ax.annotate('>1 degree', xy=(pd.Timestamp('2015-10-06'), 1))\n",
        "\n",
        "plt.show()"
      ],
      "execution_count": 0,
      "outputs": []
    },
    {
      "cell_type": "markdown",
      "metadata": {
        "id": "wGPvIokHvlyD",
        "colab_type": "text"
      },
      "source": [
        "## Plotting time-series: putting it all together"
      ]
    },
    {
      "cell_type": "code",
      "metadata": {
        "id": "nEjv4E5Qvnp3",
        "colab_type": "code",
        "colab": {}
      },
      "source": [
        "fig, ax = plt.subplots()\n",
        "\n",
        "# Plot the CO2 levels time-series in blue\n",
        "plot_timeseries(ax, climate_change.index, climate_change['co2'], 'blue', 'Time (years)', 'CO2 levels')\n",
        "\n",
        "# Create an Axes object that shares the x-axis\n",
        "ax2 = ax.twinx()\n",
        "\n",
        "# Plot the relative temperature data in red\n",
        "plot_timeseries(ax, climate_change.index, climate_change['relative_temp'], 'red', 'Time (years)', 'Relative temp (Celsius)')\n",
        "\n",
        "# Annotate point with relative temperature >1 degree\n",
        "ax2.annotate(\">1 degree\", xy=(pd.Timestamp('2015-10-06'), 1), xytext=(pd.Timestamp('2008-10-06'), -0.2), arrowprops={'arrowstyle': '->', 'color': 'gray'})\n",
        "\n",
        "plt.show()"
      ],
      "execution_count": 0,
      "outputs": []
    }
  ]
}