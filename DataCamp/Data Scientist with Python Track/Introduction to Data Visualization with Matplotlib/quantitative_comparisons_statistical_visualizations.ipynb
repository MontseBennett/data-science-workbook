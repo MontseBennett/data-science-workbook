{
  "nbformat": 4,
  "nbformat_minor": 0,
  "metadata": {
    "colab": {
      "name": "quantitative-comparisons-statistical-visualizations.ipynb",
      "provenance": []
    },
    "kernelspec": {
      "name": "python3",
      "display_name": "Python 3"
    }
  },
  "cells": [
    {
      "cell_type": "markdown",
      "metadata": {
        "id": "hN7Qq8MzyEWy",
        "colab_type": "text"
      },
      "source": [
        "# Quantitative comparisons and statistical visualizations"
      ]
    },
    {
      "cell_type": "markdown",
      "metadata": {
        "id": "5G7jbGuSyGpu",
        "colab_type": "text"
      },
      "source": [
        "## Bar chart"
      ]
    },
    {
      "cell_type": "code",
      "metadata": {
        "id": "GYPDqQPZzAE-",
        "colab_type": "code",
        "colab": {}
      },
      "source": [
        "fig, ax = plt.subplots()\n",
        "\n",
        "# Plot a bar-chart of gold medals as a function of country\n",
        "ax.bar(medals.index, medals['Gold'])\n",
        "\n",
        "# Set the x-axis tick labels to the country names\n",
        "ax.set_xticklabels(medals.index, rotation=90)\n",
        "\n",
        "# Set the y-axis label\n",
        "ax.set_ylabel('Number of medals')\n",
        "\n",
        "plt.show()"
      ],
      "execution_count": 0,
      "outputs": []
    },
    {
      "cell_type": "markdown",
      "metadata": {
        "id": "-UkxKSoOza5y",
        "colab_type": "text"
      },
      "source": [
        "## Stacked bar chart"
      ]
    },
    {
      "cell_type": "code",
      "metadata": {
        "id": "LgloI_YNzbTL",
        "colab_type": "code",
        "colab": {}
      },
      "source": [
        "# Add bars for \"Gold\" with the label \"Gold\"\n",
        "ax.bar(medals.index, medals['Gold'], label='Gold')\n",
        "\n",
        "# Stack bars for \"Silver\" on top with label \"Silver\"\n",
        "ax.bar(medals.index, medals['Silver'], bottom=medals['Gold'], label='Silver')\n",
        "\n",
        "# Stack bars for \"Bronze\" on top of that with label \"Bronze\"\n",
        "ax.bar(medals.index, medals['Bronze'], bottom=medals['Gold'] + medals['Silver'], label='Bronze')\n",
        "\n",
        "# Display the legend\n",
        "ax.legend()\n",
        "\n",
        "plt.show()"
      ],
      "execution_count": 0,
      "outputs": []
    },
    {
      "cell_type": "markdown",
      "metadata": {
        "id": "5YYS5Mqu2Hx1",
        "colab_type": "text"
      },
      "source": [
        "## Creating histograms"
      ]
    },
    {
      "cell_type": "code",
      "metadata": {
        "id": "2p3-10Yl2Joz",
        "colab_type": "code",
        "colab": {}
      },
      "source": [
        "fig, ax = plt.subplots()\n",
        "# Plot a histogram of \"Weight\" for mens_rowing\n",
        "ax.hist(mens_rowing['Weight'])\n",
        "\n",
        "# Compare to histogram of \"Weight\" for mens_gymnastics\n",
        "ax.hist(mens_gymnastics['Weight'])\n",
        "\n",
        "# Set the x-axis label to \"Weight (kg)\"\n",
        "ax.set_xlabel('Weight (kg)')\n",
        "\n",
        "# Set the y-axis label to \"# of observations\"\n",
        "ax.set_ylabel('# of observations')\n",
        "\n",
        "plt.show()"
      ],
      "execution_count": 0,
      "outputs": []
    },
    {
      "cell_type": "markdown",
      "metadata": {
        "id": "GqCp3nCS2p12",
        "colab_type": "text"
      },
      "source": [
        "## \"Step\" histogram"
      ]
    },
    {
      "cell_type": "code",
      "metadata": {
        "id": "qNC7JQgL2rby",
        "colab_type": "code",
        "colab": {}
      },
      "source": [
        "fig, ax = plt.subplots()\n",
        "\n",
        "# Plot a histogram of \"Weight\" for mens_rowing\n",
        "ax.hist(mens_rowing['Weight'], label='Rowing', histtype='step', bins=5)\n",
        "\n",
        "# Compare to histogram of \"Weight\" for mens_gymnastics\n",
        "ax.hist(mens_gymnastics['Weight'], label='Gymnastics', histtype='step', bins=5)\n",
        "\n",
        "ax.set_xlabel(\"Weight (kg)\")\n",
        "ax.set_ylabel(\"# of observations\")\n",
        "\n",
        "# Add the legend and show the Figure\n",
        "ax.legend()\n",
        "plt.show()"
      ],
      "execution_count": 0,
      "outputs": []
    },
    {
      "cell_type": "markdown",
      "metadata": {
        "id": "Cx0M7jwv5GhL",
        "colab_type": "text"
      },
      "source": [
        "## Adding error-bars to a bar chart"
      ]
    },
    {
      "cell_type": "code",
      "metadata": {
        "id": "CUaFXfuR5H8j",
        "colab_type": "code",
        "colab": {}
      },
      "source": [
        "fig, ax = plt.subplots()\n",
        "\n",
        "# Add a bar for the rowing \"Height\" column mean/std\n",
        "ax.bar(\"Rowing\", mens_rowing['Height'].mean(), yerr=mens_rowing['Height'].std())\n",
        "\n",
        "# Add a bar for the gymnastics \"Height\" column mean/std\n",
        "ax.bar(\"Gymnastics\", mens_gymnastics['Height'].mean(), yerr=mens_gymnastics['Height'].std())\n",
        "\n",
        "# Label the y-axis\n",
        "ax.set_ylabel(\"Height (cm)\")\n",
        "\n",
        "plt.show()"
      ],
      "execution_count": 0,
      "outputs": []
    },
    {
      "cell_type": "markdown",
      "metadata": {
        "id": "dOCXgPBb5OFz",
        "colab_type": "text"
      },
      "source": [
        "## Adding error-bars to a plot"
      ]
    },
    {
      "cell_type": "code",
      "metadata": {
        "id": "CKfeRY-h5Och",
        "colab_type": "code",
        "colab": {}
      },
      "source": [
        "fig, ax = plt.subplots()\n",
        "\n",
        "# Add Seattle temperature data in each month with error bars\n",
        "ax.errorbar(seattle_weather['MONTH'], seattle_weather['MLY-TAVG-NORMAL'], yerr=seattle_weather['MLY-TAVG-STDDEV'])\n",
        "\n",
        "# Add Austin temperature data in each month with error bars\n",
        "ax.errorbar(austin_weather['MONTH'], austin_weather['MLY-TAVG-NORMAL'], yerr=austin_weather['MLY-TAVG-STDDEV'])\n",
        "\n",
        "# Set the y-axis label\n",
        "ax.set_ylabel('Temperature (Fahrenheit)')\n",
        "\n",
        "plt.show()"
      ],
      "execution_count": 0,
      "outputs": []
    },
    {
      "cell_type": "markdown",
      "metadata": {
        "id": "LHqKprG459kI",
        "colab_type": "text"
      },
      "source": [
        "## Creating boxplots"
      ]
    },
    {
      "cell_type": "code",
      "metadata": {
        "id": "Nzlyge7x5976",
        "colab_type": "code",
        "colab": {}
      },
      "source": [
        "fig, ax = plt.subplots()\n",
        "\n",
        "# Add a boxplot for the \"Height\" column in the DataFrames\n",
        "ax.boxplot([mens_rowing['Height'], mens_gymnastics['Height']])\n",
        "\n",
        "# Add x-axis tick labels:\n",
        "ax.set_xticklabels(['Rowing', 'Gymnastics'])\n",
        "\n",
        "# Add a y-axis label\n",
        "ax.set_ylabel('Height (cm)')\n",
        "\n",
        "plt.show()"
      ],
      "execution_count": 0,
      "outputs": []
    },
    {
      "cell_type": "markdown",
      "metadata": {
        "id": "fosPo7fL6oaR",
        "colab_type": "text"
      },
      "source": [
        "## Simple scatter plot"
      ]
    },
    {
      "cell_type": "code",
      "metadata": {
        "id": "vn0x4Jap7nVi",
        "colab_type": "code",
        "colab": {}
      },
      "source": [
        "fig, ax = plt.subplots()\n",
        "\n",
        "# Add data: \"co2\" on x-axis, \"relative_temp\" on y-axis\n",
        "ax.scatter(climate_change['co2'], climate_change['relative_temp'])\n",
        "\n",
        "# Set the x-axis label to \"CO2 (ppm)\"\n",
        "ax.set_xlabel('CO2 (ppm)')\n",
        "\n",
        "# Set the y-axis label to \"Relative temperature (C)\"\n",
        "ax.set_ylabel('Relative temperature (C)')\n",
        "\n",
        "plt.show()"
      ],
      "execution_count": 0,
      "outputs": []
    },
    {
      "cell_type": "markdown",
      "metadata": {
        "id": "K-h1oq-U7-zF",
        "colab_type": "text"
      },
      "source": [
        "## Encoding time by color"
      ]
    },
    {
      "cell_type": "code",
      "metadata": {
        "id": "5RKVkS0o8AmY",
        "colab_type": "code",
        "colab": {}
      },
      "source": [
        "fig, ax = plt.subplots()\n",
        "\n",
        "# Add data: \"co2\", \"relative_temp\" as x-y, index as color\n",
        "ax.scatter(climate_change['co2'], climate_change['relative_temp'], c=climate_change.index)\n",
        "\n",
        "# Set the x-axis label to \"CO2 (ppm)\"\n",
        "ax.set_xlabel('CO2 (ppm)')\n",
        "\n",
        "# Set the y-axis label to \"Relative temperature (C)\"\n",
        "ax.set_ylabel('Relative temperature (C)')\n",
        "\n",
        "plt.show()"
      ],
      "execution_count": 0,
      "outputs": []
    }
  ]
}