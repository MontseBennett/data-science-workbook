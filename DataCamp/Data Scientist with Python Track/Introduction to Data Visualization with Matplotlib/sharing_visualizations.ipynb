{
  "nbformat": 4,
  "nbformat_minor": 0,
  "metadata": {
    "colab": {
      "name": "sharing_visualizations.ipynb",
      "provenance": [],
      "collapsed_sections": []
    },
    "kernelspec": {
      "name": "python3",
      "display_name": "Python 3"
    }
  },
  "cells": [
    {
      "cell_type": "markdown",
      "metadata": {
        "id": "xzf2DuK18nhq",
        "colab_type": "text"
      },
      "source": [
        "# Sharing visualizations with others\n"
      ]
    },
    {
      "cell_type": "markdown",
      "metadata": {
        "id": "s6wCIkRDBaqC",
        "colab_type": "text"
      },
      "source": [
        "## Switching between styles"
      ]
    },
    {
      "cell_type": "code",
      "metadata": {
        "id": "QbHupKdyGlys",
        "colab_type": "code",
        "colab": {}
      },
      "source": [
        "# Use the \"ggplot\" style and create new Figure/Axes\n",
        "plt.style.use('ggplot')\n",
        "fig, ax = plt.subplots()\n",
        "ax.plot(seattle_weather[\"MONTH\"], seattle_weather[\"MLY-TAVG-NORMAL\"])\n",
        "plt.show()"
      ],
      "execution_count": 0,
      "outputs": []
    },
    {
      "cell_type": "code",
      "metadata": {
        "id": "BMxRWj5WG6Sm",
        "colab_type": "code",
        "colab": {}
      },
      "source": [
        "# Use the \"Solarize_Light2\" style and create new Figure/Axes\n",
        "plt.style.use('Solarize_Light2')\n",
        "fig, ax = plt.subplots()\n",
        "ax.plot(austin_weather[\"MONTH\"], austin_weather[\"MLY-TAVG-NORMAL\"])\n",
        "plt.show()"
      ],
      "execution_count": 0,
      "outputs": []
    },
    {
      "cell_type": "markdown",
      "metadata": {
        "id": "OusZOZK4ILYG",
        "colab_type": "text"
      },
      "source": [
        "## Saving a file several times"
      ]
    },
    {
      "cell_type": "code",
      "metadata": {
        "id": "BimN6jqhILwN",
        "colab_type": "code",
        "colab": {}
      },
      "source": [
        "# Show the figure\n",
        "plt.show()"
      ],
      "execution_count": 0,
      "outputs": []
    },
    {
      "cell_type": "code",
      "metadata": {
        "id": "fNt4DLFYIN2h",
        "colab_type": "code",
        "colab": {}
      },
      "source": [
        "# Save as a PNG file\n",
        "fig.savefig('my_figure.png')"
      ],
      "execution_count": 0,
      "outputs": []
    },
    {
      "cell_type": "code",
      "metadata": {
        "id": "jUpN_w06ITmx",
        "colab_type": "code",
        "colab": {}
      },
      "source": [
        "# Save as a PNG file with 300 dpi\n",
        "fig.savefig('my_figure_300dpi.png', dpi=300)"
      ],
      "execution_count": 0,
      "outputs": []
    },
    {
      "cell_type": "markdown",
      "metadata": {
        "id": "1NMwkfAWIb2v",
        "colab_type": "text"
      },
      "source": [
        "## Save a figure with different sizes"
      ]
    },
    {
      "cell_type": "code",
      "metadata": {
        "id": "N2vkvijvIcOy",
        "colab_type": "code",
        "colab": {}
      },
      "source": [
        "# Set figure dimensions and save as a PNG\n",
        "fig.set_size_inches((3, 5))\n",
        "fig.savefig('figure_3_5.png')"
      ],
      "execution_count": 0,
      "outputs": []
    },
    {
      "cell_type": "code",
      "metadata": {
        "id": "c7LVqvC4IvDv",
        "colab_type": "code",
        "colab": {}
      },
      "source": [
        "# Set figure dimensions and save as a PNG\n",
        "fig.set_size_inches((5, 3))\n",
        "fig.savefig('figure_5_3.png')"
      ],
      "execution_count": 0,
      "outputs": []
    },
    {
      "cell_type": "markdown",
      "metadata": {
        "id": "oCJAH3xYJtIb",
        "colab_type": "text"
      },
      "source": [
        "## Unique values of a column"
      ]
    },
    {
      "cell_type": "code",
      "metadata": {
        "id": "VGrxWVdtJtgv",
        "colab_type": "code",
        "colab": {}
      },
      "source": [
        "# Extract the \"Sport\" column\n",
        "sports_column = summer_2016_medals['Sport']\n",
        "\n",
        "# Find the unique values of the \"Sport\" column\n",
        "sports = sports_column.unique()\n",
        "\n",
        "# Print out the unique sports values\n",
        "print(sports)"
      ],
      "execution_count": 0,
      "outputs": []
    },
    {
      "cell_type": "markdown",
      "metadata": {
        "id": "kIJjvFPpKBG_",
        "colab_type": "text"
      },
      "source": [
        "## Automate your visualization"
      ]
    },
    {
      "cell_type": "code",
      "metadata": {
        "id": "wgXOdifnKDUb",
        "colab_type": "code",
        "colab": {}
      },
      "source": [
        "fig, ax = plt.subplots()\n",
        "\n",
        "# Loop over the different sports branches\n",
        "for sport in sports:\n",
        "  # Extract the rows only for this sport\n",
        "  sport_df = summer_2016_medals[summer_2016_medals['Sport'] == sport]\n",
        "  # Add a bar for the \"Weight\" mean with std y error bar\n",
        "  ax.bar(sport, sport_df['Weight'].mean(), yerr=sport_df['Weight'].std())\n",
        "\n",
        "ax.set_ylabel(\"Weight\")\n",
        "ax.set_xticklabels(sports, rotation=90)\n",
        "\n",
        "# Save the figure to file\n",
        "fig.savefig('sports_weights.png')"
      ],
      "execution_count": 0,
      "outputs": []
    }
  ]
}