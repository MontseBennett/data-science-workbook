{
  "nbformat": 4,
  "nbformat_minor": 0,
  "metadata": {
    "colab": {
      "name": "custom_seaborn_plots.ipynb",
      "provenance": [],
      "collapsed_sections": []
    },
    "kernelspec": {
      "name": "python3",
      "display_name": "Python 3"
    }
  },
  "cells": [
    {
      "cell_type": "markdown",
      "metadata": {
        "id": "yk-qLqPxjRN4",
        "colab_type": "text"
      },
      "source": [
        "# Customizing Seaborn Plots"
      ]
    },
    {
      "cell_type": "markdown",
      "metadata": {
        "id": "u5rHtZ8BnSd4",
        "colab_type": "text"
      },
      "source": [
        "## Changing style and palette"
      ]
    },
    {
      "cell_type": "code",
      "metadata": {
        "id": "xq9I5FWBnX3x",
        "colab_type": "code",
        "colab": {}
      },
      "source": [
        "# Set the style to \"whitegrid\"\n",
        "sns.set_style('whitegrid')\n",
        "\n",
        "# Create a count plot of survey responses\n",
        "category_order = [\"Never\", \"Rarely\", \"Sometimes\", \n",
        "                  \"Often\", \"Always\"]\n",
        "\n",
        "sns.catplot(x=\"Parents Advice\", \n",
        "            data=survey_data, \n",
        "            kind=\"count\", \n",
        "            order=category_order)\n",
        "\n",
        "# Show plot\n",
        "plt.show()"
      ],
      "execution_count": 0,
      "outputs": []
    },
    {
      "cell_type": "code",
      "metadata": {
        "id": "w1_3W-12nfjO",
        "colab_type": "code",
        "colab": {}
      },
      "source": [
        "# Set the color palette to \"Purples\"\n",
        "sns.set_style(\"whitegrid\")\n",
        "sns.set_palette('Purples')\n",
        "\n",
        "\n",
        "# Create a count plot of survey responses\n",
        "category_order = [\"Never\", \"Rarely\", \"Sometimes\", \n",
        "                  \"Often\", \"Always\"]\n",
        "\n",
        "sns.catplot(x=\"Parents Advice\", \n",
        "            data=survey_data, \n",
        "            kind=\"count\", \n",
        "            order=category_order)\n",
        "\n",
        "# Show plot\n",
        "plt.show()"
      ],
      "execution_count": 0,
      "outputs": []
    },
    {
      "cell_type": "code",
      "metadata": {
        "id": "iDcURYK0ngG3",
        "colab_type": "code",
        "colab": {}
      },
      "source": [
        "# Change the color palette to \"RdBu\"\n",
        "sns.set_style(\"whitegrid\")\n",
        "sns.set_palette(\"RdBu\")\n",
        "\n",
        "# Create a count plot of survey responses\n",
        "category_order = [\"Never\", \"Rarely\", \"Sometimes\", \n",
        "                  \"Often\", \"Always\"]\n",
        "\n",
        "sns.catplot(x=\"Parents Advice\", \n",
        "            data=survey_data, \n",
        "            kind=\"count\", \n",
        "            order=category_order)\n",
        "\n",
        "# Show plot\n",
        "plt.show()"
      ],
      "execution_count": 0,
      "outputs": []
    },
    {
      "cell_type": "markdown",
      "metadata": {
        "id": "evN5CHtwn4_3",
        "colab_type": "text"
      },
      "source": [
        "## Changing the scale"
      ]
    },
    {
      "cell_type": "code",
      "metadata": {
        "id": "NkRc21r1n5W3",
        "colab_type": "code",
        "colab": {}
      },
      "source": [
        "# Set the context to \"paper\"\n",
        "sns.set_context('paper')\n",
        "\n",
        "# Create bar plot\n",
        "sns.catplot(x=\"Number of Siblings\", y=\"Feels Lonely\",\n",
        "            data=survey_data, kind=\"bar\")\n",
        "\n",
        "# Show plot\n",
        "plt.show()"
      ],
      "execution_count": 0,
      "outputs": []
    },
    {
      "cell_type": "code",
      "metadata": {
        "id": "r6ii4Q85n-U8",
        "colab_type": "code",
        "colab": {}
      },
      "source": [
        "# Change the context to \"notebook\"\n",
        "sns.set_context(\"notebook\")\n",
        "\n",
        "# Create bar plot\n",
        "sns.catplot(x=\"Number of Siblings\", y=\"Feels Lonely\",\n",
        "            data=survey_data, kind=\"bar\")\n",
        "\n",
        "# Show plot\n",
        "plt.show()"
      ],
      "execution_count": 0,
      "outputs": []
    },
    {
      "cell_type": "code",
      "metadata": {
        "id": "DSDVR_V0n-jT",
        "colab_type": "code",
        "colab": {}
      },
      "source": [
        "# Change the context to \"talk\"\n",
        "sns.set_context(\"talk\")\n",
        "\n",
        "# Create bar plot\n",
        "sns.catplot(x=\"Number of Siblings\", y=\"Feels Lonely\",\n",
        "            data=survey_data, kind=\"bar\")\n",
        "\n",
        "# Show plot\n",
        "plt.show()"
      ],
      "execution_count": 0,
      "outputs": []
    },
    {
      "cell_type": "code",
      "metadata": {
        "id": "DDkmnVQHn_7E",
        "colab_type": "code",
        "colab": {}
      },
      "source": [
        "# Change the context to \"poster\"\n",
        "sns.set_context(\"poster\")\n",
        "\n",
        "# Create bar plot\n",
        "sns.catplot(x=\"Number of Siblings\", y=\"Feels Lonely\",\n",
        "            data=survey_data, kind=\"bar\")\n",
        "\n",
        "# Show plot\n",
        "plt.show()"
      ],
      "execution_count": 0,
      "outputs": []
    },
    {
      "cell_type": "markdown",
      "metadata": {
        "id": "fuftXmJioKQF",
        "colab_type": "text"
      },
      "source": [
        "## Using a custom palette"
      ]
    },
    {
      "cell_type": "code",
      "metadata": {
        "id": "a-3SnR_foWNZ",
        "colab_type": "code",
        "colab": {}
      },
      "source": [
        "# Set the style to \"darkgrid\"\n",
        "sns.set_style('darkgrid')\n",
        "\n",
        "# Set a custom color palette\n",
        "sns.set_palette(['#39A7D0', '#36ADA4'])\n",
        "\n",
        "# Create the box plot of age distribution by gender\n",
        "sns.catplot(x=\"Gender\", y=\"Age\", \n",
        "            data=survey_data, kind=\"box\")\n",
        "\n",
        "# Show plot\n",
        "plt.show()"
      ],
      "execution_count": 0,
      "outputs": []
    },
    {
      "cell_type": "markdown",
      "metadata": {
        "id": "fjoKzxjPquZ6",
        "colab_type": "text"
      },
      "source": [
        "## FacetGrids vs. AxesSubplots"
      ]
    },
    {
      "cell_type": "code",
      "metadata": {
        "id": "TNBYd8G-qu69",
        "colab_type": "code",
        "colab": {}
      },
      "source": [
        "# Create scatter plot\n",
        "g = sns.relplot(x=\"weight\", \n",
        "                y=\"horsepower\", \n",
        "                data=mpg,\n",
        "                kind=\"scatter\")\n",
        "\n",
        "# Identify plot type\n",
        "type_of_g = type(g)\n",
        "\n",
        "# Print type\n",
        "print(type_of_g)"
      ],
      "execution_count": 0,
      "outputs": []
    },
    {
      "cell_type": "markdown",
      "metadata": {
        "id": "2eIXPzAurApS",
        "colab_type": "text"
      },
      "source": [
        "## Adding a title to a FacetGrid object"
      ]
    },
    {
      "cell_type": "code",
      "metadata": {
        "id": "3bCQkDgyrA-H",
        "colab_type": "code",
        "colab": {}
      },
      "source": [
        "# Create scatter plot\n",
        "g = sns.relplot(x=\"weight\", \n",
        "                y=\"horsepower\", \n",
        "                data=mpg,\n",
        "                kind=\"scatter\")\n",
        "\n",
        "# Add a title \"Car Weight vs. Horsepower\"\n",
        "g.fig.suptitle('Car Weight vs. Horsepower')\n",
        "\n",
        "# Show plot\n",
        "plt.show()"
      ],
      "execution_count": 0,
      "outputs": []
    },
    {
      "cell_type": "markdown",
      "metadata": {
        "id": "FGda6EAarv8R",
        "colab_type": "text"
      },
      "source": [
        "## Adding a title and axis labels"
      ]
    },
    {
      "cell_type": "code",
      "metadata": {
        "id": "T5yZOCUTryRl",
        "colab_type": "code",
        "colab": {}
      },
      "source": [
        "# Create line plot\n",
        "g = sns.lineplot(x=\"model_year\", y=\"mpg_mean\", \n",
        "                 data=mpg_mean,\n",
        "                 hue=\"origin\")\n",
        "\n",
        "# Add a title \"Average MPG Over Time\"\n",
        "g.set_title('Average MPG Over Time')\n",
        "\n",
        "# Show plot\n",
        "plt.show()"
      ],
      "execution_count": 0,
      "outputs": []
    },
    {
      "cell_type": "code",
      "metadata": {
        "id": "Ic4vqT1gsCQu",
        "colab_type": "code",
        "colab": {}
      },
      "source": [
        "# Create line plot\n",
        "g = sns.lineplot(x=\"model_year\", y=\"mpg_mean\", \n",
        "                 data=mpg_mean,\n",
        "                 hue=\"origin\")\n",
        "\n",
        "# Add a title \"Average MPG Over Time\"\n",
        "g.set_title(\"Average MPG Over Time\")\n",
        "\n",
        "# Add x-axis and y-axis labels\n",
        "g.set(xlabel='Car Model Year', ylabel='Average MPG')\n",
        "\n",
        "\n",
        "# Show plot\n",
        "plt.show()"
      ],
      "execution_count": 0,
      "outputs": []
    },
    {
      "cell_type": "markdown",
      "metadata": {
        "id": "8I6zZdhhsS9H",
        "colab_type": "text"
      },
      "source": [
        "## Rotating x-tick labels"
      ]
    },
    {
      "cell_type": "code",
      "metadata": {
        "id": "ykj7yQMrsU4z",
        "colab_type": "code",
        "colab": {}
      },
      "source": [
        "# Create point plot\n",
        "sns.catplot(x=\"origin\", \n",
        "            y=\"acceleration\", \n",
        "            data=mpg, \n",
        "            kind=\"point\", \n",
        "            join=False, \n",
        "            capsize=0.1)\n",
        "\n",
        "# Rotate x-tick labels\n",
        "plt.xticks(rotation=90)\n",
        "\n",
        "# Show plot\n",
        "plt.show()"
      ],
      "execution_count": 0,
      "outputs": []
    },
    {
      "cell_type": "markdown",
      "metadata": {
        "id": "Dkw6_iBdtkOP",
        "colab_type": "text"
      },
      "source": [
        "## Box plot with subgroups"
      ]
    },
    {
      "cell_type": "code",
      "metadata": {
        "id": "KkRNu_lJtkwm",
        "colab_type": "code",
        "colab": {}
      },
      "source": [
        "# Set palette to \"Blues\"\n",
        "sns.set_palette('Blues')\n",
        "\n",
        "# Adjust to add subgroups based on \"Interested in Pets\"\n",
        "g = sns.catplot(x=\"Gender\",\n",
        "                y=\"Age\", data=survey_data, \n",
        "                kind=\"box\", hue='Interested in Pets')\n",
        "\n",
        "# Set title to \"Age of Those Interested in Pets vs. Not\"\n",
        "g.fig.suptitle('Age of Those Interested in Pets vs. Not')\n",
        "\n",
        "# Show plot\n",
        "plt.show()"
      ],
      "execution_count": 0,
      "outputs": []
    },
    {
      "cell_type": "markdown",
      "metadata": {
        "id": "ewTKkedEtqLo",
        "colab_type": "text"
      },
      "source": [
        "## Bar plot with subgroups and subplots"
      ]
    },
    {
      "cell_type": "code",
      "metadata": {
        "id": "P8tdn1Rrtqm8",
        "colab_type": "code",
        "colab": {}
      },
      "source": [
        "# Set the figure style to \"dark\"\n",
        "sns.set_style('dark')\n",
        "\n",
        "# Adjust to add subplots per gender\n",
        "g = sns.catplot(x=\"Village - town\", y=\"Likes Techno\", \n",
        "                data=survey_data, kind=\"bar\",\n",
        "                col='Gender')\n",
        "\n",
        "# Add title and axis labels\n",
        "g.fig.suptitle(\"Percentage of Young People Who Like Techno\", y=1.02)\n",
        "g.set(xlabel=\"Location of Residence\", \n",
        "       ylabel=\"% Who Like Techno\")\n",
        "\n",
        "# Show plot\n",
        "plt.show()"
      ],
      "execution_count": 0,
      "outputs": []
    }
  ]
}