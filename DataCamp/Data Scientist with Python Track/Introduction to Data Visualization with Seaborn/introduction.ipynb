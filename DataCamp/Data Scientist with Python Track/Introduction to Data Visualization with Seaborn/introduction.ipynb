{
  "nbformat": 4,
  "nbformat_minor": 0,
  "metadata": {
    "colab": {
      "name": "introduction.ipynb",
      "provenance": []
    },
    "kernelspec": {
      "name": "python3",
      "display_name": "Python 3"
    }
  },
  "cells": [
    {
      "cell_type": "markdown",
      "metadata": {
        "id": "eybFa3yUd7Hs",
        "colab_type": "text"
      },
      "source": [
        "# Introduction to Seaborn\n"
      ]
    },
    {
      "cell_type": "code",
      "metadata": {
        "id": "MJUF0xiQd-6q",
        "colab_type": "code",
        "colab": {}
      },
      "source": [
        "# Import Matplotlib and Seaborn\n",
        "import matplotlib.pyplot as plt\n",
        "import seaborn as sns"
      ],
      "execution_count": 0,
      "outputs": []
    },
    {
      "cell_type": "code",
      "metadata": {
        "id": "IgS2oh9YefXH",
        "colab_type": "code",
        "colab": {}
      },
      "source": [
        "# Import Matplotlib and Seaborn\n",
        "import matplotlib.pyplot as plt\n",
        "import seaborn as sns\n",
        "\n",
        "# Create scatter plot with GDP on the x-axis and number of phones on the y-axis\n",
        "sns.scatterplot(x=gdp, y=phones)"
      ],
      "execution_count": 0,
      "outputs": []
    },
    {
      "cell_type": "code",
      "metadata": {
        "id": "nUo1xKW8ei8s",
        "colab_type": "code",
        "colab": {}
      },
      "source": [
        "# Import Matplotlib and Seaborn\n",
        "import matplotlib.pyplot as plt\n",
        "import seaborn as sns\n",
        "\n",
        "# Change this scatter plot to have percent literate on the y-axis\n",
        "sns.scatterplot(x=gdp, y=phones)\n",
        "\n",
        "# Show plot\n",
        "plt.show()"
      ],
      "execution_count": 0,
      "outputs": []
    },
    {
      "cell_type": "code",
      "metadata": {
        "id": "h2FtdRODejMz",
        "colab_type": "code",
        "colab": {}
      },
      "source": [
        "# Import Matplotlib and Seaborn\n",
        "import matplotlib.pyplot as plt\n",
        "import seaborn as sns\n",
        "\n",
        "# Change this scatter plot to have percent literate on the y-axis\n",
        "sns.scatterplot(x=gdp, y=percent_literate)\n",
        "\n",
        "# Show plot\n",
        "plt.show()"
      ],
      "execution_count": 0,
      "outputs": []
    },
    {
      "cell_type": "markdown",
      "metadata": {
        "id": "TJPe_Z7IeThU",
        "colab_type": "text"
      },
      "source": [
        "## Making a count plot with a list"
      ]
    },
    {
      "cell_type": "code",
      "metadata": {
        "id": "LgZ-x8fke72s",
        "colab_type": "code",
        "colab": {}
      },
      "source": [
        "# Import Matplotlib and Seaborn\n",
        "import matplotlib.pyplot as plt\n",
        "import seaborn as sns\n",
        "\n",
        "# Create count plot with region on the y-axis\n",
        "sns.countplot(y=region)\n",
        "\n",
        "# Show plot\n",
        "plt.show()"
      ],
      "execution_count": 0,
      "outputs": []
    },
    {
      "cell_type": "markdown",
      "metadata": {
        "id": "pcxxwx_EggCQ",
        "colab_type": "text"
      },
      "source": [
        "## \"Tidy\" vs. \"untidy\" data"
      ]
    },
    {
      "cell_type": "code",
      "metadata": {
        "id": "BfOAgm1DgdPw",
        "colab_type": "code",
        "colab": {}
      },
      "source": [
        "# Import Pandas\n",
        "import pandas as pd\n",
        "\n",
        "# Create a DataFrame from csv file\n",
        "df = pd.read_csv(csv_filepath)\n",
        "\n",
        "# Print the head of df\n",
        "print(df.head())"
      ],
      "execution_count": 0,
      "outputs": []
    },
    {
      "cell_type": "markdown",
      "metadata": {
        "id": "doW_J8eggn1Y",
        "colab_type": "text"
      },
      "source": [
        "## Making a count plot with a DataFrame"
      ]
    },
    {
      "cell_type": "code",
      "metadata": {
        "id": "Sh4kEFvmgoPm",
        "colab_type": "code",
        "colab": {}
      },
      "source": [
        "# Import Matplotlib, Pandas, and Seaborn\n",
        "import pandas as pd\n",
        "import matplotlib.pyplot as plt\n",
        "import seaborn as sns\n",
        "\n",
        "# Create a DataFrame from csv file\n",
        "df = pd.read_csv(csv_filepath)\n",
        "\n",
        "# Create a count plot with \"Spiders\" on the x-axis\n",
        "sns.countplot(data=df, x='Spiders')\n",
        "\n",
        "# Display the plot\n",
        "plt.show()"
      ],
      "execution_count": 0,
      "outputs": []
    },
    {
      "cell_type": "markdown",
      "metadata": {
        "id": "ybrMGpJBg-AX",
        "colab_type": "text"
      },
      "source": [
        "## Hue and scatter plots"
      ]
    },
    {
      "cell_type": "code",
      "metadata": {
        "id": "TUfzr5Cwh2aA",
        "colab_type": "code",
        "colab": {}
      },
      "source": [
        "# Import Matplotlib and Seaborn\n",
        "import matplotlib.pyplot as plt\n",
        "import seaborn as sns\n",
        "\n",
        "# Create a scatter plot of absences vs. final grade\n",
        "sns.scatterplot(data=student_data, x='absences', y='G3', hue='location')\n",
        "\n",
        "\n",
        "# Show plot\n",
        "plt.show()"
      ],
      "execution_count": 0,
      "outputs": []
    },
    {
      "cell_type": "code",
      "metadata": {
        "id": "t7tZSEptiod_",
        "colab_type": "code",
        "colab": {}
      },
      "source": [
        "# Import Matplotlib and Seaborn\n",
        "import matplotlib.pyplot as plt\n",
        "import seaborn as sns\n",
        "\n",
        "# Change the legend order in the scatter plot\n",
        "sns.scatterplot(x=\"absences\", y=\"G3\", \n",
        "                data=student_data, \n",
        "                hue=\"location\", hue_order=['Rural', 'Urban'])\n",
        "\n",
        "# Show plot\n",
        "plt.show()"
      ],
      "execution_count": 0,
      "outputs": []
    },
    {
      "cell_type": "markdown",
      "metadata": {
        "id": "x2yQXGxnipIP",
        "colab_type": "text"
      },
      "source": [
        "## Hue and count plots"
      ]
    },
    {
      "cell_type": "code",
      "metadata": {
        "id": "7C_ZJ5nBiqvY",
        "colab_type": "code",
        "colab": {}
      },
      "source": [
        "# Import Matplotlib and Seaborn\n",
        "import matplotlib.pyplot as plt\n",
        "import seaborn as sns\n",
        "\n",
        "# Create a dictionary mapping subgroup values to colors\n",
        "palette_colors = {'Rural': \"green\", 'Urban': \"blue\"}\n",
        "\n",
        "# Create a count plot of school with location subgroups\n",
        "sns.countplot(data=student_data, x='school', hue='location', palette=palette_colors)\n",
        "\n",
        "\n",
        "\n",
        "# Display plot\n",
        "plt.show()"
      ],
      "execution_count": 0,
      "outputs": []
    }
  ]
}