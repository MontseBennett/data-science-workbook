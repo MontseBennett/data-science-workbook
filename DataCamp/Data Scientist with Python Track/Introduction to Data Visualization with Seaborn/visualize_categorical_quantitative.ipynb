{
  "nbformat": 4,
  "nbformat_minor": 0,
  "metadata": {
    "colab": {
      "name": "visualize_categorical_quantitative.ipynb",
      "provenance": [],
      "collapsed_sections": []
    },
    "kernelspec": {
      "name": "python3",
      "display_name": "Python 3"
    }
  },
  "cells": [
    {
      "cell_type": "markdown",
      "metadata": {
        "id": "kEDTsbCuGMXw",
        "colab_type": "text"
      },
      "source": [
        "# Visualizing a Categorical and a Quantitative Variable"
      ]
    },
    {
      "cell_type": "markdown",
      "metadata": {
        "id": "MtPSMDF_GR8p",
        "colab_type": "text"
      },
      "source": [
        "## Count plots"
      ]
    },
    {
      "cell_type": "code",
      "metadata": {
        "id": "Y9XwOwmQPBEo",
        "colab_type": "code",
        "colab": {}
      },
      "source": [
        "# Create count plot of internet usage\n",
        "sns.catplot(kind='count', data=survey_data, x='Internet usage')\n",
        "\n",
        "\n",
        "# Show plot\n",
        "plt.show()"
      ],
      "execution_count": 0,
      "outputs": []
    },
    {
      "cell_type": "code",
      "metadata": {
        "id": "zXl5oD6wPYH6",
        "colab_type": "code",
        "colab": {}
      },
      "source": [
        "# Change the orientation of the plot\n",
        "sns.catplot(y=\"Internet usage\", data=survey_data,\n",
        "            kind=\"count\")\n",
        "\n",
        "# Show plot\n",
        "plt.show()"
      ],
      "execution_count": 0,
      "outputs": []
    },
    {
      "cell_type": "code",
      "metadata": {
        "id": "z5dC0g78PYZW",
        "colab_type": "code",
        "colab": {}
      },
      "source": [
        "# Create column subplots based on age category\n",
        "sns.catplot(y=\"Internet usage\", data=survey_data,\n",
        "            kind=\"count\", col='Age Category')\n",
        "\n",
        "# Show plot\n",
        "plt.show()"
      ],
      "execution_count": 0,
      "outputs": []
    },
    {
      "cell_type": "markdown",
      "metadata": {
        "id": "IvX-9VU2Pplt",
        "colab_type": "text"
      },
      "source": [
        "## Bar plots with percentages\n"
      ]
    },
    {
      "cell_type": "code",
      "metadata": {
        "id": "_P3gjtVxPqlb",
        "colab_type": "code",
        "colab": {}
      },
      "source": [
        "# Create a bar plot of interest in math, separated by gender\n",
        "sns.catplot(kind='bar', data=survey_data, x='Gender', y='Interested in Math')\n",
        "\n",
        "\n",
        "# Show plot\n",
        "plt.show()"
      ],
      "execution_count": 0,
      "outputs": []
    },
    {
      "cell_type": "markdown",
      "metadata": {
        "id": "I6TXiYLJQR5d",
        "colab_type": "text"
      },
      "source": [
        "## Customizing bar plots"
      ]
    },
    {
      "cell_type": "code",
      "metadata": {
        "id": "b_PhUZ5EQTVn",
        "colab_type": "code",
        "colab": {}
      },
      "source": [
        "# Create bar plot of average final grade in each study category\n",
        "sns.catplot(kind='bar', data=student_data, x='study_time', y='G3')\n",
        "\n",
        "\n",
        "\n",
        "# Show plot\n",
        "plt.show()"
      ],
      "execution_count": 0,
      "outputs": []
    },
    {
      "cell_type": "code",
      "metadata": {
        "id": "tSGd82IvQtqj",
        "colab_type": "code",
        "colab": {}
      },
      "source": [
        "# Create bar plot of average final grade in each study category\n",
        "sns.catplot(kind='bar', data=student_data, x='study_time', y='G3')\n",
        "\n",
        "\n",
        "\n",
        "# Show plot\n",
        "plt.show()"
      ],
      "execution_count": 0,
      "outputs": []
    },
    {
      "cell_type": "code",
      "metadata": {
        "id": "IJiRFsp3QtfL",
        "colab_type": "code",
        "colab": {}
      },
      "source": [
        "# Turn off the confidence intervals\n",
        "sns.catplot(x=\"study_time\", y=\"G3\",\n",
        "            data=student_data,\n",
        "            kind=\"bar\",\n",
        "            order=[\"<2 hours\", \n",
        "                   \"2 to 5 hours\", \n",
        "                   \"5 to 10 hours\", \n",
        "                   \">10 hours\"], ci=None)\n",
        "\n",
        "# Show plot\n",
        "plt.show()"
      ],
      "execution_count": 0,
      "outputs": []
    },
    {
      "cell_type": "markdown",
      "metadata": {
        "id": "fIIAHC6QRGrz",
        "colab_type": "text"
      },
      "source": [
        "## Create and interpret a box plot"
      ]
    },
    {
      "cell_type": "code",
      "metadata": {
        "id": "0tqEU-5iSR0I",
        "colab_type": "code",
        "colab": {}
      },
      "source": [
        "# Specify the category ordering\n",
        "study_time_order = [\"<2 hours\", \"2 to 5 hours\", \n",
        "                    \"5 to 10 hours\", \">10 hours\"]\n",
        "\n",
        "# Create a box plot and set the order of the categories\n",
        "sns.catplot(kind='box', data=student_data, x='study_time', y='G3', order=study_time_order)\n",
        "\n",
        "\n",
        "# Show plot\n",
        "plt.show()"
      ],
      "execution_count": 0,
      "outputs": []
    },
    {
      "cell_type": "markdown",
      "metadata": {
        "id": "UrfF-0H3S9og",
        "colab_type": "text"
      },
      "source": [
        "## Omitting outliers"
      ]
    },
    {
      "cell_type": "code",
      "metadata": {
        "id": "Pnrpk1OnS-Rd",
        "colab_type": "code",
        "colab": {}
      },
      "source": [
        "# Create a box plot with subgroups and omit the outliers\n",
        "sns.catplot(kind='box', data=student_data, x='internet', y='G3', hue='location', sym=' ')\n",
        "\n",
        "\n",
        "# Show plot\n",
        "plt.show()"
      ],
      "execution_count": 0,
      "outputs": []
    },
    {
      "cell_type": "markdown",
      "metadata": {
        "id": "8hj7F4rWTkCh",
        "colab_type": "text"
      },
      "source": [
        "## Adjusting the whiskers"
      ]
    },
    {
      "cell_type": "code",
      "metadata": {
        "id": "L-e0GWvVTkhc",
        "colab_type": "code",
        "colab": {}
      },
      "source": [
        "# Set the whiskers to 0.5 * IQR\n",
        "sns.catplot(x=\"romantic\", y=\"G3\",\n",
        "            data=student_data,\n",
        "            kind=\"box\", whis=0.5)\n",
        "\n",
        "# Show plot\n",
        "plt.show()"
      ],
      "execution_count": 0,
      "outputs": []
    },
    {
      "cell_type": "code",
      "metadata": {
        "id": "YlLrQA_wTyNh",
        "colab_type": "code",
        "colab": {}
      },
      "source": [
        "# Extend the whiskers to the 5th and 95th percentile\n",
        "sns.catplot(x=\"romantic\", y=\"G3\",\n",
        "            data=student_data,\n",
        "            kind=\"box\",\n",
        "            whis=[5, 95])\n",
        "\n",
        "# Show plot\n",
        "plt.show()"
      ],
      "execution_count": 0,
      "outputs": []
    },
    {
      "cell_type": "code",
      "metadata": {
        "id": "ktRxrFRqTynl",
        "colab_type": "code",
        "colab": {}
      },
      "source": [
        "# Set the whiskers at the min and max values\n",
        "sns.catplot(x=\"romantic\", y=\"G3\",\n",
        "            data=student_data,\n",
        "            kind=\"box\",\n",
        "            whis=[0, 100])\n",
        "\n",
        "# Show plot\n",
        "plt.show()"
      ],
      "execution_count": 0,
      "outputs": []
    },
    {
      "cell_type": "markdown",
      "metadata": {
        "id": "DpDzduf2VOm5",
        "colab_type": "text"
      },
      "source": [
        "## Customizing point plots"
      ]
    },
    {
      "cell_type": "code",
      "metadata": {
        "id": "qd01xvGhVPAR",
        "colab_type": "code",
        "colab": {}
      },
      "source": [
        "# Create a point plot of family relationship vs. absences\n",
        "sns.catplot(kind='point', data=student_data, x='famrel', y='absences')\n",
        "\n",
        "\n",
        "            \n",
        "# Show plot\n",
        "plt.show()"
      ],
      "execution_count": 0,
      "outputs": []
    },
    {
      "cell_type": "code",
      "metadata": {
        "id": "SILJouMWVt6U",
        "colab_type": "code",
        "colab": {}
      },
      "source": [
        "# Add caps to the confidence interval\n",
        "sns.catplot(x=\"famrel\", y=\"absences\",\n",
        "\t\t\tdata=student_data,\n",
        "            kind=\"point\", capsize=0.2)\n",
        "        \n",
        "# Show plot\n",
        "plt.show()"
      ],
      "execution_count": 0,
      "outputs": []
    },
    {
      "cell_type": "code",
      "metadata": {
        "id": "pKLqNavpVxpK",
        "colab_type": "code",
        "colab": {}
      },
      "source": [
        "# Remove the lines joining the points\n",
        "sns.catplot(x=\"famrel\", y=\"absences\",\n",
        "\t\t\tdata=student_data,\n",
        "            kind=\"point\",\n",
        "            capsize=0.2, join=False)\n",
        "            \n",
        "# Show plot\n",
        "plt.show()"
      ],
      "execution_count": 0,
      "outputs": []
    },
    {
      "cell_type": "markdown",
      "metadata": {
        "id": "w4rIGBUnV-G1",
        "colab_type": "text"
      },
      "source": [
        "## Point plots with subgroups"
      ]
    },
    {
      "cell_type": "code",
      "metadata": {
        "id": "30MqGOzJV-f1",
        "colab_type": "code",
        "colab": {}
      },
      "source": [
        "# Create a point plot with subgroups\n",
        "sns.catplot(kind='point', data=student_data, x='romantic', y='absences', hue='school')\n",
        "\n",
        "\n",
        "\n",
        "# Show plot\n",
        "plt.show()"
      ],
      "execution_count": 0,
      "outputs": []
    },
    {
      "cell_type": "code",
      "metadata": {
        "id": "XuySXXR8WVKE",
        "colab_type": "code",
        "colab": {}
      },
      "source": [
        "# Turn off the confidence intervals for this plot\n",
        "sns.catplot(x=\"romantic\", y=\"absences\",\n",
        "\t\t\tdata=student_data,\n",
        "            kind=\"point\",\n",
        "            hue=\"school\", ci=None)\n",
        "\n",
        "# Show plot\n",
        "plt.show()"
      ],
      "execution_count": 0,
      "outputs": []
    },
    {
      "cell_type": "code",
      "metadata": {
        "id": "66Ob98vVWjWh",
        "colab_type": "code",
        "colab": {}
      },
      "source": [
        "# Import median function from numpy\n",
        "from numpy import median\n",
        "\n",
        "# Plot the median number of absences instead of the mean\n",
        "sns.catplot(x=\"romantic\", y=\"absences\",\n",
        "\t\t\tdata=student_data,\n",
        "            kind=\"point\",\n",
        "            hue=\"school\",\n",
        "            ci=None,\n",
        "            estimator=median)\n",
        "\n",
        "# Show plot\n",
        "plt.show()"
      ],
      "execution_count": 0,
      "outputs": []
    }
  ]
}