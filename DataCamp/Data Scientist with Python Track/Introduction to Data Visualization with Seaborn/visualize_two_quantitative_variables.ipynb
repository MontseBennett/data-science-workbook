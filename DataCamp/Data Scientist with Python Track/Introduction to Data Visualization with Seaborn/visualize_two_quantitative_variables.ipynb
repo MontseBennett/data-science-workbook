{
  "nbformat": 4,
  "nbformat_minor": 0,
  "metadata": {
    "colab": {
      "name": "visualize_two_quantitative_variables.ipynb",
      "provenance": []
    },
    "kernelspec": {
      "name": "python3",
      "display_name": "Python 3"
    }
  },
  "cells": [
    {
      "cell_type": "markdown",
      "metadata": {
        "id": "lbMorO5Vk8f5",
        "colab_type": "text"
      },
      "source": [
        "# Visualizing Two Quantitative Variables\n"
      ]
    },
    {
      "cell_type": "markdown",
      "metadata": {
        "id": "wktsDzb3jz5l",
        "colab_type": "text"
      },
      "source": [
        "## Creating subplots with col and row"
      ]
    },
    {
      "cell_type": "code",
      "metadata": {
        "id": "wKx0UCzBk5iV",
        "colab_type": "code",
        "colab": {}
      },
      "source": [
        "# Change to use relplot() instead of scatterplot()\n",
        "sns.relplot(kind='scatter',\n",
        "data=student_data,\n",
        "x='absences', y='G3')\n",
        "\n",
        "# Show plot\n",
        "plt.show()"
      ],
      "execution_count": 0,
      "outputs": []
    },
    {
      "cell_type": "code",
      "metadata": {
        "id": "eeCO84ahlZe-",
        "colab_type": "code",
        "colab": {}
      },
      "source": [
        "# Change to make subplots based on study time\n",
        "sns.relplot(x=\"absences\", y=\"G3\", \n",
        "            data=student_data,\n",
        "            kind=\"scatter\",\n",
        "            col='study_time')\n",
        "\n",
        "# Show plot\n",
        "plt.show()"
      ],
      "execution_count": 0,
      "outputs": []
    },
    {
      "cell_type": "code",
      "metadata": {
        "id": "ckYAjP4VlZ3t",
        "colab_type": "code",
        "colab": {}
      },
      "source": [
        "# Change this scatter plot to arrange the plots in rows instead of columns\n",
        "sns.relplot(x=\"absences\", y=\"G3\", \n",
        "            data=student_data,\n",
        "            kind=\"scatter\", \n",
        "            row=\"study_time\")\n",
        "\n",
        "# Show plot\n",
        "plt.show()"
      ],
      "execution_count": 0,
      "outputs": []
    },
    {
      "cell_type": "markdown",
      "metadata": {
        "id": "ifCzMIrTlaLA",
        "colab_type": "text"
      },
      "source": [
        "## Creating two-factor subplots"
      ]
    },
    {
      "cell_type": "code",
      "metadata": {
        "id": "28v3roZelxl8",
        "colab_type": "code",
        "colab": {}
      },
      "source": [
        "# Create a scatter plot of G1 vs. G3\n",
        "sns.relplot(kind='scatter', data=student_data, x='G1', y='G3')\n",
        "\n",
        "\n",
        "\n",
        "# Show plot\n",
        "plt.show()"
      ],
      "execution_count": 0,
      "outputs": []
    },
    {
      "cell_type": "code",
      "metadata": {
        "id": "1IpUGOLEmYGy",
        "colab_type": "code",
        "colab": {}
      },
      "source": [
        "# Adjust to add subplots based on school support\n",
        "sns.relplot(x=\"G1\", y=\"G3\", \n",
        "            data=student_data,\n",
        "            kind=\"scatter\", col='schoolsup', col_order=['yes', 'no'])\n",
        "\n",
        "# Show plot\n",
        "plt.show()"
      ],
      "execution_count": 0,
      "outputs": []
    },
    {
      "cell_type": "code",
      "metadata": {
        "id": "8XMqngGQmYdJ",
        "colab_type": "code",
        "colab": {}
      },
      "source": [
        "# Adjust further to add subplots based on family support\n",
        "sns.relplot(x=\"G1\", y=\"G3\", \n",
        "            data=student_data,\n",
        "            kind=\"scatter\", \n",
        "            col=\"schoolsup\",\n",
        "            col_order=[\"yes\", \"no\"], row='famsup', row_order=['yes', 'no'])\n",
        "\n",
        "# Show plot\n",
        "plt.show()"
      ],
      "execution_count": 0,
      "outputs": []
    },
    {
      "cell_type": "markdown",
      "metadata": {
        "id": "BZJIeRFjmjOX",
        "colab_type": "text"
      },
      "source": [
        "## Changing the size of scatter plot points"
      ]
    },
    {
      "cell_type": "code",
      "metadata": {
        "id": "4kd9vOlFn-Zv",
        "colab_type": "code",
        "colab": {}
      },
      "source": [
        "# Import Matplotlib and Seaborn\n",
        "import matplotlib.pyplot as plt\n",
        "import seaborn as sns\n",
        "\n",
        "# Create scatter plot of horsepower vs. mpg\n",
        "sns.relplot(data=mpg, x='horsepower', y='mpg', kind='scatter', size='cylinders')\n",
        "\n",
        "\n",
        "\n",
        "# Show plot\n",
        "plt.show()"
      ],
      "execution_count": 0,
      "outputs": []
    },
    {
      "cell_type": "code",
      "metadata": {
        "id": "XR_AMncloHk0",
        "colab_type": "code",
        "colab": {}
      },
      "source": [
        "# Import Matplotlib and Seaborn\n",
        "import matplotlib.pyplot as plt\n",
        "import seaborn as sns\n",
        "\n",
        "# Create scatter plot of horsepower vs. mpg\n",
        "sns.relplot(x=\"horsepower\", y=\"mpg\", \n",
        "            data=mpg, kind=\"scatter\", \n",
        "            size=\"cylinders\", hue='cylinders')\n",
        "\n",
        "# Show plot\n",
        "plt.show()"
      ],
      "execution_count": 0,
      "outputs": []
    },
    {
      "cell_type": "markdown",
      "metadata": {
        "id": "kkDMbXZLoN1C",
        "colab_type": "text"
      },
      "source": [
        "## Changing the style of scatter plot points"
      ]
    },
    {
      "cell_type": "code",
      "metadata": {
        "id": "SdslHe-6oQXO",
        "colab_type": "code",
        "colab": {}
      },
      "source": [
        "# Import Matplotlib and Seaborn\n",
        "import matplotlib.pyplot as plt\n",
        "import seaborn as sns\n",
        "\n",
        "# Create a scatter plot of acceleration vs. mpg\n",
        "sns.relplot(kind='scatter', data=mpg, x='acceleration', y='mpg', style='origin', hue='origin')\n",
        "\n",
        "\n",
        "\n",
        "# Show plot\n",
        "plt.show()"
      ],
      "execution_count": 0,
      "outputs": []
    },
    {
      "cell_type": "markdown",
      "metadata": {
        "id": "6SgK91VeokaJ",
        "colab_type": "text"
      },
      "source": [
        "## Interpreting line plots"
      ]
    },
    {
      "cell_type": "code",
      "metadata": {
        "id": "URiE0FvjqQgB",
        "colab_type": "code",
        "colab": {}
      },
      "source": [
        "# Import Matplotlib and Seaborn\n",
        "import matplotlib.pyplot as plt\n",
        "import seaborn as sns\n",
        "\n",
        "# Create line plot\n",
        "sns.relplot(kind='line', data=mpg, x='model_year', y='mpg')\n",
        "\n",
        "\n",
        "# Show plot\n",
        "plt.show()"
      ],
      "execution_count": 0,
      "outputs": []
    },
    {
      "cell_type": "markdown",
      "metadata": {
        "id": "7md1u05pqcxH",
        "colab_type": "text"
      },
      "source": [
        "## Visualizing standard deviation with line plots"
      ]
    },
    {
      "cell_type": "code",
      "metadata": {
        "id": "GZDCZKCrqrXi",
        "colab_type": "code",
        "colab": {}
      },
      "source": [
        "# Make the shaded area show the standard deviation\n",
        "sns.relplot(x=\"model_year\", y=\"mpg\",\n",
        "            data=mpg, kind=\"line\", ci='sd')\n",
        "\n",
        "# Show plot\n",
        "plt.show()"
      ],
      "execution_count": 0,
      "outputs": []
    },
    {
      "cell_type": "markdown",
      "metadata": {
        "id": "Tn0XmTX3q1xV",
        "colab_type": "text"
      },
      "source": [
        "## Plotting subgroups in line plots"
      ]
    },
    {
      "cell_type": "code",
      "metadata": {
        "id": "jsuqlsKmq2fk",
        "colab_type": "code",
        "colab": {}
      },
      "source": [
        "# Import Matplotlib and Seaborn\n",
        "import matplotlib.pyplot as plt\n",
        "import seaborn as sns\n",
        "\n",
        "# Create line plot of model year vs. horsepower\n",
        "sns.relplot(kind='line', data=mpg, x='model_year', y='horsepower', ci=None)\n",
        "\n",
        "\n",
        "\n",
        "# Show plot\n",
        "plt.show()"
      ],
      "execution_count": 0,
      "outputs": []
    },
    {
      "cell_type": "code",
      "metadata": {
        "id": "ZN1lc5aPrK0g",
        "colab_type": "code",
        "colab": {}
      },
      "source": [
        "# Import Matplotlib and Seaborn\n",
        "import matplotlib.pyplot as plt\n",
        "import seaborn as sns\n",
        "\n",
        "# Change to create subgroups for country of origin\n",
        "sns.relplot(x=\"model_year\", y=\"horsepower\", \n",
        "            data=mpg, kind=\"line\", \n",
        "            ci=None, style='origin', hue='origin')\n",
        "\n",
        "# Show plot\n",
        "plt.show()"
      ],
      "execution_count": 0,
      "outputs": []
    },
    {
      "cell_type": "code",
      "metadata": {
        "id": "iPelDqONrLNU",
        "colab_type": "code",
        "colab": {}
      },
      "source": [
        "# Import Matplotlib and Seaborn\n",
        "import matplotlib.pyplot as plt\n",
        "import seaborn as sns\n",
        "\n",
        "# Add markers and make each line have the same style\n",
        "sns.relplot(x=\"model_year\", y=\"horsepower\", \n",
        "            data=mpg, kind=\"line\", \n",
        "            ci=None, style=\"origin\", \n",
        "            hue=\"origin\", markers=True, dashes=False)\n",
        "\n",
        "# Show plot\n",
        "plt.show()"
      ],
      "execution_count": 0,
      "outputs": []
    }
  ]
}