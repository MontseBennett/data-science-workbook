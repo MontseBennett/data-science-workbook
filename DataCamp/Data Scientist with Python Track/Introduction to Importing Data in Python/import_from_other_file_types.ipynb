{
  "nbformat": 4,
  "nbformat_minor": 0,
  "metadata": {
    "colab": {
      "name": "import_from_other_file_types.ipynb",
      "provenance": [],
      "collapsed_sections": []
    },
    "kernelspec": {
      "name": "python3",
      "display_name": "Python 3"
    }
  },
  "cells": [
    {
      "cell_type": "markdown",
      "metadata": {
        "id": "IWe9MAgUe9nH",
        "colab_type": "text"
      },
      "source": [
        "# Importing data from other file types\n"
      ]
    },
    {
      "cell_type": "markdown",
      "metadata": {
        "id": "OZJNRueXaE8w",
        "colab_type": "text"
      },
      "source": [
        "## Not so flat any more"
      ]
    },
    {
      "cell_type": "markdown",
      "metadata": {
        "id": "ACLt4bv3aFT3",
        "colab_type": "text"
      },
      "source": [
        "B. battledeath.xlsx is not a flat because it is a spreadsheet consisting of many sheets, not a single table."
      ]
    },
    {
      "cell_type": "markdown",
      "metadata": {
        "id": "Q2ODMwlMazWc",
        "colab_type": "text"
      },
      "source": [
        "## Loading a pickled file"
      ]
    },
    {
      "cell_type": "code",
      "metadata": {
        "id": "ixZmCI7kafC-",
        "colab_type": "code",
        "colab": {}
      },
      "source": [
        "# Import pickle package\n",
        "import pickle\n",
        "\n",
        "# Open pickle file and load data: d\n",
        "with open('data.pkl', 'rb') as file:\n",
        "    d = pickle.load(file)\n",
        "\n",
        "# Print d\n",
        "print(d)\n",
        "\n",
        "# Print datatype of d\n",
        "print(type(d))"
      ],
      "execution_count": 0,
      "outputs": []
    },
    {
      "cell_type": "markdown",
      "metadata": {
        "id": "L-uDw-kEa3YS",
        "colab_type": "text"
      },
      "source": [
        "## Listing sheets in Excel files"
      ]
    },
    {
      "cell_type": "code",
      "metadata": {
        "id": "fiHFs-ysa3tw",
        "colab_type": "code",
        "colab": {}
      },
      "source": [
        "# Import pandas\n",
        "import pandas as pd\n",
        "\n",
        "# Assign spreadsheet filename: file\n",
        "file = 'battledeath.xlsx'\n",
        "\n",
        "# Load spreadsheet: xls\n",
        "xls = pd.ExcelFile(file)\n",
        "\n",
        "# Print sheet names\n",
        "print(xls.sheet_names)\n"
      ],
      "execution_count": 0,
      "outputs": []
    },
    {
      "cell_type": "markdown",
      "metadata": {
        "id": "rwSHopSMbR5Z",
        "colab_type": "text"
      },
      "source": [
        "## Importing sheets from Excel files"
      ]
    },
    {
      "cell_type": "code",
      "metadata": {
        "id": "MHS-K0rdbSOt",
        "colab_type": "code",
        "colab": {}
      },
      "source": [
        "# Load a sheet into a DataFrame by name: df1\n",
        "df1 = xls.parse('2004')\n",
        "\n",
        "# Print the head of the DataFrame df1\n",
        "print(df1.head())\n",
        "\n",
        "# Load a sheet into a DataFrame by index: df2\n",
        "df2 = xls.parse(0)\n",
        "\n",
        "# Print the head of the DataFrame df2\n",
        "print(df2.head())"
      ],
      "execution_count": 0,
      "outputs": []
    },
    {
      "cell_type": "markdown",
      "metadata": {
        "id": "T7sMS9emdqNA",
        "colab_type": "text"
      },
      "source": [
        "## Customizing your spreadsheet import"
      ]
    },
    {
      "cell_type": "code",
      "metadata": {
        "id": "3in3cPmydqlv",
        "colab_type": "code",
        "colab": {}
      },
      "source": [
        "# Parse the first sheet and rename the columns: df1\n",
        "df1 = xls.parse(0, skiprows=[0], names=['Country', 'AAM due to War (2002)'])\n",
        "\n",
        "# Print the head of the DataFrame df1\n",
        "print(df1.head())\n",
        "\n",
        "# Parse the first column of the second sheet and rename the column: df2\n",
        "df2 = xls.parse(1, usecols=[0], skiprows=[0], names=['Country'])\n",
        "\n",
        "# Print the head of the DataFrame df2\n",
        "print(df2.head())\n"
      ],
      "execution_count": 0,
      "outputs": []
    },
    {
      "cell_type": "markdown",
      "metadata": {
        "id": "MO3w0QQVfL7R",
        "colab_type": "text"
      },
      "source": [
        "## How to import SAS7BDAT"
      ]
    },
    {
      "cell_type": "markdown",
      "metadata": {
        "id": "h9WpNxzJfM_Y",
        "colab_type": "text"
      },
      "source": [
        "D. from sas7bdat import SAS7BDAT"
      ]
    },
    {
      "cell_type": "markdown",
      "metadata": {
        "id": "9cJTSY7efSj1",
        "colab_type": "text"
      },
      "source": [
        "## Importing SAS files"
      ]
    },
    {
      "cell_type": "code",
      "metadata": {
        "id": "jpu6sfcQfUzX",
        "colab_type": "code",
        "colab": {}
      },
      "source": [
        "# Import sas7bdat package\n",
        "from sas7bdat import SAS7BDAT\n",
        "\n",
        "# Save file to a DataFrame: df_sas\n",
        "with SAS7BDAT('sales.sas7bdat') as file:\n",
        "    df_sas = file.to_data_frame()\n",
        "\n",
        "# Print head of DataFrame\n",
        "print(df_sas.head())\n",
        "\n",
        "# Plot histogram of DataFrame features (pandas and pyplot already imported)\n",
        "pd.DataFrame.hist(df_sas[['P']])\n",
        "plt.ylabel('count')\n",
        "plt.show()"
      ],
      "execution_count": 0,
      "outputs": []
    },
    {
      "cell_type": "markdown",
      "metadata": {
        "id": "9sB2pcrVfsZn",
        "colab_type": "text"
      },
      "source": [
        "## Using read_stata to import Stata files"
      ]
    },
    {
      "cell_type": "markdown",
      "metadata": {
        "id": "_0ZiGIn7fswo",
        "colab_type": "text"
      },
      "source": [
        "df = pd.read_stata('disarea.dta')"
      ]
    },
    {
      "cell_type": "markdown",
      "metadata": {
        "id": "AwseoI22f6i6",
        "colab_type": "text"
      },
      "source": [
        "## Importing Stata files"
      ]
    },
    {
      "cell_type": "code",
      "metadata": {
        "id": "kWUaAcBcf8k4",
        "colab_type": "code",
        "colab": {}
      },
      "source": [
        "# Import pandas\n",
        "import pandas as pd\n",
        "\n",
        "# Load Stata file into a pandas DataFrame: df\n",
        "df = pd.read_stata('disarea.dta')\n",
        "\n",
        "# Print the head of the DataFrame df\n",
        "print(df.head())\n",
        "\n",
        "# Plot histogram of one column of the DataFrame\n",
        "pd.DataFrame.hist(df[['disa10']])\n",
        "plt.xlabel('Extent of disease')\n",
        "plt.ylabel('Number of countries')\n",
        "plt.show()\n"
      ],
      "execution_count": 0,
      "outputs": []
    },
    {
      "cell_type": "markdown",
      "metadata": {
        "id": "qoRqAFVYgI9A",
        "colab_type": "text"
      },
      "source": [
        "## Using File to import HDF5 files"
      ]
    },
    {
      "cell_type": "markdown",
      "metadata": {
        "id": "qlJaBUrcg2V0",
        "colab_type": "text"
      },
      "source": [
        "B. Using File to import HDF5 files"
      ]
    },
    {
      "cell_type": "markdown",
      "metadata": {
        "id": "nENFGOHAhAmF",
        "colab_type": "text"
      },
      "source": [
        "## Using h5py to import HDF5 files"
      ]
    },
    {
      "cell_type": "code",
      "metadata": {
        "id": "1ADXdu6RhC_r",
        "colab_type": "code",
        "colab": {}
      },
      "source": [
        "# Import packages\n",
        "import numpy as np\n",
        "import h5py\n",
        "\n",
        "# Assign filename: file\n",
        "file = 'LIGO_data.hdf5'\n",
        "\n",
        "# Load file: data\n",
        "data = h5py.File(file, 'r')\n",
        "\n",
        "# Print the datatype of the loaded file\n",
        "print(type(data))\n",
        "\n",
        "# Print the keys of the file\n",
        "for key in data.keys():\n",
        "    print(key)\n"
      ],
      "execution_count": 0,
      "outputs": []
    },
    {
      "cell_type": "markdown",
      "metadata": {
        "id": "aaFqyBdthdas",
        "colab_type": "text"
      },
      "source": [
        "## Extracting data from your HDF5 file"
      ]
    },
    {
      "cell_type": "code",
      "metadata": {
        "id": "3b-fF4axhdxg",
        "colab_type": "code",
        "colab": {}
      },
      "source": [
        "# Get the HDF5 group: group\n",
        "group = data['strain']\n",
        "\n",
        "# Check out keys of group\n",
        "for key in group.keys():\n",
        "    print(key)\n",
        "\n",
        "# Set variable equal to time series data: strain\n",
        "strain = data['strain']['Strain'].value\n",
        "\n",
        "# Set number of time points to sample: num_samples\n",
        "num_samples = 10000\n",
        "\n",
        "# Set time vector\n",
        "time = np.arange(0, 1, 1/num_samples)\n",
        "\n",
        "# Plot data\n",
        "plt.plot(time, strain[:num_samples])\n",
        "plt.xlabel('GPS Time (s)')\n",
        "plt.ylabel('strain')\n",
        "plt.show()\n"
      ],
      "execution_count": 0,
      "outputs": []
    },
    {
      "cell_type": "markdown",
      "metadata": {
        "id": "2hyijX48ioLr",
        "colab_type": "text"
      },
      "source": [
        "## Loading .mat files"
      ]
    },
    {
      "cell_type": "code",
      "metadata": {
        "id": "T3oq-Q8Gioha",
        "colab_type": "code",
        "colab": {}
      },
      "source": [
        "# Import package\n",
        "import scipy.io\n",
        "\n",
        "# Load MATLAB file: mat\n",
        "mat = scipy.io.loadmat('albeck_gene_expression.mat')\n",
        "\n",
        "# Print the datatype type of mat\n",
        "print(type(mat))\n"
      ],
      "execution_count": 0,
      "outputs": []
    },
    {
      "cell_type": "markdown",
      "metadata": {
        "id": "3Wq1dITpi3sg",
        "colab_type": "text"
      },
      "source": [
        "## The structure of .mat in Python"
      ]
    },
    {
      "cell_type": "code",
      "metadata": {
        "id": "5y4KI-qmi6Fv",
        "colab_type": "code",
        "colab": {}
      },
      "source": [
        "# Print the keys of the MATLAB dictionary\n",
        "print(mat.keys())\n",
        "\n",
        "# Print the type of the value corresponding to the key 'CYratioCyt'\n",
        "print(type(mat['CYratioCyt']))\n",
        "\n",
        "# Print the shape of the value corresponding to the key 'CYratioCyt'\n",
        "print(mat['CYratioCyt'].shape)\n",
        "\n",
        "# Subset the array and plot it\n",
        "data = mat['CYratioCyt'][25, 5:]\n",
        "fig = plt.figure()\n",
        "plt.plot(data)\n",
        "plt.xlabel('time (min.)')\n",
        "plt.ylabel('normalized fluorescence (measure of expression)')\n",
        "plt.show()"
      ],
      "execution_count": 0,
      "outputs": []
    }
  ]
}