{
  "nbformat": 4,
  "nbformat_minor": 0,
  "metadata": {
    "colab": {
      "name": "introduction.ipynb",
      "provenance": []
    },
    "kernelspec": {
      "name": "python3",
      "display_name": "Python 3"
    }
  },
  "cells": [
    {
      "cell_type": "markdown",
      "metadata": {
        "id": "XrLU3qp6RpsR",
        "colab_type": "text"
      },
      "source": [
        "# Introduction and flat files"
      ]
    },
    {
      "cell_type": "markdown",
      "metadata": {
        "id": "kQltHJoKR0d4",
        "colab_type": "text"
      },
      "source": [
        "## Exploring your working directory\n"
      ]
    },
    {
      "cell_type": "markdown",
      "metadata": {
        "id": "v9xYSQwXR3hJ",
        "colab_type": "text"
      },
      "source": [
        "C. moby_dick.txt"
      ]
    },
    {
      "cell_type": "markdown",
      "metadata": {
        "id": "ZlKHeXU3SAuM",
        "colab_type": "text"
      },
      "source": [
        "##Importing entire text files"
      ]
    },
    {
      "cell_type": "code",
      "metadata": {
        "id": "WV2c4MMnSDo0",
        "colab_type": "code",
        "colab": {}
      },
      "source": [
        "# Open a file: file\n",
        "file = open('moby_dick.txt', mode=r)\n",
        "\n",
        "# Print it\n",
        "print(file.read())\n",
        "\n",
        "# Check whether file is closed\n",
        "print(file.closed)\n",
        "\n",
        "# Close file\n",
        "file.close()\n",
        "\n",
        "# Check whether file is closed\n",
        "print(file.closed)\n"
      ],
      "execution_count": 0,
      "outputs": []
    },
    {
      "cell_type": "markdown",
      "metadata": {
        "id": "PvnnIe4cSXKI",
        "colab_type": "text"
      },
      "source": [
        "## Importing text files line by line"
      ]
    },
    {
      "cell_type": "code",
      "metadata": {
        "id": "OKjqIneJSZOj",
        "colab_type": "code",
        "colab": {}
      },
      "source": [
        "# Read & print the first 3 lines\n",
        "with open('moby_dick.txt') as file:\n",
        "    print(file.readline())\n",
        "    print(file.readline())\n",
        "    print(file.readline())"
      ],
      "execution_count": 0,
      "outputs": []
    },
    {
      "cell_type": "markdown",
      "metadata": {
        "id": "ikiZcybdTQiY",
        "colab_type": "text"
      },
      "source": [
        "## Pop quiz: examples of flat files"
      ]
    },
    {
      "cell_type": "markdown",
      "metadata": {
        "id": "fpl0N5UPTQ5J",
        "colab_type": "text"
      },
      "source": [
        "C. A relational database (e.g. PostgreSQL)"
      ]
    },
    {
      "cell_type": "markdown",
      "metadata": {
        "id": "5GYz5mL0TZWE",
        "colab_type": "text"
      },
      "source": [
        "## Pop quiz: what exactly are flat files?"
      ]
    },
    {
      "cell_type": "markdown",
      "metadata": {
        "id": "Ik7J9o33TbrE",
        "colab_type": "text"
      },
      "source": [
        "B. Flat files consist of multiple tables with structured relationships between the tables"
      ]
    },
    {
      "cell_type": "markdown",
      "metadata": {
        "id": "YsFeL0haThhb",
        "colab_type": "text"
      },
      "source": [
        "## Why we like flat files and the Zen of Python"
      ]
    },
    {
      "cell_type": "markdown",
      "metadata": {
        "id": "D4SZiiSTTkTA",
        "colab_type": "text"
      },
      "source": [
        "A. Flat is better than nested."
      ]
    },
    {
      "cell_type": "markdown",
      "metadata": {
        "id": "xY8nDiChUAu_",
        "colab_type": "text"
      },
      "source": [
        "## Using NumPy to import flat files"
      ]
    },
    {
      "cell_type": "code",
      "metadata": {
        "id": "V23Z3aoYU08N",
        "colab_type": "code",
        "colab": {}
      },
      "source": [
        "# Import package\n",
        "import numpy as np\n",
        "\n",
        "# Assign filename to variable: file\n",
        "file = 'digits.csv'\n",
        "\n",
        "# Load file as array: digits\n",
        "digits = np.loadtxt(file, delimiter=',')\n",
        "\n",
        "# Print datatype of digits\n",
        "print(type(digits))\n",
        "\n",
        "# Select and reshape a row\n",
        "im = digits[21, 1:]\n",
        "im_sq = np.reshape(im, (28, 28))\n",
        "\n",
        "# Plot reshaped data (matplotlib.pyplot already loaded as plt)\n",
        "plt.imshow(im_sq, cmap='Greys', interpolation='nearest')\n",
        "plt.show()\n"
      ],
      "execution_count": 0,
      "outputs": []
    },
    {
      "cell_type": "markdown",
      "metadata": {
        "id": "ff9fZR4_VIDj",
        "colab_type": "text"
      },
      "source": [
        "## Customizing your NumPy import"
      ]
    },
    {
      "cell_type": "code",
      "metadata": {
        "id": "YKNuezPVVIaB",
        "colab_type": "code",
        "colab": {}
      },
      "source": [
        "# Import numpy\n",
        "import numpy as np\n",
        "\n",
        "# Assign the filename: file\n",
        "file = 'digits_header.txt'\n",
        "\n",
        "# Load the data: data\n",
        "data = np.loadtxt(file, delimiter='\\t', skiprows=1, usecols=[0, 2])\n",
        "\n",
        "# Print data\n",
        "print(data)\n"
      ],
      "execution_count": 0,
      "outputs": []
    },
    {
      "cell_type": "markdown",
      "metadata": {
        "id": "Q6KY_SZcVYti",
        "colab_type": "text"
      },
      "source": [
        "## Importing different datatypes"
      ]
    },
    {
      "cell_type": "code",
      "metadata": {
        "id": "G00yV3lPVZDU",
        "colab_type": "code",
        "colab": {}
      },
      "source": [
        "# Assign filename: file\n",
        "file = 'seaslug.txt'\n",
        "\n",
        "# Import file: data\n",
        "data = np.loadtxt(file, delimiter='\\t', dtype=str)\n",
        "\n",
        "# Print the first element of data\n",
        "print(data[0])\n",
        "\n",
        "# Import data as floats and skip the first row: data_float\n",
        "data_float = np.loadtxt(file, delimiter='\\t', dtype=float, skiprows=1)\n",
        "\n",
        "# Print the 10th element of data_float\n",
        "print(data_float[9])\n",
        "\n",
        "# Plot a scatterplot of the data\n",
        "plt.scatter(data_float[:, 0], data_float[:, 1])\n",
        "plt.xlabel('time (min.)')\n",
        "plt.ylabel('percentage of larvae')\n",
        "plt.show()\n"
      ],
      "execution_count": 0,
      "outputs": []
    },
    {
      "cell_type": "markdown",
      "metadata": {
        "id": "VYkHBpf6WQdo",
        "colab_type": "text"
      },
      "source": [
        "## Working with mixed datatypes (1)"
      ]
    },
    {
      "cell_type": "markdown",
      "metadata": {
        "id": "qt1ytC_DWQzq",
        "colab_type": "text"
      },
      "source": [
        "C. 1,0,1,0."
      ]
    },
    {
      "cell_type": "markdown",
      "metadata": {
        "id": "5V2L83MuW6rO",
        "colab_type": "text"
      },
      "source": [
        "## Working with mixed datatypes (2)"
      ]
    },
    {
      "cell_type": "code",
      "metadata": {
        "id": "HadNVRsJW8-Y",
        "colab_type": "code",
        "colab": {}
      },
      "source": [
        "# Assign the filename: file\n",
        "file = 'titanic.csv'\n",
        "\n",
        "# Import file using np.recfromcsv: d\n",
        "d = np.recfromcsv('titanic.csv')\n",
        "\n",
        "# Print out first three entries of d\n",
        "print(d[:3])\n"
      ],
      "execution_count": 0,
      "outputs": []
    },
    {
      "cell_type": "markdown",
      "metadata": {
        "id": "aKJcltYaXH7u",
        "colab_type": "text"
      },
      "source": [
        "## Using pandas to import flat files as DataFrames (1)"
      ]
    },
    {
      "cell_type": "code",
      "metadata": {
        "id": "bcfo_7OpX0KE",
        "colab_type": "code",
        "colab": {}
      },
      "source": [
        "# Import pandas as pd\n",
        "import pandas as pd\n",
        "\n",
        "# Assign the filename: file\n",
        "file = 'titanic.csv'\n",
        "\n",
        "# Read the file into a DataFrame: df\n",
        "df = pd.read_csv(file)\n",
        "\n",
        "# View the head of the DataFrame\n",
        "print(df.head())\n"
      ],
      "execution_count": 0,
      "outputs": []
    },
    {
      "cell_type": "markdown",
      "metadata": {
        "id": "KsiQUzDdX-dA",
        "colab_type": "text"
      },
      "source": [
        "## Using pandas to import flat files as DataFrames (2)"
      ]
    },
    {
      "cell_type": "code",
      "metadata": {
        "id": "87jtst8nYAW0",
        "colab_type": "code",
        "colab": {}
      },
      "source": [
        "# Assign the filename: file\n",
        "file = 'digits.csv'\n",
        "\n",
        "# Read the first 5 rows of the file into a DataFrame: data\n",
        "data = pd.read_csv(file, header=None, nrows=5)\n",
        "\n",
        "# Build a numpy array from the DataFrame: data_array\n",
        "data_array = data.values\n",
        "\n",
        "# Print the datatype of data_array to the shell\n",
        "print(type(data_array))"
      ],
      "execution_count": 0,
      "outputs": []
    },
    {
      "cell_type": "markdown",
      "metadata": {
        "id": "T3oqCzYiYPjd",
        "colab_type": "text"
      },
      "source": [
        "## Customizing your pandas import"
      ]
    },
    {
      "cell_type": "code",
      "metadata": {
        "id": "698vFhjEYP4s",
        "colab_type": "code",
        "colab": {}
      },
      "source": [
        "# Import matplotlib.pyplot as plt\n",
        "import matplotlib.pyplot as plt\n",
        "\n",
        "# Assign filename: file\n",
        "file = 'titanic_corrupt.txt'\n",
        "\n",
        "# Import file: data\n",
        "data = pd.read_csv(file, sep='\\t', comment='#', na_values='Nothing')\n",
        "\n",
        "# Print the head of the DataFrame\n",
        "print(data.head())\n",
        "\n",
        "# Plot 'Age' variable in a histogram\n",
        "pd.DataFrame.hist(data[['Age']])\n",
        "plt.xlabel('Age (years)')\n",
        "plt.ylabel('count')\n",
        "plt.show()\n"
      ],
      "execution_count": 0,
      "outputs": []
    }
  ]
}