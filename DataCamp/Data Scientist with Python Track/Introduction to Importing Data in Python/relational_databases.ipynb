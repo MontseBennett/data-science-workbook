{
  "nbformat": 4,
  "nbformat_minor": 0,
  "metadata": {
    "colab": {
      "name": "relational_databases.ipynb",
      "provenance": [],
      "collapsed_sections": []
    },
    "kernelspec": {
      "name": "python3",
      "display_name": "Python 3"
    }
  },
  "cells": [
    {
      "cell_type": "markdown",
      "metadata": {
        "id": "23o4ho2rkXmg",
        "colab_type": "text"
      },
      "source": [
        "# Working with relational databases in Python"
      ]
    },
    {
      "cell_type": "markdown",
      "metadata": {
        "id": "QIdf4R6zketM",
        "colab_type": "text"
      },
      "source": [
        "## Pop quiz: The relational model"
      ]
    },
    {
      "cell_type": "markdown",
      "metadata": {
        "id": "mXnhc5_BkkBC",
        "colab_type": "text"
      },
      "source": [
        "D. A database consists of at least 3 tables."
      ]
    },
    {
      "cell_type": "markdown",
      "metadata": {
        "id": "K7s-QmExkuqG",
        "colab_type": "text"
      },
      "source": [
        "## Creating a database engine"
      ]
    },
    {
      "cell_type": "code",
      "metadata": {
        "id": "dzSvCYujlNnt",
        "colab_type": "code",
        "colab": {}
      },
      "source": [
        "# Import necessary module\n",
        "from sqlalchemy import create_engine\n",
        "\n",
        "# Create engine: engine\n",
        "engine = create_engine('sqlite:///Chinook.sqlite')"
      ],
      "execution_count": 0,
      "outputs": []
    },
    {
      "cell_type": "markdown",
      "metadata": {
        "id": "Q7zF7z4llkxF",
        "colab_type": "text"
      },
      "source": [
        "## What are the tables in the database?"
      ]
    },
    {
      "cell_type": "code",
      "metadata": {
        "id": "5OBO2aKGllIR",
        "colab_type": "code",
        "colab": {}
      },
      "source": [
        "# Import necessary module\n",
        "from sqlalchemy import create_engine\n",
        "\n",
        "# Create engine: engine\n",
        "engine = create_engine('sqlite:///Chinook.sqlite')\n",
        "\n",
        "# Save the table names to a list: table_names\n",
        "table_names = engine.table_names()\n",
        "\n",
        "# Print the table names to the shell\n",
        "print(table_names)\n"
      ],
      "execution_count": 0,
      "outputs": []
    },
    {
      "cell_type": "markdown",
      "metadata": {
        "id": "qyZWLmz-motw",
        "colab_type": "text"
      },
      "source": [
        "## The Hello World of SQL Queries!"
      ]
    },
    {
      "cell_type": "code",
      "metadata": {
        "id": "DhLyP_sQmpFU",
        "colab_type": "code",
        "colab": {}
      },
      "source": [
        "# Import packages\n",
        "from sqlalchemy import create_engine\n",
        "import pandas as pd\n",
        "\n",
        "# Create engine: engine\n",
        "engine = create_engine('sqlite:///Chinook.sqlite')\n",
        "\n",
        "# Open engine connection: con\n",
        "con = engine.connect()\n",
        "\n",
        "# Perform query: rs\n",
        "rs = con.execute(\"SELECT * FROM Album\")\n",
        "\n",
        "# Save results of the query to DataFrame: df\n",
        "df = pd.DataFrame(rs.fetchall())\n",
        "\n",
        "# Close connection\n",
        "con.close()\n",
        "\n",
        "# Print head of DataFrame df\n",
        "print(df.head())\n"
      ],
      "execution_count": 0,
      "outputs": []
    },
    {
      "cell_type": "markdown",
      "metadata": {
        "id": "F0CO0hr3m5d5",
        "colab_type": "text"
      },
      "source": [
        "## Customizing the Hello World of SQL Queries"
      ]
    },
    {
      "cell_type": "code",
      "metadata": {
        "id": "G25HjIBzm50_",
        "colab_type": "code",
        "colab": {}
      },
      "source": [
        "# Open engine in context manager\n",
        "# Perform query and save results to DataFrame: df\n",
        "with engine.connect() as con:\n",
        "    rs = con.execute(\"SELECT LastName, Title FROM Employee\")\n",
        "    df = pd.DataFrame(rs.fetchmany(size=3))\n",
        "    df.columns = rs.keys()\n",
        "\n",
        "# Print the length of the DataFrame df\n",
        "print(len(df))\n",
        "\n",
        "# Print the head of the DataFrame df\n",
        "print(df.head())"
      ],
      "execution_count": 0,
      "outputs": []
    },
    {
      "cell_type": "markdown",
      "metadata": {
        "id": "iWv1ssT-nTD5",
        "colab_type": "text"
      },
      "source": [
        "## Filtering your database records using SQL's WHERE"
      ]
    },
    {
      "cell_type": "code",
      "metadata": {
        "id": "dgIcpHwunUnu",
        "colab_type": "code",
        "colab": {}
      },
      "source": [
        "# Create engine: engine\n",
        "engine = create_engine('sqlite:///Chinook.sqlite')\n",
        "\n",
        "# Open engine in context manager\n",
        "# Perform query and save results to DataFrame: df\n",
        "with engine.connect() as con:\n",
        "    rs = con.execute(\"SELECT * FROM Employee WHERE EmployeeId >= 6\")\n",
        "    df = pd.DataFrame(rs.fetchall())\n",
        "    df.columns = rs.keys()\n",
        "\n",
        "# Print the head of the DataFrame df\n",
        "print(df.head())"
      ],
      "execution_count": 0,
      "outputs": []
    },
    {
      "cell_type": "markdown",
      "metadata": {
        "id": "c-XOitNan17q",
        "colab_type": "text"
      },
      "source": [
        "## Ordering your SQL records with ORDER BY"
      ]
    },
    {
      "cell_type": "code",
      "metadata": {
        "id": "02cpTv1An2SV",
        "colab_type": "code",
        "colab": {}
      },
      "source": [
        "# Create engine: engine\n",
        "engine = create_engine('sqlite:///Chinook.sqlite')\n",
        "\n",
        "# Open engine in context manager\n",
        "with engine.connect() as con:\n",
        "    rs = con.execute(\"SELECT * FROM Employee ORDER BY BirthDate\")\n",
        "    df = pd.DataFrame(rs.fetchall())\n",
        "\n",
        "    # Set the DataFrame's column names\n",
        "    df.columns = rs.keys()\n",
        "\n",
        "# Print head of DataFrame\n",
        "print(df.head())\n"
      ],
      "execution_count": 0,
      "outputs": []
    },
    {
      "cell_type": "markdown",
      "metadata": {
        "id": "_pLFp8edokhj",
        "colab_type": "text"
      },
      "source": [
        "## Pandas and The Hello World of SQL Queries!"
      ]
    },
    {
      "cell_type": "code",
      "metadata": {
        "id": "jWOr-2tCok13",
        "colab_type": "code",
        "colab": {}
      },
      "source": [
        "# Import packages\n",
        "from sqlalchemy import create_engine\n",
        "import pandas as pd\n",
        "\n",
        "# Create engine: engine\n",
        "engine = create_engine('sqlite:///Chinook.sqlite')\n",
        "\n",
        "# Execute query and store records in DataFrame: df\n",
        "df = pd.read_sql_query(\"select * from Album\", engine)\n",
        "\n",
        "# Print head of DataFrame\n",
        "print(df.head())\n",
        "\n",
        "# Open engine in context manager and store query result in df1\n",
        "with engine.connect() as con:\n",
        "    rs = con.execute(\"SELECT * FROM Album\")\n",
        "    df1 = pd.DataFrame(rs.fetchall())\n",
        "    df1.columns = rs.keys()\n",
        "\n",
        "# Confirm that both methods yield the same result\n",
        "print(df.equals(df1))"
      ],
      "execution_count": 0,
      "outputs": []
    },
    {
      "cell_type": "markdown",
      "metadata": {
        "id": "XzP_NsOMo9Zg",
        "colab_type": "text"
      },
      "source": [
        "## Pandas for more complex querying"
      ]
    },
    {
      "cell_type": "code",
      "metadata": {
        "id": "vgvLvTkVo9v9",
        "colab_type": "code",
        "colab": {}
      },
      "source": [
        "# Import packages\n",
        "from sqlalchemy import create_engine\n",
        "import pandas as pd\n",
        "\n",
        "# Create engine: engine\n",
        "engine = create_engine('sqlite:///Chinook.sqlite')\n",
        "\n",
        "# Execute query and store records in DataFrame: df\n",
        "df = pd.read_sql_query(\"SELECT * FROM Employee WHERE EmployeeId >= 6 ORDER BY BirthDate\", engine)\n",
        "\n",
        "# Print head of DataFrame\n",
        "print(df.head())\n"
      ],
      "execution_count": 0,
      "outputs": []
    },
    {
      "cell_type": "markdown",
      "metadata": {
        "id": "L1T-kKZVqBZz",
        "colab_type": "text"
      },
      "source": [
        "## The power of SQL lies in relationships between tables: INNER JOIN"
      ]
    },
    {
      "cell_type": "code",
      "metadata": {
        "id": "PuT_t3TVqB7i",
        "colab_type": "code",
        "colab": {}
      },
      "source": [
        "# Open engine in context manager\n",
        "# Perform query and save results to DataFrame: df\n",
        "with engine.connect() as con:\n",
        "    rs = con.execute(\"SELECT Title, Name FROM Album INNER JOIN Artist ON Album.ArtistId=Artist.ArtistId\")\n",
        "    df = pd.DataFrame(rs.fetchall())\n",
        "    df.columns = rs.keys()\n",
        "\n",
        "# Print head of DataFrame df\n",
        "print(df.head())\n"
      ],
      "execution_count": 0,
      "outputs": []
    },
    {
      "cell_type": "markdown",
      "metadata": {
        "id": "gzl_MEDaqmxk",
        "colab_type": "text"
      },
      "source": [
        "## Filtering your INNER JOIN"
      ]
    },
    {
      "cell_type": "code",
      "metadata": {
        "id": "dB8Rjc9sqnHS",
        "colab_type": "code",
        "colab": {}
      },
      "source": [
        "# Execute query and store records in DataFrame: df\n",
        "df = pd.read_sql_query(\"SELECT * FROM PlaylistTrack INNER JOIN Track ON PlaylistTrack.TrackId = Track.TrackId WHERE Milliseconds < 250000\", engine)\n",
        "\n",
        "# Print head of DataFrame\n",
        "print(df.head())"
      ],
      "execution_count": 0,
      "outputs": []
    }
  ]
}