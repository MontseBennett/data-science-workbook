{
  "nbformat": 4,
  "nbformat_minor": 0,
  "metadata": {
    "colab": {
      "name": "case_study",
      "provenance": [],
      "collapsed_sections": []
    },
    "kernelspec": {
      "name": "python3",
      "display_name": "Python 3"
    }
  },
  "cells": [
    {
      "cell_type": "markdown",
      "metadata": {
        "id": "Om62rbRzbhwt",
        "colab_type": "text"
      },
      "source": [
        "# Merging DataFrames with pandas: Case Study - Summer Olympics"
      ]
    },
    {
      "cell_type": "markdown",
      "metadata": {
        "id": "yhSaRypZb9jI",
        "colab_type": "text"
      },
      "source": [
        "## Loading Olympic edition DataFrame"
      ]
    },
    {
      "cell_type": "code",
      "metadata": {
        "id": "j9fveBlQc2h8",
        "colab_type": "code",
        "colab": {}
      },
      "source": [
        "#Import pandas\n",
        "import pandas as pd\n",
        "\n",
        "# Create file path: file_path\n",
        "file_path = 'Summer Olympic medallists 1896 to 2008 - EDITIONS.tsv'\n",
        "\n",
        "# Load DataFrame from file_path: editions\n",
        "editions = pd.read_csv(file_path, sep='\\t')\n",
        "\n",
        "# Extract the relevant columns: editions\n",
        "editions = editions[['Edition', 'Grand Total', 'City', 'Country']]\n",
        "\n",
        "# Print editions DataFrame\n",
        "print(editions)"
      ],
      "execution_count": 0,
      "outputs": []
    },
    {
      "cell_type": "markdown",
      "metadata": {
        "id": "WVBH_3wXc4S2",
        "colab_type": "text"
      },
      "source": [
        "## Loading IOC codes DataFrame"
      ]
    },
    {
      "cell_type": "code",
      "metadata": {
        "id": "Lcf-rffUdS_V",
        "colab_type": "code",
        "colab": {}
      },
      "source": [
        "# Import pandas\n",
        "import pandas as pd\n",
        "\n",
        "# Create the file path: file_path\n",
        "file_path = 'Summer Olympic medallists 1896 to 2008 - IOC COUNTRY CODES.csv'\n",
        "\n",
        "# Load DataFrame from file_path: ioc_codes\n",
        "ioc_codes = pd.read_csv(file_path)\n",
        "\n",
        "# Extract the relevant columns: ioc_codes\n",
        "ioc_codes = ioc_codes[['Country', 'NOC']]\n",
        "\n",
        "# Print first and last 5 rows of ioc_codes\n",
        "print(ioc_codes.head())\n",
        "print(ioc_codes.tail())"
      ],
      "execution_count": 0,
      "outputs": []
    },
    {
      "cell_type": "markdown",
      "metadata": {
        "id": "jV-HyUC2dUzL",
        "colab_type": "text"
      },
      "source": [
        "## Building medals DataFrame"
      ]
    },
    {
      "cell_type": "code",
      "metadata": {
        "id": "NyyL2lQ_dWqo",
        "colab_type": "code",
        "colab": {}
      },
      "source": [
        "# Import pandas\n",
        "import pandas as pd\n",
        "\n",
        "# Create empty dictionary: medals_dict\n",
        "medals_dict = {}\n",
        "\n",
        "for year in editions['Edition']:\n",
        "\n",
        "    # Create the file path: file_path\n",
        "    file_path = 'summer_{:d}.csv'.format(year)\n",
        "    \n",
        "    # Load file_path into a DataFrame: medals_dict[year]\n",
        "    medals_dict[year] = pd.read_csv(file_path)\n",
        "    \n",
        "    # Extract relevant columns: medals_dict[year]\n",
        "    medals_dict[year] = medals_dict[year][['Athlete', 'NOC', 'Medal']]\n",
        "    \n",
        "    # Assign year to column 'Edition' of medals_dict\n",
        "    medals_dict[year]['Edition'] = year\n",
        "    \n",
        "# Concatenate medals_dict: medals\n",
        "medals = pd.concat(medals_dict, ignore_index=True)\n",
        "\n",
        "# Print first and last 5 rows of medals\n",
        "print(medals.head())\n",
        "print(medals.tail())"
      ],
      "execution_count": 0,
      "outputs": []
    },
    {
      "cell_type": "markdown",
      "metadata": {
        "id": "n1CpdWjWiW9g",
        "colab_type": "text"
      },
      "source": [
        "## Counting medals by country/edition in a pivot table"
      ]
    },
    {
      "cell_type": "code",
      "metadata": {
        "id": "MLJLV6dhiXV4",
        "colab_type": "code",
        "colab": {}
      },
      "source": [
        "# Construct the pivot_table: medal_counts\n",
        "medal_counts = medals.pivot_table(index='Edition', columns='NOC', values='Athlete', aggfunc='count')\n",
        "\n",
        "# Print the first & last 5 rows of medal_counts\n",
        "print(medal_counts.head())\n",
        "print(medal_counts.tail())"
      ],
      "execution_count": 0,
      "outputs": []
    },
    {
      "cell_type": "markdown",
      "metadata": {
        "id": "C4uD-qHVjGHO",
        "colab_type": "text"
      },
      "source": [
        "## Computing fraction of medals per Olympic edition"
      ]
    },
    {
      "cell_type": "code",
      "metadata": {
        "id": "HzIQHLKGjGkD",
        "colab_type": "code",
        "colab": {}
      },
      "source": [
        "# Set Index of editions: totals\n",
        "totals = editions.set_index('Edition')\n",
        "\n",
        "# Reassign totals['Grand Total']: totals\n",
        "totals = totals['Grand Total']\n",
        "\n",
        "# Divide medal_counts by totals: fractions\n",
        "fractions = medal_counts.divide(totals, axis='rows')\n",
        "\n",
        "# Print first & last 5 rows of fractions\n",
        "print(fractions.head())\n",
        "print(fractions.tail())"
      ],
      "execution_count": 0,
      "outputs": []
    },
    {
      "cell_type": "markdown",
      "metadata": {
        "id": "PLjpaG4okP7n",
        "colab_type": "text"
      },
      "source": [
        "## Computing percentage change in fraction of medals won"
      ]
    },
    {
      "cell_type": "code",
      "metadata": {
        "id": "DD8TQ7FHkQeg",
        "colab_type": "code",
        "colab": {}
      },
      "source": [
        "# Apply the expanding mean: mean_fractions\n",
        "mean_fractions = fractions.expanding().mean()\n",
        "\n",
        "# Compute the percentage change: fractions_change\n",
        "fractions_change = mean_fractions.pct_change() * 100\n",
        "\n",
        "# Reset the index of fractions_change: fractions_change\n",
        "fractions_change = fractions_change.reset_index()\n",
        "\n",
        "# Print first & last 5 rows of fractions_change\n",
        "print(fractions_change.head())\n",
        "print(fractions_change.tail())"
      ],
      "execution_count": 0,
      "outputs": []
    },
    {
      "cell_type": "markdown",
      "metadata": {
        "id": "TGLYfhPok2Yz",
        "colab_type": "text"
      },
      "source": [
        "## Building hosts DataFrame"
      ]
    },
    {
      "cell_type": "code",
      "metadata": {
        "id": "6DAkA1TWmfGb",
        "colab_type": "code",
        "colab": {}
      },
      "source": [
        "# Import pandas\n",
        "import pandas as pd\n",
        "\n",
        "# Left join editions and ioc_codes: hosts\n",
        "hosts = pd.merge(editions, ioc_codes, how='left')\n",
        "\n",
        "# Extract relevant columns and set index: hosts\n",
        "hosts = hosts[['Edition', 'NOC']].set_index('Edition')\n",
        "\n",
        "# Fix missing 'NOC' values of hosts\n",
        "print(hosts.loc[hosts.NOC.isnull()])\n",
        "hosts.loc[1972, 'NOC'] = 'FRG'\n",
        "hosts.loc[1980, 'NOC'] = 'URS'\n",
        "hosts.loc[1988, 'NOC'] = 'KOR'\n",
        "\n",
        "# Reset Index of hosts: hosts\n",
        "hosts = hosts.reset_index()\n",
        "\n",
        "# Print hosts\n",
        "print(hosts)"
      ],
      "execution_count": 0,
      "outputs": []
    },
    {
      "cell_type": "markdown",
      "metadata": {
        "id": "M01qa-p6mh2a",
        "colab_type": "text"
      },
      "source": [
        "## Reshaping for analysis"
      ]
    },
    {
      "cell_type": "code",
      "metadata": {
        "id": "uKqW0k3jnGTS",
        "colab_type": "code",
        "colab": {}
      },
      "source": [
        "# Import pandas\n",
        "import pandas as pd\n",
        "\n",
        "# Reshape fractions_change: reshaped\n",
        "reshaped = pd.melt(fractions_change, id_vars='Edition', value_name='Change')\n",
        "\n",
        "# Print reshaped.shape and fractions_change.shape\n",
        "print(reshaped.shape, fractions_change.shape)\n",
        "\n",
        "# Extract rows from reshaped where 'NOC' == 'CHN': chn\n",
        "chn = reshaped[reshaped['NOC'] == 'CHN']\n",
        "\n",
        "# Print last 5 rows of chn with .tail()\n",
        "print(chn.tail())"
      ],
      "execution_count": 0,
      "outputs": []
    },
    {
      "cell_type": "markdown",
      "metadata": {
        "id": "bQ2Of-lun1Vx",
        "colab_type": "text"
      },
      "source": [
        "## Merging to compute influence"
      ]
    },
    {
      "cell_type": "code",
      "metadata": {
        "id": "W2fdf4Kbn1vM",
        "colab_type": "code",
        "colab": {}
      },
      "source": [
        "# Import pandas\n",
        "import pandas as pd\n",
        "\n",
        "# Merge reshaped and hosts: merged\n",
        "merged = pd.merge(reshaped, hosts, how='inner')\n",
        "\n",
        "# Print first 5 rows of merged\n",
        "print(merged.head())\n",
        "\n",
        "# Set Index of merged and sort it: influence\n",
        "influence = merged.set_index('Edition').sort_index()\n",
        "\n",
        "# Print first 5 rows of influence\n",
        "print(influence.head())"
      ],
      "execution_count": 0,
      "outputs": []
    },
    {
      "cell_type": "markdown",
      "metadata": {
        "id": "OAN_77hxofYb",
        "colab_type": "text"
      },
      "source": [
        "## Plotting influence of host country"
      ]
    },
    {
      "cell_type": "code",
      "metadata": {
        "id": "m6IC0bKPohos",
        "colab_type": "code",
        "colab": {}
      },
      "source": [
        "# Import pyplot\n",
        "import matplotlib.pyplot as plt\n",
        "\n",
        "# Extract influence['Change']: change\n",
        "change = influence['Change']\n",
        "\n",
        "# Make bar plot of change: ax\n",
        "ax = change.plot(kind='bar')\n",
        "\n",
        "# Customize the plot to improve readability\n",
        "ax.set_ylabel(\"% Change of Host Country Medal Count\")\n",
        "ax.set_title(\"Is there a Host Country Advantage?\")\n",
        "ax.set_xticklabels(editions['City'])\n",
        "\n",
        "# Display the plot\n",
        "plt.show()"
      ],
      "execution_count": 0,
      "outputs": []
    }
  ]
}