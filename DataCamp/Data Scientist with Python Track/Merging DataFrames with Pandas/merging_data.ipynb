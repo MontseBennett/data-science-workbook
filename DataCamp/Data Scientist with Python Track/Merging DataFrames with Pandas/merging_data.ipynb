{
  "nbformat": 4,
  "nbformat_minor": 0,
  "metadata": {
    "colab": {
      "name": "merging_data.ipynb",
      "provenance": []
    },
    "kernelspec": {
      "name": "python3",
      "display_name": "Python 3"
    }
  },
  "cells": [
    {
      "cell_type": "markdown",
      "metadata": {
        "id": "pfgoxgyXuWil",
        "colab_type": "text"
      },
      "source": [
        "# Merging DataFrames with pandas: Merging data\n"
      ]
    },
    {
      "cell_type": "code",
      "metadata": {
        "id": "9ShdDQvYxGmf",
        "colab_type": "code",
        "colab": {}
      },
      "source": [
        "import numpy as np\n",
        "import pandas as pd\n",
        "import matplotlib.pyplot as plt"
      ],
      "execution_count": 0,
      "outputs": []
    },
    {
      "cell_type": "markdown",
      "metadata": {
        "id": "yRz--R3CxLlp",
        "colab_type": "text"
      },
      "source": [
        "## Merging on a specific column"
      ]
    },
    {
      "cell_type": "code",
      "metadata": {
        "id": "oXYu7OXSxOAr",
        "colab_type": "code",
        "colab": {}
      },
      "source": [
        "# Merge revenue with managers on 'city': merge_by_city\n",
        "merge_by_city = pd.merge(revenue, managers, on='city')\n",
        "\n",
        "# Print merge_by_city\n",
        "print(merge_by_city)\n",
        "\n",
        "# Merge revenue with managers on 'branch_id': merge_by_id\n",
        "merge_by_id = pd.merge(revenue, managers, on='branch_id')\n",
        "\n",
        "# Print merge_by_id\n",
        "print(merge_by_id)"
      ],
      "execution_count": 0,
      "outputs": []
    },
    {
      "cell_type": "markdown",
      "metadata": {
        "id": "CrgLiUYm2b0R",
        "colab_type": "text"
      },
      "source": [
        "## Merging on columns with non-matching labels"
      ]
    },
    {
      "cell_type": "code",
      "metadata": {
        "id": "JYeP1Gck27UL",
        "colab_type": "code",
        "colab": {}
      },
      "source": [
        "# Merge revenue & managers on 'city' & 'branch': combined\n",
        "combined = pd.merge(revenue, managers, left_on='city', right_on='branch')\n",
        "\n",
        "# Print combined\n",
        "print(combined)"
      ],
      "execution_count": 0,
      "outputs": []
    },
    {
      "cell_type": "markdown",
      "metadata": {
        "id": "nHrJdBTX3fpJ",
        "colab_type": "text"
      },
      "source": [
        "## Merging on multiple columns"
      ]
    },
    {
      "cell_type": "code",
      "metadata": {
        "id": "aQY9MBDF3hFJ",
        "colab_type": "code",
        "colab": {}
      },
      "source": [
        "# Add 'state' column to revenue: revenue['state']\n",
        "revenue['state'] = ['TX','CO','IL','CA']\n",
        "\n",
        "# Add 'state' column to managers: managers['state']\n",
        "managers['state'] = ['TX','CO','CA','MO']\n",
        "\n",
        "# Merge revenue & managers on 'branch_id', 'city', & 'state': combined\n",
        "combined = pd.merge(revenue, managers, on=['branch_id', 'city', 'state'])\n",
        "\n",
        "# Print combined\n",
        "print(combined)"
      ],
      "execution_count": 0,
      "outputs": []
    },
    {
      "cell_type": "markdown",
      "metadata": {
        "id": "kUJIM6Im5ptG",
        "colab_type": "text"
      },
      "source": [
        "## Left & right merging on multiple columns"
      ]
    },
    {
      "cell_type": "code",
      "metadata": {
        "id": "dAZFoqdg5qQR",
        "colab_type": "code",
        "colab": {}
      },
      "source": [
        "# Merge revenue and sales: revenue_and_sales\n",
        "revenue_and_sales = pd.merge(revenue, sales, how='right', on=['city', 'state'])\n",
        "\n",
        "# Print revenue_and_sales\n",
        "print(revenue_and_sales)\n",
        "\n",
        "# Merge sales and managers: sales_and_managers\n",
        "sales_and_managers = pd.merge(sales, managers, how='left', left_on=['city', 'state'], right_on=['branch', 'state'])\n",
        "\n",
        "# Print sales_and_managers\n",
        "print(sales_and_managers)"
      ],
      "execution_count": 0,
      "outputs": []
    },
    {
      "cell_type": "markdown",
      "metadata": {
        "id": "zt37lT2I71rh",
        "colab_type": "text"
      },
      "source": [
        "## Merging DataFrames with outer join"
      ]
    },
    {
      "cell_type": "code",
      "metadata": {
        "id": "u3Vf85Gv73BF",
        "colab_type": "code",
        "colab": {}
      },
      "source": [
        "# Perform the first merge: merge_default\n",
        "merge_default = pd.merge(sales_and_managers, revenue_and_sales)\n",
        "\n",
        "# Print merge_default\n",
        "print(merge_default)\n",
        "\n",
        "# Perform the second merge: merge_outer\n",
        "merge_outer = pd.merge(sales_and_managers, revenue_and_sales, how='outer')\n",
        "\n",
        "# Print merge_outer\n",
        "print(merge_outer)\n",
        "\n",
        "# Perform the third merge: merge_outer_on\n",
        "merge_outer_on = pd.merge(sales_and_managers, revenue_and_sales, on=['city', 'state'], how='outer')\n",
        "\n",
        "# Print merge_outer_on\n",
        "print(merge_outer_on)"
      ],
      "execution_count": 0,
      "outputs": []
    },
    {
      "cell_type": "markdown",
      "metadata": {
        "id": "I5AUC6oF819M",
        "colab_type": "text"
      },
      "source": [
        "## Using merge_ordered()"
      ]
    },
    {
      "cell_type": "code",
      "metadata": {
        "id": "ucYIH5N6-2nl",
        "colab_type": "code",
        "colab": {}
      },
      "source": [
        "# Perform the first ordered merge: tx_weather\n",
        "tx_weather = pd.merge_ordered(austin, houston)\n",
        "\n",
        "# Print tx_weather\n",
        "print(tx_weather)\n",
        "\n",
        "# Perform the second ordered merge: tx_weather_suff\n",
        "tx_weather_suff = pd.merge_ordered(austin, houston, on='date', suffixes=['_aus', '_hus'])\n",
        "\n",
        "# Print tx_weather_suff\n",
        "print(tx_weather_suff)\n",
        "\n",
        "# Perform the third ordered merge: tx_weather_ffill\n",
        "tx_weather_ffill = pd.merge_ordered(austin, houston, on='date', suffixes=['_aus', '_hus'], fill_method='ffill')\n",
        "\n",
        "# Print tx_weather_ffill\n",
        "print(tx_weather_ffill)"
      ],
      "execution_count": 0,
      "outputs": []
    },
    {
      "cell_type": "markdown",
      "metadata": {
        "id": "Y8UeriJW-4pv",
        "colab_type": "text"
      },
      "source": [
        "## Using merge_asof()"
      ]
    },
    {
      "cell_type": "code",
      "metadata": {
        "id": "6dOf83cL-6kC",
        "colab_type": "code",
        "colab": {}
      },
      "source": [
        "# Merge auto and oil: merged\n",
        "merged = pd.merge_asof(auto, oil, left_on='yr', right_on='Date')\n",
        "\n",
        "# Print the tail of merged\n",
        "print(merged.tail())\n",
        "\n",
        "# Resample merged: yearly\n",
        "yearly = merged.resample('A', on='Date')[['mpg', 'Price']].mean()\n",
        "\n",
        "# Print yearly\n",
        "print(yearly)\n",
        "\n",
        "# print yearly.corr()\n",
        "print(yearly.corr())"
      ],
      "execution_count": 0,
      "outputs": []
    }
  ]
}