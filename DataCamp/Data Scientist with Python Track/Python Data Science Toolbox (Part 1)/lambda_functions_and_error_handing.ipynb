{
  "nbformat": 4,
  "nbformat_minor": 0,
  "metadata": {
    "colab": {
      "name": "lambda_functions_and_error_handing.ipynb",
      "provenance": []
    },
    "kernelspec": {
      "name": "python3",
      "display_name": "Python 3"
    }
  },
  "cells": [
    {
      "cell_type": "markdown",
      "metadata": {
        "id": "2xmb7t96AbNX",
        "colab_type": "text"
      },
      "source": [
        "# Lambda functions and error-handling"
      ]
    },
    {
      "cell_type": "markdown",
      "metadata": {
        "id": "B_6pagJRLgV4",
        "colab_type": "text"
      },
      "source": [
        "## Writing a lambda function you already know"
      ]
    },
    {
      "cell_type": "code",
      "metadata": {
        "id": "zrcS7eVGAZuj",
        "colab_type": "code",
        "colab": {}
      },
      "source": [
        "# Define echo_word as a lambda function: echo_word\n",
        "echo_word = (lambda word1, echo: word1 * echo)\n",
        "\n",
        "# Call echo_word: result\n",
        "result = echo_word('hey', 5)\n",
        "\n",
        "# Print result\n",
        "print(result)"
      ],
      "execution_count": 0,
      "outputs": []
    },
    {
      "cell_type": "markdown",
      "metadata": {
        "id": "DUn90G0qA1Pg",
        "colab_type": "text"
      },
      "source": [
        "## Map() and lambda functions"
      ]
    },
    {
      "cell_type": "code",
      "metadata": {
        "id": "8K_-V0lTA4KO",
        "colab_type": "code",
        "colab": {}
      },
      "source": [
        "# Create a list of strings: spells\n",
        "spells = [\"protego\", \"accio\", \"expecto patronum\", \"legilimens\"]\n",
        "\n",
        "# Use map() to apply a lambda function over spells: shout_spells\n",
        "shout_spells = map(lambda item: item + '!!!', spells)\n",
        "\n",
        "# Convert shout_spells to a list: shout_spells_list\n",
        "shout_spells_list = list(shout_spells)\n",
        "\n",
        "# Print the result\n",
        "print(shout_spells_list)"
      ],
      "execution_count": 0,
      "outputs": []
    },
    {
      "cell_type": "markdown",
      "metadata": {
        "id": "rR6RHl8iBYsl",
        "colab_type": "text"
      },
      "source": [
        "## Filter() and lambda functions"
      ]
    },
    {
      "cell_type": "code",
      "metadata": {
        "id": "7Gp8m3ijBZG8",
        "colab_type": "code",
        "colab": {}
      },
      "source": [
        "# Create a list of strings: fellowship\n",
        "fellowship = ['frodo', 'samwise', 'merry', 'pippin', 'aragorn', 'boromir', 'legolas', 'gimli', 'gandalf']\n",
        "\n",
        "# Use filter() to apply a lambda function over fellowship: result\n",
        "result = filter(lambda member: len(member) > 6, fellowship)\n",
        "\n",
        "# Convert result to a list: result_list\n",
        "result_list = list(result)\n",
        "\n",
        "# Print result_list\n",
        "print(result_list)"
      ],
      "execution_count": 0,
      "outputs": []
    },
    {
      "cell_type": "markdown",
      "metadata": {
        "id": "7c_bIr8SBu-k",
        "colab_type": "text"
      },
      "source": [
        "## Reduce() and lambda functions"
      ]
    },
    {
      "cell_type": "code",
      "metadata": {
        "id": "8Ei7D_P2BvYE",
        "colab_type": "code",
        "colab": {}
      },
      "source": [
        "# Import reduce from functools\n",
        "from functools import reduce\n",
        "\n",
        "# Create a list of strings: stark\n",
        "stark = ['robb', 'sansa', 'arya', 'brandon', 'rickon']\n",
        "\n",
        "# Use reduce() to apply a lambda function over stark: result\n",
        "result = reduce(lambda item1, item2: item1 + item2, stark)\n",
        "\n",
        "# Print the result\n",
        "print(result)"
      ],
      "execution_count": 0,
      "outputs": []
    },
    {
      "cell_type": "markdown",
      "metadata": {
        "id": "h6sQ9hOICzXh",
        "colab_type": "text"
      },
      "source": [
        "## Error handling with try-except"
      ]
    },
    {
      "cell_type": "code",
      "metadata": {
        "id": "wMo_oDYDCzv_",
        "colab_type": "code",
        "colab": {}
      },
      "source": [
        "# Define shout_echo\n",
        "def shout_echo(word1, echo=1):\n",
        "    \"\"\"Concatenate echo copies of word1 and three\n",
        "    exclamation marks at the end of the string.\"\"\"\n",
        "\n",
        "    # Initialize empty strings: echo_word, shout_words\n",
        "    echo_word, shout_words = '', ''\n",
        "    \n",
        "\n",
        "    # Add exception handling with try-except\n",
        "    try:\n",
        "        # Concatenate echo copies of word1 using *: echo_word\n",
        "        echo_word = word1 * echo\n",
        "\n",
        "        # Concatenate '!!!' to echo_word: shout_words\n",
        "        shout_words = echo_word + '!!!'\n",
        "    except:\n",
        "        # Print error message\n",
        "        print(\"word1 must be a string and echo must be an integer.\")\n",
        "\n",
        "    # Return shout_words\n",
        "    return shout_words\n",
        "\n",
        "# Call shout_echo\n",
        "shout_echo(\"particle\", echo=\"accelerator\")"
      ],
      "execution_count": 0,
      "outputs": []
    },
    {
      "cell_type": "markdown",
      "metadata": {
        "id": "53qFSYY5DCli",
        "colab_type": "text"
      },
      "source": [
        "## Error handling by raising an error"
      ]
    },
    {
      "cell_type": "code",
      "metadata": {
        "id": "McFj_tD0DEKV",
        "colab_type": "code",
        "colab": {}
      },
      "source": [
        "# Define shout_echo\n",
        "def shout_echo(word1, echo=1):\n",
        "    \"\"\"Concatenate echo copies of word1 and three\n",
        "    exclamation marks at the end of the string.\"\"\"\n",
        "\n",
        "    # Raise an error with raise\n",
        "    if echo < 0:\n",
        "        raise ValueError('echo must be greater than or equal to 0')\n",
        "\n",
        "    # Concatenate echo copies of word1 using *: echo_word\n",
        "    echo_word = word1 * echo\n",
        "\n",
        "    # Concatenate '!!!' to echo_word: shout_word\n",
        "    shout_word = echo_word + '!!!'\n",
        "\n",
        "    # Return shout_word\n",
        "    return shout_word\n",
        "\n",
        "# Call shout_echo\n",
        "shout_echo(\"particle\", echo=5)"
      ],
      "execution_count": 0,
      "outputs": []
    },
    {
      "cell_type": "markdown",
      "metadata": {
        "id": "A217v5J_Dgg3",
        "colab_type": "text"
      },
      "source": [
        "## Bringing it all together (1)"
      ]
    },
    {
      "cell_type": "code",
      "metadata": {
        "id": "qUgdCkFQDg2x",
        "colab_type": "code",
        "colab": {}
      },
      "source": [
        "# Select retweets from the Twitter DataFrame: result\n",
        "result = filter(lambda item: item[:2] == 'RT', tweets_df['text'])\n",
        "\n",
        "# Create list from filter object result: res_list\n",
        "res_list = list(result)\n",
        "\n",
        "# Print all retweets in res_list\n",
        "for tweet in res_list:\n",
        "    print(tweet)"
      ],
      "execution_count": 0,
      "outputs": []
    },
    {
      "cell_type": "markdown",
      "metadata": {
        "id": "64qTOcyoD5X2",
        "colab_type": "text"
      },
      "source": [
        "## Bringing it all together (2)"
      ]
    },
    {
      "cell_type": "code",
      "metadata": {
        "id": "co4cLgYsD51I",
        "colab_type": "code",
        "colab": {}
      },
      "source": [
        "# Define count_entries()\n",
        "def count_entries(df, col_name='lang'):\n",
        "    \"\"\"Return a dictionary with counts of\n",
        "    occurrences as value for each key.\"\"\"\n",
        "\n",
        "    # Initialize an empty dictionary: cols_count\n",
        "    cols_count = {}\n",
        "\n",
        "    # Add try block\n",
        "    try:\n",
        "        # Extract column from DataFrame: col\n",
        "        col = df[col_name]\n",
        "        \n",
        "        # Iterate over the column in dataframe\n",
        "        for entry in col:\n",
        "    \n",
        "            # If entry is in cols_count, add 1\n",
        "            if entry in cols_count.keys():\n",
        "                cols_count[entry] += 1\n",
        "            # Else add the entry to cols_count, set the value to 1\n",
        "            else:\n",
        "                cols_count[entry] = 1\n",
        "    \n",
        "        # Return the cols_count dictionary\n",
        "        return cols_count\n",
        "\n",
        "    # Add except block\n",
        "    except:\n",
        "        print('The DataFrame does not have a ' + col_name + ' column')\n",
        "\n",
        "# Call count_entries(): result1\n",
        "result1 = count_entries(tweets_df, 'lang')\n",
        "\n",
        "# Print result1\n",
        "print(result1)"
      ],
      "execution_count": 0,
      "outputs": []
    },
    {
      "cell_type": "markdown",
      "metadata": {
        "id": "ZatqDtrXEOPu",
        "colab_type": "text"
      },
      "source": [
        "## Bringing it all together (3)"
      ]
    },
    {
      "cell_type": "code",
      "metadata": {
        "id": "-G5_7HzkEOnQ",
        "colab_type": "code",
        "colab": {}
      },
      "source": [
        "# Define count_entries()\n",
        "def count_entries(df, col_name='lang'):\n",
        "    \"\"\"Return a dictionary with counts of\n",
        "    occurrences as value for each key.\"\"\"\n",
        "    \n",
        "    # Raise a ValueError if col_name is NOT in DataFrame\n",
        "    if col_name not in df.columns:\n",
        "        raise ValueError('The DataFrame does not have a ' + col_name + ' column.')\n",
        "\n",
        "    # Initialize an empty dictionary: cols_count\n",
        "    cols_count = {}\n",
        "    \n",
        "    # Extract column from DataFrame: col\n",
        "    col = df[col_name]\n",
        "    \n",
        "    # Iterate over the column in DataFrame\n",
        "    for entry in col:\n",
        "\n",
        "        # If entry is in cols_count, add 1\n",
        "        if entry in cols_count.keys():\n",
        "            cols_count[entry] += 1\n",
        "            # Else add the entry to cols_count, set the value to 1\n",
        "        else:\n",
        "            cols_count[entry] = 1\n",
        "        \n",
        "        # Return the cols_count dictionary\n",
        "    return cols_count\n",
        "\n",
        "# Call count_entries(): result1\n",
        "result1 = count_entries(tweets_df, 'lang')\n",
        "\n",
        "# Print result1\n",
        "print(result1)"
      ],
      "execution_count": 0,
      "outputs": []
    }
  ]
}