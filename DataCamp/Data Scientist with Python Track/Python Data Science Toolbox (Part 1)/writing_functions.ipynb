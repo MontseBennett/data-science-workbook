{
  "nbformat": 4,
  "nbformat_minor": 0,
  "metadata": {
    "colab": {
      "name": "writing-functions.ipynb",
      "provenance": []
    },
    "kernelspec": {
      "name": "python3",
      "display_name": "Python 3"
    }
  },
  "cells": [
    {
      "cell_type": "markdown",
      "metadata": {
        "id": "cti2OdM4uwlM",
        "colab_type": "text"
      },
      "source": [
        "# Writing your own functions\n"
      ]
    },
    {
      "cell_type": "markdown",
      "metadata": {
        "id": "NSpKtVlW8bl2",
        "colab_type": "text"
      },
      "source": [
        "## Write a simple function"
      ]
    },
    {
      "cell_type": "code",
      "metadata": {
        "id": "nbp0Z1Es8AfQ",
        "colab_type": "code",
        "colab": {}
      },
      "source": [
        "# Define the function shout\n",
        "def shout():\n",
        "    \"\"\"Print a string with three exclamation marks\"\"\"\n",
        "    # Concatenate the strings: shout_word\n",
        "    shout_word = 'congratulations' + '!!!'\n",
        "\n",
        "    # Print shout_word\n",
        "    print(shout_word)\n",
        "\n",
        "# Call shout\n",
        "shout()"
      ],
      "execution_count": 0,
      "outputs": []
    },
    {
      "cell_type": "markdown",
      "metadata": {
        "id": "8iz5_cnX8Zqe",
        "colab_type": "text"
      },
      "source": [
        "## Single-parameter functions"
      ]
    },
    {
      "cell_type": "code",
      "metadata": {
        "id": "WOHkWJ5i8fjA",
        "colab_type": "code",
        "colab": {}
      },
      "source": [
        "# Define shout with the parameter, word\n",
        "def shout(word):\n",
        "    \"\"\"Print a string with three exclamation marks\"\"\"\n",
        "    # Concatenate the strings: shout_word\n",
        "    shout_word = word + '!!!'\n",
        "\n",
        "    # Print shout_word\n",
        "    print(shout_word)\n",
        "\n",
        "# Call shout with the string 'congratulations'\n",
        "shout('congratulations')"
      ],
      "execution_count": 0,
      "outputs": []
    },
    {
      "cell_type": "markdown",
      "metadata": {
        "id": "C3qjhThb8qEl",
        "colab_type": "text"
      },
      "source": [
        "## Functions that return single values"
      ]
    },
    {
      "cell_type": "code",
      "metadata": {
        "id": "iHrRLSCI8qlL",
        "colab_type": "code",
        "colab": {}
      },
      "source": [
        "# Define shout with the parameter, word\n",
        "def shout(word):\n",
        "    \"\"\"Return a string with three exclamation marks\"\"\"\n",
        "    # Concatenate the strings: shout_word\n",
        "    shout_word = word + '!!!'\n",
        "\n",
        "    # Replace print with return\n",
        "    return shout_word\n",
        "\n",
        "# Pass 'congratulations' to shout: yell\n",
        "yell = shout('congratulations')\n",
        "\n",
        "# Print yell\n",
        "print(yell)"
      ],
      "execution_count": 0,
      "outputs": []
    },
    {
      "cell_type": "markdown",
      "metadata": {
        "id": "QsUWesXJ9ttz",
        "colab_type": "text"
      },
      "source": [
        "## Functions with multiple parameters"
      ]
    },
    {
      "cell_type": "code",
      "metadata": {
        "id": "vtpM_fEK9uRK",
        "colab_type": "code",
        "colab": {}
      },
      "source": [
        "# Define shout with parameters word1 and word2\n",
        "def shout(word1, word2):\n",
        "    \"\"\"Concatenate strings with three exclamation marks\"\"\"\n",
        "    # Concatenate word1 with '!!!': shout1\n",
        "    shout1 = word1 + '!!!'\n",
        "    \n",
        "    # Concatenate word2 with '!!!': shout2\n",
        "    shout2 = word2 + '!!!'\n",
        "    \n",
        "    # Concatenate shout1 with shout2: new_shout\n",
        "    new_shout = shout1 + shout2\n",
        "\n",
        "    # Return new_shout\n",
        "    return new_shout\n",
        "\n",
        "# Pass 'congratulations' and 'you' to shout(): yell\n",
        "yell = shout('congratulations', 'you')\n",
        "\n",
        "# Print yell\n",
        "print(yell)"
      ],
      "execution_count": 0,
      "outputs": []
    },
    {
      "cell_type": "markdown",
      "metadata": {
        "id": "M9REyC0N-DPi",
        "colab_type": "text"
      },
      "source": [
        "## A brief introduction to tuples"
      ]
    },
    {
      "cell_type": "code",
      "metadata": {
        "id": "zuErQ7tN-Drm",
        "colab_type": "code",
        "colab": {}
      },
      "source": [
        "# Unpack nums into num1, num2, and num3\n",
        "num1, num2, num3 = nums\n",
        "\n",
        "# Construct even_nums\n",
        "even_nums = (2, num2, num3)"
      ],
      "execution_count": 0,
      "outputs": []
    },
    {
      "cell_type": "markdown",
      "metadata": {
        "id": "btjDfY4v-0ib",
        "colab_type": "text"
      },
      "source": [
        "## Functions that return multiple values"
      ]
    },
    {
      "cell_type": "code",
      "metadata": {
        "id": "YfbDx0aM-1Rh",
        "colab_type": "code",
        "colab": {}
      },
      "source": [
        "# Define shout_all with parameters word1 and word2\n",
        "def shout_all(word1, word2):\n",
        "    \n",
        "    # Concatenate word1 with '!!!': shout1\n",
        "    shout1 = word1 + '!!!'\n",
        "    \n",
        "    # Concatenate word2 with '!!!': shout2\n",
        "    shout2 = word2 + '!!!'\n",
        "    \n",
        "    # Construct a tuple with shout1 and shout2: shout_words\n",
        "    shout_words = (shout1, shout2)\n",
        "\n",
        "    # Return shout_words\n",
        "    return shout_words\n",
        "\n",
        "# Pass 'congratulations' and 'you' to shout_all(): yell1, yell2\n",
        "yell1, yell2 = shout_all('congratulations', 'you')\n",
        "\n",
        "# Print yell1 and yell2\n",
        "print(yell1)\n",
        "print(yell2)"
      ],
      "execution_count": 0,
      "outputs": []
    },
    {
      "cell_type": "markdown",
      "metadata": {
        "id": "qK1WprWYCZ6x",
        "colab_type": "text"
      },
      "source": [
        "## Bringing it all together (1)"
      ]
    },
    {
      "cell_type": "code",
      "metadata": {
        "id": "9v6eSeoUCb2H",
        "colab_type": "code",
        "colab": {}
      },
      "source": [
        "# Import pandas\n",
        "import pandas as pd\n",
        "\n",
        "# Import Twitter data as DataFrame: df\n",
        "df = pd.read_csv('tweets.csv')\n",
        "\n",
        "# Initialize an empty dictionary: langs_count\n",
        "langs_count = {}\n",
        "\n",
        "# Extract column from DataFrame: col\n",
        "col = df['lang']\n",
        "\n",
        "# Iterate over lang column in DataFrame\n",
        "for entry in col:\n",
        "\n",
        "    # If the language is in langs_count, add 1 \n",
        "    if entry in langs_count.keys():\n",
        "        langs_count[entry] += 1\n",
        "    # Else add the language to langs_count, set the value to 1\n",
        "    else:\n",
        "        langs_count[entry] = 1\n",
        "\n",
        "# Print the populated dictionary\n",
        "print(langs_count)"
      ],
      "execution_count": 0,
      "outputs": []
    },
    {
      "cell_type": "markdown",
      "metadata": {
        "id": "j_Q741bXCdAL",
        "colab_type": "text"
      },
      "source": [
        "## Bringing it all together (2)"
      ]
    },
    {
      "cell_type": "code",
      "metadata": {
        "id": "y_lUbaRdCfRh",
        "colab_type": "code",
        "colab": {}
      },
      "source": [
        "# Define count_entries()\n",
        "def count_entries(df, col_name):\n",
        "    \"\"\"Return a dictionary with counts of \n",
        "    occurrences as value for each key.\"\"\"\n",
        "\n",
        "    # Initialize an empty dictionary: langs_count\n",
        "    langs_count = {}\n",
        "    \n",
        "    # Extract column from DataFrame: col\n",
        "    col = df[col_name]\n",
        "    \n",
        "    # Iterate over lang column in DataFrame\n",
        "    for entry in col:\n",
        "\n",
        "        # If the language is in langs_count, add 1\n",
        "        if entry in langs_count.keys():\n",
        "            langs_count[entry] += 1\n",
        "        # Else add the language to langs_count, set the value to 1\n",
        "        else:\n",
        "            langs_count[entry] = 1\n",
        "\n",
        "    # Return the langs_count dictionary\n",
        "    return langs_count\n",
        "\n",
        "# Call count_entries(): result\n",
        "result = count_entries(tweets_df, 'lang')\n",
        "\n",
        "# Print the result\n",
        "print(result)"
      ],
      "execution_count": 0,
      "outputs": []
    }
  ]
}