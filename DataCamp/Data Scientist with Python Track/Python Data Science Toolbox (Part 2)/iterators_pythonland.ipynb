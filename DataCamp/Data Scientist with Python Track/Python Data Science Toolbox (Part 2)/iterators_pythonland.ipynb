{
  "nbformat": 4,
  "nbformat_minor": 0,
  "metadata": {
    "colab": {
      "name": "iterators_pythonland.ipynb",
      "provenance": [],
      "collapsed_sections": []
    },
    "kernelspec": {
      "name": "python3",
      "display_name": "Python 3"
    }
  },
  "cells": [
    {
      "cell_type": "markdown",
      "metadata": {
        "id": "qmwFyN_DR8ip",
        "colab_type": "text"
      },
      "source": [
        "# Using iterators in PythonLand\n"
      ]
    },
    {
      "cell_type": "markdown",
      "metadata": {
        "id": "MN_BuFsTSyi5",
        "colab_type": "text"
      },
      "source": [
        "## Iterating over iterables (1)"
      ]
    },
    {
      "cell_type": "code",
      "metadata": {
        "id": "KM09I_bxS6LA",
        "colab_type": "code",
        "colab": {}
      },
      "source": [
        "# Create a list of strings: flash\n",
        "flash = ['jay garrick', 'barry allen', 'wally west', 'bart allen']\n",
        "\n",
        "# Print each list item in flash using a for loop\n",
        "for person in flash:\n",
        "    print(person)\n",
        "\n",
        "\n",
        "# Create an iterator for flash: superhero\n",
        "superhero = iter(flash)\n",
        "\n",
        "# Print each item from the iterator\n",
        "print(next(superhero))\n",
        "print(next(superhero))\n",
        "print(next(superhero))\n",
        "print(next(superhero))"
      ],
      "execution_count": 0,
      "outputs": []
    },
    {
      "cell_type": "markdown",
      "metadata": {
        "id": "sMlLAYT6TIGp",
        "colab_type": "text"
      },
      "source": [
        "## Iterating over iterables (2)"
      ]
    },
    {
      "cell_type": "code",
      "metadata": {
        "id": "ggLAyirQTJsj",
        "colab_type": "code",
        "colab": {}
      },
      "source": [
        "# Create an iterator for range(3): small_value\n",
        "small_value = iter(range(3))\n",
        "\n",
        "# Print the values in small_value\n",
        "print(next(small_value))\n",
        "print(next(small_value))\n",
        "print(next(small_value))\n",
        "\n",
        "# Loop over range(3) and print the values\n",
        "for num in range(3):\n",
        "    print(num)\n",
        "\n",
        "\n",
        "# Create an iterator for range(10 ** 100): googol\n",
        "googol = iter(range(10 ** 100))\n",
        "\n",
        "# Print the first 5 values from googol\n",
        "print(next(googol))\n",
        "print(next(googol))\n",
        "print(next(googol))\n",
        "print(next(googol))\n",
        "print(next(googol))"
      ],
      "execution_count": 0,
      "outputs": []
    },
    {
      "cell_type": "markdown",
      "metadata": {
        "id": "j_lywvaTTia_",
        "colab_type": "text"
      },
      "source": [
        "## Iterators as function arguments"
      ]
    },
    {
      "cell_type": "code",
      "metadata": {
        "id": "0C63uwGtTix7",
        "colab_type": "code",
        "colab": {}
      },
      "source": [
        "# Create a range object: values\n",
        "values = range(10, 21)\n",
        "\n",
        "# Print the range object\n",
        "print(values)\n",
        "\n",
        "# Create a list of integers: values_list\n",
        "values_list = list(values)\n",
        "\n",
        "# Print values_list\n",
        "print(values_list)\n",
        "\n",
        "# Get the sum of values: values_sum\n",
        "values_sum = sum(values)\n",
        "\n",
        "# Print values_sum\n",
        "print(values_sum)\n"
      ],
      "execution_count": 0,
      "outputs": []
    },
    {
      "cell_type": "markdown",
      "metadata": {
        "id": "HZ2P4UVdT0yH",
        "colab_type": "text"
      },
      "source": [
        "## Using enumerate"
      ]
    },
    {
      "cell_type": "code",
      "metadata": {
        "id": "PV7FBxo2UOcd",
        "colab_type": "code",
        "colab": {}
      },
      "source": [
        "# Create a list of strings: mutants\n",
        "mutants = ['charles xavier', \n",
        "            'bobby drake', \n",
        "            'kurt wagner', \n",
        "            'max eisenhardt', \n",
        "            'kitty pryde']\n",
        "\n",
        "# Create a list of tuples: mutant_list\n",
        "mutant_list = list(enumerate(mutants))\n",
        "\n",
        "# Print the list of tuples\n",
        "print(mutant_list)\n",
        "\n",
        "# Unpack and print the tuple pairs\n",
        "for index1, value1 in enumerate(mutants):\n",
        "    print(index1, value1)\n",
        "\n",
        "# Change the start index\n",
        "for index2, value2 in enumerate(mutants, start=1):\n",
        "    print(index2, value2)\n"
      ],
      "execution_count": 0,
      "outputs": []
    },
    {
      "cell_type": "markdown",
      "metadata": {
        "id": "PuyQmcAkU2l4",
        "colab_type": "text"
      },
      "source": [
        "## Using zip"
      ]
    },
    {
      "cell_type": "code",
      "metadata": {
        "id": "xmyOFOpOU35o",
        "colab_type": "code",
        "colab": {}
      },
      "source": [
        "# Create a list of tuples: mutant_data\n",
        "mutant_data = list(zip(mutants, aliases, powers))\n",
        "\n",
        "# Print the list of tuples\n",
        "print(mutant_data)\n",
        "\n",
        "# Create a zip object using the three lists: mutant_zip\n",
        "mutant_zip = zip(mutants, aliases, powers)\n",
        "\n",
        "# Print the zip object\n",
        "print(mutant_zip)\n",
        "\n",
        "# Unpack the zip object and print the tuple values\n",
        "for value1, value2, value3 in mutant_zip:\n",
        "    print(value1, value2, value3)"
      ],
      "execution_count": 0,
      "outputs": []
    },
    {
      "cell_type": "markdown",
      "metadata": {
        "id": "TdP-TYiwVP7M",
        "colab_type": "text"
      },
      "source": [
        "## Using * and zip to 'unzip'"
      ]
    },
    {
      "cell_type": "code",
      "metadata": {
        "id": "I3stEbcQVRXP",
        "colab_type": "code",
        "colab": {}
      },
      "source": [
        "# Create a zip object from mutants and powers: z1\n",
        "z1 = zip(mutants, powers)\n",
        "\n",
        "# Print the tuples in z1 by unpacking with *\n",
        "print(*z1)\n",
        "\n",
        "# Re-create a zip object from mutants and powers: z1\n",
        "z1 = zip(mutants, powers)\n",
        "\n",
        "# 'Unzip' the tuples in z1 by unpacking with * and zip(): result1, result2\n",
        "result1, result2 = zip(*z1)\n",
        "\n",
        "# Check if unpacked tuples are equivalent to original tuples\n",
        "print(result1 == mutants)\n",
        "print(result2 == powers)\n"
      ],
      "execution_count": 0,
      "outputs": []
    },
    {
      "cell_type": "markdown",
      "metadata": {
        "id": "5hDQ13GaWwoU",
        "colab_type": "text"
      },
      "source": [
        "## Processing large amounts of Twitter data"
      ]
    },
    {
      "cell_type": "code",
      "metadata": {
        "id": "gDyeBDElWw_5",
        "colab_type": "code",
        "colab": {}
      },
      "source": [
        "# Initialize an empty dictionary: counts_dict\n",
        "counts_dict = {}\n",
        "\n",
        "# Iterate over the file chunk by chunk\n",
        "for chunk in pd.read_csv('tweets.csv', chunksize=10):\n",
        "\n",
        "    # Iterate over the column in DataFrame\n",
        "    for entry in chunk['lang']:\n",
        "        if entry in counts_dict.keys():\n",
        "            counts_dict[entry] += 1\n",
        "        else:\n",
        "            counts_dict[entry] = 1\n",
        "\n",
        "# Print the populated dictionary\n",
        "print(counts_dict)\n"
      ],
      "execution_count": 0,
      "outputs": []
    },
    {
      "cell_type": "markdown",
      "metadata": {
        "id": "iAEX4FTPXczo",
        "colab_type": "text"
      },
      "source": [
        "## Extracting information for large amounts of Twitter data"
      ]
    },
    {
      "cell_type": "code",
      "metadata": {
        "id": "jqjzajFhXdJ4",
        "colab_type": "code",
        "colab": {}
      },
      "source": [
        "# Define count_entries()\n",
        "def count_entries(csv_file, c_size, colname):\n",
        "    \"\"\"Return a dictionary with counts of\n",
        "    occurrences as value for each key.\"\"\"\n",
        "    \n",
        "    # Initialize an empty dictionary: counts_dict\n",
        "    counts_dict = {}\n",
        "\n",
        "    # Iterate over the file chunk by chunk\n",
        "    for chunk in pd.read_csv(csv_file, chunksize=c_size):\n",
        "\n",
        "        # Iterate over the column in DataFrame\n",
        "        for entry in chunk[colname]:\n",
        "            if entry in counts_dict.keys():\n",
        "                counts_dict[entry] += 1\n",
        "            else:\n",
        "                counts_dict[entry] = 1\n",
        "\n",
        "    # Return counts_dict\n",
        "    return counts_dict\n",
        "\n",
        "# Call count_entries(): result_counts\n",
        "result_counts = count_entries('tweets.csv', 10, 'lang')\n",
        "\n",
        "# Print result_counts\n",
        "print(result_counts)\n"
      ],
      "execution_count": 0,
      "outputs": []
    }
  ]
}