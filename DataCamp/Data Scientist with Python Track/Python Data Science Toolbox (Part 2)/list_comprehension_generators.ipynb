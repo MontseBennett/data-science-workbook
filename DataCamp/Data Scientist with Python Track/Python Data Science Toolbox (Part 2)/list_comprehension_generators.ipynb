{
  "nbformat": 4,
  "nbformat_minor": 0,
  "metadata": {
    "colab": {
      "name": "list_comprehension_generators.ipynb",
      "provenance": [],
      "collapsed_sections": []
    },
    "kernelspec": {
      "name": "python3",
      "display_name": "Python 3"
    }
  },
  "cells": [
    {
      "cell_type": "markdown",
      "metadata": {
        "id": "R_1qux5pYxtD",
        "colab_type": "text"
      },
      "source": [
        "# List comprehensions and generators"
      ]
    },
    {
      "cell_type": "markdown",
      "metadata": {
        "id": "OXtszemcXYWI",
        "colab_type": "text"
      },
      "source": [
        "## Write a basic list comprehension"
      ]
    },
    {
      "cell_type": "markdown",
      "metadata": {
        "id": "7Y4szXzIaxAc",
        "colab_type": "text"
      },
      "source": [
        "B. The list comprehension is [doc[0] for doc in doctor] and produces the list ['h', 'c', 'c', 't', 'w']"
      ]
    },
    {
      "cell_type": "markdown",
      "metadata": {
        "id": "3shXG4HJaf7H",
        "colab_type": "text"
      },
      "source": [
        "## List comprehension over iterables"
      ]
    },
    {
      "cell_type": "markdown",
      "metadata": {
        "id": "b3q7d9Zna4b2",
        "colab_type": "text"
      },
      "source": [
        "D. You can build list comprehensions over all the objects except the integer object valjean."
      ]
    },
    {
      "cell_type": "markdown",
      "metadata": {
        "id": "P-f8r2UYbDc8",
        "colab_type": "text"
      },
      "source": [
        "## Writing list comprehensions"
      ]
    },
    {
      "cell_type": "code",
      "metadata": {
        "id": "sKvsLA0GbSNr",
        "colab_type": "code",
        "colab": {}
      },
      "source": [
        "# Create list comprehension: squares\n",
        "squares = [i**2 for i in range(10)]\n"
      ],
      "execution_count": 0,
      "outputs": []
    },
    {
      "cell_type": "markdown",
      "metadata": {
        "id": "vTSyWxpjbf9r",
        "colab_type": "text"
      },
      "source": [
        "## Nested list comprehensions"
      ]
    },
    {
      "cell_type": "code",
      "metadata": {
        "id": "-7XY2KjabgZK",
        "colab_type": "code",
        "colab": {}
      },
      "source": [
        "# Create a 5 x 5 matrix using a list of lists: matrix\n",
        "matrix = [[col for col in range(5)] for row in range(5)]\n",
        "\n",
        "# Print the matrix\n",
        "for row in matrix:\n",
        "    print(row)\n"
      ],
      "execution_count": 0,
      "outputs": []
    },
    {
      "cell_type": "markdown",
      "metadata": {
        "id": "iZpLveplcT7b",
        "colab_type": "text"
      },
      "source": [
        "## Using conditionals in comprehensions (1)"
      ]
    },
    {
      "cell_type": "code",
      "metadata": {
        "id": "BwMrlCRZcUga",
        "colab_type": "code",
        "colab": {}
      },
      "source": [
        "# Create a list of strings: fellowship\n",
        "fellowship = ['frodo', 'samwise', 'merry', 'aragorn', 'legolas', 'boromir', 'gimli']\n",
        "\n",
        "# Create list comprehension: new_fellowship\n",
        "new_fellowship = [member for member in fellowship if len(member) >= 7]\n",
        "\n",
        "# Print the new list\n",
        "print(new_fellowship)\n"
      ],
      "execution_count": 0,
      "outputs": []
    },
    {
      "cell_type": "markdown",
      "metadata": {
        "id": "gBwVxh8pcld3",
        "colab_type": "text"
      },
      "source": [
        "## Using conditionals in comprehensions (2)"
      ]
    },
    {
      "cell_type": "code",
      "metadata": {
        "id": "FBuSQMPnclyw",
        "colab_type": "code",
        "colab": {}
      },
      "source": [
        "# Create a list of strings: fellowship\n",
        "fellowship = ['frodo', 'samwise', 'merry', 'aragorn', 'legolas', 'boromir', 'gimli']\n",
        "\n",
        "# Create list comprehension: new_fellowship\n",
        "new_fellowship = [member if len(member) >= 7 else '' for member in fellowship]\n",
        "\n",
        "# Print the new list\n",
        "print(new_fellowship)"
      ],
      "execution_count": 0,
      "outputs": []
    },
    {
      "cell_type": "markdown",
      "metadata": {
        "id": "2biPRDI7czq-",
        "colab_type": "text"
      },
      "source": [
        "## Dict comprehensions"
      ]
    },
    {
      "cell_type": "code",
      "metadata": {
        "id": "h5JipsHTc1QK",
        "colab_type": "code",
        "colab": {}
      },
      "source": [
        "# Create a list of strings: fellowship\n",
        "fellowship = ['frodo', 'samwise', 'merry', 'aragorn', 'legolas', 'boromir', 'gimli']\n",
        "\n",
        "# Create dict comprehension: new_fellowship\n",
        "new_fellowship = {member: len(member) for member in fellowship}\n",
        "\n",
        "# Print the new dictionary\n",
        "print(new_fellowship)\n"
      ],
      "execution_count": 0,
      "outputs": []
    },
    {
      "cell_type": "markdown",
      "metadata": {
        "id": "YhwpSXQ3d7nc",
        "colab_type": "text"
      },
      "source": [
        "## List comprehensions vs generators"
      ]
    },
    {
      "cell_type": "markdown",
      "metadata": {
        "id": "RP37cPnRd7-a",
        "colab_type": "text"
      },
      "source": [
        "B. A list comprehension produces a list as output, a generator produces a generator object."
      ]
    },
    {
      "cell_type": "markdown",
      "metadata": {
        "id": "s-XaBnZDeehv",
        "colab_type": "text"
      },
      "source": [
        "## Write your own generator expressions"
      ]
    },
    {
      "cell_type": "code",
      "metadata": {
        "id": "OxQtj2GmehAE",
        "colab_type": "code",
        "colab": {}
      },
      "source": [
        "# Create generator object: result\n",
        "result = (num for num in range(31))\n",
        "\n",
        "# Print the first 5 values\n",
        "print(next(result))\n",
        "print(next(result))\n",
        "print(next(result))\n",
        "print(next(result))\n",
        "print(next(result))\n",
        "\n",
        "# Print the rest of the values\n",
        "for value in result:\n",
        "    print(value)\n"
      ],
      "execution_count": 0,
      "outputs": []
    },
    {
      "cell_type": "markdown",
      "metadata": {
        "id": "2tsV_LR3e4U2",
        "colab_type": "text"
      },
      "source": [
        "## Changing the output in generator expressions"
      ]
    },
    {
      "cell_type": "code",
      "metadata": {
        "id": "HQtEmUJXe5yI",
        "colab_type": "code",
        "colab": {}
      },
      "source": [
        "# Create a list of strings: lannister\n",
        "lannister = ['cersei', 'jaime', 'tywin', 'tyrion', 'joffrey']\n",
        "\n",
        "# Create a generator object: lengths\n",
        "lengths = (len(person) for person in lannister)\n",
        "\n",
        "# Iterate over and print the values in lengths\n",
        "for value in lengths:\n",
        "    print(value)\n"
      ],
      "execution_count": 0,
      "outputs": []
    },
    {
      "cell_type": "markdown",
      "metadata": {
        "id": "QCCFkVPdfKPr",
        "colab_type": "text"
      },
      "source": [
        "## Build a generator"
      ]
    },
    {
      "cell_type": "code",
      "metadata": {
        "id": "wRxHKL9kfKmc",
        "colab_type": "code",
        "colab": {}
      },
      "source": [
        "# Create a list of strings\n",
        "lannister = ['cersei', 'jaime', 'tywin', 'tyrion', 'joffrey']\n",
        "\n",
        "# Define generator function get_lengths\n",
        "def get_lengths(input_list):\n",
        "    \"\"\"Generator function that yields the\n",
        "    length of the strings in input_list.\"\"\"\n",
        "\n",
        "    # Yield the length of a string\n",
        "    for person in input_list:\n",
        "        yield len(person)\n",
        "\n",
        "# Print the values generated by get_lengths()\n",
        "for value in get_lengths(lannister):\n",
        "    print(value)"
      ],
      "execution_count": 0,
      "outputs": []
    },
    {
      "cell_type": "markdown",
      "metadata": {
        "id": "jKZkFvG4fhgz",
        "colab_type": "text"
      },
      "source": [
        "## List comprehensions for time-stamped data"
      ]
    },
    {
      "cell_type": "code",
      "metadata": {
        "id": "hoPN9Q60fxig",
        "colab_type": "code",
        "colab": {}
      },
      "source": [
        "# Extract the created_at column from df: tweet_time\n",
        "tweet_time = df['created_at']\n",
        "\n",
        "# Extract the clock time: tweet_clock_time\n",
        "tweet_clock_time = [entry[11:19] for entry in tweet_time]\n",
        "\n",
        "# Print the extracted times\n",
        "print(tweet_clock_time)\n"
      ],
      "execution_count": 0,
      "outputs": []
    },
    {
      "cell_type": "markdown",
      "metadata": {
        "id": "z9OBTg7ygU34",
        "colab_type": "text"
      },
      "source": [
        "## Conditional list comprehensions for time-stamped data"
      ]
    },
    {
      "cell_type": "code",
      "metadata": {
        "id": "heBS4bpIgVNl",
        "colab_type": "code",
        "colab": {}
      },
      "source": [
        "# Extract the created_at column from df: tweet_time\n",
        "tweet_time = df['created_at']\n",
        "\n",
        "# Extract the clock time: tweet_clock_time\n",
        "tweet_clock_time = [entry[11:19] for entry in tweet_time if entry[17:19] == '19']\n",
        "\n",
        "# Print the extracted times\n",
        "print(tweet_clock_time)\n"
      ],
      "execution_count": 0,
      "outputs": []
    }
  ]
}