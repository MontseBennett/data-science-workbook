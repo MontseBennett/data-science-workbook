{
  "nbformat": 4,
  "nbformat_minor": 0,
  "metadata": {
    "colab": {
      "name": "dates_and_calendars.ipynb",
      "provenance": [],
      "collapsed_sections": []
    },
    "kernelspec": {
      "name": "python3",
      "display_name": "Python 3"
    }
  },
  "cells": [
    {
      "cell_type": "markdown",
      "metadata": {
        "id": "iMDgx_lUubRM",
        "colab_type": "text"
      },
      "source": [
        "# Dates and Calendars\n"
      ]
    },
    {
      "cell_type": "markdown",
      "metadata": {
        "id": "hv9c4rGiwpWP",
        "colab_type": "text"
      },
      "source": [
        "## Which day of the week?"
      ]
    },
    {
      "cell_type": "code",
      "metadata": {
        "id": "YCRdEJgQxfXk",
        "colab_type": "code",
        "colab": {}
      },
      "source": [
        "# Import date from datetime\n",
        "from datetime import date"
      ],
      "execution_count": 0,
      "outputs": []
    },
    {
      "cell_type": "code",
      "metadata": {
        "id": "iulNoxyMxlQb",
        "colab_type": "code",
        "colab": {}
      },
      "source": [
        "# Import date from datetime\n",
        "from datetime import date\n",
        "\n",
        "# Create a date object\n",
        "hurricane_andrew = date(1992, 8, 24)"
      ],
      "execution_count": 0,
      "outputs": []
    },
    {
      "cell_type": "code",
      "metadata": {
        "id": "AX3cPTqkxt-A",
        "colab_type": "code",
        "colab": {}
      },
      "source": [
        "# Import date from datetime\n",
        "from datetime import date\n",
        "\n",
        "# Create a date object\n",
        "hurricane_andrew = date(1992, 8, 24)\n",
        "\n",
        "# Which day of the week is the date?\n",
        "print(hurricane_andrew.weekday())"
      ],
      "execution_count": 0,
      "outputs": []
    },
    {
      "cell_type": "markdown",
      "metadata": {
        "id": "5k_V2U8lxyAH",
        "colab_type": "text"
      },
      "source": [
        "## How many hurricanes come early?"
      ]
    },
    {
      "cell_type": "code",
      "metadata": {
        "id": "ffMnUTXAxyUh",
        "colab_type": "code",
        "colab": {}
      },
      "source": [
        "# Counter for how many before June 1\n",
        "early_hurricanes = 0\n",
        "\n",
        "# We loop over the dates\n",
        "for hurricane in florida_hurricane_dates:\n",
        "  # Check if the month is before June (month number 6)\n",
        "  if hurricane.month < 6:\n",
        "    early_hurricanes = early_hurricanes + 1\n",
        "    \n",
        "print(early_hurricanes)"
      ],
      "execution_count": 0,
      "outputs": []
    },
    {
      "cell_type": "markdown",
      "metadata": {
        "id": "0e-Gpww4y18D",
        "colab_type": "text"
      },
      "source": [
        "## Subtracting dates"
      ]
    },
    {
      "cell_type": "code",
      "metadata": {
        "id": "TGymgH8Py2eB",
        "colab_type": "code",
        "colab": {}
      },
      "source": [
        "# Import date\n",
        "from datetime import date\n",
        "\n",
        "# Create a date object for May 9th, 2007\n",
        "start = date(2007, 5, 9)\n",
        "\n",
        "# Create a date object for December 13th, 2007\n",
        "end = date(2007, 12, 13)\n",
        "\n",
        "# Subtract the two dates and print the number of days\n",
        "print((end - start).days)"
      ],
      "execution_count": 0,
      "outputs": []
    },
    {
      "cell_type": "markdown",
      "metadata": {
        "id": "5h-98ofgzQdG",
        "colab_type": "text"
      },
      "source": [
        "## Counting events per calendar month"
      ]
    },
    {
      "cell_type": "code",
      "metadata": {
        "id": "A0S4JINJzQxi",
        "colab_type": "code",
        "colab": {}
      },
      "source": [
        "# A dictionary to count hurricanes per calendar month\n",
        "hurricanes_each_month = {1: 0, 2: 0, 3: 0, 4: 0, 5: 0, 6:0,\n",
        "\t\t  \t\t\t\t 7: 0, 8:0, 9:0, 10:0, 11:0, 12:0}\n",
        "\n",
        "# Loop over all hurricanes\n",
        "for hurricane in florida_hurricane_dates:\n",
        "  # Pull out the month\n",
        "  month = hurricane.month\n",
        "  # Increment the count in your dictionary by one\n",
        "  hurricanes_each_month[month] += 1\n",
        "  \n",
        "print(hurricanes_each_month)"
      ],
      "execution_count": 0,
      "outputs": []
    },
    {
      "cell_type": "markdown",
      "metadata": {
        "id": "WEhu0xMUzgLf",
        "colab_type": "text"
      },
      "source": [
        "## Putting a list of dates in order"
      ]
    },
    {
      "cell_type": "code",
      "metadata": {
        "id": "H0aDj1ejzgfc",
        "colab_type": "code",
        "colab": {}
      },
      "source": [
        "# Print the first and last scrambled dates\n",
        "print(dates_scrambled[0])\n",
        "print(dates_scrambled[-1])"
      ],
      "execution_count": 0,
      "outputs": []
    },
    {
      "cell_type": "code",
      "metadata": {
        "id": "_IuGY8aUzxzd",
        "colab_type": "code",
        "colab": {}
      },
      "source": [
        "# Print the first and last scrambled dates\n",
        "print(dates_scrambled[0])\n",
        "print(dates_scrambled[-1])\n",
        "\n",
        "# Put the dates in order\n",
        "dates_ordered = sorted(dates_scrambled)\n",
        "\n",
        "# Print the first and last ordered dates\n",
        "print(dates_ordered[0])\n",
        "print(dates_ordered[-1])"
      ],
      "execution_count": 0,
      "outputs": []
    },
    {
      "cell_type": "markdown",
      "metadata": {
        "id": "jXQ0LdpKD62v",
        "colab_type": "text"
      },
      "source": [
        "## Printing dates in a friendly format"
      ]
    },
    {
      "cell_type": "code",
      "metadata": {
        "id": "2rh8Ivm5D7Sb",
        "colab_type": "code",
        "colab": {}
      },
      "source": [
        "# Assign the earliest date to first_date\n",
        "first_date = min(florida_hurricane_dates)\n",
        "\n",
        "# Convert to ISO and US formats\n",
        "iso = \"Our earliest hurricane date: \" + first_date.isoformat()\n",
        "us = \"Our earliest hurricane date: \" + first_date.strftime(\"%m/%d/%Y\")\n",
        "\n",
        "print(\"ISO: \" + iso)\n",
        "print(\"US: \" + us)"
      ],
      "execution_count": 0,
      "outputs": []
    },
    {
      "cell_type": "markdown",
      "metadata": {
        "id": "EUa7UECNEDIy",
        "colab_type": "text"
      },
      "source": [
        "## Representing dates in different ways"
      ]
    },
    {
      "cell_type": "code",
      "metadata": {
        "id": "3ViLpHyUEDsJ",
        "colab_type": "code",
        "colab": {}
      },
      "source": [
        "# Import date\n",
        "from datetime import date\n",
        "\n",
        "# Create a date object\n",
        "andrew = date(1992, 8, 26)\n",
        "\n",
        "# Print the date in the format 'YYYY-MM'\n",
        "print(andrew.strftime('%Y-%m'))"
      ],
      "execution_count": 0,
      "outputs": []
    },
    {
      "cell_type": "code",
      "metadata": {
        "id": "yFRImVAKEkgM",
        "colab_type": "code",
        "colab": {}
      },
      "source": [
        "# Import date\n",
        "from datetime import date\n",
        "\n",
        "# Create a date object\n",
        "andrew = date(1992, 8, 26)\n",
        "\n",
        "# Print the date in the format 'MONTH (YYYY)'\n",
        "print(andrew.strftime('%B (%Y)'))"
      ],
      "execution_count": 0,
      "outputs": []
    },
    {
      "cell_type": "code",
      "metadata": {
        "id": "6aHG7MfAEwLp",
        "colab_type": "code",
        "colab": {}
      },
      "source": [
        "# Import date\n",
        "from datetime import date\n",
        "\n",
        "# Create a date object\n",
        "andrew = date(1992, 8, 26)\n",
        "\n",
        "# Print the date in the format 'YYYY-DDD'\n",
        "print(andrew.strftime('%Y-%j'))"
      ],
      "execution_count": 0,
      "outputs": []
    }
  ]
}