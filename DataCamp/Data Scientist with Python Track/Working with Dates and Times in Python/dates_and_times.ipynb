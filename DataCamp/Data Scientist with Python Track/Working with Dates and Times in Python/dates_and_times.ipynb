{
  "nbformat": 4,
  "nbformat_minor": 0,
  "metadata": {
    "colab": {
      "name": "dates_and_times.ipynb",
      "provenance": [],
      "collapsed_sections": []
    },
    "kernelspec": {
      "name": "python3",
      "display_name": "Python 3"
    }
  },
  "cells": [
    {
      "cell_type": "markdown",
      "metadata": {
        "id": "ahtMO52lub_w",
        "colab_type": "text"
      },
      "source": [
        "# Combining Dates and Times"
      ]
    },
    {
      "cell_type": "markdown",
      "metadata": {
        "id": "CA6Tyc2vGGRN",
        "colab_type": "text"
      },
      "source": [
        "## Creating datetimes by hand"
      ]
    },
    {
      "cell_type": "code",
      "metadata": {
        "id": "GKvuuN3OGJd4",
        "colab_type": "code",
        "colab": {}
      },
      "source": [
        "# Import datetime\n",
        "from datetime import datetime\n",
        "\n",
        "# Create a datetime object\n",
        "dt = datetime(2017, 10, 1, 15, 26, 26)\n",
        "\n",
        "# Print the results in ISO 8601 format\n",
        "print(dt.isoformat())"
      ],
      "execution_count": 0,
      "outputs": []
    },
    {
      "cell_type": "code",
      "metadata": {
        "id": "1tTTGc-YGgzO",
        "colab_type": "code",
        "colab": {}
      },
      "source": [
        "# Import datetime\n",
        "from datetime import datetime\n",
        "\n",
        "# Create a datetime object\n",
        "dt = datetime(2017, 12, 31, 15, 19, 13)\n",
        "\n",
        "# Print the results in ISO 8601 format\n",
        "print(dt.isoformat())"
      ],
      "execution_count": 0,
      "outputs": []
    },
    {
      "cell_type": "code",
      "metadata": {
        "id": "4lqgatMtGnA3",
        "colab_type": "code",
        "colab": {}
      },
      "source": [
        "# Import datetime\n",
        "from datetime import datetime\n",
        "\n",
        "# Create a datetime object\n",
        "dt = datetime(2017, 12, 31, 15, 19, 13)\n",
        "\n",
        "# Replace the year with 1917\n",
        "dt_old = dt.replace(year=1917)\n",
        "\n",
        "# Print the results in ISO 8601 format\n",
        "print(dt_old)"
      ],
      "execution_count": 0,
      "outputs": []
    },
    {
      "cell_type": "markdown",
      "metadata": {
        "id": "WgoeThldGpdR",
        "colab_type": "text"
      },
      "source": [
        "## Counting events before and after noon"
      ]
    },
    {
      "cell_type": "code",
      "metadata": {
        "id": "UT03qjPrGpw8",
        "colab_type": "code",
        "colab": {}
      },
      "source": [
        "# Create dictionary to hold results\n",
        "trip_counts = {'AM': 0, 'PM': 0}\n",
        "  \n",
        "# Loop over all trips\n",
        "for trip in onebike_datetimes:\n",
        "  # Check to see if the trip starts before noon\n",
        "  if trip['start'].hour < 12:\n",
        "    # Increment the counter for before noon\n",
        "    trip_counts['AM'] += 1\n",
        "  else:\n",
        "    # Increment the counter for after noon\n",
        "    trip_counts['PM'] += 1\n",
        "  \n",
        "print(trip_counts)"
      ],
      "execution_count": 0,
      "outputs": []
    },
    {
      "cell_type": "markdown",
      "metadata": {
        "id": "D_4h8XRbIK7C",
        "colab_type": "text"
      },
      "source": [
        "## Turning strings into datetimes"
      ]
    },
    {
      "cell_type": "code",
      "metadata": {
        "id": "uSDDu2r1IKz-",
        "colab_type": "code",
        "colab": {}
      },
      "source": [
        "# Import the datetime class\n",
        "from datetime import datetime\n",
        "\n",
        "# Starting string, in YYYY-MM-DD HH:MM:SS format\n",
        "s = '2017-02-03 00:00:01'\n",
        "\n",
        "# Write a format string to parse s\n",
        "fmt = '%Y-%m-%d %H:%M:%S'\n",
        "\n",
        "# Create a datetime object d\n",
        "d = datetime.strptime(s, fmt)\n",
        "\n",
        "# Print d\n",
        "print(d)"
      ],
      "execution_count": 0,
      "outputs": []
    },
    {
      "cell_type": "code",
      "metadata": {
        "id": "i_D9bJezIntC",
        "colab_type": "code",
        "colab": {}
      },
      "source": [
        "# Import the datetime class\n",
        "from datetime import datetime\n",
        "\n",
        "# Starting string, in YYYY-MM-DD format\n",
        "s = '2030-10-15'\n",
        "\n",
        "# Write a format string to parse s\n",
        "fmt = '%Y-%m-%d'\n",
        "\n",
        "# Create a datetime object d\n",
        "d = datetime.strptime(s, fmt)\n",
        "\n",
        "# Print d\n",
        "print(d)"
      ],
      "execution_count": 0,
      "outputs": []
    },
    {
      "cell_type": "code",
      "metadata": {
        "id": "dyaAjlQrJI4_",
        "colab_type": "code",
        "colab": {}
      },
      "source": [
        "# Import the datetime class\n",
        "from datetime import datetime\n",
        "\n",
        "# Starting string, in MM/DD/YYYY HH:MM:SS format\n",
        "s = '12/15/1986 08:00:00'\n",
        "\n",
        "# Write a format string to parse s\n",
        "fmt = '%m/%d/%Y %H:%M:%S'\n",
        "\n",
        "# Create a datetime object d\n",
        "d = datetime.strptime(s, fmt)\n",
        "\n",
        "# Print d\n",
        "print(d)"
      ],
      "execution_count": 0,
      "outputs": []
    },
    {
      "cell_type": "markdown",
      "metadata": {
        "id": "vRYwxD0-JOHr",
        "colab_type": "text"
      },
      "source": [
        "## Parsing pairs of strings as datetimes"
      ]
    },
    {
      "cell_type": "code",
      "metadata": {
        "id": "3aGWpQfcJOai",
        "colab_type": "code",
        "colab": {}
      },
      "source": [
        "# Write down the format string\n",
        "fmt = \"%Y-%m-%d %H:%M:%S\"\n",
        "\n",
        "# Initialize a list for holding the pairs of datetime objects\n",
        "onebike_datetimes = []\n",
        "\n",
        "# Loop over all trips\n",
        "for (start, end) in onebike_datetime_strings:\n",
        "  trip = {'start': datetime.strptime(start, fmt),\n",
        "          'end': datetime.strptime(end, fmt)}\n",
        "  \n",
        "  # Append the trip\n",
        "  onebike_datetimes.append(trip)"
      ],
      "execution_count": 0,
      "outputs": []
    },
    {
      "cell_type": "markdown",
      "metadata": {
        "id": "f-SnCrjEJ1G_",
        "colab_type": "text"
      },
      "source": [
        "## Recreating ISO format with strftime()"
      ]
    },
    {
      "cell_type": "code",
      "metadata": {
        "id": "9a3_Va2OJ1dO",
        "colab_type": "code",
        "colab": {}
      },
      "source": [
        "# Import datetime\n",
        "from datetime import datetime\n",
        "\n",
        "# Pull out the start of the first trip\n",
        "first_start = onebike_datetimes[0]['start']\n",
        "\n",
        "# Format to feed to strftime()\n",
        "fmt = \"%Y-%m-%dT%H:%M:%S\"\n",
        "\n",
        "# Print out date with .isoformat(), then with .strftime() to compare\n",
        "print(first_start.isoformat())\n",
        "print(first_start.strftime(fmt))"
      ],
      "execution_count": 0,
      "outputs": []
    },
    {
      "cell_type": "markdown",
      "metadata": {
        "id": "peV_5LMlKM8v",
        "colab_type": "text"
      },
      "source": [
        "## Unix timestamps"
      ]
    },
    {
      "cell_type": "code",
      "metadata": {
        "id": "127FkeQbKNPT",
        "colab_type": "code",
        "colab": {}
      },
      "source": [
        "# Import datetime\n",
        "from datetime import datetime\n",
        "\n",
        "# Starting timestamps\n",
        "timestamps = [1514665153, 1514664543]\n",
        "\n",
        "# Datetime objects\n",
        "dts = []\n",
        "\n",
        "# Loop\n",
        "for ts in timestamps:\n",
        "  dts.append(datetime.fromtimestamp(ts))\n",
        "  \n",
        "# Print results\n",
        "print(dts)"
      ],
      "execution_count": 0,
      "outputs": []
    },
    {
      "cell_type": "markdown",
      "metadata": {
        "id": "ZWt_FlcbLJIM",
        "colab_type": "text"
      },
      "source": [
        "## Turning pairs of datetimes into durations"
      ]
    },
    {
      "cell_type": "code",
      "metadata": {
        "id": "ghYGIk_TLJbs",
        "colab_type": "code",
        "colab": {}
      },
      "source": [
        "# Initialize a list for all the trip durations\n",
        "onebike_durations = []\n",
        "\n",
        "for trip in onebike_datetimes:\n",
        "  # Create a timedelta object corresponding to the length of the trip\n",
        "  trip_duration = trip['end'] - trip['start']\n",
        "  \n",
        "  # Get the total elapsed seconds in trip_duration\n",
        "  trip_length_seconds = trip_duration.total_seconds()\n",
        "  \n",
        "  # Append the results to our list\n",
        "  onebike_durations.append(trip_length_seconds)"
      ],
      "execution_count": 0,
      "outputs": []
    },
    {
      "cell_type": "markdown",
      "metadata": {
        "id": "4euFl37QLi9M",
        "colab_type": "text"
      },
      "source": [
        "## Average trip time"
      ]
    },
    {
      "cell_type": "code",
      "metadata": {
        "id": "Btlpf0iOLjSc",
        "colab_type": "code",
        "colab": {}
      },
      "source": [
        "# What was the total duration of all trips?\n",
        "total_elapsed_time = sum(onebike_durations)\n",
        "\n",
        "# What was the total number of trips?\n",
        "number_of_trips = len(onebike_durations)\n",
        "  \n",
        "# Divide the total duration by the number of trips\n",
        "print(total_elapsed_time / number_of_trips)"
      ],
      "execution_count": 0,
      "outputs": []
    },
    {
      "cell_type": "markdown",
      "metadata": {
        "id": "QVDyWiIML47d",
        "colab_type": "text"
      },
      "source": [
        "## The long and the short of why time is hard"
      ]
    },
    {
      "cell_type": "code",
      "metadata": {
        "id": "rKeNX-Q4L5PS",
        "colab_type": "code",
        "colab": {}
      },
      "source": [
        "# Calculate shortest and longest trips\n",
        "shortest_trip = min(onebike_durations)\n",
        "longest_trip = max(onebike_durations)\n",
        "\n",
        "# Print out the results\n",
        "print(\"The shortest trip was \" + str(shortest_trip) + \" seconds\")\n",
        "print(\"The longest trip was \" + str(longest_trip) + \" seconds\")"
      ],
      "execution_count": 0,
      "outputs": []
    }
  ]
}