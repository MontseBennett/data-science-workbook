{
  "nbformat": 4,
  "nbformat_minor": 0,
  "metadata": {
    "colab": {
      "name": "timezone_daylight_saving.ipynb",
      "provenance": [],
      "collapsed_sections": []
    },
    "kernelspec": {
      "name": "python3",
      "display_name": "Python 3"
    }
  },
  "cells": [
    {
      "cell_type": "markdown",
      "metadata": {
        "id": "CZqYGqf-ux1d",
        "colab_type": "text"
      },
      "source": [
        "# Time Zones and Daylight Saving\n"
      ]
    },
    {
      "cell_type": "markdown",
      "metadata": {
        "id": "WYepR7VaMjSQ",
        "colab_type": "text"
      },
      "source": [
        "## Creating timezone aware datetimes"
      ]
    },
    {
      "cell_type": "code",
      "metadata": {
        "id": "5U1fQI2vONaY",
        "colab_type": "code",
        "colab": {}
      },
      "source": [
        "# Import datetime, timezone\n",
        "from datetime import datetime, timezone\n",
        "\n",
        "# October 1, 2017 at 15:26:26, UTC\n",
        "dt = datetime(2017, 10, 1, 15, 26, 26, tzinfo=timezone.utc)\n",
        "\n",
        "# Print results\n",
        "print(dt.isoformat())"
      ],
      "execution_count": 0,
      "outputs": []
    },
    {
      "cell_type": "code",
      "metadata": {
        "id": "JUZ1Fu34OcMI",
        "colab_type": "code",
        "colab": {}
      },
      "source": [
        "# Import datetime, timedelta, timezone\n",
        "from datetime import datetime, timedelta, timezone\n",
        "\n",
        "# Create a timezone for Pacific Standard Time, or UTC-8\n",
        "pst = timezone(timedelta(hours=-8))\n",
        "\n",
        "# October 1, 2017 at 15:26:26, UTC-8\n",
        "dt = datetime(2017, 10, 1, 15, 26, 26, tzinfo=pst)\n",
        "\n",
        "# Print results\n",
        "print(dt.isoformat())"
      ],
      "execution_count": 0,
      "outputs": []
    },
    {
      "cell_type": "code",
      "metadata": {
        "id": "BB8HG6qdOqwA",
        "colab_type": "code",
        "colab": {}
      },
      "source": [
        "# Import datetime, timedelta, timezone\n",
        "from datetime import datetime, timedelta, timezone\n",
        "\n",
        "# Create a timezone for Australian Eastern Daylight Time, or UTC+11\n",
        "aedt = timezone(timedelta(hours=11))\n",
        "\n",
        "# October 1, 2017 at 15:26:26, UTC+11\n",
        "dt = datetime(2017, 10, 1, 15, 26, 26, tzinfo=aedt)\n",
        "\n",
        "# Print results\n",
        "print(dt.isoformat())"
      ],
      "execution_count": 0,
      "outputs": []
    },
    {
      "cell_type": "markdown",
      "metadata": {
        "id": "eOnhAMmTOvm6",
        "colab_type": "text"
      },
      "source": [
        "## Setting timezones"
      ]
    },
    {
      "cell_type": "code",
      "metadata": {
        "id": "wxTytLsQOv8D",
        "colab_type": "code",
        "colab": {}
      },
      "source": [
        "# Create a timezone object corresponding to UTC-4\n",
        "edt = timezone(timedelta(hours=-4))\n",
        "\n",
        "# Loop over trips, updating the start and end datetimes to be in UTC-4\n",
        "for trip in onebike_datetimes[:10]:\n",
        "  # Update trip['start'] and trip['end']\n",
        "  trip['start'] = trip['start'].replace(tzinfo=edt)\n",
        "  trip['end'] = trip['end'].replace(tzinfo=edt)"
      ],
      "execution_count": 0,
      "outputs": []
    },
    {
      "cell_type": "markdown",
      "metadata": {
        "id": "ZrXlp8YfPEOe",
        "colab_type": "text"
      },
      "source": [
        "## What time did the bike leave in UTC?"
      ]
    },
    {
      "cell_type": "code",
      "metadata": {
        "id": "bMbcwMpCPEjR",
        "colab_type": "code",
        "colab": {}
      },
      "source": [
        "# Loop over the trips\n",
        "for trip in onebike_datetimes[:10]:\n",
        "  # Pull out the start and set it to UTC\n",
        "  dt = trip['start'].astimezone(timezone.utc)\n",
        "  \n",
        "  # Print the start time in UTC\n",
        "  print('Original:', trip['start'], '| UTC:', dt.isoformat())"
      ],
      "execution_count": 0,
      "outputs": []
    },
    {
      "cell_type": "markdown",
      "metadata": {
        "id": "KunO0Hh6QMSS",
        "colab_type": "text"
      },
      "source": [
        "## Putting the bike trips into the right time zone"
      ]
    },
    {
      "cell_type": "code",
      "metadata": {
        "id": "mQv7d9jtQMmO",
        "colab_type": "code",
        "colab": {}
      },
      "source": [
        "# Import tz\n",
        "from dateutil import tz\n",
        "\n",
        "# Create a timezone object for Eastern Time\n",
        "et = tz.gettz('America/New_York')\n",
        "\n",
        "# Loop over trips, updating the datetimes to be in Eastern Time\n",
        "for trip in onebike_datetimes[:10]:\n",
        "  # Update trip['start'] and trip['end']\n",
        "  trip['start'] = trip['start'].replace(tzinfo=et)\n",
        "  trip['end'] = trip['end'].replace(tzinfo=et)"
      ],
      "execution_count": 0,
      "outputs": []
    },
    {
      "cell_type": "markdown",
      "metadata": {
        "id": "dyE3AjJ1Qoxr",
        "colab_type": "text"
      },
      "source": [
        "## What time did the bike leave? (Global edition)"
      ]
    },
    {
      "cell_type": "code",
      "metadata": {
        "id": "UiDNM8HfQpHN",
        "colab_type": "code",
        "colab": {}
      },
      "source": [
        "# Create the timezone object\n",
        "uk = tz.gettz('Europe/London')\n",
        "\n",
        "# Pull out the start of the first trip\n",
        "local = onebike_datetimes[0]['start']\n",
        "\n",
        "# What time was it in the UK?\n",
        "notlocal = local.astimezone(uk)\n",
        "\n",
        "# Print them out and see the difference\n",
        "print(local.isoformat())\n",
        "print(notlocal.isoformat())"
      ],
      "execution_count": 0,
      "outputs": []
    },
    {
      "cell_type": "code",
      "metadata": {
        "id": "Xme9vluoRlUk",
        "colab_type": "code",
        "colab": {}
      },
      "source": [
        "# Create the timezone object\n",
        "ist = tz.gettz('Asia/Kolkata')\n",
        "\n",
        "# Pull out the start of the first trip\n",
        "local = onebike_datetimes[0]['start']\n",
        "\n",
        "# What time was it in India?\n",
        "notlocal = local.astimezone(ist)\n",
        "\n",
        "# Print them out and see the difference\n",
        "print(local.isoformat())\n",
        "print(notlocal.isoformat())"
      ],
      "execution_count": 0,
      "outputs": []
    },
    {
      "cell_type": "code",
      "metadata": {
        "id": "nocBz8_RRte4",
        "colab_type": "code",
        "colab": {}
      },
      "source": [
        "# Create the timezone object\n",
        "sm = tz.gettz('Pacific/Apia')\n",
        "\n",
        "# Pull out the start of the first trip\n",
        "local = onebike_datetimes[0]['start']\n",
        "\n",
        "# What time was it in Samoa?\n",
        "notlocal = local.astimezone(sm)\n",
        "\n",
        "# Print them out and see the difference\n",
        "print(local.isoformat())\n",
        "print(notlocal.isoformat())"
      ],
      "execution_count": 0,
      "outputs": []
    },
    {
      "cell_type": "markdown",
      "metadata": {
        "id": "5t_OVz6gS4T-",
        "colab_type": "text"
      },
      "source": [
        "## How many hours elapsed around daylight saving?"
      ]
    },
    {
      "cell_type": "code",
      "metadata": {
        "id": "9UqBPVc9S4qM",
        "colab_type": "code",
        "colab": {}
      },
      "source": [
        "# Import datetime, timedelta, tz, timezone\n",
        "from datetime import datetime, timedelta, timezone\n",
        "from dateutil import tz\n",
        "\n",
        "# Start on March 12, 2017, midnight, then add 6 hours\n",
        "start = datetime(2017, 3, 12, tzinfo = tz.gettz('America/New_York'))\n",
        "end = start + timedelta(hours=6)\n",
        "print(start.isoformat() + \" to \" + end.isoformat())"
      ],
      "execution_count": 0,
      "outputs": []
    },
    {
      "cell_type": "code",
      "metadata": {
        "id": "f7YmlvuoTS7p",
        "colab_type": "code",
        "colab": {}
      },
      "source": [
        "# Import datetime, timedelta, tz, timezone\n",
        "from datetime import datetime, timedelta, timezone\n",
        "from dateutil import tz\n",
        "\n",
        "# Start on March 12, 2017, midnight, then add 6 hours\n",
        "start = datetime(2017, 3, 12, tzinfo = tz.gettz('America/New_York'))\n",
        "end = start + timedelta(hours=6)\n",
        "print(start.isoformat() + \" to \" + end.isoformat())\n",
        "\n",
        "# How many hours have elapsed?\n",
        "print((end - start).total_seconds()/(60*60))"
      ],
      "execution_count": 0,
      "outputs": []
    },
    {
      "cell_type": "code",
      "metadata": {
        "id": "y1ZKfVldTn21",
        "colab_type": "code",
        "colab": {}
      },
      "source": [
        "# Import datetime, timedelta, tz, timezone\n",
        "from datetime import datetime, timedelta, timezone\n",
        "from dateutil import tz\n",
        "\n",
        "# Start on March 12, 2017, midnight, then add 6 hours\n",
        "start = datetime(2017, 3, 12, tzinfo = tz.gettz('America/New_York'))\n",
        "end = start + timedelta(hours=6)\n",
        "print(start.isoformat() + \" to \" + end.isoformat())\n",
        "\n",
        "# How many hours have elapsed?\n",
        "print((end - start).total_seconds()/(60*60))\n",
        "\n",
        "# What if we move to UTC?\n",
        "print((end.astimezone(timezone.utc) - start.astimezone(timezone.utc))\\\n",
        "      .total_seconds()/(60*60))"
      ],
      "execution_count": 0,
      "outputs": []
    },
    {
      "cell_type": "markdown",
      "metadata": {
        "id": "Oe_ZUwSKTqvW",
        "colab_type": "text"
      },
      "source": [
        "## March 29, throughout a decade"
      ]
    },
    {
      "cell_type": "code",
      "metadata": {
        "id": "BZJdSuI7TrEZ",
        "colab_type": "code",
        "colab": {}
      },
      "source": [
        "# Import datetime and tz\n",
        "from datetime import datetime\n",
        "from dateutil import tz\n",
        "\n",
        "# Create starting date\n",
        "dt = datetime(2000, 3, 29, tzinfo = tz.gettz('Europe/London'))\n",
        "\n",
        "# Loop over the dates, replacing the year, and print the ISO timestamp\n",
        "for y in range(2000, 2011):\n",
        "  print(dt.replace(year=y).isoformat())"
      ],
      "execution_count": 0,
      "outputs": []
    },
    {
      "cell_type": "markdown",
      "metadata": {
        "id": "CUxipJeqUgpO",
        "colab_type": "text"
      },
      "source": [
        "## Finding ambiguous datetimes"
      ]
    },
    {
      "cell_type": "code",
      "metadata": {
        "id": "SNuR4IGuUhAI",
        "colab_type": "code",
        "colab": {}
      },
      "source": [
        "# Loop over trips\n",
        "for trip in onebike_datetimes:\n",
        "  # Rides with ambiguous start\n",
        "  if tz.datetime_ambiguous(trip['start']):\n",
        "    print(\"Ambiguous start at \" + str(trip['start']))\n",
        "  # Rides with ambiguous end\n",
        "  if tz.datetime_ambiguous(trip['end']):\n",
        "    print(\"Ambiguous end at \" + str(trip['end']))"
      ],
      "execution_count": 0,
      "outputs": []
    },
    {
      "cell_type": "markdown",
      "metadata": {
        "id": "yJMTWWz0UjrT",
        "colab_type": "text"
      },
      "source": [
        "## Cleaning daylight saving data with fold"
      ]
    },
    {
      "cell_type": "code",
      "metadata": {
        "id": "tF_n-6q3UkB_",
        "colab_type": "code",
        "colab": {}
      },
      "source": [
        "trip_durations = []\n",
        "for trip in onebike_datetimes:\n",
        "  # When the start is later than the end, set the fold to be 1\n",
        "  if trip['start'] > trip['end']:\n",
        "    trip['end'] = tz.enfold(trip['end'])\n",
        "  # Convert to UTC\n",
        "  start = trip['start'].astimezone(tz.UTC)\n",
        "  end = trip['end'].astimezone(tz.UTC)\n",
        "\n",
        "  # Subtract the difference\n",
        "  trip_length_seconds = (end-start).total_seconds()\n",
        "  trip_durations.append(trip_length_seconds)\n",
        "\n",
        "# Take the shortest trip duration\n",
        "print(\"Shortest trip: \" + str(min(trip_durations)))"
      ],
      "execution_count": 0,
      "outputs": []
    }
  ]
}