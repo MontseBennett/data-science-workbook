{
  "nbformat": 4,
  "nbformat_minor": 0,
  "metadata": {
    "colab": {
      "name": "intermediate-python-dictionaries.ipynb",
      "provenance": []
    },
    "kernelspec": {
      "name": "python3",
      "display_name": "Python 3"
    }
  },
  "cells": [
    {
      "cell_type": "markdown",
      "metadata": {
        "id": "rlq6006MeeuE",
        "colab_type": "text"
      },
      "source": [
        "# Intermediate Python: Dictionaries and Pandas"
      ]
    },
    {
      "cell_type": "code",
      "metadata": {
        "id": "UQjo8xJhfGDL",
        "colab_type": "code",
        "colab": {}
      },
      "source": [
        "import numpy as np\n",
        "import pandas as pd\n",
        "import matplotlib.pyplot as plt"
      ],
      "execution_count": 0,
      "outputs": []
    },
    {
      "cell_type": "markdown",
      "metadata": {
        "id": "qWgyt5FCfJdd",
        "colab_type": "text"
      },
      "source": [
        "## Motivation For Dictionaries"
      ]
    },
    {
      "cell_type": "code",
      "metadata": {
        "id": "hM5x9q9cfM9w",
        "colab_type": "code",
        "colab": {
          "base_uri": "https://localhost:8080/",
          "height": 34
        },
        "outputId": "98f7b5ba-df52-44dc-d7b0-2c21a77ac52b"
      },
      "source": [
        "# Definition of countries and capital\n",
        "countries = ['spain', 'france', 'germany', 'norway']\n",
        "capitals = ['madrid', 'paris', 'berlin', 'oslo']\n",
        "\n",
        "# Get index of 'germany': ind_ger\n",
        "ind_ger = countries.index('germany')\n",
        "\n",
        "# Use ind_ger to print out capital of Germany\n",
        "print(capitals[ind_ger])"
      ],
      "execution_count": 2,
      "outputs": [
        {
          "output_type": "stream",
          "text": [
            "berlin\n"
          ],
          "name": "stdout"
        }
      ]
    },
    {
      "cell_type": "markdown",
      "metadata": {
        "id": "v5eN5CPpgBML",
        "colab_type": "text"
      },
      "source": [
        "## Create Dictonary"
      ]
    },
    {
      "cell_type": "code",
      "metadata": {
        "id": "JKDTPEblgEy9",
        "colab_type": "code",
        "colab": {
          "base_uri": "https://localhost:8080/",
          "height": 34
        },
        "outputId": "2fb4f30e-8388-4ca4-bc9b-646b11e54e71"
      },
      "source": [
        "# Definition of countries and capital\n",
        "countries = ['spain', 'france', 'germany', 'norway']\n",
        "capitals = ['madrid', 'paris', 'berlin', 'oslo']\n",
        "\n",
        "# From string in countries and capitals, create dictionary europe\n",
        "europe = { 'spain':'madrid', 'france': 'paris', 'germany': 'berlin', 'norway': 'oslo' }\n",
        "\n",
        "# Print europe\n",
        "print(europe)"
      ],
      "execution_count": 3,
      "outputs": [
        {
          "output_type": "stream",
          "text": [
            "{'spain': 'madrid', 'france': 'paris', 'germany': 'berlin', 'norway': 'oslo'}\n"
          ],
          "name": "stdout"
        }
      ]
    },
    {
      "cell_type": "markdown",
      "metadata": {
        "id": "YJhZ_eN7gVkt",
        "colab_type": "text"
      },
      "source": [
        "## Access Dictonaries"
      ]
    },
    {
      "cell_type": "code",
      "metadata": {
        "id": "yk4Vwgg5gY0s",
        "colab_type": "code",
        "colab": {
          "base_uri": "https://localhost:8080/",
          "height": 52
        },
        "outputId": "6c73fa7f-bd8c-4866-dd19-c530035717d2"
      },
      "source": [
        "# Definition of dictionary\n",
        "europe = {'spain':'madrid', 'france':'paris', 'germany':'berlin', 'norway':'oslo' }\n",
        "\n",
        "# Print out the keys in europe\n",
        "print(europe.keys())\n",
        "\n",
        "# Print out value that belongs to key 'norway'\n",
        "print(europe['norway'])"
      ],
      "execution_count": 4,
      "outputs": [
        {
          "output_type": "stream",
          "text": [
            "dict_keys(['spain', 'france', 'germany', 'norway'])\n",
            "oslo\n"
          ],
          "name": "stdout"
        }
      ]
    },
    {
      "cell_type": "markdown",
      "metadata": {
        "id": "HjTnn9Hzgjcx",
        "colab_type": "text"
      },
      "source": [
        "## Dictionary Manipulation (1)"
      ]
    },
    {
      "cell_type": "code",
      "metadata": {
        "id": "kKRp-4aGhpH1",
        "colab_type": "code",
        "colab": {
          "base_uri": "https://localhost:8080/",
          "height": 52
        },
        "outputId": "39f63db2-65d8-489b-98ce-3035603734ba"
      },
      "source": [
        "# Definition of dictionary\n",
        "europe = {'spain':'madrid', 'france':'paris', 'germany':'berlin', 'norway':'oslo' }\n",
        "\n",
        "# Add italy to europe\n",
        "europe['italy'] = 'rome'\n",
        "\n",
        "# Print out italy in europe\n",
        "print('italy' in europe)\n",
        "\n",
        "# Add poland to europe\n",
        "europe['poland'] = 'warsaw'\n",
        "\n",
        "# Print europe\n",
        "print(europe)"
      ],
      "execution_count": 5,
      "outputs": [
        {
          "output_type": "stream",
          "text": [
            "True\n",
            "{'spain': 'madrid', 'france': 'paris', 'germany': 'berlin', 'norway': 'oslo', 'italy': 'rome', 'poland': 'warsaw'}\n"
          ],
          "name": "stdout"
        }
      ]
    },
    {
      "cell_type": "markdown",
      "metadata": {
        "id": "xSnxvh1dhpmU",
        "colab_type": "text"
      },
      "source": [
        "## Dictionary Manipulation (2)"
      ]
    },
    {
      "cell_type": "code",
      "metadata": {
        "id": "4ZOdxLFfhwGt",
        "colab_type": "code",
        "colab": {
          "base_uri": "https://localhost:8080/",
          "height": 34
        },
        "outputId": "0646e435-f7a9-4c81-8f00-f4d136996384"
      },
      "source": [
        "# Definition of dictionary\n",
        "europe = {'spain':'madrid', 'france':'paris', 'germany':'bonn',\n",
        "          'norway':'oslo', 'italy':'rome', 'poland':'warsaw',\n",
        "          'australia':'vienna' }\n",
        "\n",
        "# Update capital of germany\n",
        "europe['germany'] = 'berlin'\n",
        "\n",
        "# Remove australia\n",
        "del(europe['australia'])\n",
        "\n",
        "# Print europe\n",
        "print(europe)"
      ],
      "execution_count": 6,
      "outputs": [
        {
          "output_type": "stream",
          "text": [
            "{'spain': 'madrid', 'france': 'paris', 'germany': 'berlin', 'norway': 'oslo', 'italy': 'rome', 'poland': 'warsaw'}\n"
          ],
          "name": "stdout"
        }
      ]
    },
    {
      "cell_type": "markdown",
      "metadata": {
        "id": "v76Z5tpah95Q",
        "colab_type": "text"
      },
      "source": [
        "## Dictionariception"
      ]
    },
    {
      "cell_type": "code",
      "metadata": {
        "id": "FayPwDo0iBL1",
        "colab_type": "code",
        "colab": {
          "base_uri": "https://localhost:8080/",
          "height": 72
        },
        "outputId": "aeea5bf5-8f20-4304-aa0d-ca293ddc3b52"
      },
      "source": [
        "# Dictionary of dictionaries\n",
        "europe = { 'spain': { 'capital':'madrid', 'population':46.77 },\n",
        "           'france': { 'capital':'paris', 'population':66.03 },\n",
        "           'germany': { 'capital':'berlin', 'population':80.62 },\n",
        "           'norway': { 'capital':'oslo', 'population':5.084 } }\n",
        "\n",
        "\n",
        "# Print out the capital of France\n",
        "print(europe['france']['capital'])\n",
        "\n",
        "# Create sub-dictionary data\n",
        "data = {'capital': 'rome', 'population': 59.83} \n",
        "\n",
        "# Add data to europe under key 'italy'\n",
        "europe['italy'] = data\n",
        "\n",
        "\n",
        "# Print europe\n",
        "print(europe)"
      ],
      "execution_count": 7,
      "outputs": [
        {
          "output_type": "stream",
          "text": [
            "paris\n",
            "{'spain': {'capital': 'madrid', 'population': 46.77}, 'france': {'capital': 'paris', 'population': 66.03}, 'germany': {'capital': 'berlin', 'population': 80.62}, 'norway': {'capital': 'oslo', 'population': 5.084}, 'italy': {'capital': 'rome', 'population': 59.83}}\n"
          ],
          "name": "stdout"
        }
      ]
    },
    {
      "cell_type": "markdown",
      "metadata": {
        "id": "RhBWb_7xjjwX",
        "colab_type": "text"
      },
      "source": [
        "## Dictionary to DataFrame (1)"
      ]
    },
    {
      "cell_type": "markdown",
      "metadata": {
        "id": "xEpFJWvKkrG0",
        "colab_type": "text"
      },
      "source": [
        "Pandas is an open source library, providing high-performance, easy-to-use data structures and data analysis tools for Python. Sounds promising!\n",
        "\n",
        "The DataFrame is one of Pandas' most important data structures. It's basically a way to store tabular data where you can label the rows and the columns. One way to build a DataFrame is from a dictionary.\n",
        "\n",
        "In the exercises that follow you will be working with vehicle data from different countries. Each observation corresponds to a country and the columns give information about the number of vehicles per capita, whether people drive left or right, and so on.\n",
        "\n",
        "Three lists are defined in the script:\n",
        "\n",
        "names, containing the country names for which data is available.\n",
        "dr, a list with booleans that tells whether people drive left or right in the corresponding country.\n",
        "cpc, the number of motor vehicles per 1000 people in the corresponding country.\n",
        "Each dictionary key is a column label and each value is a list which contains the column elements."
      ]
    },
    {
      "cell_type": "code",
      "metadata": {
        "id": "QxphGRaOlWTR",
        "colab_type": "code",
        "colab": {
          "base_uri": "https://localhost:8080/",
          "height": 158
        },
        "outputId": "4eb69d2d-3eea-4db3-f28c-5dd2f1753963"
      },
      "source": [
        "# Pre-defined lists\n",
        "names = ['United States', 'Australia', 'Japan', 'India', 'Russia', 'Morocco', 'Egypt']\n",
        "dr =  [True, False, False, False, True, True, True]\n",
        "cpc = [809, 731, 588, 18, 200, 70, 45]\n",
        "\n",
        "# Import pandas as pd\n",
        "import pandas as pd\n",
        "\n",
        "# Create dictionary my_dict with three key:value pairs: my_dict\n",
        "my_dict = {\n",
        "    'country': names,\n",
        "    'drives_right': dr,\n",
        "    'cars_per_cap': cpc\n",
        "}\n",
        "\n",
        "# Build a DataFrame cars from my_dict: cars\n",
        "cars = pd.DataFrame(my_dict)\n",
        "\n",
        "# Print cars\n",
        "print(cars)"
      ],
      "execution_count": 8,
      "outputs": [
        {
          "output_type": "stream",
          "text": [
            "         country  drives_right  cars_per_cap\n",
            "0  United States          True           809\n",
            "1      Australia         False           731\n",
            "2          Japan         False           588\n",
            "3          India         False            18\n",
            "4         Russia          True           200\n",
            "5        Morocco          True            70\n",
            "6          Egypt          True            45\n"
          ],
          "name": "stdout"
        }
      ]
    },
    {
      "cell_type": "markdown",
      "metadata": {
        "id": "ktBBc3OClXs-",
        "colab_type": "text"
      },
      "source": [
        "## Dictionary to DataFrame (2)"
      ]
    },
    {
      "cell_type": "markdown",
      "metadata": {
        "id": "OzGgX4-4ldNd",
        "colab_type": "text"
      },
      "source": [
        "The Python code that solves the previous exercise is included on the right. Have you noticed that the row labels (i.e. the labels for the different observations) were automatically set to integers from 0 up to 6?\n",
        "\n",
        "To solve this a list row_labels has been created. You can use it to specify the row labels of the cars DataFrame. You do this by setting the index attribute of cars, that you can access as cars.index."
      ]
    },
    {
      "cell_type": "code",
      "metadata": {
        "id": "X1c0ggjClq0O",
        "colab_type": "code",
        "colab": {
          "base_uri": "https://localhost:8080/",
          "height": 301
        },
        "outputId": "57f2fc32-773a-4ce1-9d5d-96417a059c25"
      },
      "source": [
        "import pandas as pd\n",
        "\n",
        "# Build cars DataFrame\n",
        "names = ['United States', 'Australia', 'Japan', 'India', 'Russia', 'Morocco', 'Egypt']\n",
        "dr =  [True, False, False, False, True, True, True]\n",
        "cpc = [809, 731, 588, 18, 200, 70, 45]\n",
        "cars_dict = { 'country':names, 'drives_right':dr, 'cars_per_cap':cpc }\n",
        "cars = pd.DataFrame(cars_dict)\n",
        "print(cars)\n",
        "\n",
        "# Definition of row_labels\n",
        "row_labels = ['US', 'AUS', 'JPN', 'IN', 'RU', 'MOR', 'EG']\n",
        "\n",
        "# Specify row labels of cars\n",
        "cars.index = row_labels\n",
        "\n",
        "# Print cars again\n",
        "print(cars)"
      ],
      "execution_count": 9,
      "outputs": [
        {
          "output_type": "stream",
          "text": [
            "         country  drives_right  cars_per_cap\n",
            "0  United States          True           809\n",
            "1      Australia         False           731\n",
            "2          Japan         False           588\n",
            "3          India         False            18\n",
            "4         Russia          True           200\n",
            "5        Morocco          True            70\n",
            "6          Egypt          True            45\n",
            "           country  drives_right  cars_per_cap\n",
            "US   United States          True           809\n",
            "AUS      Australia         False           731\n",
            "JPN          Japan         False           588\n",
            "IN           India         False            18\n",
            "RU          Russia          True           200\n",
            "MOR        Morocco          True            70\n",
            "EG           Egypt          True            45\n"
          ],
          "name": "stdout"
        }
      ]
    },
    {
      "cell_type": "markdown",
      "metadata": {
        "id": "BXcFcfMAlta7",
        "colab_type": "text"
      },
      "source": [
        "## CSV to DataFrame (1)"
      ]
    },
    {
      "cell_type": "code",
      "metadata": {
        "id": "6H3zWvyJlw4X",
        "colab_type": "code",
        "colab": {}
      },
      "source": [
        "# # Import pandas as pd\n",
        "# import pandas as pd\n",
        "\n",
        "# # Import the cars.csv data: cars\n",
        "# cars = pd.read_csv('cars.csv')\n",
        "\n",
        "# # Print out cars\n",
        "# print(cars)"
      ],
      "execution_count": 0,
      "outputs": []
    },
    {
      "cell_type": "markdown",
      "metadata": {
        "id": "mOdu_MzImX79",
        "colab_type": "text"
      },
      "source": [
        "## CSV to DataFrame (2)"
      ]
    },
    {
      "cell_type": "code",
      "metadata": {
        "id": "qMqZ5Mg5mbBX",
        "colab_type": "code",
        "colab": {}
      },
      "source": [
        "# # Import pandas as pd\n",
        "# import pandas as pd\n",
        "\n",
        "# # Fix import by including index_col\n",
        "# cars = pd.read_csv('cars.csv', index_col=0)\n",
        "\n",
        "# # Print out cars\n",
        "# print(cars)"
      ],
      "execution_count": 0,
      "outputs": []
    },
    {
      "cell_type": "markdown",
      "metadata": {
        "id": "jnMU2UBEmrbb",
        "colab_type": "text"
      },
      "source": [
        "## Square Brackets (1)"
      ]
    },
    {
      "cell_type": "code",
      "metadata": {
        "id": "g2eDK2SRoRYP",
        "colab_type": "code",
        "colab": {}
      },
      "source": [
        "# # Import cars data\n",
        "# import pandas as pd\n",
        "# cars = pd.read_csv('cars.csv', index_col = 0)\n",
        "\n",
        "# # Print out country column as Pandas Series\n",
        "# print(cars['country'])\n",
        "\n",
        "# # Print out country column as Pandas DataFrame\n",
        "# print(cars[['country']])\n",
        "\n",
        "# # Print out DataFrame with country and drives_right columns\n",
        "# print(cars[['country', 'drives_right']])\n"
      ],
      "execution_count": 0,
      "outputs": []
    },
    {
      "cell_type": "markdown",
      "metadata": {
        "id": "s29kIXTvoUpC",
        "colab_type": "text"
      },
      "source": [
        "## Square Brackets (2)"
      ]
    },
    {
      "cell_type": "code",
      "metadata": {
        "id": "UueUkyDuoW8W",
        "colab_type": "code",
        "colab": {}
      },
      "source": [
        "# # Import cars data\n",
        "# import pandas as pd\n",
        "# cars = pd.read_csv('cars.csv', index_col = 0)\n",
        "\n",
        "# # Print out first 3 observations\n",
        "# print(cars[:3])\n",
        "\n",
        "# # Print out fourth, fifth and sixth observation\n",
        "# print(cars[3:6])"
      ],
      "execution_count": 0,
      "outputs": []
    },
    {
      "cell_type": "markdown",
      "metadata": {
        "id": "8DFwxmXXopDR",
        "colab_type": "text"
      },
      "source": [
        "## loc and iloc (1)"
      ]
    },
    {
      "cell_type": "markdown",
      "metadata": {
        "id": "N5SnYIWnoq6q",
        "colab_type": "text"
      },
      "source": [
        "With loc and iloc you can do practically any data selection operation on DataFrames you can think of. loc is label-based, which means that you have to specify rows and columns based on their row and column labels. iloc is integer index based, so you have to specify rows and columns by their integer index like you did in the previous exercise.\n",
        "\n",
        "Try out the following commands in the IPython Shell to experiment with loc and iloc to select observations. Each pair of commands here gives the same result.\n",
        "\n",
        "cars.loc['RU']\n",
        "cars.iloc[4]\n",
        "\n",
        "cars.loc[['RU']]\n",
        "cars.iloc[[4]]\n",
        "\n",
        "cars.loc[['RU', 'AUS']]\n",
        "cars.iloc[[4, 1]]\n",
        "As before, code is included that imports the cars data as a Pandas DataFrame."
      ]
    },
    {
      "cell_type": "code",
      "metadata": {
        "id": "AlEphzCCo3cg",
        "colab_type": "code",
        "colab": {}
      },
      "source": [
        "# # Import cars data\n",
        "# import pandas as pd\n",
        "# cars = pd.read_csv('cars.csv', index_col = 0)\n",
        "\n",
        "# # Print out observation for Japan\n",
        "# print(cars.loc['JPN'])\n",
        "\n",
        "# # Print out observations for Australia and Egypt\n",
        "# print(cars.loc[['AUS', 'EG']])"
      ],
      "execution_count": 0,
      "outputs": []
    },
    {
      "cell_type": "markdown",
      "metadata": {
        "id": "qccycDbepcKC",
        "colab_type": "text"
      },
      "source": [
        "## loc and iloc (2)"
      ]
    },
    {
      "cell_type": "code",
      "metadata": {
        "id": "uC_lr3bhpdza",
        "colab_type": "code",
        "colab": {}
      },
      "source": [
        "# # Import cars data\n",
        "# import pandas as pd\n",
        "# cars = pd.read_csv('cars.csv', index_col = 0)\n",
        "\n",
        "# # Print out drives_right value of Morocco\n",
        "# print(cars.loc['MOR', 'drives_right'])\n",
        "\n",
        "# # Print sub-DataFrame\n",
        "# print(cars.loc[['RU', 'MOR'], ['country', 'drives_right']])"
      ],
      "execution_count": 0,
      "outputs": []
    },
    {
      "cell_type": "markdown",
      "metadata": {
        "id": "c_kGioL1p4JI",
        "colab_type": "text"
      },
      "source": [
        "## loc and iloc (3)"
      ]
    },
    {
      "cell_type": "code",
      "metadata": {
        "id": "lAIc5i6cp9Ha",
        "colab_type": "code",
        "colab": {}
      },
      "source": [
        "# # Import cars data\n",
        "# import pandas as pd\n",
        "# cars = pd.read_csv('cars.csv', index_col = 0)\n",
        "\n",
        "# # Print out drives_right column as Series\n",
        "# print(cars.loc[:, 'drives_right'])\n",
        "\n",
        "# # Print out drives_right column as DataFrame\n",
        "# print(cars.loc[:, ['drives_right']])\n",
        "\n",
        "# # Print out cars_per_cap and drives_right as DataFrame\n",
        "# print(cars.loc[:, ['cars_per_cap', 'drives_right']])"
      ],
      "execution_count": 0,
      "outputs": []
    }
  ]
}