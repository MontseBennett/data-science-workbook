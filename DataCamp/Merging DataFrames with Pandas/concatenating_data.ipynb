{
  "nbformat": 4,
  "nbformat_minor": 0,
  "metadata": {
    "colab": {
      "name": "concatenating_dataipynb",
      "provenance": []
    },
    "kernelspec": {
      "name": "python3",
      "display_name": "Python 3"
    }
  },
  "cells": [
    {
      "cell_type": "markdown",
      "metadata": {
        "id": "27ABW8IqUQsb",
        "colab_type": "text"
      },
      "source": [
        "# Merging DataFrames with pandas: Concatenating data"
      ]
    },
    {
      "cell_type": "code",
      "metadata": {
        "id": "mDDntC0fVIDN",
        "colab_type": "code",
        "colab": {}
      },
      "source": [
        "import numpy as np\n",
        "import pandas as pd\n",
        "import matplotlib.pyplot as plt"
      ],
      "execution_count": 0,
      "outputs": []
    },
    {
      "cell_type": "markdown",
      "metadata": {
        "id": "F0cPJT1ZVMhf",
        "colab_type": "text"
      },
      "source": [
        "## Appending pandas Series"
      ]
    },
    {
      "cell_type": "code",
      "metadata": {
        "id": "FVsG_KpOVpRF",
        "colab_type": "code",
        "colab": {}
      },
      "source": [
        "# Import pandas\n",
        "import pandas as pd\n",
        "\n",
        "# Load 'sales-jan-2015.csv' into a DataFrame: jan\n",
        "jan = pd.read_csv('sales-jan-2015.csv', parse_dates=True, index_col='Date')\n",
        "\n",
        "# Load 'sales-feb-2015.csv' into a DataFrame: feb\n",
        "feb = pd.read_csv('sales-feb-2015.csv', parse_dates=True, index_col='Date')\n",
        "\n",
        "# Load 'sales-mar-2015.csv' into a DataFrame: mar\n",
        "mar = pd.read_csv('sales-mar-2015.csv', parse_dates=True, index_col='Date')\n",
        "\n",
        "# Extract the 'Units' column from jan: jan_units\n",
        "jan_units = jan['Units']\n",
        "\n",
        "# Extract the 'Units' column from feb: feb_units\n",
        "feb_units = feb['Units']\n",
        "\n",
        "# Extract the 'Units' column from mar: mar_units\n",
        "mar_units = mar['Units']\n",
        "\n",
        "# Append feb_units and then mar_units to jan_units: quarter1\n",
        "quarter1 = jan_units.append(feb_units).append(mar_units)\n",
        "\n",
        "# Print the first slice from quarter1\n",
        "print(quarter1.loc['jan 27, 2015':'feb 2, 2015'])\n",
        "\n",
        "# Print the second slice from quarter1\n",
        "print(quarter1.loc['feb 26, 2015': 'mar 7, 2015'])\n",
        "\n",
        "# Compute & print total sales in quarter1\n",
        "print(quarter1.sum())"
      ],
      "execution_count": 0,
      "outputs": []
    },
    {
      "cell_type": "markdown",
      "metadata": {
        "id": "162NrkMgWcMZ",
        "colab_type": "text"
      },
      "source": [
        "## Concatenating pandas Series along row axis"
      ]
    },
    {
      "cell_type": "code",
      "metadata": {
        "id": "R12v5a85Xgjo",
        "colab_type": "code",
        "colab": {}
      },
      "source": [
        "# Initialize empty list: units\n",
        "units = []\n",
        "\n",
        "# Build the list of Series\n",
        "for month in [jan, feb, mar]:\n",
        "    units.append(month['Units'])\n",
        "\n",
        "# Concatenate the list: quarter1\n",
        "quarter1 = pd.concat(units, axis='rows')\n",
        "\n",
        "# Print slices from quarter1\n",
        "print(quarter1.loc['jan 27, 2015':'feb 2, 2015'])\n",
        "print(quarter1.loc['feb 26, 2015':'mar 7, 2015'])"
      ],
      "execution_count": 0,
      "outputs": []
    },
    {
      "cell_type": "markdown",
      "metadata": {
        "id": "LTFCLnpmXh0L",
        "colab_type": "text"
      },
      "source": [
        "## Appending DataFrames with ignore_index"
      ]
    },
    {
      "cell_type": "code",
      "metadata": {
        "id": "hnph7YVoaE2P",
        "colab_type": "code",
        "colab": {}
      },
      "source": [
        "# Add 'year' column to names_1881 and names_1981\n",
        "names_1881['year'] = 1881\n",
        "names_1981['year'] = 1981\n",
        "\n",
        "# Append names_1981 after names_1881 with ignore_index=True: combined_names\n",
        "combined_names = names_1881.append(names_1981, ignore_index=True)\n",
        "\n",
        "# Print shapes of names_1981, names_1881, and combined_names\n",
        "print(names_1981.shape)\n",
        "print(names_1881.shape)\n",
        "print(combined_names.shape)\n",
        "\n",
        "# Print all rows that contain the name 'Morgan'\n",
        "print(combined_names[combined_names['name'] == 'Morgan'])"
      ],
      "execution_count": 0,
      "outputs": []
    },
    {
      "cell_type": "markdown",
      "metadata": {
        "id": "KBNI7_Q6aF_X",
        "colab_type": "text"
      },
      "source": [
        "## Concatenating pandas DataFrames along column axis"
      ]
    },
    {
      "cell_type": "code",
      "metadata": {
        "id": "rzdhjjCEaKUh",
        "colab_type": "code",
        "colab": {}
      },
      "source": [
        "# Create a list of weather_max and weather_mean\n",
        "weather_list = [weather_max, weather_mean]\n",
        "\n",
        "# Concatenate weather_list horizontally\n",
        "weather = pd.concat(weather_list, axis='columns')\n",
        "\n",
        "# Print weather\n",
        "print(weather)"
      ],
      "execution_count": 0,
      "outputs": []
    },
    {
      "cell_type": "markdown",
      "metadata": {
        "id": "KoVw_lKpa3Ws",
        "colab_type": "text"
      },
      "source": [
        "## Reading multiple files to build a DataFrame"
      ]
    },
    {
      "cell_type": "code",
      "metadata": {
        "id": "KzjiQIUYa5QJ",
        "colab_type": "code",
        "colab": {}
      },
      "source": [
        "#Initialize an empyy list: medals\n",
        "medals =[]\n",
        "\n",
        "for medal in medal_types:\n",
        "    # Create the file name: file_name\n",
        "    file_name = \"%s_top5.csv\" % medal\n",
        "    # Create list of column names: columns\n",
        "    columns = ['Country', medal]\n",
        "    # Read file_name into a DataFrame: medal_df\n",
        "    medal_df = pd.read_csv(file_name, header=0, index_col='Country', names=columns)\n",
        "    # Append medal_df to medals\n",
        "    medals.append(medal_df)\n",
        "\n",
        "# Concatenate medals horizontally: medals_df\n",
        "medals_df = pd.concat(medals, axis='columns')\n",
        "\n",
        "# Print medals_df\n",
        "print(medals_df)"
      ],
      "execution_count": 0,
      "outputs": []
    },
    {
      "cell_type": "markdown",
      "metadata": {
        "id": "iw5tSAtqbwqm",
        "colab_type": "text"
      },
      "source": [
        "## Concatenating vertically to get MultiIndexed rows"
      ]
    },
    {
      "cell_type": "code",
      "metadata": {
        "id": "QlB0qoVTdRWY",
        "colab_type": "code",
        "colab": {}
      },
      "source": [
        "for medal in medal_types:\n",
        "\n",
        "    file_name = \"%s_top5.csv\" % medal\n",
        "    \n",
        "    # Read file_name into a DataFrame: medal_df\n",
        "    medal_df = pd.read_csv(file_name, index_col='Country')\n",
        "    \n",
        "    # Append medal_df to medals\n",
        "    medals.append(medal_df)\n",
        "    \n",
        "# Concatenate medals: medals\n",
        "medals = pd.concat(medals, keys=medal_types)\n",
        "\n",
        "# Print medals in entirety\n",
        "print(medals)"
      ],
      "execution_count": 0,
      "outputs": []
    },
    {
      "cell_type": "markdown",
      "metadata": {
        "id": "fQMMl2PjdUng",
        "colab_type": "text"
      },
      "source": [
        "## Slicing MultiIndexed DataFrames"
      ]
    },
    {
      "cell_type": "code",
      "metadata": {
        "id": "IgkbYhYJdVFj",
        "colab_type": "code",
        "colab": {}
      },
      "source": [
        "# Sort the entries of medals: medals_sorted\n",
        "medals_sorted = medals.sort_index(level=0)\n",
        "\n",
        "# Print the number of Bronze medals won by Germany\n",
        "print(medals_sorted.loc[('bronze','Germany')])\n",
        "\n",
        "# Print data about silver medals\n",
        "print(medals_sorted.loc['silver'])\n",
        "\n",
        "# Create alias for pd.IndexSlice: idx\n",
        "idx = pd.IndexSlice\n",
        "\n",
        "# Print all the data on medals won by the United Kingdom\n",
        "print(medals_sorted.loc[idx[:, 'United Kingdom'], :])"
      ],
      "execution_count": 0,
      "outputs": []
    },
    {
      "cell_type": "markdown",
      "metadata": {
        "id": "W-uCGmjueUEM",
        "colab_type": "text"
      },
      "source": [
        "## Concatenating horizontally to get MultiIndexed columns"
      ]
    },
    {
      "cell_type": "code",
      "metadata": {
        "id": "NKWUZRuGeVuV",
        "colab_type": "code",
        "colab": {}
      },
      "source": [
        "# Concatenate dataframes: february\n",
        "february = pd.concat(dataframes, axis='columns', keys=['Hardware', 'Software', 'Service'])\n",
        "\n",
        "# Print february.info()\n",
        "print(february.info())\n",
        "\n",
        "# Assign pd.IndexSlice: idx\n",
        "idx = pd.IndexSlice\n",
        "\n",
        "# Create the slice: slice_2_8\n",
        "slice_2_8 = february.loc['Feb 2, 2015':'Feb 8, 2015', idx[:, 'Company']]\n",
        "\n",
        "# Print slice_2_8\n",
        "print(slice_2_8)"
      ],
      "execution_count": 0,
      "outputs": []
    },
    {
      "cell_type": "markdown",
      "metadata": {
        "id": "zjjBayrKfaWx",
        "colab_type": "text"
      },
      "source": [
        "## Concatenating DataFrames from a dict"
      ]
    },
    {
      "cell_type": "code",
      "metadata": {
        "id": "hzfCJRaefa4_",
        "colab_type": "code",
        "colab": {}
      },
      "source": [
        "# Make the list of tuples: month_list\n",
        "month_list = [('january', jan), ('february', feb), ('march', mar)]\n",
        "\n",
        "# Create an empty dictionary: month_dict\n",
        "month_dict = dict()\n",
        "\n",
        "for month_name, month_data in month_list:\n",
        "\n",
        "    # Group month_data: month_dict[month_name]\n",
        "    month_dict[month_name] = month_data.groupby('Company').sum()\n",
        "\n",
        "# Concatenate data in month_dict: sales\n",
        "sales = pd.concat(month_dict)\n",
        "\n",
        "# Print sales\n",
        "print(sales)\n",
        "\n",
        "# Print all sales by Mediacore\n",
        "idx = pd.IndexSlice\n",
        "print(sales.loc[idx[:, 'Mediacore'], :])"
      ],
      "execution_count": 0,
      "outputs": []
    },
    {
      "cell_type": "markdown",
      "metadata": {
        "id": "5vPcwpNog5gG",
        "colab_type": "text"
      },
      "source": [
        "## Concatenating DataFrames with inner join"
      ]
    },
    {
      "cell_type": "code",
      "metadata": {
        "id": "E8UyEEu4iZ3u",
        "colab_type": "code",
        "colab": {}
      },
      "source": [
        "# Create the list of DataFrames: medal_list\n",
        "medal_list = [bronze, silver, gold]\n",
        "\n",
        "# Concatenate medal_list horizontally using an inner join: medals\n",
        "medals = pd.concat(medal_list, keys=['bronze', 'silver', 'gold'], axis=1, join='inner')\n",
        "\n",
        "# Print medals\n",
        "print(medals)\n"
      ],
      "execution_count": 0,
      "outputs": []
    },
    {
      "cell_type": "markdown",
      "metadata": {
        "id": "JyHvbpxSia75",
        "colab_type": "text"
      },
      "source": [
        "## Resampling & concatenating DataFrames with inner join"
      ]
    },
    {
      "cell_type": "code",
      "metadata": {
        "id": "WeofZA5KidjA",
        "colab_type": "code",
        "colab": {}
      },
      "source": [
        "# Resample and tidy china: china_annual\n",
        "china_annual = china.resample('A').last().pct_change(10).dropna()\n",
        "\n",
        "# Resample and tidy us: us_annual\n",
        "us_annual = us.resample('A').last().pct_change(10).dropna()\n",
        "\n",
        "# Concatenate china_annual and us_annual: gdp\n",
        "gdp = pd.concat([china_annual, us_annual], axis=1, join='inner')\n",
        "\n",
        "# Resample gdp and print\n",
        "print(gdp.resample('10A').last())"
      ],
      "execution_count": 0,
      "outputs": []
    }
  ]
}