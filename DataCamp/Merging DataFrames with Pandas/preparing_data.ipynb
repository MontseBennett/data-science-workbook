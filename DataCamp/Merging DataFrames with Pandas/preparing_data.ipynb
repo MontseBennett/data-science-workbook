{
  "nbformat": 4,
  "nbformat_minor": 0,
  "metadata": {
    "colab": {
      "name": "preparing_data.ipynb",
      "provenance": []
    },
    "kernelspec": {
      "name": "python3",
      "display_name": "Python 3"
    }
  },
  "cells": [
    {
      "cell_type": "markdown",
      "metadata": {
        "id": "LYCAq9tVnUgU",
        "colab_type": "text"
      },
      "source": [
        "# Merging DataFrames with pandas"
      ]
    },
    {
      "cell_type": "code",
      "metadata": {
        "id": "8zx1rvtTKV5u",
        "colab_type": "code",
        "colab": {}
      },
      "source": [
        "import numpy as np\n",
        "import pandas as pd\n",
        "import matplotlib.pyplot as plt"
      ],
      "execution_count": 0,
      "outputs": []
    },
    {
      "cell_type": "markdown",
      "metadata": {
        "id": "CA1MUCaLKaWu",
        "colab_type": "text"
      },
      "source": [
        "## Reading DataFrames from multiple files"
      ]
    },
    {
      "cell_type": "code",
      "metadata": {
        "id": "NJil-4c5LQNT",
        "colab_type": "code",
        "colab": {}
      },
      "source": [
        "# Import pandas\n",
        "import pandas as pd\n",
        "\n",
        "# Read 'Bronze.csv' into a DataFrame: bronze\n",
        "bronze = pd.read_csv('Bronze.csv')\n",
        "\n",
        "# Read 'Silver.csv' into a DataFrame: silver\n",
        "silver = pd.read_csv('Silver.csv')\n",
        "\n",
        "# Read 'Gold.csv' into a DataFrame: gold\n",
        "gold = pd.read_csv('Gold.csv')\n",
        "\n",
        "# Print the first five rows of gold\n",
        "print(gold.head())"
      ],
      "execution_count": 0,
      "outputs": []
    },
    {
      "cell_type": "markdown",
      "metadata": {
        "id": "gF_jsFi6LcII",
        "colab_type": "text"
      },
      "source": [
        "## Reading DataFrames from multiple files in a loop"
      ]
    },
    {
      "cell_type": "code",
      "metadata": {
        "id": "neBgTptkL1QQ",
        "colab_type": "code",
        "colab": {}
      },
      "source": [
        "# Import pandas\n",
        "import pandas as pd\n",
        "\n",
        "# Create the list of file names: filenames\n",
        "filenames = ['Gold.csv', 'Silver.csv', 'Bronze.csv']\n",
        "\n",
        "# Create the list of three DataFrames: dataframes\n",
        "dataframes = []\n",
        "for filename in filenames:\n",
        "    dataframes.append(pd.read_csv(filename))\n",
        "\n",
        "# Print top 5 rows of 1st DataFrame in dataframes\n",
        "print(dataframes[0].head())"
      ],
      "execution_count": 0,
      "outputs": []
    },
    {
      "cell_type": "markdown",
      "metadata": {
        "id": "74WosPt7L2Xu",
        "colab_type": "text"
      },
      "source": [
        "## Combining DataFrames from multiple data files"
      ]
    },
    {
      "cell_type": "code",
      "metadata": {
        "id": "cAzYW31gMkTT",
        "colab_type": "code",
        "colab": {}
      },
      "source": [
        "# Import pandas\n",
        "import pandas as pd\n",
        "\n",
        "# Make a copy of gold: medals\n",
        "medals = gold.copy()\n",
        "\n",
        "# Create list of new column labels: new_labels\n",
        "new_labels = ['NOC', 'Country', 'Gold']\n",
        "\n",
        "# Rename the columns of medals using new_labels\n",
        "medals.columns = new_labels\n",
        "\n",
        "# Add columns 'Silver' & 'Bronze' to medals\n",
        "medals['Silver'] = silver['Total']\n",
        "medals['Bronze'] = bronze['Total']\n",
        "\n",
        "# Print the head of medals\n",
        "print(medals.head())"
      ],
      "execution_count": 0,
      "outputs": []
    },
    {
      "cell_type": "markdown",
      "metadata": {
        "id": "40mcvgw6MmiO",
        "colab_type": "text"
      },
      "source": [
        "## Sorting DataFrame with the Index & columns"
      ]
    },
    {
      "cell_type": "code",
      "metadata": {
        "id": "rdCjemjKN9hO",
        "colab_type": "code",
        "colab": {}
      },
      "source": [
        "# Import pandas\n",
        "import pandas as pd\n",
        "\n",
        "# Read 'monthly_max_temp.csv' into a DataFrame: weather1\n",
        "weather1 = pd.read_csv('monthly_max_temp.csv', index_col='Month')\n",
        "\n",
        "# Print the head of weather1\n",
        "print(weather1.head())\n",
        "\n",
        "# Sort the index of weather1 in alphabetical order: weather2\n",
        "weather2 = weather1.sort_index()\n",
        "\n",
        "# Print the head of weather2\n",
        "print(weather2.head())\n",
        "\n",
        "# Sort the index of weather1 in reverse alphabetical order: weather3\n",
        "weather3 = weather1.sort_index(ascending=False)\n",
        "\n",
        "# Print the head of weather3\n",
        "print(weather3.head())\n",
        "\n",
        "# Sort weather1 numerically using the values of 'Max TemperatureF': weather4\n",
        "weather4 = weather1.sort_values('Max TemperatureF')\n",
        "\n",
        "# Print the head of weather4\n",
        "print(weather4.head())"
      ],
      "execution_count": 0,
      "outputs": []
    },
    {
      "cell_type": "markdown",
      "metadata": {
        "id": "KDRfiNXgOyLT",
        "colab_type": "text"
      },
      "source": [
        "## Reindexing DataFrame from a list"
      ]
    },
    {
      "cell_type": "code",
      "metadata": {
        "id": "RdL1ckYBO0D2",
        "colab_type": "code",
        "colab": {}
      },
      "source": [
        "# Import pandas\n",
        "import pandas as pd\n",
        "\n",
        "# Reindex weather1 using the list year: weather2\n",
        "weather2 = weather1.reindex(year)\n",
        "\n",
        "# Print weather2\n",
        "print(weather2)\n",
        "\n",
        "# Reindex weather1 using the list year with forward-fill: weather3\n",
        "weather3 = weather1.reindex(year).ffill()\n",
        "\n",
        "# Print weather3\n",
        "print(weather3)"
      ],
      "execution_count": 0,
      "outputs": []
    },
    {
      "cell_type": "markdown",
      "metadata": {
        "id": "J0YAgQ_5Pho6",
        "colab_type": "text"
      },
      "source": [
        "## Reindexing using another DataFrame Index"
      ]
    },
    {
      "cell_type": "code",
      "metadata": {
        "id": "AnnhMYPOPpXN",
        "colab_type": "code",
        "colab": {}
      },
      "source": [
        "# Import pandas\n",
        "import pandas as pd\n",
        "\n",
        "# Reindex names_1981 with index of names_1881: common_names\n",
        "common_names = names_1981.reindex(names_1881.index)\n",
        "\n",
        "# Print shape of common_names\n",
        "print(common_names.shape)\n",
        "\n",
        "# Drop rows with null counts: common_names\n",
        "common_names = common_names.dropna()\n",
        "\n",
        "# Print shape of new common_names\n",
        "print(common_names.shape)"
      ],
      "execution_count": 0,
      "outputs": []
    },
    {
      "cell_type": "markdown",
      "metadata": {
        "id": "CS6QX-7a89Oa",
        "colab_type": "text"
      },
      "source": [
        "## Broadcasting in arithmetic formulas"
      ]
    },
    {
      "cell_type": "code",
      "metadata": {
        "id": "ALE56bdBMH7D",
        "colab_type": "code",
        "colab": {}
      },
      "source": [
        "# Extract selected columns from weather as new DataFrame: temps_f\n",
        "temps_f = weather[['Min TemperatureF', 'Mean TemperatureF', 'Max TemperatureF']]\n",
        "\n",
        "# Convert temps_f to celsius: temps_c\n",
        "temps_c = (temps_f - 32) * 5 / 9\n",
        "\n",
        "# Rename 'F' in column names with 'C': temps_c.columns\n",
        "temps_c.columns = temps_c.columns.str.replace('F', 'C')\n",
        "\n",
        "# Print first 5 rows of temps_c\n",
        "print(temps_c.head())"
      ],
      "execution_count": 0,
      "outputs": []
    },
    {
      "cell_type": "markdown",
      "metadata": {
        "id": "Bv5XJqU9MO2S",
        "colab_type": "text"
      },
      "source": [
        "## Computing percentage growth of GDP"
      ]
    },
    {
      "cell_type": "code",
      "metadata": {
        "id": "QYe7RrKEMSy0",
        "colab_type": "code",
        "colab": {}
      },
      "source": [
        "import pandas as pd\n",
        "\n",
        "# Read 'GDP.csv' into a DataFrame: gdp\n",
        "gdp = pd.read_csv('GDP.csv', parse_dates=True, index_col='DATE')\n",
        "\n",
        "# Slice all the gdp data from 2008 onward: post2008\n",
        "post2008 = gdp.loc['2008':]\n",
        "\n",
        "# Print the last 8 rows of post2008\n",
        "print(post2008.tail(8))\n",
        "\n",
        "# Resample post2008 by year, keeping last(): yearly\n",
        "yearly = post2008.resample('A').last()\n",
        "\n",
        "# Print yearly\n",
        "print(yearly)\n",
        "\n",
        "# Compute percentage growth of yearly: yearly['growth']\n",
        "yearly['growth'] = yearly.pct_change() * 100\n",
        "\n",
        "# Print yearly again\n",
        "print(yearly)"
      ],
      "execution_count": 0,
      "outputs": []
    },
    {
      "cell_type": "markdown",
      "metadata": {
        "id": "-2Ccb9bGOXep",
        "colab_type": "text"
      },
      "source": [
        "## Converting currency of stocks"
      ]
    },
    {
      "cell_type": "code",
      "metadata": {
        "id": "lLGjtZEuOara",
        "colab_type": "code",
        "colab": {}
      },
      "source": [
        "# Import pandas\n",
        "import pandas as pd\n",
        "\n",
        "# Read 'sp500.csv' into a DataFrame: sp500\n",
        "sp500 = pd.read_csv('sp500.csv', parse_dates=True, index_col='Date')\n",
        "\n",
        "# Read 'exchange.csv' into a DataFrame: exchange\n",
        "exchange = pd.read_csv('exchange.csv', parse_dates=True, index_col='Date')\n",
        "\n",
        "# Subset 'Open' & 'Close' columns from sp500: dollars\n",
        "dollars = sp500[['Open', 'Close']]\n",
        "\n",
        "# Print the head of dollars\n",
        "print(dollars.head())\n",
        "\n",
        "# Convert dollars to pounds: pounds\n",
        "pounds = dollars.multiply(exchange['GBP/USD'], axis='rows')\n",
        "\n",
        "# Print the head of pounds\n",
        "print(pounds.head())"
      ],
      "execution_count": 0,
      "outputs": []
    }
  ]
}